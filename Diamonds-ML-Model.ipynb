{
 "cells": [
  {
   "cell_type": "markdown",
   "metadata": {},
   "source": [
    "# Introduction"
   ]
  },
  {
   "cell_type": "markdown",
   "metadata": {},
   "source": [
    "In this project we want to create a model that can predict the price of a diamond based on its characteristics. \n",
    "\n",
    "For this we are going to perform three different procedures. \n",
    "On the one hand a linear model, specifically a linear regression model. As a second model we will use an emsabled model such as RandomForest, tuning the hyperparameters with a Bayesian optimization model such as HyperOpt. And finally, we will test the Pycaret library, where we will choose the most appropriate model."
   ]
  },
  {
   "cell_type": "markdown",
   "metadata": {},
   "source": [
    "# Data"
   ]
  },
  {
   "cell_type": "markdown",
   "metadata": {},
   "source": [
    "The Diamonds DataSet has been obtained from Kaggle, at the following [link](https://www.kaggle.com/shivam2503/diamonds). In it, each input is a diamond and the columns correspond to diamond characteristics."
   ]
  },
  {
   "cell_type": "markdown",
   "metadata": {},
   "source": [
    "**Predictors Variables** \n",
    "\n",
    " `id`: Input ID.\n",
    " \n",
    " `carat`: diamond weight.\n",
    " \n",
    " `cut`: The way in which the diamond facets interact with light.\n",
    " \n",
    " `clarity`: Purity or transparency of a diamond.\n",
    " \n",
    " `color`: Color of a diamond.\n",
    " \n",
    " `table`: Flat part of the upper part.\n",
    " \n",
    " `x`: Length in mm.\n",
    "\n",
    " `y`: Width in mm.\n",
    " \n",
    " `z`: Depth in mm. \n",
    "\n",
    " `depht`:  Total depth percentage = z / mean(x, y) = 2 * z / (x + y).\n",
    "\n",
    "\n",
    "**Target Variable**\n",
    "\n",
    "`price`: Diamond price."
   ]
  },
  {
   "cell_type": "markdown",
   "metadata": {},
   "source": [
    "# Libraries"
   ]
  },
  {
   "cell_type": "markdown",
   "metadata": {},
   "source": [
    "First of all, import the libraries we are going to use."
   ]
  },
  {
   "cell_type": "code",
   "execution_count": 1,
   "metadata": {},
   "outputs": [],
   "source": [
    "#import libraries\n",
    "\n",
    "#data processing\n",
    "#--------------------------------------------\n",
    "import pandas as pd\n",
    "import numpy as np\n",
    "\n",
    "#graphics\n",
    "#--------------------------------------------\n",
    "import seaborn as sns\n",
    "import matplotlib.pyplot as plt\n",
    "import matplotlib.colors as mcolors\n",
    "import matplotlib.ticker as ticker\n",
    "%matplotlib inline\n",
    "\n",
    "#preprocessig\n",
    "#--------------------------------------------\n",
    "import statsmodels.formula.api as smf\n",
    "from sklearn.model_selection import train_test_split\n",
    "from fitter import Fitter, get_common_distributions\n",
    "\n",
    "\n",
    "#modelling\n",
    "#--------------------------------------------\n",
    "from sklearn.metrics import mean_squared_error as mse\n",
    "from sklearn.ensemble import RandomForestRegressor\n",
    "\n",
    "#Hyperopt\n",
    "#---------------------------------------------\n",
    "from hyperopt import fmin, hp, tpe, Trials, STATUS_OK\n",
    "from hyperopt.pyll import scope as ho_scope\n",
    "from hyperopt.pyll.stochastic import sample as ho_sample\n",
    "\n",
    "#Pycaret\n",
    "#---------------------------------------------\n",
    "from pycaret.regression import *\n",
    "\n",
    "\n",
    "#others\n",
    "#----------------------------------------------\n",
    "from src.utils import unzip_zip\n",
    "import warnings\n",
    "warnings.filterwarnings('ignore')"
   ]
  },
  {
   "cell_type": "markdown",
   "metadata": {},
   "source": [
    "# Checking Data"
   ]
  },
  {
   "cell_type": "markdown",
   "metadata": {},
   "source": [
    "## First Approach"
   ]
  },
  {
   "cell_type": "markdown",
   "metadata": {},
   "source": [
    "Using the `unzip_zip` function contained in `utils.py` in the folder `src`, we unzip the `.csv` files and load them into a Dataframe."
   ]
  },
  {
   "cell_type": "markdown",
   "metadata": {},
   "source": [
    "We save the DataFrames in variables."
   ]
  },
  {
   "cell_type": "code",
   "execution_count": 2,
   "metadata": {},
   "outputs": [],
   "source": [
    "#unzip and read csv\n",
    "df_train = unzip_zip(\"data/diamonds.zip\", \"diamonds.csv\")"
   ]
  },
  {
   "cell_type": "markdown",
   "metadata": {},
   "source": [
    "Now, let's check the DataFrame"
   ]
  },
  {
   "cell_type": "code",
   "execution_count": 3,
   "metadata": {},
   "outputs": [
    {
     "data": {
      "text/html": [
       "<div>\n",
       "<style scoped>\n",
       "    .dataframe tbody tr th:only-of-type {\n",
       "        vertical-align: middle;\n",
       "    }\n",
       "\n",
       "    .dataframe tbody tr th {\n",
       "        vertical-align: top;\n",
       "    }\n",
       "\n",
       "    .dataframe thead th {\n",
       "        text-align: right;\n",
       "    }\n",
       "</style>\n",
       "<table border=\"1\" class=\"dataframe\">\n",
       "  <thead>\n",
       "    <tr style=\"text-align: right;\">\n",
       "      <th></th>\n",
       "      <th>Unnamed: 0</th>\n",
       "      <th>carat</th>\n",
       "      <th>cut</th>\n",
       "      <th>color</th>\n",
       "      <th>clarity</th>\n",
       "      <th>depth</th>\n",
       "      <th>table</th>\n",
       "      <th>price</th>\n",
       "      <th>x</th>\n",
       "      <th>y</th>\n",
       "      <th>z</th>\n",
       "    </tr>\n",
       "  </thead>\n",
       "  <tbody>\n",
       "    <tr>\n",
       "      <th>0</th>\n",
       "      <td>1</td>\n",
       "      <td>0.23</td>\n",
       "      <td>Ideal</td>\n",
       "      <td>E</td>\n",
       "      <td>SI2</td>\n",
       "      <td>61.5</td>\n",
       "      <td>55.0</td>\n",
       "      <td>326</td>\n",
       "      <td>3.95</td>\n",
       "      <td>3.98</td>\n",
       "      <td>2.43</td>\n",
       "    </tr>\n",
       "    <tr>\n",
       "      <th>1</th>\n",
       "      <td>2</td>\n",
       "      <td>0.21</td>\n",
       "      <td>Premium</td>\n",
       "      <td>E</td>\n",
       "      <td>SI1</td>\n",
       "      <td>59.8</td>\n",
       "      <td>61.0</td>\n",
       "      <td>326</td>\n",
       "      <td>3.89</td>\n",
       "      <td>3.84</td>\n",
       "      <td>2.31</td>\n",
       "    </tr>\n",
       "    <tr>\n",
       "      <th>2</th>\n",
       "      <td>3</td>\n",
       "      <td>0.23</td>\n",
       "      <td>Good</td>\n",
       "      <td>E</td>\n",
       "      <td>VS1</td>\n",
       "      <td>56.9</td>\n",
       "      <td>65.0</td>\n",
       "      <td>327</td>\n",
       "      <td>4.05</td>\n",
       "      <td>4.07</td>\n",
       "      <td>2.31</td>\n",
       "    </tr>\n",
       "    <tr>\n",
       "      <th>3</th>\n",
       "      <td>4</td>\n",
       "      <td>0.29</td>\n",
       "      <td>Premium</td>\n",
       "      <td>I</td>\n",
       "      <td>VS2</td>\n",
       "      <td>62.4</td>\n",
       "      <td>58.0</td>\n",
       "      <td>334</td>\n",
       "      <td>4.20</td>\n",
       "      <td>4.23</td>\n",
       "      <td>2.63</td>\n",
       "    </tr>\n",
       "    <tr>\n",
       "      <th>4</th>\n",
       "      <td>5</td>\n",
       "      <td>0.31</td>\n",
       "      <td>Good</td>\n",
       "      <td>J</td>\n",
       "      <td>SI2</td>\n",
       "      <td>63.3</td>\n",
       "      <td>58.0</td>\n",
       "      <td>335</td>\n",
       "      <td>4.34</td>\n",
       "      <td>4.35</td>\n",
       "      <td>2.75</td>\n",
       "    </tr>\n",
       "  </tbody>\n",
       "</table>\n",
       "</div>"
      ],
      "text/plain": [
       "   Unnamed: 0  carat      cut color clarity  depth  table  price     x     y  \\\n",
       "0           1   0.23    Ideal     E     SI2   61.5   55.0    326  3.95  3.98   \n",
       "1           2   0.21  Premium     E     SI1   59.8   61.0    326  3.89  3.84   \n",
       "2           3   0.23     Good     E     VS1   56.9   65.0    327  4.05  4.07   \n",
       "3           4   0.29  Premium     I     VS2   62.4   58.0    334  4.20  4.23   \n",
       "4           5   0.31     Good     J     SI2   63.3   58.0    335  4.34  4.35   \n",
       "\n",
       "      z  \n",
       "0  2.43  \n",
       "1  2.31  \n",
       "2  2.31  \n",
       "3  2.63  \n",
       "4  2.75  "
      ]
     },
     "execution_count": 3,
     "metadata": {},
     "output_type": "execute_result"
    }
   ],
   "source": [
    "#check data\n",
    "df_train.head()"
   ]
  },
  {
   "cell_type": "code",
   "execution_count": 4,
   "metadata": {},
   "outputs": [
    {
     "data": {
      "text/plain": [
       "(53940, 11)"
      ]
     },
     "execution_count": 4,
     "metadata": {},
     "output_type": "execute_result"
    }
   ],
   "source": [
    "#check the number, first, of the rows(diamonds) and, second the number of the columns(features)\n",
    "df_train.shape"
   ]
  },
  {
   "cell_type": "code",
   "execution_count": 5,
   "metadata": {},
   "outputs": [
    {
     "data": {
      "text/plain": [
       "Index(['Unnamed: 0', 'carat', 'cut', 'color', 'clarity', 'depth', 'table',\n",
       "       'price', 'x', 'y', 'z'],\n",
       "      dtype='object')"
      ]
     },
     "execution_count": 5,
     "metadata": {},
     "output_type": "execute_result"
    }
   ],
   "source": [
    "#check the column's names\n",
    "df_train.columns"
   ]
  },
  {
   "cell_type": "code",
   "execution_count": 6,
   "metadata": {},
   "outputs": [
    {
     "data": {
      "text/plain": [
       "Unnamed: 0      int64\n",
       "carat         float64\n",
       "cut            object\n",
       "color          object\n",
       "clarity        object\n",
       "depth         float64\n",
       "table         float64\n",
       "price           int64\n",
       "x             float64\n",
       "y             float64\n",
       "z             float64\n",
       "dtype: object"
      ]
     },
     "execution_count": 6,
     "metadata": {},
     "output_type": "execute_result"
    }
   ],
   "source": [
    "#check types\n",
    "df_train.dtypes"
   ]
  },
  {
   "cell_type": "code",
   "execution_count": 7,
   "metadata": {},
   "outputs": [
    {
     "data": {
      "text/plain": [
       "Unnamed: 0    0\n",
       "carat         0\n",
       "cut           0\n",
       "color         0\n",
       "clarity       0\n",
       "depth         0\n",
       "table         0\n",
       "price         0\n",
       "x             0\n",
       "y             0\n",
       "z             0\n",
       "dtype: int64"
      ]
     },
     "execution_count": 7,
     "metadata": {},
     "output_type": "execute_result"
    }
   ],
   "source": [
    "#check if there are any null value \n",
    "df_train.isnull().sum()"
   ]
  },
  {
   "cell_type": "markdown",
   "metadata": {},
   "source": [
    "It seems that there aren't any null value in the features.\n",
    "\n",
    "Let's check the target variable: `price`"
   ]
  },
  {
   "cell_type": "markdown",
   "metadata": {},
   "source": [
    "## Target Variable"
   ]
  },
  {
   "cell_type": "markdown",
   "metadata": {},
   "source": [
    "The target variable is `price`, it is the value of the diamonds.\n",
    "\n",
    "As we saw before, the data type of the variable is `int64`."
   ]
  },
  {
   "cell_type": "code",
   "execution_count": 8,
   "metadata": {},
   "outputs": [
    {
     "data": {
      "text/plain": [
       "count    53940.000000\n",
       "mean      3932.799722\n",
       "std       3989.439738\n",
       "min        326.000000\n",
       "25%        950.000000\n",
       "50%       2401.000000\n",
       "75%       5324.250000\n",
       "max      18823.000000\n",
       "Name: price, dtype: float64"
      ]
     },
     "execution_count": 8,
     "metadata": {},
     "output_type": "execute_result"
    }
   ],
   "source": [
    "df_train.price.describe()"
   ]
  },
  {
   "cell_type": "markdown",
   "metadata": {},
   "source": [
    "As we can see in the table, the total number of diamonds is $53940$, matching what we saw before with the `.shape` method.\n",
    "\n",
    "We see that the maximum value of a diamond is $18823$ and the minimum is $326$. In addition we have information of the mean, the median(`50%`), the standard deviation(`std`), and the 25th and 75th percentiles.\n",
    "\n",
    "Let's plot the target variable."
   ]
  },
  {
   "cell_type": "code",
   "execution_count": 9,
   "metadata": {},
   "outputs": [
    {
     "data": {
      "image/png": "[encoded data removed]",
      "text/plain": [
       "<Figure size 720x576 with 1 Axes>"
      ]
     },
     "metadata": {
      "needs_background": "light"
     },
     "output_type": "display_data"
    }
   ],
   "source": [
    "#set graph size\n",
    "plt.figure(figsize=(10,8))\n",
    "#set graph type and data\n",
    "sns.histplot(data=df_train, x=\"price\", kde=True, alpha = 0.2)\n",
    "#set vertical lines\n",
    "plt.axvline(x = df_train[\"price\"].mean(), c =\"red\", linewidth = 3, linestyle = \"--\", label = \"Mean\")\n",
    "plt.axvline(x = df_train[\"price\"].median(), c = \"green\", linewidth = 3, linestyle = \"--\", label = \"Median\")\n",
    "#modify xlabel\n",
    "plt.xlabel(\"Price\", fontweight = \"bold\")\n",
    "#set legend\n",
    "plt.legend()\n",
    "plt.savefig(\"output/TargetDistributiom.jpg\", dpi = 100)\n",
    "plt.show();"
   ]
  },
  {
   "cell_type": "markdown",
   "metadata": {},
   "source": [
    "Once the target variable is plotted, we can see that it has an exponential distribution. \n",
    "\n",
    "The red line represents the mean, and the green line the median."
   ]
  },
  {
   "cell_type": "code",
   "execution_count": 11,
   "metadata": {},
   "outputs": [
    {
     "data": {
      "image/png": "[encoded data removed]",
      "text/plain": [
       "<Figure size 1080x360 with 1 Axes>"
      ]
     },
     "metadata": {
      "needs_background": "light"
     },
     "output_type": "display_data"
    }
   ],
   "source": [
    "#set graph size\n",
    "plt.figure(figsize=(15,5))\n",
    "#set graph type and data\n",
    "sns.boxplot(data = df_train, x = \"price\")\n",
    "#set text into the graph\n",
    "plt.text(x = df_train[\"price\"].median(), y = 0.45, s = df_train[\"price\"].median(), fontweight = \"bold\")\n",
    "plt.text(x = np.percentile(df_train[\"price\"], 75), y = 0.45, s = np.percentile(df_train[\"price\"], 75), fontweight = \"bold\")\n",
    "plt.text(x = np.percentile(df_train[\"price\"], 25), y = 0.45, s = np.percentile(df_train[\"price\"], 25), fontweight = \"bold\")\n",
    "#modify xlabel\n",
    "plt.xlabel(\"Price\", fontweight = \"bold\")\n",
    "plt.savefig(\"output/TargetBoxplot.jpg\", dpi = 100)\n",
    "plt.show();"
   ]
  },
  {
   "cell_type": "markdown",
   "metadata": {},
   "source": [
    "In this boxplot we can graphically check the 25th, 50th(median) and 75th percentiles that we saw previously."
   ]
  },
  {
   "cell_type": "markdown",
   "metadata": {},
   "source": [
    "## Numerical Predictors Variables"
   ]
  },
  {
   "cell_type": "markdown",
   "metadata": {},
   "source": [
    "Next, let's check the distribution of the numeric variables, these are: `carat`, `depth`, `table`, `x`, `y`, and `z`.\n",
    "\n",
    "We will not take into account the variable `Unnamed: 0`, nor `price`, since we have already seen it in the previous section."
   ]
  },
  {
   "cell_type": "code",
   "execution_count": 12,
   "metadata": {
    "scrolled": false
   },
   "outputs": [
    {
     "data": {
      "image/png": "[encoded data removed]",
      "text/plain": [
       "<Figure size 864x576 with 6 Axes>"
      ]
     },
     "metadata": {
      "needs_background": "light"
     },
     "output_type": "display_data"
    }
   ],
   "source": [
    "#set subplots number and size\n",
    "fig, ax = plt.subplots(nrows = 3, ncols = 2, figsize=(12, 8))\n",
    "#using \".flat\", we convert the variable \"ax\" into a 1D array, in order to iterate.\n",
    "ax = ax.flat\n",
    "#obtein the numerical column names in an array\n",
    "numerical_cols = df_train.drop(\"price\", axis=1).select_dtypes(include=[\"int\", \"float\"]).columns\n",
    "#set each graph\n",
    "for ind, col in enumerate(numerical_cols):\n",
    "#set graph type, color, location, data and other features    \n",
    "    sns.histplot(data = df_train, \n",
    "                 x = col, \n",
    "                 color = list(mcolors.BASE_COLORS)[ind], \n",
    "                 kde=True, \n",
    "                 ax = ax[ind], \n",
    "                 alpha=0.2)\n",
    "#set the title for each graph\n",
    "    ax[ind].set_title(col, fontsize = 10, fontweight = \"bold\")\n",
    "#set empty string to xlabel title\n",
    "    ax[ind].set_xlabel(\"\")\n",
    "#set visual config    \n",
    "fig.tight_layout()\n",
    "plt.subplots_adjust(top = 0.9)\n",
    "fig.suptitle(\"Numeric Variables Distribution\", fontsize = 15, fontweight = \"bold\")\n",
    "plt.savefig(\"output/NumericalDistribution.jpg\", dpi = 100)\n",
    "plt.show();"
   ]
  },
  {
   "cell_type": "markdown",
   "metadata": {},
   "source": [
    "Thus we can see the distributions of the numerical variables. \n",
    "\n",
    "Now, let's see how they relate to the target variable."
   ]
  },
  {
   "cell_type": "code",
   "execution_count": 13,
   "metadata": {},
   "outputs": [
    {
     "data": {
      "image/png": "[encoded data removed]",
      "text/plain": [
       "<Figure size 1080x576 with 6 Axes>"
      ]
     },
     "metadata": {
      "needs_background": "light"
     },
     "output_type": "display_data"
    }
   ],
   "source": [
    "#follow the above steps to adjust the graphs\n",
    "fig, ax = plt.subplots(nrows = 3, ncols = 2, figsize=(15,8))\n",
    "ax = ax.flat\n",
    "for ind, cols in enumerate(numerical_cols):\n",
    "    sns.regplot(x = cols, \n",
    "                y = \"price\", \n",
    "                data = df_train, \n",
    "                color = list(mcolors.BASE_COLORS)[ind], \n",
    "                marker = \".\", \n",
    "                ax = ax[ind])\n",
    "    \n",
    "    ax[ind].set_title(f\"price vs {cols}\", fontsize = 12, fontweight = \"bold\")\n",
    "    ax[ind].tick_params(labelsize = 6)\n",
    "    ax[ind].set_xlabel(f\"{cols}\")\n",
    "    ax[ind].set_ylabel(\"price\")\n",
    "\n",
    "fig.tight_layout()\n",
    "plt.subplots_adjust(top=0.9)\n",
    "fig.suptitle(\"Correlation with price\", fontsize = 15, fontweight = \"bold\")\n",
    "plt.savefig(\"output/Corr_Target_Numerical.jpg\", dpi = 100)\n",
    "plt.show();"
   ]
  },
  {
   "cell_type": "markdown",
   "metadata": {},
   "source": [
    "We see that in the variables `carat`, `x`, `y`, `z`, there is a positive correlation with the variable target. As for `table`, there seems to be some positive correlation, although in a very weak way. And the `depth` variable has very low correlation with the target variable, and the little correlation that can be seen is negative.\n",
    "\n",
    "Let us check it by means of a correlation matrix."
   ]
  },
  {
   "cell_type": "code",
   "execution_count": 14,
   "metadata": {},
   "outputs": [
    {
     "data": {
      "text/html": [
       "<div>\n",
       "<style scoped>\n",
       "    .dataframe tbody tr th:only-of-type {\n",
       "        vertical-align: middle;\n",
       "    }\n",
       "\n",
       "    .dataframe tbody tr th {\n",
       "        vertical-align: top;\n",
       "    }\n",
       "\n",
       "    .dataframe thead th {\n",
       "        text-align: right;\n",
       "    }\n",
       "</style>\n",
       "<table border=\"1\" class=\"dataframe\">\n",
       "  <thead>\n",
       "    <tr style=\"text-align: right;\">\n",
       "      <th></th>\n",
       "      <th>carat</th>\n",
       "      <th>depth</th>\n",
       "      <th>table</th>\n",
       "      <th>price</th>\n",
       "      <th>x</th>\n",
       "      <th>y</th>\n",
       "      <th>z</th>\n",
       "    </tr>\n",
       "  </thead>\n",
       "  <tbody>\n",
       "    <tr>\n",
       "      <th>carat</th>\n",
       "      <td>1.000000</td>\n",
       "      <td>0.028224</td>\n",
       "      <td>0.181618</td>\n",
       "      <td>0.921591</td>\n",
       "      <td>0.975094</td>\n",
       "      <td>0.951722</td>\n",
       "      <td>0.953387</td>\n",
       "    </tr>\n",
       "    <tr>\n",
       "      <th>depth</th>\n",
       "      <td>0.028224</td>\n",
       "      <td>1.000000</td>\n",
       "      <td>-0.295779</td>\n",
       "      <td>-0.010647</td>\n",
       "      <td>-0.025289</td>\n",
       "      <td>-0.029341</td>\n",
       "      <td>0.094924</td>\n",
       "    </tr>\n",
       "    <tr>\n",
       "      <th>table</th>\n",
       "      <td>0.181618</td>\n",
       "      <td>-0.295779</td>\n",
       "      <td>1.000000</td>\n",
       "      <td>0.127134</td>\n",
       "      <td>0.195344</td>\n",
       "      <td>0.183760</td>\n",
       "      <td>0.150929</td>\n",
       "    </tr>\n",
       "    <tr>\n",
       "      <th>price</th>\n",
       "      <td>0.921591</td>\n",
       "      <td>-0.010647</td>\n",
       "      <td>0.127134</td>\n",
       "      <td>1.000000</td>\n",
       "      <td>0.884435</td>\n",
       "      <td>0.865421</td>\n",
       "      <td>0.861249</td>\n",
       "    </tr>\n",
       "    <tr>\n",
       "      <th>x</th>\n",
       "      <td>0.975094</td>\n",
       "      <td>-0.025289</td>\n",
       "      <td>0.195344</td>\n",
       "      <td>0.884435</td>\n",
       "      <td>1.000000</td>\n",
       "      <td>0.974701</td>\n",
       "      <td>0.970772</td>\n",
       "    </tr>\n",
       "    <tr>\n",
       "      <th>y</th>\n",
       "      <td>0.951722</td>\n",
       "      <td>-0.029341</td>\n",
       "      <td>0.183760</td>\n",
       "      <td>0.865421</td>\n",
       "      <td>0.974701</td>\n",
       "      <td>1.000000</td>\n",
       "      <td>0.952006</td>\n",
       "    </tr>\n",
       "    <tr>\n",
       "      <th>z</th>\n",
       "      <td>0.953387</td>\n",
       "      <td>0.094924</td>\n",
       "      <td>0.150929</td>\n",
       "      <td>0.861249</td>\n",
       "      <td>0.970772</td>\n",
       "      <td>0.952006</td>\n",
       "      <td>1.000000</td>\n",
       "    </tr>\n",
       "  </tbody>\n",
       "</table>\n",
       "</div>"
      ],
      "text/plain": [
       "          carat     depth     table     price         x         y         z\n",
       "carat  1.000000  0.028224  0.181618  0.921591  0.975094  0.951722  0.953387\n",
       "depth  0.028224  1.000000 -0.295779 -0.010647 -0.025289 -0.029341  0.094924\n",
       "table  0.181618 -0.295779  1.000000  0.127134  0.195344  0.183760  0.150929\n",
       "price  0.921591 -0.010647  0.127134  1.000000  0.884435  0.865421  0.861249\n",
       "x      0.975094 -0.025289  0.195344  0.884435  1.000000  0.974701  0.970772\n",
       "y      0.951722 -0.029341  0.183760  0.865421  0.974701  1.000000  0.952006\n",
       "z      0.953387  0.094924  0.150929  0.861249  0.970772  0.952006  1.000000"
      ]
     },
     "execution_count": 14,
     "metadata": {},
     "output_type": "execute_result"
    }
   ],
   "source": [
    "#correlation matrix\n",
    "df_train.drop(\"Unnamed: 0\", axis=1).corr()"
   ]
  },
  {
   "cell_type": "markdown",
   "metadata": {},
   "source": [
    "Here, it can be seen that the `depth` variable is very low and negative.\n",
    "\n",
    "In addition the variable `table`, if it seems that there is correlation although it is very low.\n",
    "\n",
    "The rest of the variables seem to have very high correlations with the target variable."
   ]
  },
  {
   "cell_type": "code",
   "execution_count": 16,
   "metadata": {},
   "outputs": [
    {
     "data": {
      "image/png": "[encoded data removed]",
      "text/plain": [
       "<Figure size 720x360 with 2 Axes>"
      ]
     },
     "metadata": {
      "needs_background": "light"
     },
     "output_type": "display_data"
    }
   ],
   "source": [
    "#correlation matrix heatmap\n",
    "plt.figure(figsize=(10, 5))\n",
    "sns.heatmap(df_train.drop(\"Unnamed: 0\", axis=1).corr(), annot = True)\n",
    "plt.savefig(\"output/Corr_Heatmap.jpg\", dpi = 100)\n",
    "plt.show();"
   ]
  },
  {
   "cell_type": "markdown",
   "metadata": {},
   "source": [
    "## Categorical Predictors Variables"
   ]
  },
  {
   "cell_type": "markdown",
   "metadata": {},
   "source": [
    "Next, we will examine the categorical variables, so we will see how they are distributed. These variables are: `cut`, `color`, and `clarity`.\n"
   ]
  },
  {
   "cell_type": "code",
   "execution_count": 17,
   "metadata": {},
   "outputs": [
    {
     "data": {
      "image/png": "[encoded data removed]",
      "text/plain": [
       "<Figure size 864x576 with 3 Axes>"
      ]
     },
     "metadata": {
      "needs_background": "light"
     },
     "output_type": "display_data"
    }
   ],
   "source": [
    "#set subplots and size\n",
    "fig, ax = plt.subplots(nrows=3, ncols=1, figsize=(12,8))\n",
    "#set flat\n",
    "ax = ax.flat\n",
    "#take categoricals column names\n",
    "categorical_cols = df_train.select_dtypes(include=[\"object\"]).columns\n",
    "#set each graph\n",
    "for ind, cols in enumerate(categorical_cols):\n",
    "#set data and graph type\n",
    "    df_train[cols].value_counts().plot.barh(ax=ax[ind])\n",
    "#set graph config     \n",
    "    ax[ind].set_title(cols, fontsize=10, fontweight=\"bold\")\n",
    "    ax[ind].tick_params(labelsize=12)\n",
    "    ax[ind].set_xlabel(\"\")\n",
    "    \n",
    "fig.tight_layout()\n",
    "plt.subplots_adjust(top=0.9)\n",
    "fig.suptitle(\"Categorical Variables Distribution\", fontsize=15, fontweight=\"bold\")\n",
    "plt.savefig(\"output/CategoricalDistribution.jpg\", dpi = 100)\n",
    "plt.show();"
   ]
  },
  {
   "cell_type": "code",
   "execution_count": 18,
   "metadata": {},
   "outputs": [
    {
     "data": {
      "image/png": "[encoded data removed]",
      "text/plain": [
       "<Figure size 1080x864 with 3 Axes>"
      ]
     },
     "metadata": {
      "needs_background": "light"
     },
     "output_type": "display_data"
    }
   ],
   "source": [
    "#we plot boxplot of the categorical variables\n",
    "fig, ax = plt.subplots(nrows = 3, ncols = 1, figsize=(15,12))\n",
    "ax = ax.flat\n",
    "for ind, cols in enumerate(categorical_cols):\n",
    "    sns.boxplot(x = cols, y=\"price\", data=df_train, color=\"blue\", ax=ax[ind])\n",
    "\n",
    "    ax[ind].set_title(f\"{cols} vs price\", fontsize = 12, fontweight = \"bold\")\n",
    "    ax[ind].set_xlabel(\"\")\n",
    "    ax[ind].set_ylabel(\"price\")\n",
    "    \n",
    "fig.tight_layout()\n",
    "plt.subplots_adjust(top=0.9)\n",
    "fig.suptitle(\"Relation with price\", fontsize = 15, fontweight = \"bold\")\n",
    "plt.savefig(\"output/Relation_Categorical_Target.jpg\", dpi = 100)\n",
    "plt.show;"
   ]
  },
  {
   "cell_type": "markdown",
   "metadata": {},
   "source": [
    "# Preprocessing Data"
   ]
  },
  {
   "cell_type": "markdown",
   "metadata": {},
   "source": [
    "## Dropping ID Variable"
   ]
  },
  {
   "cell_type": "markdown",
   "metadata": {},
   "source": [
    "As a first action, we will delete the `Unnamed: 0` column because it does not give us any relevant information about the diamonds."
   ]
  },
  {
   "cell_type": "code",
   "execution_count": 19,
   "metadata": {},
   "outputs": [],
   "source": [
    "#drop columns: id -> Useless\n",
    "df_train = df_train.drop(\"Unnamed: 0\", axis=1)"
   ]
  },
  {
   "cell_type": "markdown",
   "metadata": {},
   "source": [
    "## Encoding Categorical Variables"
   ]
  },
  {
   "cell_type": "markdown",
   "metadata": {},
   "source": [
    "Now, let's check the values of the `object` type features."
   ]
  },
  {
   "cell_type": "code",
   "execution_count": 20,
   "metadata": {},
   "outputs": [
    {
     "data": {
      "text/plain": [
       "array(['SI2', 'SI1', 'VS1', 'VS2', 'VVS2', 'VVS1', 'I1', 'IF'],\n",
       "      dtype=object)"
      ]
     },
     "execution_count": 20,
     "metadata": {},
     "output_type": "execute_result"
    }
   ],
   "source": [
    "#check uniques\n",
    "df_train.clarity.unique()"
   ]
  },
  {
   "cell_type": "code",
   "execution_count": 21,
   "metadata": {},
   "outputs": [
    {
     "data": {
      "text/plain": [
       "array(['Ideal', 'Premium', 'Good', 'Very Good', 'Fair'], dtype=object)"
      ]
     },
     "execution_count": 21,
     "metadata": {},
     "output_type": "execute_result"
    }
   ],
   "source": [
    "df_train.cut.unique()"
   ]
  },
  {
   "cell_type": "code",
   "execution_count": 22,
   "metadata": {},
   "outputs": [
    {
     "data": {
      "text/plain": [
       "array(['E', 'I', 'J', 'H', 'F', 'G', 'D'], dtype=object)"
      ]
     },
     "execution_count": 22,
     "metadata": {},
     "output_type": "execute_result"
    }
   ],
   "source": [
    "df_train.color.unique()"
   ]
  },
  {
   "cell_type": "markdown",
   "metadata": {},
   "source": [
    "Going deeper into the diamond information, we have seen that the values of the three features (`clarity`, `cut`, and `color`) have a scale, that is, they follow an order."
   ]
  },
  {
   "cell_type": "markdown",
   "metadata": {},
   "source": [
    "Therefore, our strategy for converting these features to numerical is a hand encoding. By setting values from $1$ -> smallest value, to $n$ -> largest value.\n",
    "\n",
    "We create dictionaries where the keys are the categorical value and the values are the numerical values that we assign to them."
   ]
  },
  {
   "cell_type": "code",
   "execution_count": 23,
   "metadata": {},
   "outputs": [],
   "source": [
    "#review diamond documentation and see that there \n",
    "#is numerical order in the categorical features. Encode the categorical features by numerical features.\n",
    "encoding_cut =  {\"Fair\":1, \"Good\":2, \n",
    "          \"Ideal\":3, \"Very Good\":4, \"Premium\":5}\n",
    "    \n",
    "    \n",
    "encoding_color = {'E':1,'D':2,'F':3,\n",
    "             'G':4,'H':5,'I':6,\n",
    "             'J':7}\n",
    "\n",
    "encoding_clarity = {'I1':1,'SI2':2,\n",
    "               'SI1':3,'VS2':4,'VS1':5,\n",
    "               'VVS2':6,'VVS1':7,'IF':8}"
   ]
  },
  {
   "cell_type": "markdown",
   "metadata": {},
   "source": [
    "Using the `.apply` method we apply a `lambda` function in which we change the categorical value by the numerical value to each column.\n",
    "\n",
    "And store the numeric value in the DataFrame column to replace the values."
   ]
  },
  {
   "cell_type": "code",
   "execution_count": 24,
   "metadata": {},
   "outputs": [],
   "source": [
    "#replace categorical variables with numerical variables\n",
    "df_train[\"cut\"] = df_train[\"cut\"].apply(lambda x: encoding_cut[x])\n",
    "df_train[\"color\"] = df_train[\"color\"].apply(lambda x: encoding_color[x])\n",
    "df_train[\"clarity\"] = df_train[\"clarity\"].apply(lambda x: encoding_clarity[x])"
   ]
  },
  {
   "cell_type": "markdown",
   "metadata": {},
   "source": [
    "## Ols Regression"
   ]
  },
  {
   "cell_type": "markdown",
   "metadata": {},
   "source": [
    "By means of `ols` we will check the influence of the variables on the target variable."
   ]
  },
  {
   "cell_type": "code",
   "execution_count": 23,
   "metadata": {},
   "outputs": [
    {
     "data": {
      "text/html": [
       "<table class=\"simpletable\">\n",
       "<caption>OLS Regression Results</caption>\n",
       "<tr>\n",
       "  <th>Dep. Variable:</th>          <td>price</td>      <th>  R-squared:         </th>  <td>   0.905</td>  \n",
       "</tr>\n",
       "<tr>\n",
       "  <th>Model:</th>                   <td>OLS</td>       <th>  Adj. R-squared:    </th>  <td>   0.905</td>  \n",
       "</tr>\n",
       "<tr>\n",
       "  <th>Method:</th>             <td>Least Squares</td>  <th>  F-statistic:       </th>  <td>5.717e+04</td> \n",
       "</tr>\n",
       "<tr>\n",
       "  <th>Date:</th>             <td>Tue, 20 Apr 2021</td> <th>  Prob (F-statistic):</th>   <td>  0.00</td>   \n",
       "</tr>\n",
       "<tr>\n",
       "  <th>Time:</th>                 <td>18:03:31</td>     <th>  Log-Likelihood:    </th> <td>-4.6025e+05</td>\n",
       "</tr>\n",
       "<tr>\n",
       "  <th>No. Observations:</th>      <td> 53940</td>      <th>  AIC:               </th>  <td>9.205e+05</td> \n",
       "</tr>\n",
       "<tr>\n",
       "  <th>Df Residuals:</th>          <td> 53930</td>      <th>  BIC:               </th>  <td>9.206e+05</td> \n",
       "</tr>\n",
       "<tr>\n",
       "  <th>Df Model:</th>              <td>     9</td>      <th>                     </th>      <td> </td>     \n",
       "</tr>\n",
       "<tr>\n",
       "  <th>Covariance Type:</th>      <td>nonrobust</td>    <th>                     </th>      <td> </td>     \n",
       "</tr>\n",
       "</table>\n",
       "<table class=\"simpletable\">\n",
       "<tr>\n",
       "      <td></td>         <th>coef</th>     <th>std err</th>      <th>t</th>      <th>P>|t|</th>  <th>[0.025</th>    <th>0.975]</th>  \n",
       "</tr>\n",
       "<tr>\n",
       "  <th>Intercept</th> <td> 8849.2308</td> <td>  380.670</td> <td>   23.246</td> <td> 0.000</td> <td> 8103.114</td> <td> 9595.348</td>\n",
       "</tr>\n",
       "<tr>\n",
       "  <th>carat</th>     <td> 1.069e+04</td> <td>   52.347</td> <td>  204.167</td> <td> 0.000</td> <td> 1.06e+04</td> <td> 1.08e+04</td>\n",
       "</tr>\n",
       "<tr>\n",
       "  <th>cut</th>       <td>   92.8488</td> <td>    5.307</td> <td>   17.497</td> <td> 0.000</td> <td>   82.448</td> <td>  103.250</td>\n",
       "</tr>\n",
       "<tr>\n",
       "  <th>color</th>     <td> -294.3752</td> <td>    3.161</td> <td>  -93.140</td> <td> 0.000</td> <td> -300.570</td> <td> -288.180</td>\n",
       "</tr>\n",
       "<tr>\n",
       "  <th>clarity</th>   <td>  502.5583</td> <td>    3.540</td> <td>  141.962</td> <td> 0.000</td> <td>  495.620</td> <td>  509.497</td>\n",
       "</tr>\n",
       "<tr>\n",
       "  <th>table</th>     <td>  -67.1239</td> <td>    2.584</td> <td>  -25.976</td> <td> 0.000</td> <td>  -72.189</td> <td>  -62.059</td>\n",
       "</tr>\n",
       "<tr>\n",
       "  <th>x</th>         <td> -859.8736</td> <td>   35.576</td> <td>  -24.170</td> <td> 0.000</td> <td> -929.604</td> <td> -790.143</td>\n",
       "</tr>\n",
       "<tr>\n",
       "  <th>depth</th>     <td>  -98.6111</td> <td>    4.647</td> <td>  -21.223</td> <td> 0.000</td> <td> -107.718</td> <td>  -89.504</td>\n",
       "</tr>\n",
       "<tr>\n",
       "  <th>y</th>         <td>   41.7165</td> <td>   20.960</td> <td>    1.990</td> <td> 0.047</td> <td>    0.634</td> <td>   82.799</td>\n",
       "</tr>\n",
       "<tr>\n",
       "  <th>z</th>         <td>  -38.6496</td> <td>   36.378</td> <td>   -1.062</td> <td> 0.288</td> <td> -109.952</td> <td>   32.653</td>\n",
       "</tr>\n",
       "</table>\n",
       "<table class=\"simpletable\">\n",
       "<tr>\n",
       "  <th>Omnibus:</th>       <td>12166.846</td> <th>  Durbin-Watson:     </th>  <td>   1.154</td> \n",
       "</tr>\n",
       "<tr>\n",
       "  <th>Prob(Omnibus):</th>  <td> 0.000</td>   <th>  Jarque-Bera (JB):  </th> <td>621515.145</td>\n",
       "</tr>\n",
       "<tr>\n",
       "  <th>Skew:</th>           <td>-0.085</td>   <th>  Prob(JB):          </th>  <td>    0.00</td> \n",
       "</tr>\n",
       "<tr>\n",
       "  <th>Kurtosis:</th>       <td>19.629</td>   <th>  Cond. No.          </th>  <td>6.14e+03</td> \n",
       "</tr>\n",
       "</table><br/><br/>Notes:<br/>[1] Standard Errors assume that the covariance matrix of the errors is correctly specified.<br/>[2] The condition number is large, 6.14e+03. This might indicate that there are<br/>strong multicollinearity or other numerical problems."
      ],
      "text/plain": [
       "<class 'statsmodels.iolib.summary.Summary'>\n",
       "\"\"\"\n",
       "                            OLS Regression Results                            \n",
       "==============================================================================\n",
       "Dep. Variable:                  price   R-squared:                       0.905\n",
       "Model:                            OLS   Adj. R-squared:                  0.905\n",
       "Method:                 Least Squares   F-statistic:                 5.717e+04\n",
       "Date:                Tue, 20 Apr 2021   Prob (F-statistic):               0.00\n",
       "Time:                        18:03:31   Log-Likelihood:            -4.6025e+05\n",
       "No. Observations:               53940   AIC:                         9.205e+05\n",
       "Df Residuals:                   53930   BIC:                         9.206e+05\n",
       "Df Model:                           9                                         \n",
       "Covariance Type:            nonrobust                                         \n",
       "==============================================================================\n",
       "                 coef    std err          t      P>|t|      [0.025      0.975]\n",
       "------------------------------------------------------------------------------\n",
       "Intercept   8849.2308    380.670     23.246      0.000    8103.114    9595.348\n",
       "carat       1.069e+04     52.347    204.167      0.000    1.06e+04    1.08e+04\n",
       "cut           92.8488      5.307     17.497      0.000      82.448     103.250\n",
       "color       -294.3752      3.161    -93.140      0.000    -300.570    -288.180\n",
       "clarity      502.5583      3.540    141.962      0.000     495.620     509.497\n",
       "table        -67.1239      2.584    -25.976      0.000     -72.189     -62.059\n",
       "x           -859.8736     35.576    -24.170      0.000    -929.604    -790.143\n",
       "depth        -98.6111      4.647    -21.223      0.000    -107.718     -89.504\n",
       "y             41.7165     20.960      1.990      0.047       0.634      82.799\n",
       "z            -38.6496     36.378     -1.062      0.288    -109.952      32.653\n",
       "==============================================================================\n",
       "Omnibus:                    12166.846   Durbin-Watson:                   1.154\n",
       "Prob(Omnibus):                  0.000   Jarque-Bera (JB):           621515.145\n",
       "Skew:                          -0.085   Prob(JB):                         0.00\n",
       "Kurtosis:                      19.629   Cond. No.                     6.14e+03\n",
       "==============================================================================\n",
       "\n",
       "Notes:\n",
       "[1] Standard Errors assume that the covariance matrix of the errors is correctly specified.\n",
       "[2] The condition number is large, 6.14e+03. This might indicate that there are\n",
       "strong multicollinearity or other numerical problems.\n",
       "\"\"\""
      ]
     },
     "execution_count": 23,
     "metadata": {},
     "output_type": "execute_result"
    }
   ],
   "source": [
    "#Let's get the summary of the metrics.\n",
    "#Set 'price' as target variable, and the rest as predictors variables. And, them, fit the model.\n",
    "train_results = smf.ols(\n",
    "    \"price ~ carat + cut + color + clarity + table  + x + depth + y + z\",\n",
    "    data=df_train).fit()\n",
    "#We see the summary\n",
    "train_results.summary()"
   ]
  },
  {
   "cell_type": "markdown",
   "metadata": {},
   "source": [
    "As we can see, the `R-squared` label has a value of `0.952`. `R-squared` is the percentage of variation of the target variable that explains its relationship with one or more predictor variables. This value is between $0$ and $1$, and the closer to $1$ the better the fit of the model to data."
   ]
  },
  {
   "cell_type": "markdown",
   "metadata": {},
   "source": [
    "As can be seen the value of the variable `z` in $P>|t|$ is greater than $0.05$, so we will proceed to drop it."
   ]
  },
  {
   "cell_type": "code",
   "execution_count": 25,
   "metadata": {},
   "outputs": [],
   "source": [
    "#drop colums: z\n",
    "df_train = df_train.drop(\"z\", axis=1)"
   ]
  },
  {
   "cell_type": "code",
   "execution_count": 25,
   "metadata": {},
   "outputs": [
    {
     "data": {
      "text/html": [
       "<table class=\"simpletable\">\n",
       "<caption>OLS Regression Results</caption>\n",
       "<tr>\n",
       "  <th>Dep. Variable:</th>          <td>price</td>      <th>  R-squared:         </th>  <td>   0.905</td>  \n",
       "</tr>\n",
       "<tr>\n",
       "  <th>Model:</th>                   <td>OLS</td>       <th>  Adj. R-squared:    </th>  <td>   0.905</td>  \n",
       "</tr>\n",
       "<tr>\n",
       "  <th>Method:</th>             <td>Least Squares</td>  <th>  F-statistic:       </th>  <td>6.432e+04</td> \n",
       "</tr>\n",
       "<tr>\n",
       "  <th>Date:</th>             <td>Tue, 20 Apr 2021</td> <th>  Prob (F-statistic):</th>   <td>  0.00</td>   \n",
       "</tr>\n",
       "<tr>\n",
       "  <th>Time:</th>                 <td>18:03:31</td>     <th>  Log-Likelihood:    </th> <td>-4.6026e+05</td>\n",
       "</tr>\n",
       "<tr>\n",
       "  <th>No. Observations:</th>      <td> 53940</td>      <th>  AIC:               </th>  <td>9.205e+05</td> \n",
       "</tr>\n",
       "<tr>\n",
       "  <th>Df Residuals:</th>          <td> 53931</td>      <th>  BIC:               </th>  <td>9.206e+05</td> \n",
       "</tr>\n",
       "<tr>\n",
       "  <th>Df Model:</th>              <td>     8</td>      <th>                     </th>      <td> </td>     \n",
       "</tr>\n",
       "<tr>\n",
       "  <th>Covariance Type:</th>      <td>nonrobust</td>    <th>                     </th>      <td> </td>     \n",
       "</tr>\n",
       "</table>\n",
       "<table class=\"simpletable\">\n",
       "<tr>\n",
       "      <td></td>         <th>coef</th>     <th>std err</th>      <th>t</th>      <th>P>|t|</th>  <th>[0.025</th>    <th>0.975]</th>  \n",
       "</tr>\n",
       "<tr>\n",
       "  <th>Intercept</th> <td> 8985.4617</td> <td>  358.425</td> <td>   25.069</td> <td> 0.000</td> <td> 8282.946</td> <td> 9687.978</td>\n",
       "</tr>\n",
       "<tr>\n",
       "  <th>carat</th>     <td> 1.069e+04</td> <td>   52.346</td> <td>  204.164</td> <td> 0.000</td> <td> 1.06e+04</td> <td> 1.08e+04</td>\n",
       "</tr>\n",
       "<tr>\n",
       "  <th>cut</th>       <td>   92.9234</td> <td>    5.306</td> <td>   17.512</td> <td> 0.000</td> <td>   82.523</td> <td>  103.323</td>\n",
       "</tr>\n",
       "<tr>\n",
       "  <th>color</th>     <td> -294.3483</td> <td>    3.160</td> <td>  -93.134</td> <td> 0.000</td> <td> -300.543</td> <td> -288.154</td>\n",
       "</tr>\n",
       "<tr>\n",
       "  <th>clarity</th>   <td>  502.5078</td> <td>    3.540</td> <td>  141.960</td> <td> 0.000</td> <td>  495.570</td> <td>  509.446</td>\n",
       "</tr>\n",
       "<tr>\n",
       "  <th>table</th>     <td>  -67.0927</td> <td>    2.584</td> <td>  -25.965</td> <td> 0.000</td> <td>  -72.157</td> <td>  -62.028</td>\n",
       "</tr>\n",
       "<tr>\n",
       "  <th>depth</th>     <td> -100.8685</td> <td>    4.132</td> <td>  -24.410</td> <td> 0.000</td> <td> -108.968</td> <td>  -92.769</td>\n",
       "</tr>\n",
       "<tr>\n",
       "  <th>x</th>         <td> -880.4633</td> <td>   29.835</td> <td>  -29.511</td> <td> 0.000</td> <td> -938.940</td> <td> -821.987</td>\n",
       "</tr>\n",
       "<tr>\n",
       "  <th>y</th>         <td>   38.7076</td> <td>   20.768</td> <td>    1.864</td> <td> 0.062</td> <td>   -1.998</td> <td>   79.414</td>\n",
       "</tr>\n",
       "</table>\n",
       "<table class=\"simpletable\">\n",
       "<tr>\n",
       "  <th>Omnibus:</th>       <td>12169.270</td> <th>  Durbin-Watson:     </th>  <td>   1.154</td> \n",
       "</tr>\n",
       "<tr>\n",
       "  <th>Prob(Omnibus):</th>  <td> 0.000</td>   <th>  Jarque-Bera (JB):  </th> <td>622005.836</td>\n",
       "</tr>\n",
       "<tr>\n",
       "  <th>Skew:</th>           <td>-0.085</td>   <th>  Prob(JB):          </th>  <td>    0.00</td> \n",
       "</tr>\n",
       "<tr>\n",
       "  <th>Kurtosis:</th>       <td>19.635</td>   <th>  Cond. No.          </th>  <td>5.77e+03</td> \n",
       "</tr>\n",
       "</table><br/><br/>Notes:<br/>[1] Standard Errors assume that the covariance matrix of the errors is correctly specified.<br/>[2] The condition number is large, 5.77e+03. This might indicate that there are<br/>strong multicollinearity or other numerical problems."
      ],
      "text/plain": [
       "<class 'statsmodels.iolib.summary.Summary'>\n",
       "\"\"\"\n",
       "                            OLS Regression Results                            \n",
       "==============================================================================\n",
       "Dep. Variable:                  price   R-squared:                       0.905\n",
       "Model:                            OLS   Adj. R-squared:                  0.905\n",
       "Method:                 Least Squares   F-statistic:                 6.432e+04\n",
       "Date:                Tue, 20 Apr 2021   Prob (F-statistic):               0.00\n",
       "Time:                        18:03:31   Log-Likelihood:            -4.6026e+05\n",
       "No. Observations:               53940   AIC:                         9.205e+05\n",
       "Df Residuals:                   53931   BIC:                         9.206e+05\n",
       "Df Model:                           8                                         \n",
       "Covariance Type:            nonrobust                                         \n",
       "==============================================================================\n",
       "                 coef    std err          t      P>|t|      [0.025      0.975]\n",
       "------------------------------------------------------------------------------\n",
       "Intercept   8985.4617    358.425     25.069      0.000    8282.946    9687.978\n",
       "carat       1.069e+04     52.346    204.164      0.000    1.06e+04    1.08e+04\n",
       "cut           92.9234      5.306     17.512      0.000      82.523     103.323\n",
       "color       -294.3483      3.160    -93.134      0.000    -300.543    -288.154\n",
       "clarity      502.5078      3.540    141.960      0.000     495.570     509.446\n",
       "table        -67.0927      2.584    -25.965      0.000     -72.157     -62.028\n",
       "depth       -100.8685      4.132    -24.410      0.000    -108.968     -92.769\n",
       "x           -880.4633     29.835    -29.511      0.000    -938.940    -821.987\n",
       "y             38.7076     20.768      1.864      0.062      -1.998      79.414\n",
       "==============================================================================\n",
       "Omnibus:                    12169.270   Durbin-Watson:                   1.154\n",
       "Prob(Omnibus):                  0.000   Jarque-Bera (JB):           622005.836\n",
       "Skew:                          -0.085   Prob(JB):                         0.00\n",
       "Kurtosis:                      19.635   Cond. No.                     5.77e+03\n",
       "==============================================================================\n",
       "\n",
       "Notes:\n",
       "[1] Standard Errors assume that the covariance matrix of the errors is correctly specified.\n",
       "[2] The condition number is large, 5.77e+03. This might indicate that there are\n",
       "strong multicollinearity or other numerical problems.\n",
       "\"\"\""
      ]
     },
     "execution_count": 25,
     "metadata": {},
     "output_type": "execute_result"
    }
   ],
   "source": [
    "#recheck summary\n",
    "train_results = smf.ols(\n",
    "    \"price ~ carat + cut + color + clarity + table + depth + x + y\",\n",
    "    data=df_train).fit()\n",
    "#We see the summary\n",
    "train_results.summary()"
   ]
  },
  {
   "cell_type": "markdown",
   "metadata": {},
   "source": [
    "We save the cleaned DataFrame in a `.csv` file."
   ]
  },
  {
   "cell_type": "code",
   "execution_count": 26,
   "metadata": {},
   "outputs": [],
   "source": [
    "#convert to .csv\n",
    "df_train.to_csv(\"input/train_clean.csv\", header=True, index=False)"
   ]
  },
  {
   "cell_type": "markdown",
   "metadata": {},
   "source": [
    "# Creating Models"
   ]
  },
  {
   "cell_type": "markdown",
   "metadata": {},
   "source": [
    "## Split DataFrame"
   ]
  },
  {
   "cell_type": "markdown",
   "metadata": {},
   "source": [
    "In order to have a DataSet that is not known to the models and to be able to test it with new data, we will split the DataFrame in two. We are going to make a very simple separation. About 20% of the end of the DataFrame will be the test sample.\n",
    "\n",
    "We have to make this separation, since PyCaret performs its modeling with the entire DataFrame, and it would not make sense to predict the `y_test`, because the model would already know its values."
   ]
  },
  {
   "cell_type": "code",
   "execution_count": 26,
   "metadata": {},
   "outputs": [],
   "source": [
    "df_test = df_train[43_100:]\n",
    "df_train = df_train[:43_100]"
   ]
  },
  {
   "cell_type": "markdown",
   "metadata": {},
   "source": [
    "## X Y Split"
   ]
  },
  {
   "cell_type": "markdown",
   "metadata": {},
   "source": [
    "To begin, we will perform a linear regression model as a means of predicting the price of diamonds based on the predictor variables we saw earlier."
   ]
  },
  {
   "cell_type": "markdown",
   "metadata": {},
   "source": [
    "We set the variable `X` for the predictor variables, and the variable `y` for the target variable."
   ]
  },
  {
   "cell_type": "code",
   "execution_count": 27,
   "metadata": {},
   "outputs": [],
   "source": [
    "#take predictors variables and response variable\n",
    "X = df_train.drop(\"price\", axis=1)\n",
    "y = df_train[\"price\"]\n",
    "df_testX = df_test.drop(\"price\", axis=1)\n",
    "df_testy = df_test[\"price\"]"
   ]
  },
  {
   "cell_type": "markdown",
   "metadata": {},
   "source": [
    "## Train Test Split"
   ]
  },
  {
   "cell_type": "markdown",
   "metadata": {},
   "source": [
    "We use the `train_test_split` method to split the `X` and `y` into a 0.8 train and a 0.2 test.\n",
    "\n",
    "We will train the model with the 0.8 selected by the method and test it with the 0.2 of the test."
   ]
  },
  {
   "cell_type": "code",
   "execution_count": 28,
   "metadata": {},
   "outputs": [],
   "source": [
    "#split the data 0.8 traon, 0.2 test\n",
    "X_train, X_test, y_train, y_test = train_test_split(X, y, test_size = 0.2, random_state=444)"
   ]
  },
  {
   "cell_type": "markdown",
   "metadata": {},
   "source": [
    "## Random Forest Regressor"
   ]
  },
  {
   "cell_type": "markdown",
   "metadata": {},
   "source": [
    "The first model we are going to train is a Random Forest Regressor. It is a bagging method which uses Decision Trees as a simple model.\n",
    "\n",
    "For more info, [here](https://scikit-learn.org/stable/modules/generated/sklearn.ensemble.RandomForestRegressor.html) is the documentation."
   ]
  },
  {
   "cell_type": "markdown",
   "metadata": {},
   "source": [
    "First we will train the default model, and we will calculate its `RMSE`(root mean square error). This metric, which is the square root of the `MSE`(root mean square error), will be used to make it easier to interpret, because the values are on the same scale as the target variable.\n",
    "\n",
    "Subsequently, we will train a Random Forest Regressor model, but we will tune the hyperparameters using the `HyperOpt` library."
   ]
  },
  {
   "cell_type": "markdown",
   "metadata": {},
   "source": [
    "### Fit Model"
   ]
  },
  {
   "cell_type": "markdown",
   "metadata": {},
   "source": [
    "We train the model, make the predictions and calculate the `RMSE`."
   ]
  },
  {
   "cell_type": "code",
   "execution_count": 30,
   "metadata": {},
   "outputs": [
    {
     "name": "stdout",
     "output_type": "stream",
     "text": [
      "The RMSE of the RandomForestRegressor model is 592.1286025559468\n"
     ]
    }
   ],
   "source": [
    "#set the model, and asign to a variable\n",
    "rf = RandomForestRegressor()\n",
    "#train the model with train set\n",
    "rf.fit(X_train, y_train)\n",
    "#perform the prediction with the test set, to obtain the predicted `y` test.\n",
    "y_rf_pred = rf.predict(X_test)\n",
    "#compute RMSE\n",
    "rfreg_rmse = mse(y_test, y_rf_pred)**0.5\n",
    "#print RMSE\n",
    "print(f\"The RMSE of the RandomForestRegressor model is {rfreg_rmse}\")"
   ]
  },
  {
   "cell_type": "markdown",
   "metadata": {},
   "source": [
    "### RF Test"
   ]
  },
  {
   "cell_type": "markdown",
   "metadata": {},
   "source": [
    "We train the test, and calculate the `RMSE`."
   ]
  },
  {
   "cell_type": "code",
   "execution_count": 31,
   "metadata": {},
   "outputs": [
    {
     "name": "stdout",
     "output_type": "stream",
     "text": [
      "The RMSE of the RandomForestRegressor model is 511.27775312909534\n"
     ]
    }
   ],
   "source": [
    "rf.fit(X, y)\n",
    "y_rf_pred = rf.predict(df_testX)\n",
    "rfreg_rmse = mse(df_testy, y_rf_pred)**0.5\n",
    "print(f\"The RMSE of the RandomForestRegressor model is {rfreg_rmse}\")"
   ]
  },
  {
   "cell_type": "markdown",
   "metadata": {},
   "source": [
    "We will create a DataFrame where the real data and the predictions of each model will be found."
   ]
  },
  {
   "cell_type": "code",
   "execution_count": 32,
   "metadata": {},
   "outputs": [
    {
     "data": {
      "text/html": [
       "<div>\n",
       "<style scoped>\n",
       "    .dataframe tbody tr th:only-of-type {\n",
       "        vertical-align: middle;\n",
       "    }\n",
       "\n",
       "    .dataframe tbody tr th {\n",
       "        vertical-align: top;\n",
       "    }\n",
       "\n",
       "    .dataframe thead th {\n",
       "        text-align: right;\n",
       "    }\n",
       "</style>\n",
       "<table border=\"1\" class=\"dataframe\">\n",
       "  <thead>\n",
       "    <tr style=\"text-align: right;\">\n",
       "      <th></th>\n",
       "      <th>Real</th>\n",
       "      <th>RF</th>\n",
       "    </tr>\n",
       "  </thead>\n",
       "  <tbody>\n",
       "    <tr>\n",
       "      <th>43100</th>\n",
       "      <td>1383</td>\n",
       "      <td>1286.41</td>\n",
       "    </tr>\n",
       "    <tr>\n",
       "      <th>43101</th>\n",
       "      <td>1384</td>\n",
       "      <td>1251.04</td>\n",
       "    </tr>\n",
       "    <tr>\n",
       "      <th>43102</th>\n",
       "      <td>1384</td>\n",
       "      <td>1327.92</td>\n",
       "    </tr>\n",
       "    <tr>\n",
       "      <th>43103</th>\n",
       "      <td>1384</td>\n",
       "      <td>1349.46</td>\n",
       "    </tr>\n",
       "    <tr>\n",
       "      <th>43104</th>\n",
       "      <td>1384</td>\n",
       "      <td>1298.48</td>\n",
       "    </tr>\n",
       "  </tbody>\n",
       "</table>\n",
       "</div>"
      ],
      "text/plain": [
       "       Real       RF\n",
       "43100  1383  1286.41\n",
       "43101  1384  1251.04\n",
       "43102  1384  1327.92\n",
       "43103  1384  1349.46\n",
       "43104  1384  1298.48"
      ]
     },
     "execution_count": 32,
     "metadata": {},
     "output_type": "execute_result"
    }
   ],
   "source": [
    "#create DataFrame\n",
    "pred_df = pd.DataFrame({\"Real\":df_testy, \"RF\": y_rf_pred})\n",
    "pred_df.head()"
   ]
  },
  {
   "cell_type": "markdown",
   "metadata": {},
   "source": [
    "### Tune Hiperparameters"
   ]
  },
  {
   "cell_type": "markdown",
   "metadata": {},
   "source": [
    "We continue training the previous model, but we are going to tune the hyperparameters of the model with the HyperOpt library.\n",
    "\n",
    "HyperOpt is a hyperparameter optimizer based on Bayesian optimization. \n",
    "\n",
    "[Here](http://hyperopt.github.io/hyperopt/) is the documentation for more information."
   ]
  },
  {
   "cell_type": "markdown",
   "metadata": {},
   "source": [
    "To begin with, we are going to create a dictionary where we will put the search space."
   ]
  },
  {
   "cell_type": "code",
   "execution_count": 33,
   "metadata": {},
   "outputs": [],
   "source": [
    "#set the search parameters\n",
    "params = {\n",
    "        \"n_estimators\":hp.quniform(\"n_estimators\", 10, 1000, 25),\n",
    "        \"max_depth\":hp.quniform(\"max_depth\", 4, 16, 1),\n",
    "        \"max_features\":hp.quniform(\"max_features\",2 ,8, 1),\n",
    "        \"min_samples_split\":hp.quniform(\"min_samples_split\", 2, 15, 1),\n",
    "        \"min_samples_leaf\":hp.quniform(\"min_samples_leaf\", 1,5,1)\n",
    "}"
   ]
  },
  {
   "cell_type": "markdown",
   "metadata": {},
   "source": [
    "Once our search parameters are set, we have to define an objective function, on which the `fmin` function will have to minimize."
   ]
  },
  {
   "cell_type": "code",
   "execution_count": 34,
   "metadata": {},
   "outputs": [],
   "source": [
    "#define an objetive function\n",
    "def objetive(param):\n",
    "\n",
    "    rf = RandomForestRegressor(n_estimators=int(param[\"n_estimators\"]),\n",
    "                      max_depth=int(param[\"max_depth\"]),\n",
    "                      max_features=int(param[\"max_features\"]),\n",
    "                      min_samples_split=int(param[\"min_samples_split\"]),\n",
    "                      min_samples_leaf=int(param[\"min_samples_leaf\"]))\n",
    "    \n",
    "   \n",
    "    rf.fit(X_train, y_train)\n",
    "    \n",
    "    y_pred = rf.predict(X_test)\n",
    "   \n",
    "    rmse = mse(y_test, y_pred)**(0.5)\n",
    "    \n",
    "    return {\"loss\":rmse, \"status\": STATUS_OK }"
   ]
  },
  {
   "cell_type": "markdown",
   "metadata": {},
   "source": [
    "With the search parameters and the objective function, the search for the best set of hyperparameters can begin."
   ]
  },
  {
   "cell_type": "code",
   "execution_count": 35,
   "metadata": {},
   "outputs": [
    {
     "name": "stdout",
     "output_type": "stream",
     "text": [
      "100%|██████████| 10/10 [03:58<00:00, 23.81s/trial, best loss: 626.4104309159584]\n"
     ]
    }
   ],
   "source": [
    "#minimize the objective over the parameters\n",
    "trials_reg = Trials()\n",
    "best = fmin(fn=objetive,\n",
    "            space=params,\n",
    "            algo=tpe.suggest,\n",
    "            max_evals=10,\n",
    "            trials=trials_reg\n",
    "            )"
   ]
  },
  {
   "cell_type": "markdown",
   "metadata": {},
   "source": [
    "We check the best combination of hyperparameters for our data."
   ]
  },
  {
   "cell_type": "code",
   "execution_count": 36,
   "metadata": {},
   "outputs": [
    {
     "data": {
      "text/plain": [
       "{'max_depth': 12.0,\n",
       " 'max_features': 3.0,\n",
       " 'min_samples_leaf': 1.0,\n",
       " 'min_samples_split': 6.0,\n",
       " 'n_estimators': 850.0}"
      ]
     },
     "execution_count": 36,
     "metadata": {},
     "output_type": "execute_result"
    }
   ],
   "source": [
    "#check the best\n",
    "best"
   ]
  },
  {
   "cell_type": "markdown",
   "metadata": {},
   "source": [
    "From here, we follow the same process as before, set up the model, train it, and calculate the `RMSE`."
   ]
  },
  {
   "cell_type": "code",
   "execution_count": 37,
   "metadata": {},
   "outputs": [],
   "source": [
    "#set model with the best hyperparameters\n",
    "rf_model = RandomForestRegressor(\n",
    "    n_estimators=int(best[\"n_estimators\"]),\n",
    "    max_depth=int(best[\"max_depth\"]),\n",
    "    max_features=int(best[\"max_features\"]),\n",
    "    min_samples_split=int(best[\"min_samples_split\"]),\n",
    "    min_samples_leaf=int(best[\"min_samples_leaf\"])\n",
    ")"
   ]
  },
  {
   "cell_type": "code",
   "execution_count": 38,
   "metadata": {},
   "outputs": [
    {
     "name": "stdout",
     "output_type": "stream",
     "text": [
      "The RMSE of the tuned RandomForestRegressor model is 627.9295708205129\n"
     ]
    }
   ],
   "source": [
    "#fit model and check RMSE\n",
    "rf_model.fit(X_train, y_train)\n",
    "y_pred_test_rf=rf_model.predict(X_test)\n",
    "rmse_rf = mse(y_test, y_pred_test_rf)**0.5\n",
    "print(f\"The RMSE of the tuned RandomForestRegressor model is {rmse_rf}\")"
   ]
  },
  {
   "cell_type": "markdown",
   "metadata": {},
   "source": [
    "And, we include the predictions in the DataFrame."
   ]
  },
  {
   "cell_type": "markdown",
   "metadata": {},
   "source": [
    "### Tuned RF Test"
   ]
  },
  {
   "cell_type": "markdown",
   "metadata": {},
   "source": [
    "We train the test, and calculate the `RMSE`."
   ]
  },
  {
   "cell_type": "code",
   "execution_count": 39,
   "metadata": {},
   "outputs": [
    {
     "name": "stdout",
     "output_type": "stream",
     "text": [
      "The RMSE of the RandomForestRegressor model is 482.12133102697754\n"
     ]
    }
   ],
   "source": [
    "#fit an compute RMSE\n",
    "rf_model.fit(X, y)\n",
    "y_pred_test_rf = rf_model.predict(df_testX)\n",
    "rmse_rf = mse(df_testy, y_pred_test_rf)**0.5\n",
    "print(f\"The RMSE of the RandomForestRegressor model is {rmse_rf}\")"
   ]
  },
  {
   "cell_type": "code",
   "execution_count": 40,
   "metadata": {},
   "outputs": [
    {
     "data": {
      "text/html": [
       "<div>\n",
       "<style scoped>\n",
       "    .dataframe tbody tr th:only-of-type {\n",
       "        vertical-align: middle;\n",
       "    }\n",
       "\n",
       "    .dataframe tbody tr th {\n",
       "        vertical-align: top;\n",
       "    }\n",
       "\n",
       "    .dataframe thead th {\n",
       "        text-align: right;\n",
       "    }\n",
       "</style>\n",
       "<table border=\"1\" class=\"dataframe\">\n",
       "  <thead>\n",
       "    <tr style=\"text-align: right;\">\n",
       "      <th></th>\n",
       "      <th>Real</th>\n",
       "      <th>RF</th>\n",
       "      <th>RF_HyperOpt</th>\n",
       "    </tr>\n",
       "  </thead>\n",
       "  <tbody>\n",
       "    <tr>\n",
       "      <th>43100</th>\n",
       "      <td>1383</td>\n",
       "      <td>1286.41</td>\n",
       "      <td>1228.987295</td>\n",
       "    </tr>\n",
       "    <tr>\n",
       "      <th>43101</th>\n",
       "      <td>1384</td>\n",
       "      <td>1251.04</td>\n",
       "      <td>1278.767638</td>\n",
       "    </tr>\n",
       "    <tr>\n",
       "      <th>43102</th>\n",
       "      <td>1384</td>\n",
       "      <td>1327.92</td>\n",
       "      <td>1242.252627</td>\n",
       "    </tr>\n",
       "    <tr>\n",
       "      <th>43103</th>\n",
       "      <td>1384</td>\n",
       "      <td>1349.46</td>\n",
       "      <td>1283.429167</td>\n",
       "    </tr>\n",
       "    <tr>\n",
       "      <th>43104</th>\n",
       "      <td>1384</td>\n",
       "      <td>1298.48</td>\n",
       "      <td>1269.057161</td>\n",
       "    </tr>\n",
       "  </tbody>\n",
       "</table>\n",
       "</div>"
      ],
      "text/plain": [
       "       Real       RF  RF_HyperOpt\n",
       "43100  1383  1286.41  1228.987295\n",
       "43101  1384  1251.04  1278.767638\n",
       "43102  1384  1327.92  1242.252627\n",
       "43103  1384  1349.46  1283.429167\n",
       "43104  1384  1298.48  1269.057161"
      ]
     },
     "execution_count": 40,
     "metadata": {},
     "output_type": "execute_result"
    }
   ],
   "source": [
    "#include the predictions to the DataFrame\n",
    "pred_df[\"RF_HyperOpt\"] = y_pred_test_rf\n",
    "pred_df.head()"
   ]
  },
  {
   "cell_type": "markdown",
   "metadata": {},
   "source": [
    "## Pycaret"
   ]
  },
  {
   "cell_type": "markdown",
   "metadata": {},
   "source": [
    "Next, we are going to test the PyCaret library, a low code library in which setting our data, the target variable, will select the best model that fits our data, among other things.\n",
    "\n",
    "For more information, [here](https://pycaret.org/) is the documentation."
   ]
  },
  {
   "cell_type": "markdown",
   "metadata": {},
   "source": [
    "### Fit Model"
   ]
  },
  {
   "cell_type": "markdown",
   "metadata": {},
   "source": [
    "We are going to transform the type of the categorical variables into `float`."
   ]
  },
  {
   "cell_type": "code",
   "execution_count": 41,
   "metadata": {},
   "outputs": [],
   "source": [
    "df_train[[\"cut\", \"color\", \"clarity\"]] = df_train[[\"cut\", \"color\", \"clarity\"]].apply(lambda x:x.astype(\"float64\"))"
   ]
  },
  {
   "cell_type": "code",
   "execution_count": 42,
   "metadata": {},
   "outputs": [
    {
     "data": {
      "text/plain": [
       "carat      float64\n",
       "cut        float64\n",
       "color      float64\n",
       "clarity    float64\n",
       "depth      float64\n",
       "table      float64\n",
       "price        int64\n",
       "x          float64\n",
       "y          float64\n",
       "dtype: object"
      ]
     },
     "execution_count": 42,
     "metadata": {},
     "output_type": "execute_result"
    }
   ],
   "source": [
    "df_train.dtypes"
   ]
  },
  {
   "cell_type": "markdown",
   "metadata": {},
   "source": [
    "We set our DataFrame, and the target variable."
   ]
  },
  {
   "cell_type": "code",
   "execution_count": 43,
   "metadata": {},
   "outputs": [
    {
     "data": {
      "text/html": [
       "<style  type=\"text/css\" >\n",
       "</style><table id=\"T_17cc3d61_a1f3_11eb_9fb7_5800e3972554\" ><thead>    <tr>        <th class=\"blank level0\" ></th>        <th class=\"col_heading level0 col0\" >Description</th>        <th class=\"col_heading level0 col1\" >Value</th>    </tr></thead><tbody>\n",
       "                <tr>\n",
       "                        <th id=\"T_17cc3d61_a1f3_11eb_9fb7_5800e3972554level0_row0\" class=\"row_heading level0 row0\" >0</th>\n",
       "                        <td id=\"T_17cc3d61_a1f3_11eb_9fb7_5800e3972554row0_col0\" class=\"data row0 col0\" >session_id</td>\n",
       "                        <td id=\"T_17cc3d61_a1f3_11eb_9fb7_5800e3972554row0_col1\" class=\"data row0 col1\" >123</td>\n",
       "            </tr>\n",
       "            <tr>\n",
       "                        <th id=\"T_17cc3d61_a1f3_11eb_9fb7_5800e3972554level0_row1\" class=\"row_heading level0 row1\" >1</th>\n",
       "                        <td id=\"T_17cc3d61_a1f3_11eb_9fb7_5800e3972554row1_col0\" class=\"data row1 col0\" >Target</td>\n",
       "                        <td id=\"T_17cc3d61_a1f3_11eb_9fb7_5800e3972554row1_col1\" class=\"data row1 col1\" >price</td>\n",
       "            </tr>\n",
       "            <tr>\n",
       "                        <th id=\"T_17cc3d61_a1f3_11eb_9fb7_5800e3972554level0_row2\" class=\"row_heading level0 row2\" >2</th>\n",
       "                        <td id=\"T_17cc3d61_a1f3_11eb_9fb7_5800e3972554row2_col0\" class=\"data row2 col0\" >Original Data</td>\n",
       "                        <td id=\"T_17cc3d61_a1f3_11eb_9fb7_5800e3972554row2_col1\" class=\"data row2 col1\" >(43100, 9)</td>\n",
       "            </tr>\n",
       "            <tr>\n",
       "                        <th id=\"T_17cc3d61_a1f3_11eb_9fb7_5800e3972554level0_row3\" class=\"row_heading level0 row3\" >3</th>\n",
       "                        <td id=\"T_17cc3d61_a1f3_11eb_9fb7_5800e3972554row3_col0\" class=\"data row3 col0\" >Missing Values</td>\n",
       "                        <td id=\"T_17cc3d61_a1f3_11eb_9fb7_5800e3972554row3_col1\" class=\"data row3 col1\" >False</td>\n",
       "            </tr>\n",
       "            <tr>\n",
       "                        <th id=\"T_17cc3d61_a1f3_11eb_9fb7_5800e3972554level0_row4\" class=\"row_heading level0 row4\" >4</th>\n",
       "                        <td id=\"T_17cc3d61_a1f3_11eb_9fb7_5800e3972554row4_col0\" class=\"data row4 col0\" >Numeric Features</td>\n",
       "                        <td id=\"T_17cc3d61_a1f3_11eb_9fb7_5800e3972554row4_col1\" class=\"data row4 col1\" >8</td>\n",
       "            </tr>\n",
       "            <tr>\n",
       "                        <th id=\"T_17cc3d61_a1f3_11eb_9fb7_5800e3972554level0_row5\" class=\"row_heading level0 row5\" >5</th>\n",
       "                        <td id=\"T_17cc3d61_a1f3_11eb_9fb7_5800e3972554row5_col0\" class=\"data row5 col0\" >Categorical Features</td>\n",
       "                        <td id=\"T_17cc3d61_a1f3_11eb_9fb7_5800e3972554row5_col1\" class=\"data row5 col1\" >0</td>\n",
       "            </tr>\n",
       "            <tr>\n",
       "                        <th id=\"T_17cc3d61_a1f3_11eb_9fb7_5800e3972554level0_row6\" class=\"row_heading level0 row6\" >6</th>\n",
       "                        <td id=\"T_17cc3d61_a1f3_11eb_9fb7_5800e3972554row6_col0\" class=\"data row6 col0\" >Ordinal Features</td>\n",
       "                        <td id=\"T_17cc3d61_a1f3_11eb_9fb7_5800e3972554row6_col1\" class=\"data row6 col1\" >False</td>\n",
       "            </tr>\n",
       "            <tr>\n",
       "                        <th id=\"T_17cc3d61_a1f3_11eb_9fb7_5800e3972554level0_row7\" class=\"row_heading level0 row7\" >7</th>\n",
       "                        <td id=\"T_17cc3d61_a1f3_11eb_9fb7_5800e3972554row7_col0\" class=\"data row7 col0\" >High Cardinality Features</td>\n",
       "                        <td id=\"T_17cc3d61_a1f3_11eb_9fb7_5800e3972554row7_col1\" class=\"data row7 col1\" >False</td>\n",
       "            </tr>\n",
       "            <tr>\n",
       "                        <th id=\"T_17cc3d61_a1f3_11eb_9fb7_5800e3972554level0_row8\" class=\"row_heading level0 row8\" >8</th>\n",
       "                        <td id=\"T_17cc3d61_a1f3_11eb_9fb7_5800e3972554row8_col0\" class=\"data row8 col0\" >High Cardinality Method</td>\n",
       "                        <td id=\"T_17cc3d61_a1f3_11eb_9fb7_5800e3972554row8_col1\" class=\"data row8 col1\" >None</td>\n",
       "            </tr>\n",
       "            <tr>\n",
       "                        <th id=\"T_17cc3d61_a1f3_11eb_9fb7_5800e3972554level0_row9\" class=\"row_heading level0 row9\" >9</th>\n",
       "                        <td id=\"T_17cc3d61_a1f3_11eb_9fb7_5800e3972554row9_col0\" class=\"data row9 col0\" >Transformed Train Set</td>\n",
       "                        <td id=\"T_17cc3d61_a1f3_11eb_9fb7_5800e3972554row9_col1\" class=\"data row9 col1\" >(34480, 8)</td>\n",
       "            </tr>\n",
       "            <tr>\n",
       "                        <th id=\"T_17cc3d61_a1f3_11eb_9fb7_5800e3972554level0_row10\" class=\"row_heading level0 row10\" >10</th>\n",
       "                        <td id=\"T_17cc3d61_a1f3_11eb_9fb7_5800e3972554row10_col0\" class=\"data row10 col0\" >Transformed Test Set</td>\n",
       "                        <td id=\"T_17cc3d61_a1f3_11eb_9fb7_5800e3972554row10_col1\" class=\"data row10 col1\" >(8620, 8)</td>\n",
       "            </tr>\n",
       "            <tr>\n",
       "                        <th id=\"T_17cc3d61_a1f3_11eb_9fb7_5800e3972554level0_row11\" class=\"row_heading level0 row11\" >11</th>\n",
       "                        <td id=\"T_17cc3d61_a1f3_11eb_9fb7_5800e3972554row11_col0\" class=\"data row11 col0\" >Shuffle Train-Test</td>\n",
       "                        <td id=\"T_17cc3d61_a1f3_11eb_9fb7_5800e3972554row11_col1\" class=\"data row11 col1\" >True</td>\n",
       "            </tr>\n",
       "            <tr>\n",
       "                        <th id=\"T_17cc3d61_a1f3_11eb_9fb7_5800e3972554level0_row12\" class=\"row_heading level0 row12\" >12</th>\n",
       "                        <td id=\"T_17cc3d61_a1f3_11eb_9fb7_5800e3972554row12_col0\" class=\"data row12 col0\" >Stratify Train-Test</td>\n",
       "                        <td id=\"T_17cc3d61_a1f3_11eb_9fb7_5800e3972554row12_col1\" class=\"data row12 col1\" >False</td>\n",
       "            </tr>\n",
       "            <tr>\n",
       "                        <th id=\"T_17cc3d61_a1f3_11eb_9fb7_5800e3972554level0_row13\" class=\"row_heading level0 row13\" >13</th>\n",
       "                        <td id=\"T_17cc3d61_a1f3_11eb_9fb7_5800e3972554row13_col0\" class=\"data row13 col0\" >Fold Generator</td>\n",
       "                        <td id=\"T_17cc3d61_a1f3_11eb_9fb7_5800e3972554row13_col1\" class=\"data row13 col1\" >KFold</td>\n",
       "            </tr>\n",
       "            <tr>\n",
       "                        <th id=\"T_17cc3d61_a1f3_11eb_9fb7_5800e3972554level0_row14\" class=\"row_heading level0 row14\" >14</th>\n",
       "                        <td id=\"T_17cc3d61_a1f3_11eb_9fb7_5800e3972554row14_col0\" class=\"data row14 col0\" >Fold Number</td>\n",
       "                        <td id=\"T_17cc3d61_a1f3_11eb_9fb7_5800e3972554row14_col1\" class=\"data row14 col1\" >10</td>\n",
       "            </tr>\n",
       "            <tr>\n",
       "                        <th id=\"T_17cc3d61_a1f3_11eb_9fb7_5800e3972554level0_row15\" class=\"row_heading level0 row15\" >15</th>\n",
       "                        <td id=\"T_17cc3d61_a1f3_11eb_9fb7_5800e3972554row15_col0\" class=\"data row15 col0\" >CPU Jobs</td>\n",
       "                        <td id=\"T_17cc3d61_a1f3_11eb_9fb7_5800e3972554row15_col1\" class=\"data row15 col1\" >-1</td>\n",
       "            </tr>\n",
       "            <tr>\n",
       "                        <th id=\"T_17cc3d61_a1f3_11eb_9fb7_5800e3972554level0_row16\" class=\"row_heading level0 row16\" >16</th>\n",
       "                        <td id=\"T_17cc3d61_a1f3_11eb_9fb7_5800e3972554row16_col0\" class=\"data row16 col0\" >Use GPU</td>\n",
       "                        <td id=\"T_17cc3d61_a1f3_11eb_9fb7_5800e3972554row16_col1\" class=\"data row16 col1\" >False</td>\n",
       "            </tr>\n",
       "            <tr>\n",
       "                        <th id=\"T_17cc3d61_a1f3_11eb_9fb7_5800e3972554level0_row17\" class=\"row_heading level0 row17\" >17</th>\n",
       "                        <td id=\"T_17cc3d61_a1f3_11eb_9fb7_5800e3972554row17_col0\" class=\"data row17 col0\" >Log Experiment</td>\n",
       "                        <td id=\"T_17cc3d61_a1f3_11eb_9fb7_5800e3972554row17_col1\" class=\"data row17 col1\" >False</td>\n",
       "            </tr>\n",
       "            <tr>\n",
       "                        <th id=\"T_17cc3d61_a1f3_11eb_9fb7_5800e3972554level0_row18\" class=\"row_heading level0 row18\" >18</th>\n",
       "                        <td id=\"T_17cc3d61_a1f3_11eb_9fb7_5800e3972554row18_col0\" class=\"data row18 col0\" >Experiment Name</td>\n",
       "                        <td id=\"T_17cc3d61_a1f3_11eb_9fb7_5800e3972554row18_col1\" class=\"data row18 col1\" >reg-default-name</td>\n",
       "            </tr>\n",
       "            <tr>\n",
       "                        <th id=\"T_17cc3d61_a1f3_11eb_9fb7_5800e3972554level0_row19\" class=\"row_heading level0 row19\" >19</th>\n",
       "                        <td id=\"T_17cc3d61_a1f3_11eb_9fb7_5800e3972554row19_col0\" class=\"data row19 col0\" >USI</td>\n",
       "                        <td id=\"T_17cc3d61_a1f3_11eb_9fb7_5800e3972554row19_col1\" class=\"data row19 col1\" >f73a</td>\n",
       "            </tr>\n",
       "            <tr>\n",
       "                        <th id=\"T_17cc3d61_a1f3_11eb_9fb7_5800e3972554level0_row20\" class=\"row_heading level0 row20\" >20</th>\n",
       "                        <td id=\"T_17cc3d61_a1f3_11eb_9fb7_5800e3972554row20_col0\" class=\"data row20 col0\" >Imputation Type</td>\n",
       "                        <td id=\"T_17cc3d61_a1f3_11eb_9fb7_5800e3972554row20_col1\" class=\"data row20 col1\" >simple</td>\n",
       "            </tr>\n",
       "            <tr>\n",
       "                        <th id=\"T_17cc3d61_a1f3_11eb_9fb7_5800e3972554level0_row21\" class=\"row_heading level0 row21\" >21</th>\n",
       "                        <td id=\"T_17cc3d61_a1f3_11eb_9fb7_5800e3972554row21_col0\" class=\"data row21 col0\" >Iterative Imputation Iteration</td>\n",
       "                        <td id=\"T_17cc3d61_a1f3_11eb_9fb7_5800e3972554row21_col1\" class=\"data row21 col1\" >None</td>\n",
       "            </tr>\n",
       "            <tr>\n",
       "                        <th id=\"T_17cc3d61_a1f3_11eb_9fb7_5800e3972554level0_row22\" class=\"row_heading level0 row22\" >22</th>\n",
       "                        <td id=\"T_17cc3d61_a1f3_11eb_9fb7_5800e3972554row22_col0\" class=\"data row22 col0\" >Numeric Imputer</td>\n",
       "                        <td id=\"T_17cc3d61_a1f3_11eb_9fb7_5800e3972554row22_col1\" class=\"data row22 col1\" >mean</td>\n",
       "            </tr>\n",
       "            <tr>\n",
       "                        <th id=\"T_17cc3d61_a1f3_11eb_9fb7_5800e3972554level0_row23\" class=\"row_heading level0 row23\" >23</th>\n",
       "                        <td id=\"T_17cc3d61_a1f3_11eb_9fb7_5800e3972554row23_col0\" class=\"data row23 col0\" >Iterative Imputation Numeric Model</td>\n",
       "                        <td id=\"T_17cc3d61_a1f3_11eb_9fb7_5800e3972554row23_col1\" class=\"data row23 col1\" >None</td>\n",
       "            </tr>\n",
       "            <tr>\n",
       "                        <th id=\"T_17cc3d61_a1f3_11eb_9fb7_5800e3972554level0_row24\" class=\"row_heading level0 row24\" >24</th>\n",
       "                        <td id=\"T_17cc3d61_a1f3_11eb_9fb7_5800e3972554row24_col0\" class=\"data row24 col0\" >Categorical Imputer</td>\n",
       "                        <td id=\"T_17cc3d61_a1f3_11eb_9fb7_5800e3972554row24_col1\" class=\"data row24 col1\" >constant</td>\n",
       "            </tr>\n",
       "            <tr>\n",
       "                        <th id=\"T_17cc3d61_a1f3_11eb_9fb7_5800e3972554level0_row25\" class=\"row_heading level0 row25\" >25</th>\n",
       "                        <td id=\"T_17cc3d61_a1f3_11eb_9fb7_5800e3972554row25_col0\" class=\"data row25 col0\" >Iterative Imputation Categorical Model</td>\n",
       "                        <td id=\"T_17cc3d61_a1f3_11eb_9fb7_5800e3972554row25_col1\" class=\"data row25 col1\" >None</td>\n",
       "            </tr>\n",
       "            <tr>\n",
       "                        <th id=\"T_17cc3d61_a1f3_11eb_9fb7_5800e3972554level0_row26\" class=\"row_heading level0 row26\" >26</th>\n",
       "                        <td id=\"T_17cc3d61_a1f3_11eb_9fb7_5800e3972554row26_col0\" class=\"data row26 col0\" >Unknown Categoricals Handling</td>\n",
       "                        <td id=\"T_17cc3d61_a1f3_11eb_9fb7_5800e3972554row26_col1\" class=\"data row26 col1\" >least_frequent</td>\n",
       "            </tr>\n",
       "            <tr>\n",
       "                        <th id=\"T_17cc3d61_a1f3_11eb_9fb7_5800e3972554level0_row27\" class=\"row_heading level0 row27\" >27</th>\n",
       "                        <td id=\"T_17cc3d61_a1f3_11eb_9fb7_5800e3972554row27_col0\" class=\"data row27 col0\" >Normalize</td>\n",
       "                        <td id=\"T_17cc3d61_a1f3_11eb_9fb7_5800e3972554row27_col1\" class=\"data row27 col1\" >False</td>\n",
       "            </tr>\n",
       "            <tr>\n",
       "                        <th id=\"T_17cc3d61_a1f3_11eb_9fb7_5800e3972554level0_row28\" class=\"row_heading level0 row28\" >28</th>\n",
       "                        <td id=\"T_17cc3d61_a1f3_11eb_9fb7_5800e3972554row28_col0\" class=\"data row28 col0\" >Normalize Method</td>\n",
       "                        <td id=\"T_17cc3d61_a1f3_11eb_9fb7_5800e3972554row28_col1\" class=\"data row28 col1\" >None</td>\n",
       "            </tr>\n",
       "            <tr>\n",
       "                        <th id=\"T_17cc3d61_a1f3_11eb_9fb7_5800e3972554level0_row29\" class=\"row_heading level0 row29\" >29</th>\n",
       "                        <td id=\"T_17cc3d61_a1f3_11eb_9fb7_5800e3972554row29_col0\" class=\"data row29 col0\" >Transformation</td>\n",
       "                        <td id=\"T_17cc3d61_a1f3_11eb_9fb7_5800e3972554row29_col1\" class=\"data row29 col1\" >False</td>\n",
       "            </tr>\n",
       "            <tr>\n",
       "                        <th id=\"T_17cc3d61_a1f3_11eb_9fb7_5800e3972554level0_row30\" class=\"row_heading level0 row30\" >30</th>\n",
       "                        <td id=\"T_17cc3d61_a1f3_11eb_9fb7_5800e3972554row30_col0\" class=\"data row30 col0\" >Transformation Method</td>\n",
       "                        <td id=\"T_17cc3d61_a1f3_11eb_9fb7_5800e3972554row30_col1\" class=\"data row30 col1\" >None</td>\n",
       "            </tr>\n",
       "            <tr>\n",
       "                        <th id=\"T_17cc3d61_a1f3_11eb_9fb7_5800e3972554level0_row31\" class=\"row_heading level0 row31\" >31</th>\n",
       "                        <td id=\"T_17cc3d61_a1f3_11eb_9fb7_5800e3972554row31_col0\" class=\"data row31 col0\" >PCA</td>\n",
       "                        <td id=\"T_17cc3d61_a1f3_11eb_9fb7_5800e3972554row31_col1\" class=\"data row31 col1\" >False</td>\n",
       "            </tr>\n",
       "            <tr>\n",
       "                        <th id=\"T_17cc3d61_a1f3_11eb_9fb7_5800e3972554level0_row32\" class=\"row_heading level0 row32\" >32</th>\n",
       "                        <td id=\"T_17cc3d61_a1f3_11eb_9fb7_5800e3972554row32_col0\" class=\"data row32 col0\" >PCA Method</td>\n",
       "                        <td id=\"T_17cc3d61_a1f3_11eb_9fb7_5800e3972554row32_col1\" class=\"data row32 col1\" >None</td>\n",
       "            </tr>\n",
       "            <tr>\n",
       "                        <th id=\"T_17cc3d61_a1f3_11eb_9fb7_5800e3972554level0_row33\" class=\"row_heading level0 row33\" >33</th>\n",
       "                        <td id=\"T_17cc3d61_a1f3_11eb_9fb7_5800e3972554row33_col0\" class=\"data row33 col0\" >PCA Components</td>\n",
       "                        <td id=\"T_17cc3d61_a1f3_11eb_9fb7_5800e3972554row33_col1\" class=\"data row33 col1\" >None</td>\n",
       "            </tr>\n",
       "            <tr>\n",
       "                        <th id=\"T_17cc3d61_a1f3_11eb_9fb7_5800e3972554level0_row34\" class=\"row_heading level0 row34\" >34</th>\n",
       "                        <td id=\"T_17cc3d61_a1f3_11eb_9fb7_5800e3972554row34_col0\" class=\"data row34 col0\" >Ignore Low Variance</td>\n",
       "                        <td id=\"T_17cc3d61_a1f3_11eb_9fb7_5800e3972554row34_col1\" class=\"data row34 col1\" >False</td>\n",
       "            </tr>\n",
       "            <tr>\n",
       "                        <th id=\"T_17cc3d61_a1f3_11eb_9fb7_5800e3972554level0_row35\" class=\"row_heading level0 row35\" >35</th>\n",
       "                        <td id=\"T_17cc3d61_a1f3_11eb_9fb7_5800e3972554row35_col0\" class=\"data row35 col0\" >Combine Rare Levels</td>\n",
       "                        <td id=\"T_17cc3d61_a1f3_11eb_9fb7_5800e3972554row35_col1\" class=\"data row35 col1\" >False</td>\n",
       "            </tr>\n",
       "            <tr>\n",
       "                        <th id=\"T_17cc3d61_a1f3_11eb_9fb7_5800e3972554level0_row36\" class=\"row_heading level0 row36\" >36</th>\n",
       "                        <td id=\"T_17cc3d61_a1f3_11eb_9fb7_5800e3972554row36_col0\" class=\"data row36 col0\" >Rare Level Threshold</td>\n",
       "                        <td id=\"T_17cc3d61_a1f3_11eb_9fb7_5800e3972554row36_col1\" class=\"data row36 col1\" >None</td>\n",
       "            </tr>\n",
       "            <tr>\n",
       "                        <th id=\"T_17cc3d61_a1f3_11eb_9fb7_5800e3972554level0_row37\" class=\"row_heading level0 row37\" >37</th>\n",
       "                        <td id=\"T_17cc3d61_a1f3_11eb_9fb7_5800e3972554row37_col0\" class=\"data row37 col0\" >Numeric Binning</td>\n",
       "                        <td id=\"T_17cc3d61_a1f3_11eb_9fb7_5800e3972554row37_col1\" class=\"data row37 col1\" >False</td>\n",
       "            </tr>\n",
       "            <tr>\n",
       "                        <th id=\"T_17cc3d61_a1f3_11eb_9fb7_5800e3972554level0_row38\" class=\"row_heading level0 row38\" >38</th>\n",
       "                        <td id=\"T_17cc3d61_a1f3_11eb_9fb7_5800e3972554row38_col0\" class=\"data row38 col0\" >Remove Outliers</td>\n",
       "                        <td id=\"T_17cc3d61_a1f3_11eb_9fb7_5800e3972554row38_col1\" class=\"data row38 col1\" >False</td>\n",
       "            </tr>\n",
       "            <tr>\n",
       "                        <th id=\"T_17cc3d61_a1f3_11eb_9fb7_5800e3972554level0_row39\" class=\"row_heading level0 row39\" >39</th>\n",
       "                        <td id=\"T_17cc3d61_a1f3_11eb_9fb7_5800e3972554row39_col0\" class=\"data row39 col0\" >Outliers Threshold</td>\n",
       "                        <td id=\"T_17cc3d61_a1f3_11eb_9fb7_5800e3972554row39_col1\" class=\"data row39 col1\" >None</td>\n",
       "            </tr>\n",
       "            <tr>\n",
       "                        <th id=\"T_17cc3d61_a1f3_11eb_9fb7_5800e3972554level0_row40\" class=\"row_heading level0 row40\" >40</th>\n",
       "                        <td id=\"T_17cc3d61_a1f3_11eb_9fb7_5800e3972554row40_col0\" class=\"data row40 col0\" >Remove Multicollinearity</td>\n",
       "                        <td id=\"T_17cc3d61_a1f3_11eb_9fb7_5800e3972554row40_col1\" class=\"data row40 col1\" >False</td>\n",
       "            </tr>\n",
       "            <tr>\n",
       "                        <th id=\"T_17cc3d61_a1f3_11eb_9fb7_5800e3972554level0_row41\" class=\"row_heading level0 row41\" >41</th>\n",
       "                        <td id=\"T_17cc3d61_a1f3_11eb_9fb7_5800e3972554row41_col0\" class=\"data row41 col0\" >Multicollinearity Threshold</td>\n",
       "                        <td id=\"T_17cc3d61_a1f3_11eb_9fb7_5800e3972554row41_col1\" class=\"data row41 col1\" >None</td>\n",
       "            </tr>\n",
       "            <tr>\n",
       "                        <th id=\"T_17cc3d61_a1f3_11eb_9fb7_5800e3972554level0_row42\" class=\"row_heading level0 row42\" >42</th>\n",
       "                        <td id=\"T_17cc3d61_a1f3_11eb_9fb7_5800e3972554row42_col0\" class=\"data row42 col0\" >Clustering</td>\n",
       "                        <td id=\"T_17cc3d61_a1f3_11eb_9fb7_5800e3972554row42_col1\" class=\"data row42 col1\" >False</td>\n",
       "            </tr>\n",
       "            <tr>\n",
       "                        <th id=\"T_17cc3d61_a1f3_11eb_9fb7_5800e3972554level0_row43\" class=\"row_heading level0 row43\" >43</th>\n",
       "                        <td id=\"T_17cc3d61_a1f3_11eb_9fb7_5800e3972554row43_col0\" class=\"data row43 col0\" >Clustering Iteration</td>\n",
       "                        <td id=\"T_17cc3d61_a1f3_11eb_9fb7_5800e3972554row43_col1\" class=\"data row43 col1\" >None</td>\n",
       "            </tr>\n",
       "            <tr>\n",
       "                        <th id=\"T_17cc3d61_a1f3_11eb_9fb7_5800e3972554level0_row44\" class=\"row_heading level0 row44\" >44</th>\n",
       "                        <td id=\"T_17cc3d61_a1f3_11eb_9fb7_5800e3972554row44_col0\" class=\"data row44 col0\" >Polynomial Features</td>\n",
       "                        <td id=\"T_17cc3d61_a1f3_11eb_9fb7_5800e3972554row44_col1\" class=\"data row44 col1\" >False</td>\n",
       "            </tr>\n",
       "            <tr>\n",
       "                        <th id=\"T_17cc3d61_a1f3_11eb_9fb7_5800e3972554level0_row45\" class=\"row_heading level0 row45\" >45</th>\n",
       "                        <td id=\"T_17cc3d61_a1f3_11eb_9fb7_5800e3972554row45_col0\" class=\"data row45 col0\" >Polynomial Degree</td>\n",
       "                        <td id=\"T_17cc3d61_a1f3_11eb_9fb7_5800e3972554row45_col1\" class=\"data row45 col1\" >None</td>\n",
       "            </tr>\n",
       "            <tr>\n",
       "                        <th id=\"T_17cc3d61_a1f3_11eb_9fb7_5800e3972554level0_row46\" class=\"row_heading level0 row46\" >46</th>\n",
       "                        <td id=\"T_17cc3d61_a1f3_11eb_9fb7_5800e3972554row46_col0\" class=\"data row46 col0\" >Trignometry Features</td>\n",
       "                        <td id=\"T_17cc3d61_a1f3_11eb_9fb7_5800e3972554row46_col1\" class=\"data row46 col1\" >False</td>\n",
       "            </tr>\n",
       "            <tr>\n",
       "                        <th id=\"T_17cc3d61_a1f3_11eb_9fb7_5800e3972554level0_row47\" class=\"row_heading level0 row47\" >47</th>\n",
       "                        <td id=\"T_17cc3d61_a1f3_11eb_9fb7_5800e3972554row47_col0\" class=\"data row47 col0\" >Polynomial Threshold</td>\n",
       "                        <td id=\"T_17cc3d61_a1f3_11eb_9fb7_5800e3972554row47_col1\" class=\"data row47 col1\" >None</td>\n",
       "            </tr>\n",
       "            <tr>\n",
       "                        <th id=\"T_17cc3d61_a1f3_11eb_9fb7_5800e3972554level0_row48\" class=\"row_heading level0 row48\" >48</th>\n",
       "                        <td id=\"T_17cc3d61_a1f3_11eb_9fb7_5800e3972554row48_col0\" class=\"data row48 col0\" >Group Features</td>\n",
       "                        <td id=\"T_17cc3d61_a1f3_11eb_9fb7_5800e3972554row48_col1\" class=\"data row48 col1\" >False</td>\n",
       "            </tr>\n",
       "            <tr>\n",
       "                        <th id=\"T_17cc3d61_a1f3_11eb_9fb7_5800e3972554level0_row49\" class=\"row_heading level0 row49\" >49</th>\n",
       "                        <td id=\"T_17cc3d61_a1f3_11eb_9fb7_5800e3972554row49_col0\" class=\"data row49 col0\" >Feature Selection</td>\n",
       "                        <td id=\"T_17cc3d61_a1f3_11eb_9fb7_5800e3972554row49_col1\" class=\"data row49 col1\" >False</td>\n",
       "            </tr>\n",
       "            <tr>\n",
       "                        <th id=\"T_17cc3d61_a1f3_11eb_9fb7_5800e3972554level0_row50\" class=\"row_heading level0 row50\" >50</th>\n",
       "                        <td id=\"T_17cc3d61_a1f3_11eb_9fb7_5800e3972554row50_col0\" class=\"data row50 col0\" >Feature Selection Method</td>\n",
       "                        <td id=\"T_17cc3d61_a1f3_11eb_9fb7_5800e3972554row50_col1\" class=\"data row50 col1\" >classic</td>\n",
       "            </tr>\n",
       "            <tr>\n",
       "                        <th id=\"T_17cc3d61_a1f3_11eb_9fb7_5800e3972554level0_row51\" class=\"row_heading level0 row51\" >51</th>\n",
       "                        <td id=\"T_17cc3d61_a1f3_11eb_9fb7_5800e3972554row51_col0\" class=\"data row51 col0\" >Features Selection Threshold</td>\n",
       "                        <td id=\"T_17cc3d61_a1f3_11eb_9fb7_5800e3972554row51_col1\" class=\"data row51 col1\" >None</td>\n",
       "            </tr>\n",
       "            <tr>\n",
       "                        <th id=\"T_17cc3d61_a1f3_11eb_9fb7_5800e3972554level0_row52\" class=\"row_heading level0 row52\" >52</th>\n",
       "                        <td id=\"T_17cc3d61_a1f3_11eb_9fb7_5800e3972554row52_col0\" class=\"data row52 col0\" >Feature Interaction</td>\n",
       "                        <td id=\"T_17cc3d61_a1f3_11eb_9fb7_5800e3972554row52_col1\" class=\"data row52 col1\" >False</td>\n",
       "            </tr>\n",
       "            <tr>\n",
       "                        <th id=\"T_17cc3d61_a1f3_11eb_9fb7_5800e3972554level0_row53\" class=\"row_heading level0 row53\" >53</th>\n",
       "                        <td id=\"T_17cc3d61_a1f3_11eb_9fb7_5800e3972554row53_col0\" class=\"data row53 col0\" >Feature Ratio</td>\n",
       "                        <td id=\"T_17cc3d61_a1f3_11eb_9fb7_5800e3972554row53_col1\" class=\"data row53 col1\" >False</td>\n",
       "            </tr>\n",
       "            <tr>\n",
       "                        <th id=\"T_17cc3d61_a1f3_11eb_9fb7_5800e3972554level0_row54\" class=\"row_heading level0 row54\" >54</th>\n",
       "                        <td id=\"T_17cc3d61_a1f3_11eb_9fb7_5800e3972554row54_col0\" class=\"data row54 col0\" >Interaction Threshold</td>\n",
       "                        <td id=\"T_17cc3d61_a1f3_11eb_9fb7_5800e3972554row54_col1\" class=\"data row54 col1\" >None</td>\n",
       "            </tr>\n",
       "            <tr>\n",
       "                        <th id=\"T_17cc3d61_a1f3_11eb_9fb7_5800e3972554level0_row55\" class=\"row_heading level0 row55\" >55</th>\n",
       "                        <td id=\"T_17cc3d61_a1f3_11eb_9fb7_5800e3972554row55_col0\" class=\"data row55 col0\" >Transform Target</td>\n",
       "                        <td id=\"T_17cc3d61_a1f3_11eb_9fb7_5800e3972554row55_col1\" class=\"data row55 col1\" >False</td>\n",
       "            </tr>\n",
       "            <tr>\n",
       "                        <th id=\"T_17cc3d61_a1f3_11eb_9fb7_5800e3972554level0_row56\" class=\"row_heading level0 row56\" >56</th>\n",
       "                        <td id=\"T_17cc3d61_a1f3_11eb_9fb7_5800e3972554row56_col0\" class=\"data row56 col0\" >Transform Target Method</td>\n",
       "                        <td id=\"T_17cc3d61_a1f3_11eb_9fb7_5800e3972554row56_col1\" class=\"data row56 col1\" >box-cox</td>\n",
       "            </tr>\n",
       "    </tbody></table>"
      ],
      "text/plain": [
       "<pandas.io.formats.style.Styler at 0x18075c7f6d0>"
      ]
     },
     "metadata": {},
     "output_type": "display_data"
    }
   ],
   "source": [
    "exp_clf101 = setup(data = df_train, target = \"price\", train_size = 0.8, remove_perfect_collinearity = False, session_id=123)"
   ]
  },
  {
   "cell_type": "markdown",
   "metadata": {},
   "source": [
    "The compare_models() function will look for the model that best fits our data. \n",
    "\n",
    "There are many default models. But there are some that must be installed previously. In my case, for example, I had to install `XGBoost`."
   ]
  },
  {
   "cell_type": "code",
   "execution_count": 44,
   "metadata": {},
   "outputs": [
    {
     "data": {
      "text/html": [
       "<style  type=\"text/css\" >\n",
       "    #T_8470b8b5_a1f3_11eb_8ff2_5800e3972554 th {\n",
       "          text-align: left;\n",
       "    }#T_8470b8b5_a1f3_11eb_8ff2_5800e3972554row0_col0,#T_8470b8b5_a1f3_11eb_8ff2_5800e3972554row0_col1,#T_8470b8b5_a1f3_11eb_8ff2_5800e3972554row0_col5,#T_8470b8b5_a1f3_11eb_8ff2_5800e3972554row0_col6,#T_8470b8b5_a1f3_11eb_8ff2_5800e3972554row1_col0,#T_8470b8b5_a1f3_11eb_8ff2_5800e3972554row1_col1,#T_8470b8b5_a1f3_11eb_8ff2_5800e3972554row1_col2,#T_8470b8b5_a1f3_11eb_8ff2_5800e3972554row1_col3,#T_8470b8b5_a1f3_11eb_8ff2_5800e3972554row1_col4,#T_8470b8b5_a1f3_11eb_8ff2_5800e3972554row1_col5,#T_8470b8b5_a1f3_11eb_8ff2_5800e3972554row1_col6,#T_8470b8b5_a1f3_11eb_8ff2_5800e3972554row2_col0,#T_8470b8b5_a1f3_11eb_8ff2_5800e3972554row2_col1,#T_8470b8b5_a1f3_11eb_8ff2_5800e3972554row2_col2,#T_8470b8b5_a1f3_11eb_8ff2_5800e3972554row2_col3,#T_8470b8b5_a1f3_11eb_8ff2_5800e3972554row2_col4,#T_8470b8b5_a1f3_11eb_8ff2_5800e3972554row2_col6,#T_8470b8b5_a1f3_11eb_8ff2_5800e3972554row3_col0,#T_8470b8b5_a1f3_11eb_8ff2_5800e3972554row3_col2,#T_8470b8b5_a1f3_11eb_8ff2_5800e3972554row3_col3,#T_8470b8b5_a1f3_11eb_8ff2_5800e3972554row3_col4,#T_8470b8b5_a1f3_11eb_8ff2_5800e3972554row3_col5,#T_8470b8b5_a1f3_11eb_8ff2_5800e3972554row4_col0,#T_8470b8b5_a1f3_11eb_8ff2_5800e3972554row4_col1,#T_8470b8b5_a1f3_11eb_8ff2_5800e3972554row4_col2,#T_8470b8b5_a1f3_11eb_8ff2_5800e3972554row4_col3,#T_8470b8b5_a1f3_11eb_8ff2_5800e3972554row4_col4,#T_8470b8b5_a1f3_11eb_8ff2_5800e3972554row4_col5,#T_8470b8b5_a1f3_11eb_8ff2_5800e3972554row4_col6,#T_8470b8b5_a1f3_11eb_8ff2_5800e3972554row5_col0,#T_8470b8b5_a1f3_11eb_8ff2_5800e3972554row5_col1,#T_8470b8b5_a1f3_11eb_8ff2_5800e3972554row5_col2,#T_8470b8b5_a1f3_11eb_8ff2_5800e3972554row5_col3,#T_8470b8b5_a1f3_11eb_8ff2_5800e3972554row5_col4,#T_8470b8b5_a1f3_11eb_8ff2_5800e3972554row5_col5,#T_8470b8b5_a1f3_11eb_8ff2_5800e3972554row5_col6,#T_8470b8b5_a1f3_11eb_8ff2_5800e3972554row6_col0,#T_8470b8b5_a1f3_11eb_8ff2_5800e3972554row6_col1,#T_8470b8b5_a1f3_11eb_8ff2_5800e3972554row6_col2,#T_8470b8b5_a1f3_11eb_8ff2_5800e3972554row6_col3,#T_8470b8b5_a1f3_11eb_8ff2_5800e3972554row6_col4,#T_8470b8b5_a1f3_11eb_8ff2_5800e3972554row6_col5,#T_8470b8b5_a1f3_11eb_8ff2_5800e3972554row6_col6,#T_8470b8b5_a1f3_11eb_8ff2_5800e3972554row7_col0,#T_8470b8b5_a1f3_11eb_8ff2_5800e3972554row7_col1,#T_8470b8b5_a1f3_11eb_8ff2_5800e3972554row7_col2,#T_8470b8b5_a1f3_11eb_8ff2_5800e3972554row7_col3,#T_8470b8b5_a1f3_11eb_8ff2_5800e3972554row7_col4,#T_8470b8b5_a1f3_11eb_8ff2_5800e3972554row7_col5,#T_8470b8b5_a1f3_11eb_8ff2_5800e3972554row7_col6,#T_8470b8b5_a1f3_11eb_8ff2_5800e3972554row8_col0,#T_8470b8b5_a1f3_11eb_8ff2_5800e3972554row8_col1,#T_8470b8b5_a1f3_11eb_8ff2_5800e3972554row8_col2,#T_8470b8b5_a1f3_11eb_8ff2_5800e3972554row8_col3,#T_8470b8b5_a1f3_11eb_8ff2_5800e3972554row8_col4,#T_8470b8b5_a1f3_11eb_8ff2_5800e3972554row8_col5,#T_8470b8b5_a1f3_11eb_8ff2_5800e3972554row8_col6,#T_8470b8b5_a1f3_11eb_8ff2_5800e3972554row9_col0,#T_8470b8b5_a1f3_11eb_8ff2_5800e3972554row9_col1,#T_8470b8b5_a1f3_11eb_8ff2_5800e3972554row9_col2,#T_8470b8b5_a1f3_11eb_8ff2_5800e3972554row9_col3,#T_8470b8b5_a1f3_11eb_8ff2_5800e3972554row9_col4,#T_8470b8b5_a1f3_11eb_8ff2_5800e3972554row9_col5,#T_8470b8b5_a1f3_11eb_8ff2_5800e3972554row9_col6,#T_8470b8b5_a1f3_11eb_8ff2_5800e3972554row10_col0,#T_8470b8b5_a1f3_11eb_8ff2_5800e3972554row10_col1,#T_8470b8b5_a1f3_11eb_8ff2_5800e3972554row10_col2,#T_8470b8b5_a1f3_11eb_8ff2_5800e3972554row10_col3,#T_8470b8b5_a1f3_11eb_8ff2_5800e3972554row10_col4,#T_8470b8b5_a1f3_11eb_8ff2_5800e3972554row10_col5,#T_8470b8b5_a1f3_11eb_8ff2_5800e3972554row10_col6,#T_8470b8b5_a1f3_11eb_8ff2_5800e3972554row11_col0,#T_8470b8b5_a1f3_11eb_8ff2_5800e3972554row11_col1,#T_8470b8b5_a1f3_11eb_8ff2_5800e3972554row11_col2,#T_8470b8b5_a1f3_11eb_8ff2_5800e3972554row11_col3,#T_8470b8b5_a1f3_11eb_8ff2_5800e3972554row11_col4,#T_8470b8b5_a1f3_11eb_8ff2_5800e3972554row11_col5,#T_8470b8b5_a1f3_11eb_8ff2_5800e3972554row11_col6,#T_8470b8b5_a1f3_11eb_8ff2_5800e3972554row12_col0,#T_8470b8b5_a1f3_11eb_8ff2_5800e3972554row12_col1,#T_8470b8b5_a1f3_11eb_8ff2_5800e3972554row12_col2,#T_8470b8b5_a1f3_11eb_8ff2_5800e3972554row12_col3,#T_8470b8b5_a1f3_11eb_8ff2_5800e3972554row12_col4,#T_8470b8b5_a1f3_11eb_8ff2_5800e3972554row12_col5,#T_8470b8b5_a1f3_11eb_8ff2_5800e3972554row12_col6,#T_8470b8b5_a1f3_11eb_8ff2_5800e3972554row13_col0,#T_8470b8b5_a1f3_11eb_8ff2_5800e3972554row13_col1,#T_8470b8b5_a1f3_11eb_8ff2_5800e3972554row13_col2,#T_8470b8b5_a1f3_11eb_8ff2_5800e3972554row13_col3,#T_8470b8b5_a1f3_11eb_8ff2_5800e3972554row13_col4,#T_8470b8b5_a1f3_11eb_8ff2_5800e3972554row13_col5,#T_8470b8b5_a1f3_11eb_8ff2_5800e3972554row13_col6,#T_8470b8b5_a1f3_11eb_8ff2_5800e3972554row14_col0,#T_8470b8b5_a1f3_11eb_8ff2_5800e3972554row14_col1,#T_8470b8b5_a1f3_11eb_8ff2_5800e3972554row14_col2,#T_8470b8b5_a1f3_11eb_8ff2_5800e3972554row14_col3,#T_8470b8b5_a1f3_11eb_8ff2_5800e3972554row14_col4,#T_8470b8b5_a1f3_11eb_8ff2_5800e3972554row14_col5,#T_8470b8b5_a1f3_11eb_8ff2_5800e3972554row14_col6,#T_8470b8b5_a1f3_11eb_8ff2_5800e3972554row15_col0,#T_8470b8b5_a1f3_11eb_8ff2_5800e3972554row15_col1,#T_8470b8b5_a1f3_11eb_8ff2_5800e3972554row15_col2,#T_8470b8b5_a1f3_11eb_8ff2_5800e3972554row15_col3,#T_8470b8b5_a1f3_11eb_8ff2_5800e3972554row15_col4,#T_8470b8b5_a1f3_11eb_8ff2_5800e3972554row15_col5,#T_8470b8b5_a1f3_11eb_8ff2_5800e3972554row15_col6,#T_8470b8b5_a1f3_11eb_8ff2_5800e3972554row16_col0,#T_8470b8b5_a1f3_11eb_8ff2_5800e3972554row16_col1,#T_8470b8b5_a1f3_11eb_8ff2_5800e3972554row16_col2,#T_8470b8b5_a1f3_11eb_8ff2_5800e3972554row16_col3,#T_8470b8b5_a1f3_11eb_8ff2_5800e3972554row16_col4,#T_8470b8b5_a1f3_11eb_8ff2_5800e3972554row16_col5,#T_8470b8b5_a1f3_11eb_8ff2_5800e3972554row16_col6,#T_8470b8b5_a1f3_11eb_8ff2_5800e3972554row17_col0,#T_8470b8b5_a1f3_11eb_8ff2_5800e3972554row17_col1,#T_8470b8b5_a1f3_11eb_8ff2_5800e3972554row17_col2,#T_8470b8b5_a1f3_11eb_8ff2_5800e3972554row17_col3,#T_8470b8b5_a1f3_11eb_8ff2_5800e3972554row17_col4,#T_8470b8b5_a1f3_11eb_8ff2_5800e3972554row17_col5,#T_8470b8b5_a1f3_11eb_8ff2_5800e3972554row17_col6{\n",
       "            text-align:  left;\n",
       "            text-align:  left;\n",
       "        }#T_8470b8b5_a1f3_11eb_8ff2_5800e3972554row0_col2,#T_8470b8b5_a1f3_11eb_8ff2_5800e3972554row0_col3,#T_8470b8b5_a1f3_11eb_8ff2_5800e3972554row0_col4,#T_8470b8b5_a1f3_11eb_8ff2_5800e3972554row2_col5,#T_8470b8b5_a1f3_11eb_8ff2_5800e3972554row3_col1,#T_8470b8b5_a1f3_11eb_8ff2_5800e3972554row3_col6{\n",
       "            text-align:  left;\n",
       "            text-align:  left;\n",
       "            background-color:  yellow;\n",
       "        }#T_8470b8b5_a1f3_11eb_8ff2_5800e3972554row0_col7,#T_8470b8b5_a1f3_11eb_8ff2_5800e3972554row1_col7,#T_8470b8b5_a1f3_11eb_8ff2_5800e3972554row2_col7,#T_8470b8b5_a1f3_11eb_8ff2_5800e3972554row3_col7,#T_8470b8b5_a1f3_11eb_8ff2_5800e3972554row4_col7,#T_8470b8b5_a1f3_11eb_8ff2_5800e3972554row5_col7,#T_8470b8b5_a1f3_11eb_8ff2_5800e3972554row6_col7,#T_8470b8b5_a1f3_11eb_8ff2_5800e3972554row7_col7,#T_8470b8b5_a1f3_11eb_8ff2_5800e3972554row8_col7,#T_8470b8b5_a1f3_11eb_8ff2_5800e3972554row9_col7,#T_8470b8b5_a1f3_11eb_8ff2_5800e3972554row10_col7,#T_8470b8b5_a1f3_11eb_8ff2_5800e3972554row11_col7,#T_8470b8b5_a1f3_11eb_8ff2_5800e3972554row13_col7,#T_8470b8b5_a1f3_11eb_8ff2_5800e3972554row14_col7,#T_8470b8b5_a1f3_11eb_8ff2_5800e3972554row15_col7,#T_8470b8b5_a1f3_11eb_8ff2_5800e3972554row16_col7,#T_8470b8b5_a1f3_11eb_8ff2_5800e3972554row17_col7{\n",
       "            text-align:  left;\n",
       "            text-align:  left;\n",
       "            background-color:  lightgrey;\n",
       "        }#T_8470b8b5_a1f3_11eb_8ff2_5800e3972554row12_col7{\n",
       "            text-align:  left;\n",
       "            text-align:  left;\n",
       "            background-color:  yellow;\n",
       "            background-color:  lightgrey;\n",
       "        }</style><table id=\"T_8470b8b5_a1f3_11eb_8ff2_5800e3972554\" ><thead>    <tr>        <th class=\"blank level0\" ></th>        <th class=\"col_heading level0 col0\" >Model</th>        <th class=\"col_heading level0 col1\" >MAE</th>        <th class=\"col_heading level0 col2\" >MSE</th>        <th class=\"col_heading level0 col3\" >RMSE</th>        <th class=\"col_heading level0 col4\" >R2</th>        <th class=\"col_heading level0 col5\" >RMSLE</th>        <th class=\"col_heading level0 col6\" >MAPE</th>        <th class=\"col_heading level0 col7\" >TT (Sec)</th>    </tr></thead><tbody>\n",
       "                <tr>\n",
       "                        <th id=\"T_8470b8b5_a1f3_11eb_8ff2_5800e3972554level0_row0\" class=\"row_heading level0 row0\" >lightgbm</th>\n",
       "                        <td id=\"T_8470b8b5_a1f3_11eb_8ff2_5800e3972554row0_col0\" class=\"data row0 col0\" >Light Gradient Boosting Machine</td>\n",
       "                        <td id=\"T_8470b8b5_a1f3_11eb_8ff2_5800e3972554row0_col1\" class=\"data row0 col1\" >317.8772</td>\n",
       "                        <td id=\"T_8470b8b5_a1f3_11eb_8ff2_5800e3972554row0_col2\" class=\"data row0 col2\" >346497.2573</td>\n",
       "                        <td id=\"T_8470b8b5_a1f3_11eb_8ff2_5800e3972554row0_col3\" class=\"data row0 col3\" >587.7632</td>\n",
       "                        <td id=\"T_8470b8b5_a1f3_11eb_8ff2_5800e3972554row0_col4\" class=\"data row0 col4\" >0.9811</td>\n",
       "                        <td id=\"T_8470b8b5_a1f3_11eb_8ff2_5800e3972554row0_col5\" class=\"data row0 col5\" >0.1093</td>\n",
       "                        <td id=\"T_8470b8b5_a1f3_11eb_8ff2_5800e3972554row0_col6\" class=\"data row0 col6\" >0.0847</td>\n",
       "                        <td id=\"T_8470b8b5_a1f3_11eb_8ff2_5800e3972554row0_col7\" class=\"data row0 col7\" >0.4760</td>\n",
       "            </tr>\n",
       "            <tr>\n",
       "                        <th id=\"T_8470b8b5_a1f3_11eb_8ff2_5800e3972554level0_row1\" class=\"row_heading level0 row1\" >xgboost</th>\n",
       "                        <td id=\"T_8470b8b5_a1f3_11eb_8ff2_5800e3972554row1_col0\" class=\"data row1 col0\" >Extreme Gradient Boosting</td>\n",
       "                        <td id=\"T_8470b8b5_a1f3_11eb_8ff2_5800e3972554row1_col1\" class=\"data row1 col1\" >311.5082</td>\n",
       "                        <td id=\"T_8470b8b5_a1f3_11eb_8ff2_5800e3972554row1_col2\" class=\"data row1 col2\" >355883.6406</td>\n",
       "                        <td id=\"T_8470b8b5_a1f3_11eb_8ff2_5800e3972554row1_col3\" class=\"data row1 col3\" >595.8926</td>\n",
       "                        <td id=\"T_8470b8b5_a1f3_11eb_8ff2_5800e3972554row1_col4\" class=\"data row1 col4\" >0.9806</td>\n",
       "                        <td id=\"T_8470b8b5_a1f3_11eb_8ff2_5800e3972554row1_col5\" class=\"data row1 col5\" >0.0940</td>\n",
       "                        <td id=\"T_8470b8b5_a1f3_11eb_8ff2_5800e3972554row1_col6\" class=\"data row1 col6\" >0.0708</td>\n",
       "                        <td id=\"T_8470b8b5_a1f3_11eb_8ff2_5800e3972554row1_col7\" class=\"data row1 col7\" >1.5140</td>\n",
       "            </tr>\n",
       "            <tr>\n",
       "                        <th id=\"T_8470b8b5_a1f3_11eb_8ff2_5800e3972554level0_row2\" class=\"row_heading level0 row2\" >rf</th>\n",
       "                        <td id=\"T_8470b8b5_a1f3_11eb_8ff2_5800e3972554row2_col0\" class=\"data row2 col0\" >Random Forest Regressor</td>\n",
       "                        <td id=\"T_8470b8b5_a1f3_11eb_8ff2_5800e3972554row2_col1\" class=\"data row2 col1\" >307.0564</td>\n",
       "                        <td id=\"T_8470b8b5_a1f3_11eb_8ff2_5800e3972554row2_col2\" class=\"data row2 col2\" >362117.5153</td>\n",
       "                        <td id=\"T_8470b8b5_a1f3_11eb_8ff2_5800e3972554row2_col3\" class=\"data row2 col3\" >601.2460</td>\n",
       "                        <td id=\"T_8470b8b5_a1f3_11eb_8ff2_5800e3972554row2_col4\" class=\"data row2 col4\" >0.9802</td>\n",
       "                        <td id=\"T_8470b8b5_a1f3_11eb_8ff2_5800e3972554row2_col5\" class=\"data row2 col5\" >0.0895</td>\n",
       "                        <td id=\"T_8470b8b5_a1f3_11eb_8ff2_5800e3972554row2_col6\" class=\"data row2 col6\" >0.0645</td>\n",
       "                        <td id=\"T_8470b8b5_a1f3_11eb_8ff2_5800e3972554row2_col7\" class=\"data row2 col7\" >5.7620</td>\n",
       "            </tr>\n",
       "            <tr>\n",
       "                        <th id=\"T_8470b8b5_a1f3_11eb_8ff2_5800e3972554level0_row3\" class=\"row_heading level0 row3\" >et</th>\n",
       "                        <td id=\"T_8470b8b5_a1f3_11eb_8ff2_5800e3972554row3_col0\" class=\"data row3 col0\" >Extra Trees Regressor</td>\n",
       "                        <td id=\"T_8470b8b5_a1f3_11eb_8ff2_5800e3972554row3_col1\" class=\"data row3 col1\" >303.1929</td>\n",
       "                        <td id=\"T_8470b8b5_a1f3_11eb_8ff2_5800e3972554row3_col2\" class=\"data row3 col2\" >366018.5408</td>\n",
       "                        <td id=\"T_8470b8b5_a1f3_11eb_8ff2_5800e3972554row3_col3\" class=\"data row3 col3\" >604.3555</td>\n",
       "                        <td id=\"T_8470b8b5_a1f3_11eb_8ff2_5800e3972554row3_col4\" class=\"data row3 col4\" >0.9800</td>\n",
       "                        <td id=\"T_8470b8b5_a1f3_11eb_8ff2_5800e3972554row3_col5\" class=\"data row3 col5\" >0.0896</td>\n",
       "                        <td id=\"T_8470b8b5_a1f3_11eb_8ff2_5800e3972554row3_col6\" class=\"data row3 col6\" >0.0639</td>\n",
       "                        <td id=\"T_8470b8b5_a1f3_11eb_8ff2_5800e3972554row3_col7\" class=\"data row3 col7\" >4.5590</td>\n",
       "            </tr>\n",
       "            <tr>\n",
       "                        <th id=\"T_8470b8b5_a1f3_11eb_8ff2_5800e3972554level0_row4\" class=\"row_heading level0 row4\" >gbr</th>\n",
       "                        <td id=\"T_8470b8b5_a1f3_11eb_8ff2_5800e3972554row4_col0\" class=\"data row4 col0\" >Gradient Boosting Regressor</td>\n",
       "                        <td id=\"T_8470b8b5_a1f3_11eb_8ff2_5800e3972554row4_col1\" class=\"data row4 col1\" >386.2608</td>\n",
       "                        <td id=\"T_8470b8b5_a1f3_11eb_8ff2_5800e3972554row4_col2\" class=\"data row4 col2\" >462119.9746</td>\n",
       "                        <td id=\"T_8470b8b5_a1f3_11eb_8ff2_5800e3972554row4_col3\" class=\"data row4 col3\" >679.2389</td>\n",
       "                        <td id=\"T_8470b8b5_a1f3_11eb_8ff2_5800e3972554row4_col4\" class=\"data row4 col4\" >0.9748</td>\n",
       "                        <td id=\"T_8470b8b5_a1f3_11eb_8ff2_5800e3972554row4_col5\" class=\"data row4 col5\" >0.1619</td>\n",
       "                        <td id=\"T_8470b8b5_a1f3_11eb_8ff2_5800e3972554row4_col6\" class=\"data row4 col6\" >0.1110</td>\n",
       "                        <td id=\"T_8470b8b5_a1f3_11eb_8ff2_5800e3972554row4_col7\" class=\"data row4 col7\" >1.7260</td>\n",
       "            </tr>\n",
       "            <tr>\n",
       "                        <th id=\"T_8470b8b5_a1f3_11eb_8ff2_5800e3972554level0_row5\" class=\"row_heading level0 row5\" >dt</th>\n",
       "                        <td id=\"T_8470b8b5_a1f3_11eb_8ff2_5800e3972554row5_col0\" class=\"data row5 col0\" >Decision Tree Regressor</td>\n",
       "                        <td id=\"T_8470b8b5_a1f3_11eb_8ff2_5800e3972554row5_col1\" class=\"data row5 col1\" >409.7213</td>\n",
       "                        <td id=\"T_8470b8b5_a1f3_11eb_8ff2_5800e3972554row5_col2\" class=\"data row5 col2\" >678273.4670</td>\n",
       "                        <td id=\"T_8470b8b5_a1f3_11eb_8ff2_5800e3972554row5_col3\" class=\"data row5 col3\" >823.3485</td>\n",
       "                        <td id=\"T_8470b8b5_a1f3_11eb_8ff2_5800e3972554row5_col4\" class=\"data row5 col4\" >0.9630</td>\n",
       "                        <td id=\"T_8470b8b5_a1f3_11eb_8ff2_5800e3972554row5_col5\" class=\"data row5 col5\" >0.1230</td>\n",
       "                        <td id=\"T_8470b8b5_a1f3_11eb_8ff2_5800e3972554row5_col6\" class=\"data row5 col6\" >0.0842</td>\n",
       "                        <td id=\"T_8470b8b5_a1f3_11eb_8ff2_5800e3972554row5_col7\" class=\"data row5 col7\" >0.1730</td>\n",
       "            </tr>\n",
       "            <tr>\n",
       "                        <th id=\"T_8470b8b5_a1f3_11eb_8ff2_5800e3972554level0_row6\" class=\"row_heading level0 row6\" >knn</th>\n",
       "                        <td id=\"T_8470b8b5_a1f3_11eb_8ff2_5800e3972554row6_col0\" class=\"data row6 col0\" >K Neighbors Regressor</td>\n",
       "                        <td id=\"T_8470b8b5_a1f3_11eb_8ff2_5800e3972554row6_col1\" class=\"data row6 col1\" >548.8212</td>\n",
       "                        <td id=\"T_8470b8b5_a1f3_11eb_8ff2_5800e3972554row6_col2\" class=\"data row6 col2\" >990728.3812</td>\n",
       "                        <td id=\"T_8470b8b5_a1f3_11eb_8ff2_5800e3972554row6_col3\" class=\"data row6 col3\" >994.5999</td>\n",
       "                        <td id=\"T_8470b8b5_a1f3_11eb_8ff2_5800e3972554row6_col4\" class=\"data row6 col4\" >0.9460</td>\n",
       "                        <td id=\"T_8470b8b5_a1f3_11eb_8ff2_5800e3972554row6_col5\" class=\"data row6 col5\" >0.1807</td>\n",
       "                        <td id=\"T_8470b8b5_a1f3_11eb_8ff2_5800e3972554row6_col6\" class=\"data row6 col6\" >0.1386</td>\n",
       "                        <td id=\"T_8470b8b5_a1f3_11eb_8ff2_5800e3972554row6_col7\" class=\"data row6 col7\" >0.2010</td>\n",
       "            </tr>\n",
       "            <tr>\n",
       "                        <th id=\"T_8470b8b5_a1f3_11eb_8ff2_5800e3972554level0_row7\" class=\"row_heading level0 row7\" >ada</th>\n",
       "                        <td id=\"T_8470b8b5_a1f3_11eb_8ff2_5800e3972554row7_col0\" class=\"data row7 col0\" >AdaBoost Regressor</td>\n",
       "                        <td id=\"T_8470b8b5_a1f3_11eb_8ff2_5800e3972554row7_col1\" class=\"data row7 col1\" >850.6413</td>\n",
       "                        <td id=\"T_8470b8b5_a1f3_11eb_8ff2_5800e3972554row7_col2\" class=\"data row7 col2\" >1476602.8734</td>\n",
       "                        <td id=\"T_8470b8b5_a1f3_11eb_8ff2_5800e3972554row7_col3\" class=\"data row7 col3\" >1214.5504</td>\n",
       "                        <td id=\"T_8470b8b5_a1f3_11eb_8ff2_5800e3972554row7_col4\" class=\"data row7 col4\" >0.9194</td>\n",
       "                        <td id=\"T_8470b8b5_a1f3_11eb_8ff2_5800e3972554row7_col5\" class=\"data row7 col5\" >0.3178</td>\n",
       "                        <td id=\"T_8470b8b5_a1f3_11eb_8ff2_5800e3972554row7_col6\" class=\"data row7 col6\" >0.2996</td>\n",
       "                        <td id=\"T_8470b8b5_a1f3_11eb_8ff2_5800e3972554row7_col7\" class=\"data row7 col7\" >1.1740</td>\n",
       "            </tr>\n",
       "            <tr>\n",
       "                        <th id=\"T_8470b8b5_a1f3_11eb_8ff2_5800e3972554level0_row8\" class=\"row_heading level0 row8\" >lasso</th>\n",
       "                        <td id=\"T_8470b8b5_a1f3_11eb_8ff2_5800e3972554row8_col0\" class=\"data row8 col0\" >Lasso Regression</td>\n",
       "                        <td id=\"T_8470b8b5_a1f3_11eb_8ff2_5800e3972554row8_col1\" class=\"data row8 col1\" >909.8679</td>\n",
       "                        <td id=\"T_8470b8b5_a1f3_11eb_8ff2_5800e3972554row8_col2\" class=\"data row8 col2\" >1738813.0000</td>\n",
       "                        <td id=\"T_8470b8b5_a1f3_11eb_8ff2_5800e3972554row8_col3\" class=\"data row8 col3\" >1318.1722</td>\n",
       "                        <td id=\"T_8470b8b5_a1f3_11eb_8ff2_5800e3972554row8_col4\" class=\"data row8 col4\" >0.9050</td>\n",
       "                        <td id=\"T_8470b8b5_a1f3_11eb_8ff2_5800e3972554row8_col5\" class=\"data row8 col5\" >0.7104</td>\n",
       "                        <td id=\"T_8470b8b5_a1f3_11eb_8ff2_5800e3972554row8_col6\" class=\"data row8 col6\" >0.4911</td>\n",
       "                        <td id=\"T_8470b8b5_a1f3_11eb_8ff2_5800e3972554row8_col7\" class=\"data row8 col7\" >0.1760</td>\n",
       "            </tr>\n",
       "            <tr>\n",
       "                        <th id=\"T_8470b8b5_a1f3_11eb_8ff2_5800e3972554level0_row9\" class=\"row_heading level0 row9\" >lr</th>\n",
       "                        <td id=\"T_8470b8b5_a1f3_11eb_8ff2_5800e3972554row9_col0\" class=\"data row9 col0\" >Linear Regression</td>\n",
       "                        <td id=\"T_8470b8b5_a1f3_11eb_8ff2_5800e3972554row9_col1\" class=\"data row9 col1\" >909.1101</td>\n",
       "                        <td id=\"T_8470b8b5_a1f3_11eb_8ff2_5800e3972554row9_col2\" class=\"data row9 col2\" >1740642.6375</td>\n",
       "                        <td id=\"T_8470b8b5_a1f3_11eb_8ff2_5800e3972554row9_col3\" class=\"data row9 col3\" >1318.7160</td>\n",
       "                        <td id=\"T_8470b8b5_a1f3_11eb_8ff2_5800e3972554row9_col4\" class=\"data row9 col4\" >0.9049</td>\n",
       "                        <td id=\"T_8470b8b5_a1f3_11eb_8ff2_5800e3972554row9_col5\" class=\"data row9 col5\" >0.7120</td>\n",
       "                        <td id=\"T_8470b8b5_a1f3_11eb_8ff2_5800e3972554row9_col6\" class=\"data row9 col6\" >0.4912</td>\n",
       "                        <td id=\"T_8470b8b5_a1f3_11eb_8ff2_5800e3972554row9_col7\" class=\"data row9 col7\" >0.9710</td>\n",
       "            </tr>\n",
       "            <tr>\n",
       "                        <th id=\"T_8470b8b5_a1f3_11eb_8ff2_5800e3972554level0_row10\" class=\"row_heading level0 row10\" >br</th>\n",
       "                        <td id=\"T_8470b8b5_a1f3_11eb_8ff2_5800e3972554row10_col0\" class=\"data row10 col0\" >Bayesian Ridge</td>\n",
       "                        <td id=\"T_8470b8b5_a1f3_11eb_8ff2_5800e3972554row10_col1\" class=\"data row10 col1\" >909.1552</td>\n",
       "                        <td id=\"T_8470b8b5_a1f3_11eb_8ff2_5800e3972554row10_col2\" class=\"data row10 col2\" >1740611.6832</td>\n",
       "                        <td id=\"T_8470b8b5_a1f3_11eb_8ff2_5800e3972554row10_col3\" class=\"data row10 col3\" >1318.7064</td>\n",
       "                        <td id=\"T_8470b8b5_a1f3_11eb_8ff2_5800e3972554row10_col4\" class=\"data row10 col4\" >0.9049</td>\n",
       "                        <td id=\"T_8470b8b5_a1f3_11eb_8ff2_5800e3972554row10_col5\" class=\"data row10 col5\" >0.7119</td>\n",
       "                        <td id=\"T_8470b8b5_a1f3_11eb_8ff2_5800e3972554row10_col6\" class=\"data row10 col6\" >0.4912</td>\n",
       "                        <td id=\"T_8470b8b5_a1f3_11eb_8ff2_5800e3972554row10_col7\" class=\"data row10 col7\" >0.0470</td>\n",
       "            </tr>\n",
       "            <tr>\n",
       "                        <th id=\"T_8470b8b5_a1f3_11eb_8ff2_5800e3972554level0_row11\" class=\"row_heading level0 row11\" >ridge</th>\n",
       "                        <td id=\"T_8470b8b5_a1f3_11eb_8ff2_5800e3972554row11_col0\" class=\"data row11 col0\" >Ridge Regression</td>\n",
       "                        <td id=\"T_8470b8b5_a1f3_11eb_8ff2_5800e3972554row11_col1\" class=\"data row11 col1\" >909.4585</td>\n",
       "                        <td id=\"T_8470b8b5_a1f3_11eb_8ff2_5800e3972554row11_col2\" class=\"data row11 col2\" >1740349.1500</td>\n",
       "                        <td id=\"T_8470b8b5_a1f3_11eb_8ff2_5800e3972554row11_col3\" class=\"data row11 col3\" >1318.6220</td>\n",
       "                        <td id=\"T_8470b8b5_a1f3_11eb_8ff2_5800e3972554row11_col4\" class=\"data row11 col4\" >0.9049</td>\n",
       "                        <td id=\"T_8470b8b5_a1f3_11eb_8ff2_5800e3972554row11_col5\" class=\"data row11 col5\" >0.7110</td>\n",
       "                        <td id=\"T_8470b8b5_a1f3_11eb_8ff2_5800e3972554row11_col6\" class=\"data row11 col6\" >0.4914</td>\n",
       "                        <td id=\"T_8470b8b5_a1f3_11eb_8ff2_5800e3972554row11_col7\" class=\"data row11 col7\" >0.0270</td>\n",
       "            </tr>\n",
       "            <tr>\n",
       "                        <th id=\"T_8470b8b5_a1f3_11eb_8ff2_5800e3972554level0_row12\" class=\"row_heading level0 row12\" >lar</th>\n",
       "                        <td id=\"T_8470b8b5_a1f3_11eb_8ff2_5800e3972554row12_col0\" class=\"data row12 col0\" >Least Angle Regression</td>\n",
       "                        <td id=\"T_8470b8b5_a1f3_11eb_8ff2_5800e3972554row12_col1\" class=\"data row12 col1\" >909.1109</td>\n",
       "                        <td id=\"T_8470b8b5_a1f3_11eb_8ff2_5800e3972554row12_col2\" class=\"data row12 col2\" >1740644.8609</td>\n",
       "                        <td id=\"T_8470b8b5_a1f3_11eb_8ff2_5800e3972554row12_col3\" class=\"data row12 col3\" >1318.7168</td>\n",
       "                        <td id=\"T_8470b8b5_a1f3_11eb_8ff2_5800e3972554row12_col4\" class=\"data row12 col4\" >0.9049</td>\n",
       "                        <td id=\"T_8470b8b5_a1f3_11eb_8ff2_5800e3972554row12_col5\" class=\"data row12 col5\" >0.7120</td>\n",
       "                        <td id=\"T_8470b8b5_a1f3_11eb_8ff2_5800e3972554row12_col6\" class=\"data row12 col6\" >0.4912</td>\n",
       "                        <td id=\"T_8470b8b5_a1f3_11eb_8ff2_5800e3972554row12_col7\" class=\"data row12 col7\" >0.0180</td>\n",
       "            </tr>\n",
       "            <tr>\n",
       "                        <th id=\"T_8470b8b5_a1f3_11eb_8ff2_5800e3972554level0_row13\" class=\"row_heading level0 row13\" >huber</th>\n",
       "                        <td id=\"T_8470b8b5_a1f3_11eb_8ff2_5800e3972554row13_col0\" class=\"data row13 col0\" >Huber Regressor</td>\n",
       "                        <td id=\"T_8470b8b5_a1f3_11eb_8ff2_5800e3972554row13_col1\" class=\"data row13 col1\" >857.7210</td>\n",
       "                        <td id=\"T_8470b8b5_a1f3_11eb_8ff2_5800e3972554row13_col2\" class=\"data row13 col2\" >1960437.5412</td>\n",
       "                        <td id=\"T_8470b8b5_a1f3_11eb_8ff2_5800e3972554row13_col3\" class=\"data row13 col3\" >1399.7822</td>\n",
       "                        <td id=\"T_8470b8b5_a1f3_11eb_8ff2_5800e3972554row13_col4\" class=\"data row13 col4\" >0.8930</td>\n",
       "                        <td id=\"T_8470b8b5_a1f3_11eb_8ff2_5800e3972554row13_col5\" class=\"data row13 col5\" >0.5885</td>\n",
       "                        <td id=\"T_8470b8b5_a1f3_11eb_8ff2_5800e3972554row13_col6\" class=\"data row13 col6\" >0.3399</td>\n",
       "                        <td id=\"T_8470b8b5_a1f3_11eb_8ff2_5800e3972554row13_col7\" class=\"data row13 col7\" >0.6240</td>\n",
       "            </tr>\n",
       "            <tr>\n",
       "                        <th id=\"T_8470b8b5_a1f3_11eb_8ff2_5800e3972554level0_row14\" class=\"row_heading level0 row14\" >par</th>\n",
       "                        <td id=\"T_8470b8b5_a1f3_11eb_8ff2_5800e3972554row14_col0\" class=\"data row14 col0\" >Passive Aggressive Regressor</td>\n",
       "                        <td id=\"T_8470b8b5_a1f3_11eb_8ff2_5800e3972554row14_col1\" class=\"data row14 col1\" >1016.9821</td>\n",
       "                        <td id=\"T_8470b8b5_a1f3_11eb_8ff2_5800e3972554row14_col2\" class=\"data row14 col2\" >1966322.3427</td>\n",
       "                        <td id=\"T_8470b8b5_a1f3_11eb_8ff2_5800e3972554row14_col3\" class=\"data row14 col3\" >1400.6173</td>\n",
       "                        <td id=\"T_8470b8b5_a1f3_11eb_8ff2_5800e3972554row14_col4\" class=\"data row14 col4\" >0.8925</td>\n",
       "                        <td id=\"T_8470b8b5_a1f3_11eb_8ff2_5800e3972554row14_col5\" class=\"data row14 col5\" >0.6751</td>\n",
       "                        <td id=\"T_8470b8b5_a1f3_11eb_8ff2_5800e3972554row14_col6\" class=\"data row14 col6\" >0.5410</td>\n",
       "                        <td id=\"T_8470b8b5_a1f3_11eb_8ff2_5800e3972554row14_col7\" class=\"data row14 col7\" >0.1520</td>\n",
       "            </tr>\n",
       "            <tr>\n",
       "                        <th id=\"T_8470b8b5_a1f3_11eb_8ff2_5800e3972554level0_row15\" class=\"row_heading level0 row15\" >llar</th>\n",
       "                        <td id=\"T_8470b8b5_a1f3_11eb_8ff2_5800e3972554row15_col0\" class=\"data row15 col0\" >Lasso Least Angle Regression</td>\n",
       "                        <td id=\"T_8470b8b5_a1f3_11eb_8ff2_5800e3972554row15_col1\" class=\"data row15 col1\" >916.6245</td>\n",
       "                        <td id=\"T_8470b8b5_a1f3_11eb_8ff2_5800e3972554row15_col2\" class=\"data row15 col2\" >1971791.8947</td>\n",
       "                        <td id=\"T_8470b8b5_a1f3_11eb_8ff2_5800e3972554row15_col3\" class=\"data row15 col3\" >1403.9234</td>\n",
       "                        <td id=\"T_8470b8b5_a1f3_11eb_8ff2_5800e3972554row15_col4\" class=\"data row15 col4\" >0.8924</td>\n",
       "                        <td id=\"T_8470b8b5_a1f3_11eb_8ff2_5800e3972554row15_col5\" class=\"data row15 col5\" >0.5729</td>\n",
       "                        <td id=\"T_8470b8b5_a1f3_11eb_8ff2_5800e3972554row15_col6\" class=\"data row15 col6\" >0.3571</td>\n",
       "                        <td id=\"T_8470b8b5_a1f3_11eb_8ff2_5800e3972554row15_col7\" class=\"data row15 col7\" >0.0290</td>\n",
       "            </tr>\n",
       "            <tr>\n",
       "                        <th id=\"T_8470b8b5_a1f3_11eb_8ff2_5800e3972554level0_row16\" class=\"row_heading level0 row16\" >omp</th>\n",
       "                        <td id=\"T_8470b8b5_a1f3_11eb_8ff2_5800e3972554row16_col0\" class=\"data row16 col0\" >Orthogonal Matching Pursuit</td>\n",
       "                        <td id=\"T_8470b8b5_a1f3_11eb_8ff2_5800e3972554row16_col1\" class=\"data row16 col1\" >1086.5308</td>\n",
       "                        <td id=\"T_8470b8b5_a1f3_11eb_8ff2_5800e3972554row16_col2\" class=\"data row16 col2\" >2770180.5108</td>\n",
       "                        <td id=\"T_8470b8b5_a1f3_11eb_8ff2_5800e3972554row16_col3\" class=\"data row16 col3\" >1664.0443</td>\n",
       "                        <td id=\"T_8470b8b5_a1f3_11eb_8ff2_5800e3972554row16_col4\" class=\"data row16 col4\" >0.8488</td>\n",
       "                        <td id=\"T_8470b8b5_a1f3_11eb_8ff2_5800e3972554row16_col5\" class=\"data row16 col5\" >0.5823</td>\n",
       "                        <td id=\"T_8470b8b5_a1f3_11eb_8ff2_5800e3972554row16_col6\" class=\"data row16 col6\" >0.3544</td>\n",
       "                        <td id=\"T_8470b8b5_a1f3_11eb_8ff2_5800e3972554row16_col7\" class=\"data row16 col7\" >0.0280</td>\n",
       "            </tr>\n",
       "            <tr>\n",
       "                        <th id=\"T_8470b8b5_a1f3_11eb_8ff2_5800e3972554level0_row17\" class=\"row_heading level0 row17\" >en</th>\n",
       "                        <td id=\"T_8470b8b5_a1f3_11eb_8ff2_5800e3972554row17_col0\" class=\"data row17 col0\" >Elastic Net</td>\n",
       "                        <td id=\"T_8470b8b5_a1f3_11eb_8ff2_5800e3972554row17_col1\" class=\"data row17 col1\" >1201.7641</td>\n",
       "                        <td id=\"T_8470b8b5_a1f3_11eb_8ff2_5800e3972554row17_col2\" class=\"data row17 col2\" >3202386.9750</td>\n",
       "                        <td id=\"T_8470b8b5_a1f3_11eb_8ff2_5800e3972554row17_col3\" class=\"data row17 col3\" >1788.6351</td>\n",
       "                        <td id=\"T_8470b8b5_a1f3_11eb_8ff2_5800e3972554row17_col4\" class=\"data row17 col4\" >0.8253</td>\n",
       "                        <td id=\"T_8470b8b5_a1f3_11eb_8ff2_5800e3972554row17_col5\" class=\"data row17 col5\" >0.5955</td>\n",
       "                        <td id=\"T_8470b8b5_a1f3_11eb_8ff2_5800e3972554row17_col6\" class=\"data row17 col6\" >0.4320</td>\n",
       "                        <td id=\"T_8470b8b5_a1f3_11eb_8ff2_5800e3972554row17_col7\" class=\"data row17 col7\" >0.0290</td>\n",
       "            </tr>\n",
       "    </tbody></table>"
      ],
      "text/plain": [
       "<pandas.io.formats.style.Styler at 0x1807722a220>"
      ]
     },
     "metadata": {},
     "output_type": "display_data"
    },
    {
     "data": {
      "text/plain": [
       "LGBMRegressor(boosting_type='gbdt', class_weight=None, colsample_bytree=1.0,\n",
       "              importance_type='split', learning_rate=0.1, max_depth=-1,\n",
       "              min_child_samples=20, min_child_weight=0.001, min_split_gain=0.0,\n",
       "              n_estimators=100, n_jobs=-1, num_leaves=31, objective=None,\n",
       "              random_state=123, reg_alpha=0.0, reg_lambda=0.0, silent=True,\n",
       "              subsample=1.0, subsample_for_bin=200000, subsample_freq=0)"
      ]
     },
     "execution_count": 44,
     "metadata": {},
     "output_type": "execute_result"
    }
   ],
   "source": [
    "compare_models()"
   ]
  },
  {
   "cell_type": "markdown",
   "metadata": {},
   "source": [
    "You can see, that compare_models() gives us a list of all models with their metrics. In this case, we are looking for the RMSE so we will stick with the `LightGBM`. It also has the best `R2` score, an aspect to take into account.\n",
    "\n",
    "More information about `LightGBM` [here](https://lightgbm.readthedocs.io/en/latest/)."
   ]
  },
  {
   "cell_type": "markdown",
   "metadata": {},
   "source": [
    "Once we have selected the model we want to use, we create the model using the `create_model` function and assign it to a variable."
   ]
  },
  {
   "cell_type": "code",
   "execution_count": 45,
   "metadata": {},
   "outputs": [
    {
     "data": {
      "text/html": [
       "<style  type=\"text/css\" >\n",
       "#T_8693b436_a1f3_11eb_984f_5800e3972554row10_col0,#T_8693b436_a1f3_11eb_984f_5800e3972554row10_col1,#T_8693b436_a1f3_11eb_984f_5800e3972554row10_col2,#T_8693b436_a1f3_11eb_984f_5800e3972554row10_col3,#T_8693b436_a1f3_11eb_984f_5800e3972554row10_col4,#T_8693b436_a1f3_11eb_984f_5800e3972554row10_col5{\n",
       "            background:  yellow;\n",
       "        }</style><table id=\"T_8693b436_a1f3_11eb_984f_5800e3972554\" ><thead>    <tr>        <th class=\"blank level0\" ></th>        <th class=\"col_heading level0 col0\" >MAE</th>        <th class=\"col_heading level0 col1\" >MSE</th>        <th class=\"col_heading level0 col2\" >RMSE</th>        <th class=\"col_heading level0 col3\" >R2</th>        <th class=\"col_heading level0 col4\" >RMSLE</th>        <th class=\"col_heading level0 col5\" >MAPE</th>    </tr></thead><tbody>\n",
       "                <tr>\n",
       "                        <th id=\"T_8693b436_a1f3_11eb_984f_5800e3972554level0_row0\" class=\"row_heading level0 row0\" >0</th>\n",
       "                        <td id=\"T_8693b436_a1f3_11eb_984f_5800e3972554row0_col0\" class=\"data row0 col0\" >307.2452</td>\n",
       "                        <td id=\"T_8693b436_a1f3_11eb_984f_5800e3972554row0_col1\" class=\"data row0 col1\" >294976.0477</td>\n",
       "                        <td id=\"T_8693b436_a1f3_11eb_984f_5800e3972554row0_col2\" class=\"data row0 col2\" >543.1170</td>\n",
       "                        <td id=\"T_8693b436_a1f3_11eb_984f_5800e3972554row0_col3\" class=\"data row0 col3\" >0.9841</td>\n",
       "                        <td id=\"T_8693b436_a1f3_11eb_984f_5800e3972554row0_col4\" class=\"data row0 col4\" >0.1084</td>\n",
       "                        <td id=\"T_8693b436_a1f3_11eb_984f_5800e3972554row0_col5\" class=\"data row0 col5\" >0.0851</td>\n",
       "            </tr>\n",
       "            <tr>\n",
       "                        <th id=\"T_8693b436_a1f3_11eb_984f_5800e3972554level0_row1\" class=\"row_heading level0 row1\" >1</th>\n",
       "                        <td id=\"T_8693b436_a1f3_11eb_984f_5800e3972554row1_col0\" class=\"data row1 col0\" >320.2320</td>\n",
       "                        <td id=\"T_8693b436_a1f3_11eb_984f_5800e3972554row1_col1\" class=\"data row1 col1\" >335828.5261</td>\n",
       "                        <td id=\"T_8693b436_a1f3_11eb_984f_5800e3972554row1_col2\" class=\"data row1 col2\" >579.5071</td>\n",
       "                        <td id=\"T_8693b436_a1f3_11eb_984f_5800e3972554row1_col3\" class=\"data row1 col3\" >0.9825</td>\n",
       "                        <td id=\"T_8693b436_a1f3_11eb_984f_5800e3972554row1_col4\" class=\"data row1 col4\" >0.1083</td>\n",
       "                        <td id=\"T_8693b436_a1f3_11eb_984f_5800e3972554row1_col5\" class=\"data row1 col5\" >0.0847</td>\n",
       "            </tr>\n",
       "            <tr>\n",
       "                        <th id=\"T_8693b436_a1f3_11eb_984f_5800e3972554level0_row2\" class=\"row_heading level0 row2\" >2</th>\n",
       "                        <td id=\"T_8693b436_a1f3_11eb_984f_5800e3972554row2_col0\" class=\"data row2 col0\" >321.1319</td>\n",
       "                        <td id=\"T_8693b436_a1f3_11eb_984f_5800e3972554row2_col1\" class=\"data row2 col1\" >336827.4491</td>\n",
       "                        <td id=\"T_8693b436_a1f3_11eb_984f_5800e3972554row2_col2\" class=\"data row2 col2\" >580.3684</td>\n",
       "                        <td id=\"T_8693b436_a1f3_11eb_984f_5800e3972554row2_col3\" class=\"data row2 col3\" >0.9819</td>\n",
       "                        <td id=\"T_8693b436_a1f3_11eb_984f_5800e3972554row2_col4\" class=\"data row2 col4\" >0.1098</td>\n",
       "                        <td id=\"T_8693b436_a1f3_11eb_984f_5800e3972554row2_col5\" class=\"data row2 col5\" >0.0852</td>\n",
       "            </tr>\n",
       "            <tr>\n",
       "                        <th id=\"T_8693b436_a1f3_11eb_984f_5800e3972554level0_row3\" class=\"row_heading level0 row3\" >3</th>\n",
       "                        <td id=\"T_8693b436_a1f3_11eb_984f_5800e3972554row3_col0\" class=\"data row3 col0\" >308.5142</td>\n",
       "                        <td id=\"T_8693b436_a1f3_11eb_984f_5800e3972554row3_col1\" class=\"data row3 col1\" >328650.3164</td>\n",
       "                        <td id=\"T_8693b436_a1f3_11eb_984f_5800e3972554row3_col2\" class=\"data row3 col2\" >573.2803</td>\n",
       "                        <td id=\"T_8693b436_a1f3_11eb_984f_5800e3972554row3_col3\" class=\"data row3 col3\" >0.9809</td>\n",
       "                        <td id=\"T_8693b436_a1f3_11eb_984f_5800e3972554row3_col4\" class=\"data row3 col4\" >0.1057</td>\n",
       "                        <td id=\"T_8693b436_a1f3_11eb_984f_5800e3972554row3_col5\" class=\"data row3 col5\" >0.0827</td>\n",
       "            </tr>\n",
       "            <tr>\n",
       "                        <th id=\"T_8693b436_a1f3_11eb_984f_5800e3972554level0_row4\" class=\"row_heading level0 row4\" >4</th>\n",
       "                        <td id=\"T_8693b436_a1f3_11eb_984f_5800e3972554row4_col0\" class=\"data row4 col0\" >325.9656</td>\n",
       "                        <td id=\"T_8693b436_a1f3_11eb_984f_5800e3972554row4_col1\" class=\"data row4 col1\" >404640.1982</td>\n",
       "                        <td id=\"T_8693b436_a1f3_11eb_984f_5800e3972554row4_col2\" class=\"data row4 col2\" >636.1134</td>\n",
       "                        <td id=\"T_8693b436_a1f3_11eb_984f_5800e3972554row4_col3\" class=\"data row4 col3\" >0.9773</td>\n",
       "                        <td id=\"T_8693b436_a1f3_11eb_984f_5800e3972554row4_col4\" class=\"data row4 col4\" >0.1089</td>\n",
       "                        <td id=\"T_8693b436_a1f3_11eb_984f_5800e3972554row4_col5\" class=\"data row4 col5\" >0.0838</td>\n",
       "            </tr>\n",
       "            <tr>\n",
       "                        <th id=\"T_8693b436_a1f3_11eb_984f_5800e3972554level0_row5\" class=\"row_heading level0 row5\" >5</th>\n",
       "                        <td id=\"T_8693b436_a1f3_11eb_984f_5800e3972554row5_col0\" class=\"data row5 col0\" >324.6827</td>\n",
       "                        <td id=\"T_8693b436_a1f3_11eb_984f_5800e3972554row5_col1\" class=\"data row5 col1\" >380648.6433</td>\n",
       "                        <td id=\"T_8693b436_a1f3_11eb_984f_5800e3972554row5_col2\" class=\"data row5 col2\" >616.9673</td>\n",
       "                        <td id=\"T_8693b436_a1f3_11eb_984f_5800e3972554row5_col3\" class=\"data row5 col3\" >0.9794</td>\n",
       "                        <td id=\"T_8693b436_a1f3_11eb_984f_5800e3972554row5_col4\" class=\"data row5 col4\" >0.1105</td>\n",
       "                        <td id=\"T_8693b436_a1f3_11eb_984f_5800e3972554row5_col5\" class=\"data row5 col5\" >0.0859</td>\n",
       "            </tr>\n",
       "            <tr>\n",
       "                        <th id=\"T_8693b436_a1f3_11eb_984f_5800e3972554level0_row6\" class=\"row_heading level0 row6\" >6</th>\n",
       "                        <td id=\"T_8693b436_a1f3_11eb_984f_5800e3972554row6_col0\" class=\"data row6 col0\" >318.1790</td>\n",
       "                        <td id=\"T_8693b436_a1f3_11eb_984f_5800e3972554row6_col1\" class=\"data row6 col1\" >339750.9557</td>\n",
       "                        <td id=\"T_8693b436_a1f3_11eb_984f_5800e3972554row6_col2\" class=\"data row6 col2\" >582.8816</td>\n",
       "                        <td id=\"T_8693b436_a1f3_11eb_984f_5800e3972554row6_col3\" class=\"data row6 col3\" >0.9816</td>\n",
       "                        <td id=\"T_8693b436_a1f3_11eb_984f_5800e3972554row6_col4\" class=\"data row6 col4\" >0.1097</td>\n",
       "                        <td id=\"T_8693b436_a1f3_11eb_984f_5800e3972554row6_col5\" class=\"data row6 col5\" >0.0847</td>\n",
       "            </tr>\n",
       "            <tr>\n",
       "                        <th id=\"T_8693b436_a1f3_11eb_984f_5800e3972554level0_row7\" class=\"row_heading level0 row7\" >7</th>\n",
       "                        <td id=\"T_8693b436_a1f3_11eb_984f_5800e3972554row7_col0\" class=\"data row7 col0\" >332.6402</td>\n",
       "                        <td id=\"T_8693b436_a1f3_11eb_984f_5800e3972554row7_col1\" class=\"data row7 col1\" >410294.3818</td>\n",
       "                        <td id=\"T_8693b436_a1f3_11eb_984f_5800e3972554row7_col2\" class=\"data row7 col2\" >640.5423</td>\n",
       "                        <td id=\"T_8693b436_a1f3_11eb_984f_5800e3972554row7_col3\" class=\"data row7 col3\" >0.9781</td>\n",
       "                        <td id=\"T_8693b436_a1f3_11eb_984f_5800e3972554row7_col4\" class=\"data row7 col4\" >0.1150</td>\n",
       "                        <td id=\"T_8693b436_a1f3_11eb_984f_5800e3972554row7_col5\" class=\"data row7 col5\" >0.0864</td>\n",
       "            </tr>\n",
       "            <tr>\n",
       "                        <th id=\"T_8693b436_a1f3_11eb_984f_5800e3972554level0_row8\" class=\"row_heading level0 row8\" >8</th>\n",
       "                        <td id=\"T_8693b436_a1f3_11eb_984f_5800e3972554row8_col0\" class=\"data row8 col0\" >316.2028</td>\n",
       "                        <td id=\"T_8693b436_a1f3_11eb_984f_5800e3972554row8_col1\" class=\"data row8 col1\" >337820.1570</td>\n",
       "                        <td id=\"T_8693b436_a1f3_11eb_984f_5800e3972554row8_col2\" class=\"data row8 col2\" >581.2230</td>\n",
       "                        <td id=\"T_8693b436_a1f3_11eb_984f_5800e3972554row8_col3\" class=\"data row8 col3\" >0.9815</td>\n",
       "                        <td id=\"T_8693b436_a1f3_11eb_984f_5800e3972554row8_col4\" class=\"data row8 col4\" >0.1112</td>\n",
       "                        <td id=\"T_8693b436_a1f3_11eb_984f_5800e3972554row8_col5\" class=\"data row8 col5\" >0.0856</td>\n",
       "            </tr>\n",
       "            <tr>\n",
       "                        <th id=\"T_8693b436_a1f3_11eb_984f_5800e3972554level0_row9\" class=\"row_heading level0 row9\" >9</th>\n",
       "                        <td id=\"T_8693b436_a1f3_11eb_984f_5800e3972554row9_col0\" class=\"data row9 col0\" >303.9783</td>\n",
       "                        <td id=\"T_8693b436_a1f3_11eb_984f_5800e3972554row9_col1\" class=\"data row9 col1\" >295535.8974</td>\n",
       "                        <td id=\"T_8693b436_a1f3_11eb_984f_5800e3972554row9_col2\" class=\"data row9 col2\" >543.6321</td>\n",
       "                        <td id=\"T_8693b436_a1f3_11eb_984f_5800e3972554row9_col3\" class=\"data row9 col3\" >0.9835</td>\n",
       "                        <td id=\"T_8693b436_a1f3_11eb_984f_5800e3972554row9_col4\" class=\"data row9 col4\" >0.1057</td>\n",
       "                        <td id=\"T_8693b436_a1f3_11eb_984f_5800e3972554row9_col5\" class=\"data row9 col5\" >0.0827</td>\n",
       "            </tr>\n",
       "            <tr>\n",
       "                        <th id=\"T_8693b436_a1f3_11eb_984f_5800e3972554level0_row10\" class=\"row_heading level0 row10\" >Mean</th>\n",
       "                        <td id=\"T_8693b436_a1f3_11eb_984f_5800e3972554row10_col0\" class=\"data row10 col0\" >317.8772</td>\n",
       "                        <td id=\"T_8693b436_a1f3_11eb_984f_5800e3972554row10_col1\" class=\"data row10 col1\" >346497.2573</td>\n",
       "                        <td id=\"T_8693b436_a1f3_11eb_984f_5800e3972554row10_col2\" class=\"data row10 col2\" >587.7632</td>\n",
       "                        <td id=\"T_8693b436_a1f3_11eb_984f_5800e3972554row10_col3\" class=\"data row10 col3\" >0.9811</td>\n",
       "                        <td id=\"T_8693b436_a1f3_11eb_984f_5800e3972554row10_col4\" class=\"data row10 col4\" >0.1093</td>\n",
       "                        <td id=\"T_8693b436_a1f3_11eb_984f_5800e3972554row10_col5\" class=\"data row10 col5\" >0.0847</td>\n",
       "            </tr>\n",
       "            <tr>\n",
       "                        <th id=\"T_8693b436_a1f3_11eb_984f_5800e3972554level0_row11\" class=\"row_heading level0 row11\" >SD</th>\n",
       "                        <td id=\"T_8693b436_a1f3_11eb_984f_5800e3972554row11_col0\" class=\"data row11 col0\" >8.6174</td>\n",
       "                        <td id=\"T_8693b436_a1f3_11eb_984f_5800e3972554row11_col1\" class=\"data row11 col1\" >38098.7297</td>\n",
       "                        <td id=\"T_8693b436_a1f3_11eb_984f_5800e3972554row11_col2\" class=\"data row11 col2\" >32.1190</td>\n",
       "                        <td id=\"T_8693b436_a1f3_11eb_984f_5800e3972554row11_col3\" class=\"data row11 col3\" >0.0021</td>\n",
       "                        <td id=\"T_8693b436_a1f3_11eb_984f_5800e3972554row11_col4\" class=\"data row11 col4\" >0.0026</td>\n",
       "                        <td id=\"T_8693b436_a1f3_11eb_984f_5800e3972554row11_col5\" class=\"data row11 col5\" >0.0012</td>\n",
       "            </tr>\n",
       "    </tbody></table>"
      ],
      "text/plain": [
       "<pandas.io.formats.style.Styler at 0x180770c29d0>"
      ]
     },
     "metadata": {},
     "output_type": "display_data"
    }
   ],
   "source": [
    "lgbm_reg = create_model(\"lightgbm\")"
   ]
  },
  {
   "cell_type": "markdown",
   "metadata": {},
   "source": [
    "We performed the model predictions."
   ]
  },
  {
   "cell_type": "markdown",
   "metadata": {},
   "source": [
    "To create the model, PyCaret performs splits of the DataFrame, using the `finalize_model` function we train the model with the entire DataFrame."
   ]
  },
  {
   "cell_type": "code",
   "execution_count": 46,
   "metadata": {},
   "outputs": [],
   "source": [
    "final_lgbm = finalize_model(lgbm_reg)"
   ]
  },
  {
   "cell_type": "markdown",
   "metadata": {},
   "source": [
    "We make predictions."
   ]
  },
  {
   "cell_type": "code",
   "execution_count": 47,
   "metadata": {},
   "outputs": [
    {
     "data": {
      "text/html": [
       "<style  type=\"text/css\" >\n",
       "</style><table id=\"T_89018a1f_a1f3_11eb_a3d8_5800e3972554\" ><thead>    <tr>        <th class=\"blank level0\" ></th>        <th class=\"col_heading level0 col0\" >Model</th>        <th class=\"col_heading level0 col1\" >MAE</th>        <th class=\"col_heading level0 col2\" >MSE</th>        <th class=\"col_heading level0 col3\" >RMSE</th>        <th class=\"col_heading level0 col4\" >R2</th>        <th class=\"col_heading level0 col5\" >RMSLE</th>        <th class=\"col_heading level0 col6\" >MAPE</th>    </tr></thead><tbody>\n",
       "                <tr>\n",
       "                        <th id=\"T_89018a1f_a1f3_11eb_a3d8_5800e3972554level0_row0\" class=\"row_heading level0 row0\" >0</th>\n",
       "                        <td id=\"T_89018a1f_a1f3_11eb_a3d8_5800e3972554row0_col0\" class=\"data row0 col0\" >Light Gradient Boosting Machine</td>\n",
       "                        <td id=\"T_89018a1f_a1f3_11eb_a3d8_5800e3972554row0_col1\" class=\"data row0 col1\" >301.5862</td>\n",
       "                        <td id=\"T_89018a1f_a1f3_11eb_a3d8_5800e3972554row0_col2\" class=\"data row0 col2\" >285640.9974</td>\n",
       "                        <td id=\"T_89018a1f_a1f3_11eb_a3d8_5800e3972554row0_col3\" class=\"data row0 col3\" >534.4539</td>\n",
       "                        <td id=\"T_89018a1f_a1f3_11eb_a3d8_5800e3972554row0_col4\" class=\"data row0 col4\" >0.9851</td>\n",
       "                        <td id=\"T_89018a1f_a1f3_11eb_a3d8_5800e3972554row0_col5\" class=\"data row0 col5\" >0.1052</td>\n",
       "                        <td id=\"T_89018a1f_a1f3_11eb_a3d8_5800e3972554row0_col6\" class=\"data row0 col6\" >0.0816</td>\n",
       "            </tr>\n",
       "    </tbody></table>"
      ],
      "text/plain": [
       "<pandas.io.formats.style.Styler at 0x180772812e0>"
      ]
     },
     "metadata": {},
     "output_type": "display_data"
    },
    {
     "data": {
      "text/html": [
       "<div>\n",
       "<style scoped>\n",
       "    .dataframe tbody tr th:only-of-type {\n",
       "        vertical-align: middle;\n",
       "    }\n",
       "\n",
       "    .dataframe tbody tr th {\n",
       "        vertical-align: top;\n",
       "    }\n",
       "\n",
       "    .dataframe thead th {\n",
       "        text-align: right;\n",
       "    }\n",
       "</style>\n",
       "<table border=\"1\" class=\"dataframe\">\n",
       "  <thead>\n",
       "    <tr style=\"text-align: right;\">\n",
       "      <th></th>\n",
       "      <th>carat</th>\n",
       "      <th>cut</th>\n",
       "      <th>color</th>\n",
       "      <th>clarity</th>\n",
       "      <th>depth</th>\n",
       "      <th>table</th>\n",
       "      <th>x</th>\n",
       "      <th>y</th>\n",
       "      <th>price</th>\n",
       "      <th>Label</th>\n",
       "    </tr>\n",
       "  </thead>\n",
       "  <tbody>\n",
       "    <tr>\n",
       "      <th>0</th>\n",
       "      <td>0.72</td>\n",
       "      <td>3.0</td>\n",
       "      <td>2.0</td>\n",
       "      <td>3.0</td>\n",
       "      <td>60.500000</td>\n",
       "      <td>56.0</td>\n",
       "      <td>5.79</td>\n",
       "      <td>5.84</td>\n",
       "      <td>3550.0</td>\n",
       "      <td>3241.344530</td>\n",
       "    </tr>\n",
       "    <tr>\n",
       "      <th>1</th>\n",
       "      <td>1.52</td>\n",
       "      <td>4.0</td>\n",
       "      <td>3.0</td>\n",
       "      <td>5.0</td>\n",
       "      <td>63.799999</td>\n",
       "      <td>56.0</td>\n",
       "      <td>7.25</td>\n",
       "      <td>7.30</td>\n",
       "      <td>15819.0</td>\n",
       "      <td>15493.783551</td>\n",
       "    </tr>\n",
       "    <tr>\n",
       "      <th>2</th>\n",
       "      <td>0.91</td>\n",
       "      <td>4.0</td>\n",
       "      <td>3.0</td>\n",
       "      <td>4.0</td>\n",
       "      <td>63.400002</td>\n",
       "      <td>55.0</td>\n",
       "      <td>6.22</td>\n",
       "      <td>6.18</td>\n",
       "      <td>4434.0</td>\n",
       "      <td>4642.447623</td>\n",
       "    </tr>\n",
       "    <tr>\n",
       "      <th>3</th>\n",
       "      <td>1.06</td>\n",
       "      <td>4.0</td>\n",
       "      <td>3.0</td>\n",
       "      <td>2.0</td>\n",
       "      <td>60.000000</td>\n",
       "      <td>59.0</td>\n",
       "      <td>6.60</td>\n",
       "      <td>6.63</td>\n",
       "      <td>4224.0</td>\n",
       "      <td>4318.669674</td>\n",
       "    </tr>\n",
       "    <tr>\n",
       "      <th>4</th>\n",
       "      <td>0.40</td>\n",
       "      <td>4.0</td>\n",
       "      <td>2.0</td>\n",
       "      <td>2.0</td>\n",
       "      <td>63.400002</td>\n",
       "      <td>56.0</td>\n",
       "      <td>4.73</td>\n",
       "      <td>4.67</td>\n",
       "      <td>855.0</td>\n",
       "      <td>766.088832</td>\n",
       "    </tr>\n",
       "    <tr>\n",
       "      <th>...</th>\n",
       "      <td>...</td>\n",
       "      <td>...</td>\n",
       "      <td>...</td>\n",
       "      <td>...</td>\n",
       "      <td>...</td>\n",
       "      <td>...</td>\n",
       "      <td>...</td>\n",
       "      <td>...</td>\n",
       "      <td>...</td>\n",
       "      <td>...</td>\n",
       "    </tr>\n",
       "    <tr>\n",
       "      <th>8615</th>\n",
       "      <td>0.31</td>\n",
       "      <td>4.0</td>\n",
       "      <td>5.0</td>\n",
       "      <td>7.0</td>\n",
       "      <td>63.299999</td>\n",
       "      <td>58.0</td>\n",
       "      <td>4.32</td>\n",
       "      <td>4.28</td>\n",
       "      <td>907.0</td>\n",
       "      <td>763.017655</td>\n",
       "    </tr>\n",
       "    <tr>\n",
       "      <th>8616</th>\n",
       "      <td>0.50</td>\n",
       "      <td>3.0</td>\n",
       "      <td>1.0</td>\n",
       "      <td>2.0</td>\n",
       "      <td>63.000000</td>\n",
       "      <td>57.0</td>\n",
       "      <td>5.09</td>\n",
       "      <td>5.04</td>\n",
       "      <td>1181.0</td>\n",
       "      <td>1105.811315</td>\n",
       "    </tr>\n",
       "    <tr>\n",
       "      <th>8617</th>\n",
       "      <td>0.32</td>\n",
       "      <td>3.0</td>\n",
       "      <td>4.0</td>\n",
       "      <td>7.0</td>\n",
       "      <td>62.000000</td>\n",
       "      <td>57.0</td>\n",
       "      <td>4.42</td>\n",
       "      <td>4.38</td>\n",
       "      <td>1080.0</td>\n",
       "      <td>875.261265</td>\n",
       "    </tr>\n",
       "    <tr>\n",
       "      <th>8618</th>\n",
       "      <td>0.41</td>\n",
       "      <td>5.0</td>\n",
       "      <td>1.0</td>\n",
       "      <td>3.0</td>\n",
       "      <td>61.200001</td>\n",
       "      <td>59.0</td>\n",
       "      <td>4.82</td>\n",
       "      <td>4.78</td>\n",
       "      <td>904.0</td>\n",
       "      <td>884.355404</td>\n",
       "    </tr>\n",
       "    <tr>\n",
       "      <th>8619</th>\n",
       "      <td>0.35</td>\n",
       "      <td>3.0</td>\n",
       "      <td>5.0</td>\n",
       "      <td>7.0</td>\n",
       "      <td>60.900002</td>\n",
       "      <td>57.0</td>\n",
       "      <td>4.55</td>\n",
       "      <td>4.58</td>\n",
       "      <td>773.0</td>\n",
       "      <td>851.903101</td>\n",
       "    </tr>\n",
       "  </tbody>\n",
       "</table>\n",
       "<p>8620 rows × 10 columns</p>\n",
       "</div>"
      ],
      "text/plain": [
       "      carat  cut  color  clarity      depth  table     x     y    price  \\\n",
       "0      0.72  3.0    2.0      3.0  60.500000   56.0  5.79  5.84   3550.0   \n",
       "1      1.52  4.0    3.0      5.0  63.799999   56.0  7.25  7.30  15819.0   \n",
       "2      0.91  4.0    3.0      4.0  63.400002   55.0  6.22  6.18   4434.0   \n",
       "3      1.06  4.0    3.0      2.0  60.000000   59.0  6.60  6.63   4224.0   \n",
       "4      0.40  4.0    2.0      2.0  63.400002   56.0  4.73  4.67    855.0   \n",
       "...     ...  ...    ...      ...        ...    ...   ...   ...      ...   \n",
       "8615   0.31  4.0    5.0      7.0  63.299999   58.0  4.32  4.28    907.0   \n",
       "8616   0.50  3.0    1.0      2.0  63.000000   57.0  5.09  5.04   1181.0   \n",
       "8617   0.32  3.0    4.0      7.0  62.000000   57.0  4.42  4.38   1080.0   \n",
       "8618   0.41  5.0    1.0      3.0  61.200001   59.0  4.82  4.78    904.0   \n",
       "8619   0.35  3.0    5.0      7.0  60.900002   57.0  4.55  4.58    773.0   \n",
       "\n",
       "             Label  \n",
       "0      3241.344530  \n",
       "1     15493.783551  \n",
       "2      4642.447623  \n",
       "3      4318.669674  \n",
       "4       766.088832  \n",
       "...            ...  \n",
       "8615    763.017655  \n",
       "8616   1105.811315  \n",
       "8617    875.261265  \n",
       "8618    884.355404  \n",
       "8619    851.903101  \n",
       "\n",
       "[8620 rows x 10 columns]"
      ]
     },
     "execution_count": 47,
     "metadata": {},
     "output_type": "execute_result"
    }
   ],
   "source": [
    "predict_model(final_lgbm)"
   ]
  },
  {
   "cell_type": "markdown",
   "metadata": {},
   "source": [
    "### LGMB Test"
   ]
  },
  {
   "cell_type": "markdown",
   "metadata": {},
   "source": [
    "We train the test, and calculate the `RMSE`."
   ]
  },
  {
   "cell_type": "code",
   "execution_count": 48,
   "metadata": {},
   "outputs": [],
   "source": [
    "y_pred_lgbm = final_lgbm.predict(df_testX)"
   ]
  },
  {
   "cell_type": "code",
   "execution_count": 49,
   "metadata": {},
   "outputs": [
    {
     "name": "stdout",
     "output_type": "stream",
     "text": [
      "The RMSE of the LGBM model is 401.045401978966\n"
     ]
    }
   ],
   "source": [
    "rmse_lgbm = mse(df_testy, y_pred_lgbm)**0.5\n",
    "print(f\"The RMSE of the LGBM model is {rmse_lgbm}\")"
   ]
  },
  {
   "cell_type": "code",
   "execution_count": 50,
   "metadata": {},
   "outputs": [
    {
     "data": {
      "text/html": [
       "<div>\n",
       "<style scoped>\n",
       "    .dataframe tbody tr th:only-of-type {\n",
       "        vertical-align: middle;\n",
       "    }\n",
       "\n",
       "    .dataframe tbody tr th {\n",
       "        vertical-align: top;\n",
       "    }\n",
       "\n",
       "    .dataframe thead th {\n",
       "        text-align: right;\n",
       "    }\n",
       "</style>\n",
       "<table border=\"1\" class=\"dataframe\">\n",
       "  <thead>\n",
       "    <tr style=\"text-align: right;\">\n",
       "      <th></th>\n",
       "      <th>Real</th>\n",
       "      <th>RF</th>\n",
       "      <th>RF_HyperOpt</th>\n",
       "      <th>LGBM</th>\n",
       "    </tr>\n",
       "  </thead>\n",
       "  <tbody>\n",
       "    <tr>\n",
       "      <th>43100</th>\n",
       "      <td>1383</td>\n",
       "      <td>1286.41</td>\n",
       "      <td>1228.987295</td>\n",
       "      <td>1117.772805</td>\n",
       "    </tr>\n",
       "    <tr>\n",
       "      <th>43101</th>\n",
       "      <td>1384</td>\n",
       "      <td>1251.04</td>\n",
       "      <td>1278.767638</td>\n",
       "      <td>1184.937729</td>\n",
       "    </tr>\n",
       "    <tr>\n",
       "      <th>43102</th>\n",
       "      <td>1384</td>\n",
       "      <td>1327.92</td>\n",
       "      <td>1242.252627</td>\n",
       "      <td>1248.686534</td>\n",
       "    </tr>\n",
       "    <tr>\n",
       "      <th>43103</th>\n",
       "      <td>1384</td>\n",
       "      <td>1349.46</td>\n",
       "      <td>1283.429167</td>\n",
       "      <td>1369.501028</td>\n",
       "    </tr>\n",
       "    <tr>\n",
       "      <th>43104</th>\n",
       "      <td>1384</td>\n",
       "      <td>1298.48</td>\n",
       "      <td>1269.057161</td>\n",
       "      <td>1259.586743</td>\n",
       "    </tr>\n",
       "  </tbody>\n",
       "</table>\n",
       "</div>"
      ],
      "text/plain": [
       "       Real       RF  RF_HyperOpt         LGBM\n",
       "43100  1383  1286.41  1228.987295  1117.772805\n",
       "43101  1384  1251.04  1278.767638  1184.937729\n",
       "43102  1384  1327.92  1242.252627  1248.686534\n",
       "43103  1384  1349.46  1283.429167  1369.501028\n",
       "43104  1384  1298.48  1269.057161  1259.586743"
      ]
     },
     "execution_count": 50,
     "metadata": {},
     "output_type": "execute_result"
    }
   ],
   "source": [
    "#add predictions to DataFrame\n",
    "pred_df[\"LGBM\"] = y_pred_lgbm\n",
    "pred_df.head()"
   ]
  },
  {
   "cell_type": "markdown",
   "metadata": {},
   "source": [
    "### Tune Hyperparameters"
   ]
  },
  {
   "cell_type": "markdown",
   "metadata": {},
   "source": [
    "As with the previous model, we are going to tune the hyperparameters. In this case we are going to use the `tune_model` function and we are going to select the `tpe` algorithm."
   ]
  },
  {
   "cell_type": "code",
   "execution_count": 51,
   "metadata": {},
   "outputs": [
    {
     "data": {
      "text/html": [
       "<style  type=\"text/css\" >\n",
       "#T_d0184657_a1f3_11eb_8d5d_5800e3972554row10_col0,#T_d0184657_a1f3_11eb_8d5d_5800e3972554row10_col1,#T_d0184657_a1f3_11eb_8d5d_5800e3972554row10_col2,#T_d0184657_a1f3_11eb_8d5d_5800e3972554row10_col3,#T_d0184657_a1f3_11eb_8d5d_5800e3972554row10_col4,#T_d0184657_a1f3_11eb_8d5d_5800e3972554row10_col5{\n",
       "            background:  yellow;\n",
       "        }</style><table id=\"T_d0184657_a1f3_11eb_8d5d_5800e3972554\" ><thead>    <tr>        <th class=\"blank level0\" ></th>        <th class=\"col_heading level0 col0\" >MAE</th>        <th class=\"col_heading level0 col1\" >MSE</th>        <th class=\"col_heading level0 col2\" >RMSE</th>        <th class=\"col_heading level0 col3\" >R2</th>        <th class=\"col_heading level0 col4\" >RMSLE</th>        <th class=\"col_heading level0 col5\" >MAPE</th>    </tr></thead><tbody>\n",
       "                <tr>\n",
       "                        <th id=\"T_d0184657_a1f3_11eb_8d5d_5800e3972554level0_row0\" class=\"row_heading level0 row0\" >0</th>\n",
       "                        <td id=\"T_d0184657_a1f3_11eb_8d5d_5800e3972554row0_col0\" class=\"data row0 col0\" >303.9530</td>\n",
       "                        <td id=\"T_d0184657_a1f3_11eb_8d5d_5800e3972554row0_col1\" class=\"data row0 col1\" >309175.4867</td>\n",
       "                        <td id=\"T_d0184657_a1f3_11eb_8d5d_5800e3972554row0_col2\" class=\"data row0 col2\" >556.0355</td>\n",
       "                        <td id=\"T_d0184657_a1f3_11eb_8d5d_5800e3972554row0_col3\" class=\"data row0 col3\" >0.9834</td>\n",
       "                        <td id=\"T_d0184657_a1f3_11eb_8d5d_5800e3972554row0_col4\" class=\"data row0 col4\" >0.1178</td>\n",
       "                        <td id=\"T_d0184657_a1f3_11eb_8d5d_5800e3972554row0_col5\" class=\"data row0 col5\" >0.0707</td>\n",
       "            </tr>\n",
       "            <tr>\n",
       "                        <th id=\"T_d0184657_a1f3_11eb_8d5d_5800e3972554level0_row1\" class=\"row_heading level0 row1\" >1</th>\n",
       "                        <td id=\"T_d0184657_a1f3_11eb_8d5d_5800e3972554row1_col0\" class=\"data row1 col0\" >317.3204</td>\n",
       "                        <td id=\"T_d0184657_a1f3_11eb_8d5d_5800e3972554row1_col1\" class=\"data row1 col1\" >348820.4021</td>\n",
       "                        <td id=\"T_d0184657_a1f3_11eb_8d5d_5800e3972554row1_col2\" class=\"data row1 col2\" >590.6102</td>\n",
       "                        <td id=\"T_d0184657_a1f3_11eb_8d5d_5800e3972554row1_col3\" class=\"data row1 col3\" >0.9818</td>\n",
       "                        <td id=\"T_d0184657_a1f3_11eb_8d5d_5800e3972554row1_col4\" class=\"data row1 col4\" >0.0939</td>\n",
       "                        <td id=\"T_d0184657_a1f3_11eb_8d5d_5800e3972554row1_col5\" class=\"data row1 col5\" >0.0707</td>\n",
       "            </tr>\n",
       "            <tr>\n",
       "                        <th id=\"T_d0184657_a1f3_11eb_8d5d_5800e3972554level0_row2\" class=\"row_heading level0 row2\" >2</th>\n",
       "                        <td id=\"T_d0184657_a1f3_11eb_8d5d_5800e3972554row2_col0\" class=\"data row2 col0\" >317.9675</td>\n",
       "                        <td id=\"T_d0184657_a1f3_11eb_8d5d_5800e3972554row2_col1\" class=\"data row2 col1\" >360068.3745</td>\n",
       "                        <td id=\"T_d0184657_a1f3_11eb_8d5d_5800e3972554row2_col2\" class=\"data row2 col2\" >600.0570</td>\n",
       "                        <td id=\"T_d0184657_a1f3_11eb_8d5d_5800e3972554row2_col3\" class=\"data row2 col3\" >0.9806</td>\n",
       "                        <td id=\"T_d0184657_a1f3_11eb_8d5d_5800e3972554row2_col4\" class=\"data row2 col4\" >0.0970</td>\n",
       "                        <td id=\"T_d0184657_a1f3_11eb_8d5d_5800e3972554row2_col5\" class=\"data row2 col5\" >0.0710</td>\n",
       "            </tr>\n",
       "            <tr>\n",
       "                        <th id=\"T_d0184657_a1f3_11eb_8d5d_5800e3972554level0_row3\" class=\"row_heading level0 row3\" >3</th>\n",
       "                        <td id=\"T_d0184657_a1f3_11eb_8d5d_5800e3972554row3_col0\" class=\"data row3 col0\" >305.3528</td>\n",
       "                        <td id=\"T_d0184657_a1f3_11eb_8d5d_5800e3972554row3_col1\" class=\"data row3 col1\" >349118.9037</td>\n",
       "                        <td id=\"T_d0184657_a1f3_11eb_8d5d_5800e3972554row3_col2\" class=\"data row3 col2\" >590.8628</td>\n",
       "                        <td id=\"T_d0184657_a1f3_11eb_8d5d_5800e3972554row3_col3\" class=\"data row3 col3\" >0.9797</td>\n",
       "                        <td id=\"T_d0184657_a1f3_11eb_8d5d_5800e3972554row3_col4\" class=\"data row3 col4\" >0.0952</td>\n",
       "                        <td id=\"T_d0184657_a1f3_11eb_8d5d_5800e3972554row3_col5\" class=\"data row3 col5\" >0.0706</td>\n",
       "            </tr>\n",
       "            <tr>\n",
       "                        <th id=\"T_d0184657_a1f3_11eb_8d5d_5800e3972554level0_row4\" class=\"row_heading level0 row4\" >4</th>\n",
       "                        <td id=\"T_d0184657_a1f3_11eb_8d5d_5800e3972554row4_col0\" class=\"data row4 col0\" >326.6002</td>\n",
       "                        <td id=\"T_d0184657_a1f3_11eb_8d5d_5800e3972554row4_col1\" class=\"data row4 col1\" >416598.9295</td>\n",
       "                        <td id=\"T_d0184657_a1f3_11eb_8d5d_5800e3972554row4_col2\" class=\"data row4 col2\" >645.4448</td>\n",
       "                        <td id=\"T_d0184657_a1f3_11eb_8d5d_5800e3972554row4_col3\" class=\"data row4 col3\" >0.9766</td>\n",
       "                        <td id=\"T_d0184657_a1f3_11eb_8d5d_5800e3972554row4_col4\" class=\"data row4 col4\" >0.0980</td>\n",
       "                        <td id=\"T_d0184657_a1f3_11eb_8d5d_5800e3972554row4_col5\" class=\"data row4 col5\" >0.0727</td>\n",
       "            </tr>\n",
       "            <tr>\n",
       "                        <th id=\"T_d0184657_a1f3_11eb_8d5d_5800e3972554level0_row5\" class=\"row_heading level0 row5\" >5</th>\n",
       "                        <td id=\"T_d0184657_a1f3_11eb_8d5d_5800e3972554row5_col0\" class=\"data row5 col0\" >327.4146</td>\n",
       "                        <td id=\"T_d0184657_a1f3_11eb_8d5d_5800e3972554row5_col1\" class=\"data row5 col1\" >424950.9015</td>\n",
       "                        <td id=\"T_d0184657_a1f3_11eb_8d5d_5800e3972554row5_col2\" class=\"data row5 col2\" >651.8826</td>\n",
       "                        <td id=\"T_d0184657_a1f3_11eb_8d5d_5800e3972554row5_col3\" class=\"data row5 col3\" >0.9769</td>\n",
       "                        <td id=\"T_d0184657_a1f3_11eb_8d5d_5800e3972554row5_col4\" class=\"data row5 col4\" >0.1009</td>\n",
       "                        <td id=\"T_d0184657_a1f3_11eb_8d5d_5800e3972554row5_col5\" class=\"data row5 col5\" >0.0730</td>\n",
       "            </tr>\n",
       "            <tr>\n",
       "                        <th id=\"T_d0184657_a1f3_11eb_8d5d_5800e3972554level0_row6\" class=\"row_heading level0 row6\" >6</th>\n",
       "                        <td id=\"T_d0184657_a1f3_11eb_8d5d_5800e3972554row6_col0\" class=\"data row6 col0\" >320.5794</td>\n",
       "                        <td id=\"T_d0184657_a1f3_11eb_8d5d_5800e3972554row6_col1\" class=\"data row6 col1\" >369977.5550</td>\n",
       "                        <td id=\"T_d0184657_a1f3_11eb_8d5d_5800e3972554row6_col2\" class=\"data row6 col2\" >608.2578</td>\n",
       "                        <td id=\"T_d0184657_a1f3_11eb_8d5d_5800e3972554row6_col3\" class=\"data row6 col3\" >0.9799</td>\n",
       "                        <td id=\"T_d0184657_a1f3_11eb_8d5d_5800e3972554row6_col4\" class=\"data row6 col4\" >0.0950</td>\n",
       "                        <td id=\"T_d0184657_a1f3_11eb_8d5d_5800e3972554row6_col5\" class=\"data row6 col5\" >0.0712</td>\n",
       "            </tr>\n",
       "            <tr>\n",
       "                        <th id=\"T_d0184657_a1f3_11eb_8d5d_5800e3972554level0_row7\" class=\"row_heading level0 row7\" >7</th>\n",
       "                        <td id=\"T_d0184657_a1f3_11eb_8d5d_5800e3972554row7_col0\" class=\"data row7 col0\" >324.9859</td>\n",
       "                        <td id=\"T_d0184657_a1f3_11eb_8d5d_5800e3972554row7_col1\" class=\"data row7 col1\" >429739.5431</td>\n",
       "                        <td id=\"T_d0184657_a1f3_11eb_8d5d_5800e3972554row7_col2\" class=\"data row7 col2\" >655.5452</td>\n",
       "                        <td id=\"T_d0184657_a1f3_11eb_8d5d_5800e3972554row7_col3\" class=\"data row7 col3\" >0.9771</td>\n",
       "                        <td id=\"T_d0184657_a1f3_11eb_8d5d_5800e3972554row7_col4\" class=\"data row7 col4\" >0.1023</td>\n",
       "                        <td id=\"T_d0184657_a1f3_11eb_8d5d_5800e3972554row7_col5\" class=\"data row7 col5\" >0.0722</td>\n",
       "            </tr>\n",
       "            <tr>\n",
       "                        <th id=\"T_d0184657_a1f3_11eb_8d5d_5800e3972554level0_row8\" class=\"row_heading level0 row8\" >8</th>\n",
       "                        <td id=\"T_d0184657_a1f3_11eb_8d5d_5800e3972554row8_col0\" class=\"data row8 col0\" >308.0977</td>\n",
       "                        <td id=\"T_d0184657_a1f3_11eb_8d5d_5800e3972554row8_col1\" class=\"data row8 col1\" >348855.2598</td>\n",
       "                        <td id=\"T_d0184657_a1f3_11eb_8d5d_5800e3972554row8_col2\" class=\"data row8 col2\" >590.6397</td>\n",
       "                        <td id=\"T_d0184657_a1f3_11eb_8d5d_5800e3972554row8_col3\" class=\"data row8 col3\" >0.9809</td>\n",
       "                        <td id=\"T_d0184657_a1f3_11eb_8d5d_5800e3972554row8_col4\" class=\"data row8 col4\" >0.0989</td>\n",
       "                        <td id=\"T_d0184657_a1f3_11eb_8d5d_5800e3972554row8_col5\" class=\"data row8 col5\" >0.0705</td>\n",
       "            </tr>\n",
       "            <tr>\n",
       "                        <th id=\"T_d0184657_a1f3_11eb_8d5d_5800e3972554level0_row9\" class=\"row_heading level0 row9\" >9</th>\n",
       "                        <td id=\"T_d0184657_a1f3_11eb_8d5d_5800e3972554row9_col0\" class=\"data row9 col0\" >306.6114</td>\n",
       "                        <td id=\"T_d0184657_a1f3_11eb_8d5d_5800e3972554row9_col1\" class=\"data row9 col1\" >323230.1996</td>\n",
       "                        <td id=\"T_d0184657_a1f3_11eb_8d5d_5800e3972554row9_col2\" class=\"data row9 col2\" >568.5334</td>\n",
       "                        <td id=\"T_d0184657_a1f3_11eb_8d5d_5800e3972554row9_col3\" class=\"data row9 col3\" >0.9820</td>\n",
       "                        <td id=\"T_d0184657_a1f3_11eb_8d5d_5800e3972554row9_col4\" class=\"data row9 col4\" >0.0950</td>\n",
       "                        <td id=\"T_d0184657_a1f3_11eb_8d5d_5800e3972554row9_col5\" class=\"data row9 col5\" >0.0698</td>\n",
       "            </tr>\n",
       "            <tr>\n",
       "                        <th id=\"T_d0184657_a1f3_11eb_8d5d_5800e3972554level0_row10\" class=\"row_heading level0 row10\" >Mean</th>\n",
       "                        <td id=\"T_d0184657_a1f3_11eb_8d5d_5800e3972554row10_col0\" class=\"data row10 col0\" >315.8883</td>\n",
       "                        <td id=\"T_d0184657_a1f3_11eb_8d5d_5800e3972554row10_col1\" class=\"data row10 col1\" >368053.5555</td>\n",
       "                        <td id=\"T_d0184657_a1f3_11eb_8d5d_5800e3972554row10_col2\" class=\"data row10 col2\" >605.7869</td>\n",
       "                        <td id=\"T_d0184657_a1f3_11eb_8d5d_5800e3972554row10_col3\" class=\"data row10 col3\" >0.9799</td>\n",
       "                        <td id=\"T_d0184657_a1f3_11eb_8d5d_5800e3972554row10_col4\" class=\"data row10 col4\" >0.0994</td>\n",
       "                        <td id=\"T_d0184657_a1f3_11eb_8d5d_5800e3972554row10_col5\" class=\"data row10 col5\" >0.0712</td>\n",
       "            </tr>\n",
       "            <tr>\n",
       "                        <th id=\"T_d0184657_a1f3_11eb_8d5d_5800e3972554level0_row11\" class=\"row_heading level0 row11\" >SD</th>\n",
       "                        <td id=\"T_d0184657_a1f3_11eb_8d5d_5800e3972554row11_col0\" class=\"data row11 col0\" >8.7118</td>\n",
       "                        <td id=\"T_d0184657_a1f3_11eb_8d5d_5800e3972554row11_col1\" class=\"data row11 col1\" >40049.1664</td>\n",
       "                        <td id=\"T_d0184657_a1f3_11eb_8d5d_5800e3972554row11_col2\" class=\"data row11 col2\" >32.7993</td>\n",
       "                        <td id=\"T_d0184657_a1f3_11eb_8d5d_5800e3972554row11_col3\" class=\"data row11 col3\" >0.0022</td>\n",
       "                        <td id=\"T_d0184657_a1f3_11eb_8d5d_5800e3972554row11_col4\" class=\"data row11 col4\" >0.0067</td>\n",
       "                        <td id=\"T_d0184657_a1f3_11eb_8d5d_5800e3972554row11_col5\" class=\"data row11 col5\" >0.0010</td>\n",
       "            </tr>\n",
       "    </tbody></table>"
      ],
      "text/plain": [
       "<pandas.io.formats.style.Styler at 0x18022d192b0>"
      ]
     },
     "metadata": {},
     "output_type": "display_data"
    }
   ],
   "source": [
    "tune_lgbm = tune_model(lgbm_reg, search_library=\"optuna\", search_algorithm=\"tpe\")"
   ]
  },
  {
   "cell_type": "markdown",
   "metadata": {},
   "source": [
    "We fit the model and compute the `RMSE`."
   ]
  },
  {
   "cell_type": "code",
   "execution_count": 52,
   "metadata": {},
   "outputs": [],
   "source": [
    "finalize_t_lgbm = finalize_model(tune_lgbm)"
   ]
  },
  {
   "cell_type": "markdown",
   "metadata": {},
   "source": [
    "### Tuned LGBM Test"
   ]
  },
  {
   "cell_type": "markdown",
   "metadata": {},
   "source": [
    "We train the test, and calculate the `RMSE`."
   ]
  },
  {
   "cell_type": "code",
   "execution_count": 53,
   "metadata": {},
   "outputs": [
    {
     "name": "stdout",
     "output_type": "stream",
     "text": [
      "The RMSE of the tuned LGBM model is 328.49112940886306\n"
     ]
    }
   ],
   "source": [
    "y_pred_tune_lgbm = finalize_t_lgbm.predict(df_testX)\n",
    "rmse_t_lgbm = mse(df_testy, y_pred_tune_lgbm)**0.5\n",
    "print(f\"The RMSE of the tuned LGBM model is {rmse_t_lgbm}\")"
   ]
  },
  {
   "cell_type": "code",
   "execution_count": 54,
   "metadata": {},
   "outputs": [
    {
     "data": {
      "text/html": [
       "<div>\n",
       "<style scoped>\n",
       "    .dataframe tbody tr th:only-of-type {\n",
       "        vertical-align: middle;\n",
       "    }\n",
       "\n",
       "    .dataframe tbody tr th {\n",
       "        vertical-align: top;\n",
       "    }\n",
       "\n",
       "    .dataframe thead th {\n",
       "        text-align: right;\n",
       "    }\n",
       "</style>\n",
       "<table border=\"1\" class=\"dataframe\">\n",
       "  <thead>\n",
       "    <tr style=\"text-align: right;\">\n",
       "      <th></th>\n",
       "      <th>Real</th>\n",
       "      <th>RF</th>\n",
       "      <th>RF_HyperOpt</th>\n",
       "      <th>LGBM</th>\n",
       "      <th>Tuned_LGBM</th>\n",
       "    </tr>\n",
       "  </thead>\n",
       "  <tbody>\n",
       "    <tr>\n",
       "      <th>43100</th>\n",
       "      <td>1383</td>\n",
       "      <td>1286.41</td>\n",
       "      <td>1228.987295</td>\n",
       "      <td>1117.772805</td>\n",
       "      <td>1161.242646</td>\n",
       "    </tr>\n",
       "    <tr>\n",
       "      <th>43101</th>\n",
       "      <td>1384</td>\n",
       "      <td>1251.04</td>\n",
       "      <td>1278.767638</td>\n",
       "      <td>1184.937729</td>\n",
       "      <td>1262.594717</td>\n",
       "    </tr>\n",
       "    <tr>\n",
       "      <th>43102</th>\n",
       "      <td>1384</td>\n",
       "      <td>1327.92</td>\n",
       "      <td>1242.252627</td>\n",
       "      <td>1248.686534</td>\n",
       "      <td>1279.774685</td>\n",
       "    </tr>\n",
       "    <tr>\n",
       "      <th>43103</th>\n",
       "      <td>1384</td>\n",
       "      <td>1349.46</td>\n",
       "      <td>1283.429167</td>\n",
       "      <td>1369.501028</td>\n",
       "      <td>1279.409887</td>\n",
       "    </tr>\n",
       "    <tr>\n",
       "      <th>43104</th>\n",
       "      <td>1384</td>\n",
       "      <td>1298.48</td>\n",
       "      <td>1269.057161</td>\n",
       "      <td>1259.586743</td>\n",
       "      <td>1118.462096</td>\n",
       "    </tr>\n",
       "  </tbody>\n",
       "</table>\n",
       "</div>"
      ],
      "text/plain": [
       "       Real       RF  RF_HyperOpt         LGBM   Tuned_LGBM\n",
       "43100  1383  1286.41  1228.987295  1117.772805  1161.242646\n",
       "43101  1384  1251.04  1278.767638  1184.937729  1262.594717\n",
       "43102  1384  1327.92  1242.252627  1248.686534  1279.774685\n",
       "43103  1384  1349.46  1283.429167  1369.501028  1279.409887\n",
       "43104  1384  1298.48  1269.057161  1259.586743  1118.462096"
      ]
     },
     "execution_count": 54,
     "metadata": {},
     "output_type": "execute_result"
    }
   ],
   "source": [
    "pred_df[\"Tuned_LGBM\"] = y_pred_tune_lgbm\n",
    "pred_df.reset_index(drop=True)\n",
    "pred_df.head()"
   ]
  },
  {
   "cell_type": "markdown",
   "metadata": {},
   "source": [
    "# Conclusion"
   ]
  },
  {
   "cell_type": "markdown",
   "metadata": {},
   "source": [
    "We will now compare the `RMSE` of each model."
   ]
  },
  {
   "cell_type": "code",
   "execution_count": 55,
   "metadata": {},
   "outputs": [
    {
     "data": {
      "text/html": [
       "<div>\n",
       "<style scoped>\n",
       "    .dataframe tbody tr th:only-of-type {\n",
       "        vertical-align: middle;\n",
       "    }\n",
       "\n",
       "    .dataframe tbody tr th {\n",
       "        vertical-align: top;\n",
       "    }\n",
       "\n",
       "    .dataframe thead th {\n",
       "        text-align: right;\n",
       "    }\n",
       "</style>\n",
       "<table border=\"1\" class=\"dataframe\">\n",
       "  <thead>\n",
       "    <tr style=\"text-align: right;\">\n",
       "      <th></th>\n",
       "      <th>Model</th>\n",
       "      <th>RMSE</th>\n",
       "    </tr>\n",
       "  </thead>\n",
       "  <tbody>\n",
       "    <tr>\n",
       "      <th>0</th>\n",
       "      <td>RamdomForest</td>\n",
       "      <td>511.277753</td>\n",
       "    </tr>\n",
       "    <tr>\n",
       "      <th>1</th>\n",
       "      <td>RandomForest_HyperOpt</td>\n",
       "      <td>482.121331</td>\n",
       "    </tr>\n",
       "    <tr>\n",
       "      <th>2</th>\n",
       "      <td>LGBM</td>\n",
       "      <td>401.045402</td>\n",
       "    </tr>\n",
       "    <tr>\n",
       "      <th>3</th>\n",
       "      <td>Tuned_LightGBM</td>\n",
       "      <td>328.491129</td>\n",
       "    </tr>\n",
       "  </tbody>\n",
       "</table>\n",
       "</div>"
      ],
      "text/plain": [
       "                   Model        RMSE\n",
       "0           RamdomForest  511.277753\n",
       "1  RandomForest_HyperOpt  482.121331\n",
       "2                   LGBM  401.045402\n",
       "3         Tuned_LightGBM  328.491129"
      ]
     },
     "execution_count": 55,
     "metadata": {},
     "output_type": "execute_result"
    }
   ],
   "source": [
    "#create DataFrame with the RMSE of the models\n",
    "df_error = pd.DataFrame({\n",
    "                        \"Model\": [\"RamdomForest\",\"RandomForest_HyperOpt\", \"LGBM\", \"Tuned_LightGBM\"],\n",
    "                        \"RMSE\": [rfreg_rmse, rmse_rf, rmse_lgbm, rmse_t_lgbm]\n",
    "                     }).sort_values(\"RMSE\", ascending=False)\n",
    "df_error"
   ]
  },
  {
   "cell_type": "markdown",
   "metadata": {},
   "source": [
    "Plot the RMSE results"
   ]
  },
  {
   "cell_type": "code",
   "execution_count": 56,
   "metadata": {},
   "outputs": [
    {
     "data": {
      "image/png": "[encoded data removed]",
      "text/plain": [
       "<Figure size 576x216 with 1 Axes>"
      ]
     },
     "metadata": {
      "needs_background": "light"
     },
     "output_type": "display_data"
    }
   ],
   "source": [
    "plt.figure(figsize=(8,3))\n",
    "plt.hlines(df_error.Model, xmin=0, xmax=df_error.RMSE)\n",
    "plt.plot(df_error.RMSE, df_error.Model, \"o\", color=\"black\")\n",
    "plt.tick_params(axis=\"y\", labelsize=12)\n",
    "plt.title(\"RMSE Comparision\")\n",
    "plt.xlabel(\"Test RMSE\")\n",
    "plt.text(x = rfreg_rmse, y=0.2, s = rfreg_rmse.round(2), fontdict={\"weight\": \"bold\",\"size\": 10})\n",
    "plt.text(x = rmse_rf, y=0.6, s=rmse_rf.round(2), fontdict={\"weight\": \"bold\",\"size\": 10})\n",
    "plt.text(x = rmse_lgbm, y=1.6, s=rmse_lgbm.round(2), fontdict={\"weight\": \"bold\",\"size\": 10})\n",
    "plt.text(x = rmse_t_lgbm, y=2.6, s=rmse_t_lgbm.round(2), fontdict={\"weight\": \"bold\",\"size\": 10})\n",
    "plt.savefig(\"output/Comparative_errors.jpg\", dpi = 100)\n",
    "plt.show;"
   ]
  },
  {
   "cell_type": "markdown",
   "metadata": {},
   "source": [
    "Looking at the RMSE comparison, we can see that the best model (the one with the lowest RMSE) is the LightGBM with the tuned hyperparameters, followed by the default LightGBM created by PyCaret. "
   ]
  },
  {
   "cell_type": "code",
   "execution_count": 45,
   "metadata": {},
   "outputs": [
    {
     "data": {
      "text/plain": [
       "<AxesSubplot:ylabel='Density'>"
      ]
     },
     "execution_count": 45,
     "metadata": {},
     "output_type": "execute_result"
    },
    {
     "data": {
      "image/png": "[encoded data removed]",
      "text/plain": [
       "<Figure size 432x288 with 1 Axes>"
      ]
     },
     "metadata": {
      "needs_background": "light"
     },
     "output_type": "display_data"
    }
   ],
   "source": [
    "pred_df.plot.kde()"
   ]
  },
  {
   "cell_type": "markdown",
   "metadata": {},
   "source": [
    "Finally, here we can see the density of the real target variable with the prediction of the Light Gradient Boosting Machine tuned model."
   ]
  },
  {
   "cell_type": "markdown",
   "metadata": {},
   "source": [
    "Save the model."
   ]
  },
  {
   "cell_type": "code",
   "execution_count": 63,
   "metadata": {},
   "outputs": [
    {
     "name": "stdout",
     "output_type": "stream",
     "text": [
      "Transformation Pipeline and Model Succesfully Saved\n"
     ]
    },
    {
     "data": {
      "text/plain": [
       "(Pipeline(memory=None,\n",
       "          steps=[('dtypes',\n",
       "                  DataTypes_Auto_infer(categorical_features=[],\n",
       "                                       display_types=True, features_todrop=[],\n",
       "                                       id_columns=[], ml_usecase='regression',\n",
       "                                       numerical_features=[], target='price',\n",
       "                                       time_features=[])),\n",
       "                 ('imputer',\n",
       "                  Simple_Imputer(categorical_strategy='not_available',\n",
       "                                 fill_value_categorical=None,\n",
       "                                 fill_value_numerical=None,\n",
       "                                 numeric_strategy='...\n",
       "                                importance_type='split',\n",
       "                                learning_rate=0.2512630986200139, max_depth=-1,\n",
       "                                min_child_samples=83, min_child_weight=0.001,\n",
       "                                min_split_gain=0.4665499623927324,\n",
       "                                n_estimators=100, n_jobs=-1, num_leaves=122,\n",
       "                                objective=None, random_state=123,\n",
       "                                reg_alpha=0.00047391784132628525,\n",
       "                                reg_lambda=1.1253915601471154, silent=True,\n",
       "                                subsample=1.0, subsample_for_bin=200000,\n",
       "                                subsample_freq=0)]],\n",
       "          verbose=False),\n",
       " 'LightGBM_opt_tpe.pkl')"
      ]
     },
     "execution_count": 63,
     "metadata": {},
     "output_type": "execute_result"
    }
   ],
   "source": [
    "save_model(finalize_t_lgbm, \"LightGBM_opt_tpe\")"
   ]
  }
 ],
 "metadata": {
  "kernelspec": {
   "display_name": "Python 3",
   "language": "python",
   "name": "python3"
  },
  "language_info": {
   "codemirror_mode": {
    "name": "ipython",
    "version": 3
   },
   "file_extension": ".py",
   "mimetype": "text/x-python",
   "name": "python",
   "nbconvert_exporter": "python",
   "pygments_lexer": "ipython3",
   "version": "3.8.5"
  },
  "toc": {
   "base_numbering": 1,
   "nav_menu": {},
   "number_sections": true,
   "sideBar": true,
   "skip_h1_title": false,
   "title_cell": "Table of Contents",
   "title_sidebar": "Contents",
   "toc_cell": false,
   "toc_position": {
    "height": "calc(100% - 180px)",
    "left": "10px",
    "top": "150px",
    "width": "273.188px"
   },
   "toc_section_display": true,
   "toc_window_display": true
  },
  "varInspector": {
   "cols": {
    "lenName": 16,
    "lenType": 16,
    "lenVar": 40
   },
   "kernels_config": {
    "python": {
     "delete_cmd_postfix": "",
     "delete_cmd_prefix": "del ",
     "library": "var_list.py",
     "varRefreshCmd": "print(var_dic_list())"
    },
    "r": {
     "delete_cmd_postfix": ") ",
     "delete_cmd_prefix": "rm(",
     "library": "var_list.r",
     "varRefreshCmd": "cat(var_dic_list()) "
    }
   },
   "types_to_exclude": [
    "module",
    "function",
    "builtin_function_or_method",
    "instance",
    "_Feature"
   ],
   "window_display": false
  }
 },
 "nbformat": 4,
 "nbformat_minor": 4
}
