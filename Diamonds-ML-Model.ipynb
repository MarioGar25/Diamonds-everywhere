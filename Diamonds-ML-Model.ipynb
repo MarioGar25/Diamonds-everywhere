{
 "cells": [
  {
   "cell_type": "markdown",
   "metadata": {},
   "source": [
    "# Introduction"
   ]
  },
  {
   "cell_type": "markdown",
   "metadata": {},
   "source": [
    "In this project we want to create a model that can predict the price of a diamond based on its characteristics. \n",
    "\n",
    "For this we are going to perform three different procedures. \n",
    "On the one hand a linear model, specifically a linear regression model. As a second model we will use an emsabled model such as RandomForest, tuning the hyperparameters with a Bayesian optimization model such as HyperOpt. And finally, we will test the Pycaret library, where we will choose the most appropriate model."
   ]
  },
  {
   "cell_type": "markdown",
   "metadata": {},
   "source": [
    "# Data"
   ]
  },
  {
   "cell_type": "markdown",
   "metadata": {},
   "source": [
    "The Diamonds DataSet has been obtained from Kaggle, at the following [link](https://www.kaggle.com/shivam2503/diamonds). In it, each input is a diamond and the columns correspond to diamond characteristics."
   ]
  },
  {
   "cell_type": "markdown",
   "metadata": {},
   "source": [
    "**Predictors Variables** \n",
    "\n",
    " `id`: Input ID.\n",
    " \n",
    " `carat`: diamond weight.\n",
    " \n",
    " `cut`: The way in which the diamond facets interact with light.\n",
    " \n",
    " `clarity`: Purity or transparency of a diamond.\n",
    " \n",
    " `color`: Color of a diamond.\n",
    " \n",
    " `table`: Flat part of the upper part.\n",
    " \n",
    " `x`: Length in mm.\n",
    "\n",
    " `y`: Width in mm.\n",
    "\n",
    " `z`: Depth in mm.\n",
    "\n",
    " `depht`:  Total depth percentage = z / mean(x, y) = 2 * z / (x + y).\n",
    "\n",
    "\n",
    "**Target Variable**\n",
    "\n",
    "`price`: Diamond price."
   ]
  },
  {
   "cell_type": "markdown",
   "metadata": {},
   "source": [
    "# Libraries"
   ]
  },
  {
   "cell_type": "markdown",
   "metadata": {},
   "source": [
    "First of all, import the libraries we are going to use."
   ]
  },
  {
   "cell_type": "code",
   "execution_count": 115,
   "metadata": {},
   "outputs": [],
   "source": [
    "#import libraries\n",
    "\n",
    "#data processing\n",
    "#--------------------------------------------\n",
    "import pandas as pd\n",
    "import numpy as np\n",
    "\n",
    "#graphics\n",
    "#--------------------------------------------\n",
    "import seaborn as sns\n",
    "import matplotlib.pyplot as plt\n",
    "import matplotlib.colors as mcolors\n",
    "import matplotlib.ticker as ticker\n",
    "%matplotlib inline\n",
    "\n",
    "#preprocessig\n",
    "#--------------------------------------------\n",
    "import statsmodels.formula.api as smf\n",
    "from sklearn.model_selection import train_test_split\n",
    "\n",
    "\n",
    "\n",
    "#modelling\n",
    "#--------------------------------------------\n",
    "from sklearn.model_selection import cross_validate\n",
    "from sklearn.metrics import mean_squared_error as mse, make_scorer\n",
    "from sklearn.linear_model import LinearRegression\n",
    "from sklearn.ensemble import RandomForestRegressor\n",
    "from sklearn.model_selection import RepeatedKFold\n",
    "\n",
    "#Hyperopt\n",
    "#---------------------------------------------\n",
    "from hyperopt import fmin, hp, tpe, Trials, space_eval, STATUS_OK\n",
    "from hyperopt.pyll import scope as ho_scope\n",
    "from hyperopt.pyll.stochastic import sample as ho_sample\n",
    "\n",
    "#Pycaret\n",
    "#---------------------------------------------\n",
    "from pycaret.regression import *\n",
    "\n",
    "\n",
    "#others\n",
    "#----------------------------------------------\n",
    "from src.utils import unzip_zip\n",
    "import warnings\n",
    "warnings.filterwarnings('ignore')"
   ]
  },
  {
   "cell_type": "markdown",
   "metadata": {},
   "source": [
    "# Checking Data"
   ]
  },
  {
   "cell_type": "markdown",
   "metadata": {},
   "source": [
    "## First Approach"
   ]
  },
  {
   "cell_type": "markdown",
   "metadata": {},
   "source": [
    "Using the `unzip_zip` function contained in `utils.py` in the folder `src`, we unzip the `.csv` files and load them into a Dataframe."
   ]
  },
  {
   "cell_type": "markdown",
   "metadata": {},
   "source": [
    "We save the DataFrames in variables."
   ]
  },
  {
   "cell_type": "code",
   "execution_count": 3,
   "metadata": {},
   "outputs": [],
   "source": [
    "#unzip and read csv\n",
    "df_train = unzip_zip(\"data/diamonds-datamad0121.zip\", \"train.csv\")"
   ]
  },
  {
   "cell_type": "markdown",
   "metadata": {},
   "source": [
    "Now, let's check the DataFrame"
   ]
  },
  {
   "cell_type": "code",
   "execution_count": 4,
   "metadata": {},
   "outputs": [
    {
     "data": {
      "text/html": [
       "<div>\n",
       "<style scoped>\n",
       "    .dataframe tbody tr th:only-of-type {\n",
       "        vertical-align: middle;\n",
       "    }\n",
       "\n",
       "    .dataframe tbody tr th {\n",
       "        vertical-align: top;\n",
       "    }\n",
       "\n",
       "    .dataframe thead th {\n",
       "        text-align: right;\n",
       "    }\n",
       "</style>\n",
       "<table border=\"1\" class=\"dataframe\">\n",
       "  <thead>\n",
       "    <tr style=\"text-align: right;\">\n",
       "      <th></th>\n",
       "      <th>id</th>\n",
       "      <th>carat</th>\n",
       "      <th>cut</th>\n",
       "      <th>color</th>\n",
       "      <th>clarity</th>\n",
       "      <th>depth</th>\n",
       "      <th>table</th>\n",
       "      <th>x</th>\n",
       "      <th>y</th>\n",
       "      <th>z</th>\n",
       "      <th>price</th>\n",
       "    </tr>\n",
       "  </thead>\n",
       "  <tbody>\n",
       "    <tr>\n",
       "      <th>0</th>\n",
       "      <td>0</td>\n",
       "      <td>1.50</td>\n",
       "      <td>Premium</td>\n",
       "      <td>F</td>\n",
       "      <td>VS2</td>\n",
       "      <td>61.5</td>\n",
       "      <td>58.0</td>\n",
       "      <td>7.32</td>\n",
       "      <td>7.34</td>\n",
       "      <td>4.51</td>\n",
       "      <td>9.588</td>\n",
       "    </tr>\n",
       "    <tr>\n",
       "      <th>1</th>\n",
       "      <td>1</td>\n",
       "      <td>2.01</td>\n",
       "      <td>Very Good</td>\n",
       "      <td>E</td>\n",
       "      <td>SI2</td>\n",
       "      <td>60.6</td>\n",
       "      <td>59.0</td>\n",
       "      <td>8.11</td>\n",
       "      <td>8.25</td>\n",
       "      <td>4.96</td>\n",
       "      <td>9.748</td>\n",
       "    </tr>\n",
       "    <tr>\n",
       "      <th>2</th>\n",
       "      <td>2</td>\n",
       "      <td>0.50</td>\n",
       "      <td>Ideal</td>\n",
       "      <td>E</td>\n",
       "      <td>SI1</td>\n",
       "      <td>61.6</td>\n",
       "      <td>57.0</td>\n",
       "      <td>5.13</td>\n",
       "      <td>5.09</td>\n",
       "      <td>3.15</td>\n",
       "      <td>7.255</td>\n",
       "    </tr>\n",
       "    <tr>\n",
       "      <th>3</th>\n",
       "      <td>3</td>\n",
       "      <td>0.25</td>\n",
       "      <td>Very Good</td>\n",
       "      <td>F</td>\n",
       "      <td>VVS2</td>\n",
       "      <td>61.6</td>\n",
       "      <td>57.0</td>\n",
       "      <td>4.05</td>\n",
       "      <td>4.08</td>\n",
       "      <td>2.50</td>\n",
       "      <td>6.450</td>\n",
       "    </tr>\n",
       "    <tr>\n",
       "      <th>4</th>\n",
       "      <td>4</td>\n",
       "      <td>0.52</td>\n",
       "      <td>Ideal</td>\n",
       "      <td>G</td>\n",
       "      <td>VS2</td>\n",
       "      <td>62.0</td>\n",
       "      <td>55.0</td>\n",
       "      <td>5.16</td>\n",
       "      <td>5.19</td>\n",
       "      <td>3.21</td>\n",
       "      <td>7.721</td>\n",
       "    </tr>\n",
       "  </tbody>\n",
       "</table>\n",
       "</div>"
      ],
      "text/plain": [
       "   id  carat        cut color clarity  depth  table     x     y     z  price\n",
       "0   0   1.50    Premium     F     VS2   61.5   58.0  7.32  7.34  4.51  9.588\n",
       "1   1   2.01  Very Good     E     SI2   60.6   59.0  8.11  8.25  4.96  9.748\n",
       "2   2   0.50      Ideal     E     SI1   61.6   57.0  5.13  5.09  3.15  7.255\n",
       "3   3   0.25  Very Good     F    VVS2   61.6   57.0  4.05  4.08  2.50  6.450\n",
       "4   4   0.52      Ideal     G     VS2   62.0   55.0  5.16  5.19  3.21  7.721"
      ]
     },
     "execution_count": 4,
     "metadata": {},
     "output_type": "execute_result"
    }
   ],
   "source": [
    "#check data\n",
    "df_train.head()"
   ]
  },
  {
   "cell_type": "code",
   "execution_count": 5,
   "metadata": {},
   "outputs": [
    {
     "data": {
      "text/plain": [
       "(40455, 11)"
      ]
     },
     "execution_count": 5,
     "metadata": {},
     "output_type": "execute_result"
    }
   ],
   "source": [
    "#check the number of columns and rows\n",
    "df_train.shape"
   ]
  },
  {
   "cell_type": "code",
   "execution_count": 6,
   "metadata": {},
   "outputs": [
    {
     "data": {
      "text/plain": [
       "Index(['id', 'carat', 'cut', 'color', 'clarity', 'depth', 'table', 'x', 'y',\n",
       "       'z', 'price'],\n",
       "      dtype='object')"
      ]
     },
     "execution_count": 6,
     "metadata": {},
     "output_type": "execute_result"
    }
   ],
   "source": [
    "#check the columns\n",
    "df_train.columns"
   ]
  },
  {
   "cell_type": "code",
   "execution_count": 7,
   "metadata": {},
   "outputs": [
    {
     "data": {
      "text/plain": [
       "id           int64\n",
       "carat      float64\n",
       "cut         object\n",
       "color       object\n",
       "clarity     object\n",
       "depth      float64\n",
       "table      float64\n",
       "x          float64\n",
       "y          float64\n",
       "z          float64\n",
       "price      float64\n",
       "dtype: object"
      ]
     },
     "execution_count": 7,
     "metadata": {},
     "output_type": "execute_result"
    }
   ],
   "source": [
    "#check types\n",
    "df_train.dtypes"
   ]
  },
  {
   "cell_type": "code",
   "execution_count": 8,
   "metadata": {},
   "outputs": [
    {
     "data": {
      "text/html": [
       "<div>\n",
       "<style scoped>\n",
       "    .dataframe tbody tr th:only-of-type {\n",
       "        vertical-align: middle;\n",
       "    }\n",
       "\n",
       "    .dataframe tbody tr th {\n",
       "        vertical-align: top;\n",
       "    }\n",
       "\n",
       "    .dataframe thead th {\n",
       "        text-align: right;\n",
       "    }\n",
       "</style>\n",
       "<table border=\"1\" class=\"dataframe\">\n",
       "  <thead>\n",
       "    <tr style=\"text-align: right;\">\n",
       "      <th></th>\n",
       "      <th>id</th>\n",
       "      <th>carat</th>\n",
       "      <th>cut</th>\n",
       "      <th>color</th>\n",
       "      <th>clarity</th>\n",
       "      <th>depth</th>\n",
       "      <th>table</th>\n",
       "      <th>x</th>\n",
       "      <th>y</th>\n",
       "      <th>z</th>\n",
       "      <th>price</th>\n",
       "    </tr>\n",
       "  </thead>\n",
       "  <tbody>\n",
       "    <tr>\n",
       "      <th>0</th>\n",
       "      <td>0</td>\n",
       "      <td>1.50</td>\n",
       "      <td>Premium</td>\n",
       "      <td>F</td>\n",
       "      <td>VS2</td>\n",
       "      <td>61.5</td>\n",
       "      <td>58.0</td>\n",
       "      <td>7.32</td>\n",
       "      <td>7.34</td>\n",
       "      <td>4.51</td>\n",
       "      <td>9.588</td>\n",
       "    </tr>\n",
       "    <tr>\n",
       "      <th>1</th>\n",
       "      <td>1</td>\n",
       "      <td>2.01</td>\n",
       "      <td>Very Good</td>\n",
       "      <td>E</td>\n",
       "      <td>SI2</td>\n",
       "      <td>60.6</td>\n",
       "      <td>59.0</td>\n",
       "      <td>8.11</td>\n",
       "      <td>8.25</td>\n",
       "      <td>4.96</td>\n",
       "      <td>9.748</td>\n",
       "    </tr>\n",
       "    <tr>\n",
       "      <th>2</th>\n",
       "      <td>2</td>\n",
       "      <td>0.50</td>\n",
       "      <td>Ideal</td>\n",
       "      <td>E</td>\n",
       "      <td>SI1</td>\n",
       "      <td>61.6</td>\n",
       "      <td>57.0</td>\n",
       "      <td>5.13</td>\n",
       "      <td>5.09</td>\n",
       "      <td>3.15</td>\n",
       "      <td>7.255</td>\n",
       "    </tr>\n",
       "    <tr>\n",
       "      <th>3</th>\n",
       "      <td>3</td>\n",
       "      <td>0.25</td>\n",
       "      <td>Very Good</td>\n",
       "      <td>F</td>\n",
       "      <td>VVS2</td>\n",
       "      <td>61.6</td>\n",
       "      <td>57.0</td>\n",
       "      <td>4.05</td>\n",
       "      <td>4.08</td>\n",
       "      <td>2.50</td>\n",
       "      <td>6.450</td>\n",
       "    </tr>\n",
       "    <tr>\n",
       "      <th>4</th>\n",
       "      <td>4</td>\n",
       "      <td>0.52</td>\n",
       "      <td>Ideal</td>\n",
       "      <td>G</td>\n",
       "      <td>VS2</td>\n",
       "      <td>62.0</td>\n",
       "      <td>55.0</td>\n",
       "      <td>5.16</td>\n",
       "      <td>5.19</td>\n",
       "      <td>3.21</td>\n",
       "      <td>7.721</td>\n",
       "    </tr>\n",
       "  </tbody>\n",
       "</table>\n",
       "</div>"
      ],
      "text/plain": [
       "   id  carat        cut color clarity  depth  table     x     y     z  price\n",
       "0   0   1.50    Premium     F     VS2   61.5   58.0  7.32  7.34  4.51  9.588\n",
       "1   1   2.01  Very Good     E     SI2   60.6   59.0  8.11  8.25  4.96  9.748\n",
       "2   2   0.50      Ideal     E     SI1   61.6   57.0  5.13  5.09  3.15  7.255\n",
       "3   3   0.25  Very Good     F    VVS2   61.6   57.0  4.05  4.08  2.50  6.450\n",
       "4   4   0.52      Ideal     G     VS2   62.0   55.0  5.16  5.19  3.21  7.721"
      ]
     },
     "execution_count": 8,
     "metadata": {},
     "output_type": "execute_result"
    }
   ],
   "source": [
    "#check data\n",
    "df_train.head()"
   ]
  },
  {
   "cell_type": "code",
   "execution_count": 9,
   "metadata": {},
   "outputs": [
    {
     "data": {
      "text/plain": [
       "id         0\n",
       "carat      0\n",
       "cut        0\n",
       "color      0\n",
       "clarity    0\n",
       "depth      0\n",
       "table      0\n",
       "x          0\n",
       "y          0\n",
       "z          0\n",
       "price      0\n",
       "dtype: int64"
      ]
     },
     "execution_count": 9,
     "metadata": {},
     "output_type": "execute_result"
    }
   ],
   "source": [
    "#check if there are any null value \n",
    "df_train.isnull().sum()"
   ]
  },
  {
   "cell_type": "markdown",
   "metadata": {},
   "source": [
    "It seems that there aren't any null value in the features.\n",
    "\n",
    "Let's check the target variable: `price`"
   ]
  },
  {
   "cell_type": "markdown",
   "metadata": {},
   "source": [
    "## Target Variable"
   ]
  },
  {
   "cell_type": "code",
   "execution_count": 131,
   "metadata": {},
   "outputs": [
    {
     "data": {
      "text/plain": [
       "<AxesSubplot:xlabel='price', ylabel='Count'>"
      ]
     },
     "execution_count": 131,
     "metadata": {},
     "output_type": "execute_result"
    },
    {
     "data": {
      "image/png": "[encoded data removed]",
      "text/plain": [
       "<Figure size 432x288 with 1 Axes>"
      ]
     },
     "metadata": {
      "needs_background": "light"
     },
     "output_type": "display_data"
    }
   ],
   "source": [
    "sns.histplot(data=df_train, x=\"price\", kde=True)"
   ]
  },
  {
   "cell_type": "markdown",
   "metadata": {},
   "source": [
    "## Numerical Predictors Variables"
   ]
  },
  {
   "cell_type": "code",
   "execution_count": 11,
   "metadata": {
    "scrolled": true
   },
   "outputs": [
    {
     "data": {
      "image/png": "[encoded data removed]",
      "text/plain": [
       "<Figure size 864x576 with 6 Axes>"
      ]
     },
     "metadata": {
      "needs_background": "light"
     },
     "output_type": "display_data"
    }
   ],
   "source": [
    "fig, axes = plt.subplots(nrows = 3, ncols = 2, figsize=(12, 8))\n",
    "axes = axes.flat\n",
    "numerical_cols = df_train.drop(\"price\", axis=1).select_dtypes(include=[\"int\", \"float\"]).columns\n",
    "\n",
    "for ind, col in enumerate(numerical_cols):\n",
    "    sns.histplot(data = df_train, x = col, color = list(mcolors.BASE_COLORS)[ind], kde=True, ax = axes[ind])\n",
    "    \n",
    "    axes[ind].set_title(col, fontsize = 10, fontweight = \"bold\")\n",
    "    axes[ind].tick_params(labelsize = 6)\n",
    "    axes[ind].set_xlabel(\"\")\n",
    "    \n",
    "fig.tight_layout()\n",
    "plt.subplots_adjust(top = 0.9)\n",
    "fig.suptitle(\"Numeric Variables Distribution\", fontsize = 15, fontweight = \"bold\");"
   ]
  },
  {
   "cell_type": "code",
   "execution_count": 12,
   "metadata": {},
   "outputs": [
    {
     "data": {
      "image/png": "[encoded data removed]",
      "text/plain": [
       "<Figure size 1080x576 with 6 Axes>"
      ]
     },
     "metadata": {
      "needs_background": "light"
     },
     "output_type": "display_data"
    }
   ],
   "source": [
    "fig, axes = plt.subplots(nrows = 3, ncols = 2, figsize=(15,8))\n",
    "axes = axes.flat\n",
    "for ind, cols in enumerate(numerical_cols):\n",
    "    sns.regplot(x = cols, y = \"price\", data = df_train, color = list(mcolors.BASE_COLORS)[ind], marker = \".\", ax = axes[ind])\n",
    "    \n",
    "    axes[ind].set_title(f\"price vs {cols}\", fontsize = 7, fontweight = \"bold\")\n",
    "    axes[ind].tick_params(labelsize = 6)\n",
    "    axes[ind].set_xlabel(\"\")\n",
    "    axes[ind].set_ylabel(\"\")\n",
    "\n",
    "fig.tight_layout()\n",
    "plt.subplots_adjust(top=0.9)\n",
    "fig.suptitle(\"Correlation with price\", fontsize = 15, fontweight = \"bold\");"
   ]
  },
  {
   "cell_type": "markdown",
   "metadata": {},
   "source": [
    "## Categorical Predictors Variables"
   ]
  },
  {
   "cell_type": "code",
   "execution_count": 13,
   "metadata": {},
   "outputs": [
    {
     "data": {
      "text/plain": [
       "Text(0.5, 0.98, 'Categorical Variables Distribution')"
      ]
     },
     "execution_count": 13,
     "metadata": {},
     "output_type": "execute_result"
    },
    {
     "data": {
      "image/png": "[encoded data removed]",
      "text/plain": [
       "<Figure size 864x576 with 3 Axes>"
      ]
     },
     "metadata": {
      "needs_background": "light"
     },
     "output_type": "display_data"
    }
   ],
   "source": [
    "fig, axes = plt.subplots(nrows=3, ncols=1, figsize=(12,8))\n",
    "axes = axes.flat\n",
    "categorical_cols = df_train.select_dtypes(include=[\"object\"]).columns\n",
    "for ind, cols in enumerate(categorical_cols):\n",
    "    df_train[cols].value_counts().plot.barh(ax=axes[ind])\n",
    "    axes[ind].set_title(cols, fontsize=10, fontweight=\"bold\")\n",
    "    axes[ind].tick_params(labelsize=12)\n",
    "    axes[ind].set_xlabel(\"\")\n",
    "    \n",
    "fig.tight_layout()\n",
    "plt.subplots_adjust(top=0.9)\n",
    "fig.suptitle(\"Categorical Variables Distribution\", fontsize=10, fontweight=\"bold\")"
   ]
  },
  {
   "cell_type": "code",
   "execution_count": 121,
   "metadata": {},
   "outputs": [
    {
     "data": {
      "image/png": "[encoded data removed]",
      "text/plain": [
       "<Figure size 1080x864 with 3 Axes>"
      ]
     },
     "metadata": {
      "needs_background": "light"
     },
     "output_type": "display_data"
    }
   ],
   "source": [
    "fig, axes = plt.subplots(nrows = 3, ncols = 1, figsize=(15,12))\n",
    "axes = axes.flat\n",
    "for ind, cols in enumerate(categorical_cols):\n",
    "    sns.boxplot(x = cols, y=\"price\", data=df_train, color=\"blue\", ax=axes[ind])\n",
    "\n",
    "    axes[ind].set_title(f\"{cols} vs price\", fontsize = 12, fontweight = \"bold\")\n",
    "    axes[ind].yaxis.set_major_formatter(ticker.EngFormatter())\n",
    "    axes[ind].tick_params(labelsize = 12)\n",
    "    axes[ind].set_xlabel(\"\")\n",
    "    axes[ind].set_ylabel(\"\")\n",
    "\n",
    "    \n",
    "fig.tight_layout()\n",
    "plt.subplots_adjust(top=0.9)\n",
    "fig.suptitle(\"Correlation with price\", fontsize = 15, fontweight = \"bold\");"
   ]
  },
  {
   "cell_type": "markdown",
   "metadata": {},
   "source": [
    "# Preprocessing Data"
   ]
  },
  {
   "cell_type": "markdown",
   "metadata": {},
   "source": [
    "## Dropping ID Variable"
   ]
  },
  {
   "cell_type": "markdown",
   "metadata": {},
   "source": [
    "As a first action, we will delete the `id` column because it does not give us any relevant information about the diamonds."
   ]
  },
  {
   "cell_type": "code",
   "execution_count": 15,
   "metadata": {},
   "outputs": [],
   "source": [
    "#drop columns: id -> Useless\n",
    "df_train = df_train.drop([\"id\"], axis=1)"
   ]
  },
  {
   "cell_type": "markdown",
   "metadata": {},
   "source": [
    "## Encoding Categorical Variables"
   ]
  },
  {
   "cell_type": "markdown",
   "metadata": {},
   "source": [
    "Now, let's check the values of the `object` type features."
   ]
  },
  {
   "cell_type": "code",
   "execution_count": 16,
   "metadata": {},
   "outputs": [
    {
     "data": {
      "text/plain": [
       "array(['VS2', 'SI2', 'SI1', 'VVS2', 'VS1', 'VVS1', 'IF', 'I1'],\n",
       "      dtype=object)"
      ]
     },
     "execution_count": 16,
     "metadata": {},
     "output_type": "execute_result"
    }
   ],
   "source": [
    "#check uniques\n",
    "df_train.clarity.unique()"
   ]
  },
  {
   "cell_type": "code",
   "execution_count": 17,
   "metadata": {},
   "outputs": [
    {
     "data": {
      "text/plain": [
       "array(['Premium', 'Very Good', 'Ideal', 'Good', 'Fair'], dtype=object)"
      ]
     },
     "execution_count": 17,
     "metadata": {},
     "output_type": "execute_result"
    }
   ],
   "source": [
    "df_train.cut.unique()"
   ]
  },
  {
   "cell_type": "code",
   "execution_count": 18,
   "metadata": {},
   "outputs": [
    {
     "data": {
      "text/plain": [
       "array(['F', 'E', 'G', 'D', 'J', 'I', 'H'], dtype=object)"
      ]
     },
     "execution_count": 18,
     "metadata": {},
     "output_type": "execute_result"
    }
   ],
   "source": [
    "df_train.color.unique()"
   ]
  },
  {
   "cell_type": "markdown",
   "metadata": {},
   "source": [
    "Going deeper into the diamond information, we have seen that the values of the three features (`clarity`, `cut`, and `color`) have a scale, that is, they follow an order."
   ]
  },
  {
   "cell_type": "markdown",
   "metadata": {},
   "source": [
    "Therefore, our strategy for converting these features to numerical is a hand encoding. By setting values from $1$ -> smallest value, to $n$ -> largest value.\n",
    "\n",
    "We create dictionaries where the keys are the categorical value and the values are the numerical values that we assign to them."
   ]
  },
  {
   "cell_type": "code",
   "execution_count": 19,
   "metadata": {},
   "outputs": [],
   "source": [
    "#review diamond documentation and see that there \n",
    "#is numerical order in the categorical features. Encode the categorical features by numerical features.\n",
    "encoding_cut =  {\"Fair\":1, \"Good\":2, \n",
    "          \"Ideal\":3, \"Very Good\":4, \"Premium\":5}\n",
    "    \n",
    "    \n",
    "encoding_color = {'E':1,'D':2,'F':3,\n",
    "             'G':4,'H':5,'I':6,\n",
    "             'J':7}\n",
    "\n",
    "encoding_clarity = {'I1':1,'SI2':2,\n",
    "               'SI1':3,'VS2':4,'VS1':5,\n",
    "               'VVS2':6,'VVS1':7,'IF':8}"
   ]
  },
  {
   "cell_type": "markdown",
   "metadata": {},
   "source": [
    "Using the `.apply` method we apply a `lambda` function in which we change the categorical value by the numerical value to each column.\n",
    "\n",
    "And store the numeric value in the DataFrame column to replace the values."
   ]
  },
  {
   "cell_type": "code",
   "execution_count": 20,
   "metadata": {},
   "outputs": [],
   "source": [
    "#replace categorical variables with numerical variables\n",
    "df_train[\"cut\"] = df_train[\"cut\"].apply(lambda x: encoding_cut[x])\n",
    "df_train[\"color\"] = df_train[\"color\"].apply(lambda x: encoding_color[x])\n",
    "df_train[\"clarity\"] = df_train[\"clarity\"].apply(lambda x: encoding_clarity[x])"
   ]
  },
  {
   "cell_type": "markdown",
   "metadata": {},
   "source": [
    "## Ols Regression"
   ]
  },
  {
   "cell_type": "markdown",
   "metadata": {},
   "source": [
    "By means of `ols` we will check the influence of the variables on the target variable."
   ]
  },
  {
   "cell_type": "code",
   "execution_count": 21,
   "metadata": {},
   "outputs": [
    {
     "data": {
      "text/html": [
       "<table class=\"simpletable\">\n",
       "<caption>OLS Regression Results</caption>\n",
       "<tr>\n",
       "  <th>Dep. Variable:</th>          <td>price</td>      <th>  R-squared:         </th>  <td>   0.962</td> \n",
       "</tr>\n",
       "<tr>\n",
       "  <th>Model:</th>                   <td>OLS</td>       <th>  Adj. R-squared:    </th>  <td>   0.962</td> \n",
       "</tr>\n",
       "<tr>\n",
       "  <th>Method:</th>             <td>Least Squares</td>  <th>  F-statistic:       </th>  <td>1.130e+05</td>\n",
       "</tr>\n",
       "<tr>\n",
       "  <th>Date:</th>             <td>Wed, 14 Apr 2021</td> <th>  Prob (F-statistic):</th>   <td>  0.00</td>  \n",
       "</tr>\n",
       "<tr>\n",
       "  <th>Time:</th>                 <td>18:25:54</td>     <th>  Log-Likelihood:    </th>  <td>  8045.6</td> \n",
       "</tr>\n",
       "<tr>\n",
       "  <th>No. Observations:</th>      <td> 40455</td>      <th>  AIC:               </th> <td>-1.607e+04</td>\n",
       "</tr>\n",
       "<tr>\n",
       "  <th>Df Residuals:</th>          <td> 40445</td>      <th>  BIC:               </th> <td>-1.599e+04</td>\n",
       "</tr>\n",
       "<tr>\n",
       "  <th>Df Model:</th>              <td>     9</td>      <th>                     </th>      <td> </td>    \n",
       "</tr>\n",
       "<tr>\n",
       "  <th>Covariance Type:</th>      <td>nonrobust</td>    <th>                     </th>      <td> </td>    \n",
       "</tr>\n",
       "</table>\n",
       "<table class=\"simpletable\">\n",
       "<tr>\n",
       "      <td></td>         <th>coef</th>     <th>std err</th>      <th>t</th>      <th>P>|t|</th>  <th>[0.025</th>    <th>0.975]</th>  \n",
       "</tr>\n",
       "<tr>\n",
       "  <th>Intercept</th> <td>   -1.5400</td> <td>    0.070</td> <td>  -21.989</td> <td> 0.000</td> <td>   -1.677</td> <td>   -1.403</td>\n",
       "</tr>\n",
       "<tr>\n",
       "  <th>carat</th>     <td>   -0.6100</td> <td>    0.010</td> <td>  -63.207</td> <td> 0.000</td> <td>   -0.629</td> <td>   -0.591</td>\n",
       "</tr>\n",
       "<tr>\n",
       "  <th>cut</th>       <td>    0.0074</td> <td>    0.001</td> <td>    7.469</td> <td> 0.000</td> <td>    0.005</td> <td>    0.009</td>\n",
       "</tr>\n",
       "<tr>\n",
       "  <th>color</th>     <td>   -0.0721</td> <td>    0.001</td> <td> -122.497</td> <td> 0.000</td> <td>   -0.073</td> <td>   -0.071</td>\n",
       "</tr>\n",
       "<tr>\n",
       "  <th>clarity</th>   <td>    0.1173</td> <td>    0.001</td> <td>  177.315</td> <td> 0.000</td> <td>    0.116</td> <td>    0.119</td>\n",
       "</tr>\n",
       "<tr>\n",
       "  <th>depth</th>     <td>    0.0428</td> <td>    0.001</td> <td>   50.631</td> <td> 0.000</td> <td>    0.041</td> <td>    0.044</td>\n",
       "</tr>\n",
       "<tr>\n",
       "  <th>table</th>     <td>   -0.0006</td> <td>    0.000</td> <td>   -1.159</td> <td> 0.246</td> <td>   -0.002</td> <td>    0.000</td>\n",
       "</tr>\n",
       "<tr>\n",
       "  <th>x</th>         <td>    1.1490</td> <td>    0.006</td> <td>  181.379</td> <td> 0.000</td> <td>    1.137</td> <td>    1.161</td>\n",
       "</tr>\n",
       "<tr>\n",
       "  <th>y</th>         <td>    0.0402</td> <td>    0.004</td> <td>   10.552</td> <td> 0.000</td> <td>    0.033</td> <td>    0.048</td>\n",
       "</tr>\n",
       "<tr>\n",
       "  <th>z</th>         <td>    0.0392</td> <td>    0.006</td> <td>    6.463</td> <td> 0.000</td> <td>    0.027</td> <td>    0.051</td>\n",
       "</tr>\n",
       "</table>\n",
       "<table class=\"simpletable\">\n",
       "<tr>\n",
       "  <th>Omnibus:</th>       <td>75130.470</td> <th>  Durbin-Watson:     </th>   <td>   2.005</td>   \n",
       "</tr>\n",
       "<tr>\n",
       "  <th>Prob(Omnibus):</th>  <td> 0.000</td>   <th>  Jarque-Bera (JB):  </th> <td>605187869.127</td>\n",
       "</tr>\n",
       "<tr>\n",
       "  <th>Skew:</th>           <td>13.334</td>   <th>  Prob(JB):          </th>   <td>    0.00</td>   \n",
       "</tr>\n",
       "<tr>\n",
       "  <th>Kurtosis:</th>       <td>601.596</td>  <th>  Cond. No.          </th>   <td>6.06e+03</td>   \n",
       "</tr>\n",
       "</table><br/><br/>Notes:<br/>[1] Standard Errors assume that the covariance matrix of the errors is correctly specified.<br/>[2] The condition number is large, 6.06e+03. This might indicate that there are<br/>strong multicollinearity or other numerical problems."
      ],
      "text/plain": [
       "<class 'statsmodels.iolib.summary.Summary'>\n",
       "\"\"\"\n",
       "                            OLS Regression Results                            \n",
       "==============================================================================\n",
       "Dep. Variable:                  price   R-squared:                       0.962\n",
       "Model:                            OLS   Adj. R-squared:                  0.962\n",
       "Method:                 Least Squares   F-statistic:                 1.130e+05\n",
       "Date:                Wed, 14 Apr 2021   Prob (F-statistic):               0.00\n",
       "Time:                        18:25:54   Log-Likelihood:                 8045.6\n",
       "No. Observations:               40455   AIC:                        -1.607e+04\n",
       "Df Residuals:                   40445   BIC:                        -1.599e+04\n",
       "Df Model:                           9                                         \n",
       "Covariance Type:            nonrobust                                         \n",
       "==============================================================================\n",
       "                 coef    std err          t      P>|t|      [0.025      0.975]\n",
       "------------------------------------------------------------------------------\n",
       "Intercept     -1.5400      0.070    -21.989      0.000      -1.677      -1.403\n",
       "carat         -0.6100      0.010    -63.207      0.000      -0.629      -0.591\n",
       "cut            0.0074      0.001      7.469      0.000       0.005       0.009\n",
       "color         -0.0721      0.001   -122.497      0.000      -0.073      -0.071\n",
       "clarity        0.1173      0.001    177.315      0.000       0.116       0.119\n",
       "depth          0.0428      0.001     50.631      0.000       0.041       0.044\n",
       "table         -0.0006      0.000     -1.159      0.246      -0.002       0.000\n",
       "x              1.1490      0.006    181.379      0.000       1.137       1.161\n",
       "y              0.0402      0.004     10.552      0.000       0.033       0.048\n",
       "z              0.0392      0.006      6.463      0.000       0.027       0.051\n",
       "==============================================================================\n",
       "Omnibus:                    75130.470   Durbin-Watson:                   2.005\n",
       "Prob(Omnibus):                  0.000   Jarque-Bera (JB):        605187869.127\n",
       "Skew:                          13.334   Prob(JB):                         0.00\n",
       "Kurtosis:                     601.596   Cond. No.                     6.06e+03\n",
       "==============================================================================\n",
       "\n",
       "Notes:\n",
       "[1] Standard Errors assume that the covariance matrix of the errors is correctly specified.\n",
       "[2] The condition number is large, 6.06e+03. This might indicate that there are\n",
       "strong multicollinearity or other numerical problems.\n",
       "\"\"\""
      ]
     },
     "execution_count": 21,
     "metadata": {},
     "output_type": "execute_result"
    }
   ],
   "source": [
    "#Let's get the summary of the metrics.\n",
    "#Set 'price' as target variable, and the rest as predictors variables. And, them, fit the model.\n",
    "train_results = smf.ols(\n",
    "    \"price ~ carat + cut + color + clarity + depth + table + x+ y + z\",\n",
    "    data=df_train).fit()\n",
    "#We see the summary\n",
    "train_results.summary()"
   ]
  },
  {
   "cell_type": "markdown",
   "metadata": {},
   "source": [
    "As we can see, the `R-squared` label has a value of `0.962`. `R-squared` is the percentage of variation of the target variable that explains its relationship with one or more predictor variables. This value is between $0$ and $1$, and the closer to $1$ the better the fit of the model to data.\n",
    "\n",
    "In the $P>|t|$ tag of the `table` feature it exceeds $0.05$ so, therefore, this feature does not give us information regarding the target variable."
   ]
  },
  {
   "cell_type": "markdown",
   "metadata": {},
   "source": [
    "So, we proceed to drop the `table` feature."
   ]
  },
  {
   "cell_type": "code",
   "execution_count": 22,
   "metadata": {},
   "outputs": [],
   "source": [
    "#drop \"table\" column\n",
    "df_train = df_train.drop(\"table\", axis=1)"
   ]
  },
  {
   "cell_type": "markdown",
   "metadata": {},
   "source": [
    "We check if `R-squared` has been changed."
   ]
  },
  {
   "cell_type": "code",
   "execution_count": 23,
   "metadata": {},
   "outputs": [
    {
     "data": {
      "text/html": [
       "<table class=\"simpletable\">\n",
       "<caption>OLS Regression Results</caption>\n",
       "<tr>\n",
       "  <th>Dep. Variable:</th>          <td>price</td>      <th>  R-squared:         </th>  <td>   0.962</td> \n",
       "</tr>\n",
       "<tr>\n",
       "  <th>Model:</th>                   <td>OLS</td>       <th>  Adj. R-squared:    </th>  <td>   0.962</td> \n",
       "</tr>\n",
       "<tr>\n",
       "  <th>Method:</th>             <td>Least Squares</td>  <th>  F-statistic:       </th>  <td>1.272e+05</td>\n",
       "</tr>\n",
       "<tr>\n",
       "  <th>Date:</th>             <td>Wed, 14 Apr 2021</td> <th>  Prob (F-statistic):</th>   <td>  0.00</td>  \n",
       "</tr>\n",
       "<tr>\n",
       "  <th>Time:</th>                 <td>18:25:57</td>     <th>  Log-Likelihood:    </th>  <td>  8044.9</td> \n",
       "</tr>\n",
       "<tr>\n",
       "  <th>No. Observations:</th>      <td> 40455</td>      <th>  AIC:               </th> <td>-1.607e+04</td>\n",
       "</tr>\n",
       "<tr>\n",
       "  <th>Df Residuals:</th>          <td> 40446</td>      <th>  BIC:               </th> <td>-1.599e+04</td>\n",
       "</tr>\n",
       "<tr>\n",
       "  <th>Df Model:</th>              <td>     8</td>      <th>                     </th>      <td> </td>    \n",
       "</tr>\n",
       "<tr>\n",
       "  <th>Covariance Type:</th>      <td>nonrobust</td>    <th>                     </th>      <td> </td>    \n",
       "</tr>\n",
       "</table>\n",
       "<table class=\"simpletable\">\n",
       "<tr>\n",
       "      <td></td>         <th>coef</th>     <th>std err</th>      <th>t</th>      <th>P>|t|</th>  <th>[0.025</th>    <th>0.975]</th>  \n",
       "</tr>\n",
       "<tr>\n",
       "  <th>Intercept</th> <td>   -1.5861</td> <td>    0.058</td> <td>  -27.530</td> <td> 0.000</td> <td>   -1.699</td> <td>   -1.473</td>\n",
       "</tr>\n",
       "<tr>\n",
       "  <th>carat</th>     <td>   -0.6104</td> <td>    0.010</td> <td>  -63.311</td> <td> 0.000</td> <td>   -0.629</td> <td>   -0.592</td>\n",
       "</tr>\n",
       "<tr>\n",
       "  <th>cut</th>       <td>    0.0072</td> <td>    0.001</td> <td>    7.378</td> <td> 0.000</td> <td>    0.005</td> <td>    0.009</td>\n",
       "</tr>\n",
       "<tr>\n",
       "  <th>color</th>     <td>   -0.0721</td> <td>    0.001</td> <td> -122.492</td> <td> 0.000</td> <td>   -0.073</td> <td>   -0.071</td>\n",
       "</tr>\n",
       "<tr>\n",
       "  <th>clarity</th>   <td>    0.1174</td> <td>    0.001</td> <td>  178.839</td> <td> 0.000</td> <td>    0.116</td> <td>    0.119</td>\n",
       "</tr>\n",
       "<tr>\n",
       "  <th>depth</th>     <td>    0.0431</td> <td>    0.001</td> <td>   52.397</td> <td> 0.000</td> <td>    0.041</td> <td>    0.045</td>\n",
       "</tr>\n",
       "<tr>\n",
       "  <th>x</th>         <td>    1.1489</td> <td>    0.006</td> <td>  181.389</td> <td> 0.000</td> <td>    1.136</td> <td>    1.161</td>\n",
       "</tr>\n",
       "<tr>\n",
       "  <th>y</th>         <td>    0.0404</td> <td>    0.004</td> <td>   10.593</td> <td> 0.000</td> <td>    0.033</td> <td>    0.048</td>\n",
       "</tr>\n",
       "<tr>\n",
       "  <th>z</th>         <td>    0.0393</td> <td>    0.006</td> <td>    6.476</td> <td> 0.000</td> <td>    0.027</td> <td>    0.051</td>\n",
       "</tr>\n",
       "</table>\n",
       "<table class=\"simpletable\">\n",
       "<tr>\n",
       "  <th>Omnibus:</th>       <td>75126.423</td> <th>  Durbin-Watson:     </th>   <td>   2.005</td>   \n",
       "</tr>\n",
       "<tr>\n",
       "  <th>Prob(Omnibus):</th>  <td> 0.000</td>   <th>  Jarque-Bera (JB):  </th> <td>605125108.949</td>\n",
       "</tr>\n",
       "<tr>\n",
       "  <th>Skew:</th>           <td>13.332</td>   <th>  Prob(JB):          </th>   <td>    0.00</td>   \n",
       "</tr>\n",
       "<tr>\n",
       "  <th>Kurtosis:</th>       <td>601.565</td>  <th>  Cond. No.          </th>   <td>3.68e+03</td>   \n",
       "</tr>\n",
       "</table><br/><br/>Notes:<br/>[1] Standard Errors assume that the covariance matrix of the errors is correctly specified.<br/>[2] The condition number is large, 3.68e+03. This might indicate that there are<br/>strong multicollinearity or other numerical problems."
      ],
      "text/plain": [
       "<class 'statsmodels.iolib.summary.Summary'>\n",
       "\"\"\"\n",
       "                            OLS Regression Results                            \n",
       "==============================================================================\n",
       "Dep. Variable:                  price   R-squared:                       0.962\n",
       "Model:                            OLS   Adj. R-squared:                  0.962\n",
       "Method:                 Least Squares   F-statistic:                 1.272e+05\n",
       "Date:                Wed, 14 Apr 2021   Prob (F-statistic):               0.00\n",
       "Time:                        18:25:57   Log-Likelihood:                 8044.9\n",
       "No. Observations:               40455   AIC:                        -1.607e+04\n",
       "Df Residuals:                   40446   BIC:                        -1.599e+04\n",
       "Df Model:                           8                                         \n",
       "Covariance Type:            nonrobust                                         \n",
       "==============================================================================\n",
       "                 coef    std err          t      P>|t|      [0.025      0.975]\n",
       "------------------------------------------------------------------------------\n",
       "Intercept     -1.5861      0.058    -27.530      0.000      -1.699      -1.473\n",
       "carat         -0.6104      0.010    -63.311      0.000      -0.629      -0.592\n",
       "cut            0.0072      0.001      7.378      0.000       0.005       0.009\n",
       "color         -0.0721      0.001   -122.492      0.000      -0.073      -0.071\n",
       "clarity        0.1174      0.001    178.839      0.000       0.116       0.119\n",
       "depth          0.0431      0.001     52.397      0.000       0.041       0.045\n",
       "x              1.1489      0.006    181.389      0.000       1.136       1.161\n",
       "y              0.0404      0.004     10.593      0.000       0.033       0.048\n",
       "z              0.0393      0.006      6.476      0.000       0.027       0.051\n",
       "==============================================================================\n",
       "Omnibus:                    75126.423   Durbin-Watson:                   2.005\n",
       "Prob(Omnibus):                  0.000   Jarque-Bera (JB):        605125108.949\n",
       "Skew:                          13.332   Prob(JB):                         0.00\n",
       "Kurtosis:                     601.565   Cond. No.                     3.68e+03\n",
       "==============================================================================\n",
       "\n",
       "Notes:\n",
       "[1] Standard Errors assume that the covariance matrix of the errors is correctly specified.\n",
       "[2] The condition number is large, 3.68e+03. This might indicate that there are\n",
       "strong multicollinearity or other numerical problems.\n",
       "\"\"\""
      ]
     },
     "execution_count": 23,
     "metadata": {},
     "output_type": "execute_result"
    }
   ],
   "source": [
    "#chek metrics\n",
    "train_results = smf.ols(\n",
    "    \"price ~ carat + cut + color + clarity + depth + x + y + z\",\n",
    "    data=df_train).fit()\n",
    "train_results.summary()"
   ]
  },
  {
   "cell_type": "markdown",
   "metadata": {},
   "source": [
    "We see that it has exactly the same value, so the deleted variable did not explain anything with respect to the target variable."
   ]
  },
  {
   "cell_type": "markdown",
   "metadata": {},
   "source": [
    "We save the cleaned DataFrame in a `.csv` file."
   ]
  },
  {
   "cell_type": "code",
   "execution_count": 24,
   "metadata": {},
   "outputs": [],
   "source": [
    "#convert to .csv\n",
    "df_train.to_csv(\"input/train_clean.csv\", header=True, index=False)"
   ]
  },
  {
   "cell_type": "markdown",
   "metadata": {},
   "source": [
    "# Creating Models"
   ]
  },
  {
   "cell_type": "markdown",
   "metadata": {},
   "source": [
    "## Linear Regression"
   ]
  },
  {
   "cell_type": "markdown",
   "metadata": {},
   "source": [
    "To begin, we will perform a linear regression model as a means of predicting the price of diamonds based on the predictor variables we saw earlier."
   ]
  },
  {
   "cell_type": "code",
   "execution_count": 25,
   "metadata": {},
   "outputs": [],
   "source": [
    "#import libraries\n",
    "import seaborn as sns\n",
    "import matplotlib.pyplot as plt\n",
    "import pandas as pd\n",
    "from sklearn.model_selection import train_test_split, cross_validate\n",
    "from sklearn.metrics import mean_squared_error as mse, make_scorer, r2_score as r2\n",
    "from sklearn.linear_model import LinearRegression"
   ]
  },
  {
   "cell_type": "markdown",
   "metadata": {},
   "source": [
    "We set the variable `X` for the predictor variables, and the variable `y` for the target variable."
   ]
  },
  {
   "cell_type": "code",
   "execution_count": 26,
   "metadata": {},
   "outputs": [],
   "source": [
    "#take predictors variables and response variable\n",
    "X = df_train.drop(\"price\", axis=1)\n",
    "y = df_train[\"price\"]"
   ]
  },
  {
   "cell_type": "markdown",
   "metadata": {},
   "source": [
    "We use the `train_test_split` method to split the `X` and `y` into a 0.8 train and a 0.2 test.\n",
    "\n",
    "We will train the model with the 0.8 selected by the method and test it with the 0.2 of the test."
   ]
  },
  {
   "cell_type": "code",
   "execution_count": 27,
   "metadata": {},
   "outputs": [],
   "source": [
    "#split the data 0.8 traon, 0.2 test\n",
    "X_train, X_test, y_train, y_test = train_test_split(X, y, test_size = 0.2, random_state=444)"
   ]
  },
  {
   "cell_type": "markdown",
   "metadata": {},
   "source": [
    "We trained the linear regression model with the 0.8 train and made predictions."
   ]
  },
  {
   "cell_type": "code",
   "execution_count": 28,
   "metadata": {},
   "outputs": [],
   "source": [
    "#select the model and put it into a variable\n",
    "lr = LinearRegression()\n",
    "\n",
    "#train model\n",
    "lr.fit(X_train, y_train)\n",
    "\n",
    "#predict y\n",
    "y_pred_train_lr = lr.predict(X_train)\n",
    "y_pred_test_lr = lr.predict(X_test)"
   ]
  },
  {
   "cell_type": "markdown",
   "metadata": {},
   "source": [
    "We compute de mean square error with `mean_square_error` method."
   ]
  },
  {
   "cell_type": "code",
   "execution_count": 72,
   "metadata": {},
   "outputs": [],
   "source": [
    "#compute mean square error\n",
    "mse_train_lr = mse(y_train, y_pred_train_lr)\n",
    "mse_test_lr = mse(y_test, y_pred_test_lr)"
   ]
  },
  {
   "cell_type": "markdown",
   "metadata": {},
   "source": [
    "We check the mean square error of the and of the 0.2 of the test"
   ]
  },
  {
   "cell_type": "code",
   "execution_count": 30,
   "metadata": {},
   "outputs": [
    {
     "data": {
      "text/plain": [
       "0.03440628945958964"
      ]
     },
     "execution_count": 30,
     "metadata": {},
     "output_type": "execute_result"
    }
   ],
   "source": [
    "#check mean square error\n",
    "mse_test_lr"
   ]
  },
  {
   "cell_type": "code",
   "execution_count": 31,
   "metadata": {},
   "outputs": [
    {
     "data": {
      "text/html": [
       "<div>\n",
       "<style scoped>\n",
       "    .dataframe tbody tr th:only-of-type {\n",
       "        vertical-align: middle;\n",
       "    }\n",
       "\n",
       "    .dataframe tbody tr th {\n",
       "        vertical-align: top;\n",
       "    }\n",
       "\n",
       "    .dataframe thead th {\n",
       "        text-align: right;\n",
       "    }\n",
       "</style>\n",
       "<table border=\"1\" class=\"dataframe\">\n",
       "  <thead>\n",
       "    <tr style=\"text-align: right;\">\n",
       "      <th></th>\n",
       "      <th>fit_time</th>\n",
       "      <th>score_time</th>\n",
       "      <th>test_score</th>\n",
       "      <th>train_score</th>\n",
       "    </tr>\n",
       "  </thead>\n",
       "  <tbody>\n",
       "    <tr>\n",
       "      <th>0</th>\n",
       "      <td>0.017953</td>\n",
       "      <td>0.003989</td>\n",
       "      <td>0.043616</td>\n",
       "      <td>0.038866</td>\n",
       "    </tr>\n",
       "    <tr>\n",
       "      <th>1</th>\n",
       "      <td>0.016957</td>\n",
       "      <td>0.002994</td>\n",
       "      <td>0.026866</td>\n",
       "      <td>0.040749</td>\n",
       "    </tr>\n",
       "    <tr>\n",
       "      <th>2</th>\n",
       "      <td>0.016954</td>\n",
       "      <td>0.002992</td>\n",
       "      <td>0.041883</td>\n",
       "      <td>0.039058</td>\n",
       "    </tr>\n",
       "    <tr>\n",
       "      <th>3</th>\n",
       "      <td>0.012966</td>\n",
       "      <td>0.004988</td>\n",
       "      <td>0.048625</td>\n",
       "      <td>0.038320</td>\n",
       "    </tr>\n",
       "    <tr>\n",
       "      <th>4</th>\n",
       "      <td>0.014961</td>\n",
       "      <td>0.001994</td>\n",
       "      <td>0.027680</td>\n",
       "      <td>0.040662</td>\n",
       "    </tr>\n",
       "    <tr>\n",
       "      <th>5</th>\n",
       "      <td>0.010974</td>\n",
       "      <td>0.002989</td>\n",
       "      <td>0.055004</td>\n",
       "      <td>0.037668</td>\n",
       "    </tr>\n",
       "    <tr>\n",
       "      <th>6</th>\n",
       "      <td>0.009977</td>\n",
       "      <td>0.001992</td>\n",
       "      <td>0.078177</td>\n",
       "      <td>0.035598</td>\n",
       "    </tr>\n",
       "    <tr>\n",
       "      <th>7</th>\n",
       "      <td>0.010971</td>\n",
       "      <td>0.001994</td>\n",
       "      <td>0.026507</td>\n",
       "      <td>0.040784</td>\n",
       "    </tr>\n",
       "    <tr>\n",
       "      <th>8</th>\n",
       "      <td>0.009972</td>\n",
       "      <td>0.001993</td>\n",
       "      <td>0.367902</td>\n",
       "      <td>0.038522</td>\n",
       "    </tr>\n",
       "    <tr>\n",
       "      <th>9</th>\n",
       "      <td>0.014962</td>\n",
       "      <td>0.002990</td>\n",
       "      <td>0.027187</td>\n",
       "      <td>0.040708</td>\n",
       "    </tr>\n",
       "    <tr>\n",
       "      <th>10</th>\n",
       "      <td>0.011969</td>\n",
       "      <td>0.001993</td>\n",
       "      <td>0.050193</td>\n",
       "      <td>0.038148</td>\n",
       "    </tr>\n",
       "    <tr>\n",
       "      <th>11</th>\n",
       "      <td>0.009974</td>\n",
       "      <td>0.002991</td>\n",
       "      <td>0.027595</td>\n",
       "      <td>0.040663</td>\n",
       "    </tr>\n",
       "    <tr>\n",
       "      <th>12</th>\n",
       "      <td>0.010972</td>\n",
       "      <td>0.002991</td>\n",
       "      <td>0.211025</td>\n",
       "      <td>0.038145</td>\n",
       "    </tr>\n",
       "    <tr>\n",
       "      <th>13</th>\n",
       "      <td>0.009972</td>\n",
       "      <td>0.001994</td>\n",
       "      <td>0.027006</td>\n",
       "      <td>0.040735</td>\n",
       "    </tr>\n",
       "    <tr>\n",
       "      <th>14</th>\n",
       "      <td>0.012964</td>\n",
       "      <td>0.001995</td>\n",
       "      <td>0.025713</td>\n",
       "      <td>0.040873</td>\n",
       "    </tr>\n",
       "    <tr>\n",
       "      <th>15</th>\n",
       "      <td>0.010971</td>\n",
       "      <td>0.001995</td>\n",
       "      <td>0.069631</td>\n",
       "      <td>0.036125</td>\n",
       "    </tr>\n",
       "    <tr>\n",
       "      <th>16</th>\n",
       "      <td>0.009974</td>\n",
       "      <td>0.001993</td>\n",
       "      <td>0.050033</td>\n",
       "      <td>0.038621</td>\n",
       "    </tr>\n",
       "    <tr>\n",
       "      <th>17</th>\n",
       "      <td>0.011970</td>\n",
       "      <td>0.001992</td>\n",
       "      <td>0.039602</td>\n",
       "      <td>0.039308</td>\n",
       "    </tr>\n",
       "    <tr>\n",
       "      <th>18</th>\n",
       "      <td>0.009972</td>\n",
       "      <td>0.001991</td>\n",
       "      <td>0.043091</td>\n",
       "      <td>0.038927</td>\n",
       "    </tr>\n",
       "    <tr>\n",
       "      <th>19</th>\n",
       "      <td>0.009976</td>\n",
       "      <td>0.001992</td>\n",
       "      <td>0.026912</td>\n",
       "      <td>0.040741</td>\n",
       "    </tr>\n",
       "    <tr>\n",
       "      <th>20</th>\n",
       "      <td>0.010974</td>\n",
       "      <td>0.001993</td>\n",
       "      <td>0.085817</td>\n",
       "      <td>0.034432</td>\n",
       "    </tr>\n",
       "    <tr>\n",
       "      <th>21</th>\n",
       "      <td>0.011971</td>\n",
       "      <td>0.001993</td>\n",
       "      <td>0.028596</td>\n",
       "      <td>0.040553</td>\n",
       "    </tr>\n",
       "    <tr>\n",
       "      <th>22</th>\n",
       "      <td>0.009974</td>\n",
       "      <td>0.001994</td>\n",
       "      <td>0.027255</td>\n",
       "      <td>0.040702</td>\n",
       "    </tr>\n",
       "    <tr>\n",
       "      <th>23</th>\n",
       "      <td>0.010976</td>\n",
       "      <td>0.001992</td>\n",
       "      <td>0.037661</td>\n",
       "      <td>0.039524</td>\n",
       "    </tr>\n",
       "    <tr>\n",
       "      <th>24</th>\n",
       "      <td>0.009972</td>\n",
       "      <td>0.001994</td>\n",
       "      <td>0.025930</td>\n",
       "      <td>0.040847</td>\n",
       "    </tr>\n",
       "    <tr>\n",
       "      <th>25</th>\n",
       "      <td>0.009971</td>\n",
       "      <td>0.001994</td>\n",
       "      <td>0.044469</td>\n",
       "      <td>0.038773</td>\n",
       "    </tr>\n",
       "    <tr>\n",
       "      <th>26</th>\n",
       "      <td>0.010975</td>\n",
       "      <td>0.001992</td>\n",
       "      <td>0.028967</td>\n",
       "      <td>0.040523</td>\n",
       "    </tr>\n",
       "    <tr>\n",
       "      <th>27</th>\n",
       "      <td>0.010973</td>\n",
       "      <td>0.001992</td>\n",
       "      <td>0.026955</td>\n",
       "      <td>0.040732</td>\n",
       "    </tr>\n",
       "    <tr>\n",
       "      <th>28</th>\n",
       "      <td>0.009974</td>\n",
       "      <td>0.001998</td>\n",
       "      <td>0.069687</td>\n",
       "      <td>0.036145</td>\n",
       "    </tr>\n",
       "    <tr>\n",
       "      <th>29</th>\n",
       "      <td>0.009974</td>\n",
       "      <td>0.001994</td>\n",
       "      <td>0.351553</td>\n",
       "      <td>0.038657</td>\n",
       "    </tr>\n",
       "    <tr>\n",
       "      <th>30</th>\n",
       "      <td>0.014966</td>\n",
       "      <td>0.001989</td>\n",
       "      <td>0.058027</td>\n",
       "      <td>0.037303</td>\n",
       "    </tr>\n",
       "    <tr>\n",
       "      <th>31</th>\n",
       "      <td>0.014970</td>\n",
       "      <td>0.002965</td>\n",
       "      <td>0.028500</td>\n",
       "      <td>0.040562</td>\n",
       "    </tr>\n",
       "    <tr>\n",
       "      <th>32</th>\n",
       "      <td>0.014960</td>\n",
       "      <td>0.001994</td>\n",
       "      <td>0.043307</td>\n",
       "      <td>0.038932</td>\n",
       "    </tr>\n",
       "    <tr>\n",
       "      <th>33</th>\n",
       "      <td>0.009974</td>\n",
       "      <td>0.001994</td>\n",
       "      <td>0.026568</td>\n",
       "      <td>0.040789</td>\n",
       "    </tr>\n",
       "    <tr>\n",
       "      <th>34</th>\n",
       "      <td>0.013963</td>\n",
       "      <td>0.001994</td>\n",
       "      <td>0.076085</td>\n",
       "      <td>0.035456</td>\n",
       "    </tr>\n",
       "    <tr>\n",
       "      <th>35</th>\n",
       "      <td>0.010972</td>\n",
       "      <td>0.001992</td>\n",
       "      <td>0.025906</td>\n",
       "      <td>0.040851</td>\n",
       "    </tr>\n",
       "    <tr>\n",
       "      <th>36</th>\n",
       "      <td>0.011969</td>\n",
       "      <td>0.002989</td>\n",
       "      <td>0.361673</td>\n",
       "      <td>0.038489</td>\n",
       "    </tr>\n",
       "    <tr>\n",
       "      <th>37</th>\n",
       "      <td>0.011965</td>\n",
       "      <td>0.002959</td>\n",
       "      <td>0.030738</td>\n",
       "      <td>0.040764</td>\n",
       "    </tr>\n",
       "    <tr>\n",
       "      <th>38</th>\n",
       "      <td>0.010937</td>\n",
       "      <td>0.001993</td>\n",
       "      <td>0.026975</td>\n",
       "      <td>0.040732</td>\n",
       "    </tr>\n",
       "    <tr>\n",
       "      <th>39</th>\n",
       "      <td>0.012933</td>\n",
       "      <td>0.001994</td>\n",
       "      <td>0.061053</td>\n",
       "      <td>0.036994</td>\n",
       "    </tr>\n",
       "    <tr>\n",
       "      <th>40</th>\n",
       "      <td>0.010975</td>\n",
       "      <td>0.001993</td>\n",
       "      <td>0.027356</td>\n",
       "      <td>0.040694</td>\n",
       "    </tr>\n",
       "    <tr>\n",
       "      <th>41</th>\n",
       "      <td>0.010971</td>\n",
       "      <td>0.001994</td>\n",
       "      <td>0.027635</td>\n",
       "      <td>0.040647</td>\n",
       "    </tr>\n",
       "    <tr>\n",
       "      <th>42</th>\n",
       "      <td>0.009974</td>\n",
       "      <td>0.001994</td>\n",
       "      <td>0.071854</td>\n",
       "      <td>0.035948</td>\n",
       "    </tr>\n",
       "    <tr>\n",
       "      <th>43</th>\n",
       "      <td>0.010971</td>\n",
       "      <td>0.001993</td>\n",
       "      <td>0.420150</td>\n",
       "      <td>0.035203</td>\n",
       "    </tr>\n",
       "    <tr>\n",
       "      <th>44</th>\n",
       "      <td>0.009975</td>\n",
       "      <td>0.003021</td>\n",
       "      <td>0.041953</td>\n",
       "      <td>0.039053</td>\n",
       "    </tr>\n",
       "    <tr>\n",
       "      <th>45</th>\n",
       "      <td>0.009978</td>\n",
       "      <td>0.001992</td>\n",
       "      <td>0.047565</td>\n",
       "      <td>0.038430</td>\n",
       "    </tr>\n",
       "    <tr>\n",
       "      <th>46</th>\n",
       "      <td>0.011934</td>\n",
       "      <td>0.001994</td>\n",
       "      <td>0.029610</td>\n",
       "      <td>0.040448</td>\n",
       "    </tr>\n",
       "    <tr>\n",
       "      <th>47</th>\n",
       "      <td>0.010945</td>\n",
       "      <td>0.001990</td>\n",
       "      <td>0.041745</td>\n",
       "      <td>0.039071</td>\n",
       "    </tr>\n",
       "    <tr>\n",
       "      <th>48</th>\n",
       "      <td>0.010971</td>\n",
       "      <td>0.001993</td>\n",
       "      <td>0.027828</td>\n",
       "      <td>0.040651</td>\n",
       "    </tr>\n",
       "    <tr>\n",
       "      <th>49</th>\n",
       "      <td>0.010971</td>\n",
       "      <td>0.002991</td>\n",
       "      <td>0.032751</td>\n",
       "      <td>0.040611</td>\n",
       "    </tr>\n",
       "  </tbody>\n",
       "</table>\n",
       "</div>"
      ],
      "text/plain": [
       "    fit_time  score_time  test_score  train_score\n",
       "0   0.017953    0.003989    0.043616     0.038866\n",
       "1   0.016957    0.002994    0.026866     0.040749\n",
       "2   0.016954    0.002992    0.041883     0.039058\n",
       "3   0.012966    0.004988    0.048625     0.038320\n",
       "4   0.014961    0.001994    0.027680     0.040662\n",
       "5   0.010974    0.002989    0.055004     0.037668\n",
       "6   0.009977    0.001992    0.078177     0.035598\n",
       "7   0.010971    0.001994    0.026507     0.040784\n",
       "8   0.009972    0.001993    0.367902     0.038522\n",
       "9   0.014962    0.002990    0.027187     0.040708\n",
       "10  0.011969    0.001993    0.050193     0.038148\n",
       "11  0.009974    0.002991    0.027595     0.040663\n",
       "12  0.010972    0.002991    0.211025     0.038145\n",
       "13  0.009972    0.001994    0.027006     0.040735\n",
       "14  0.012964    0.001995    0.025713     0.040873\n",
       "15  0.010971    0.001995    0.069631     0.036125\n",
       "16  0.009974    0.001993    0.050033     0.038621\n",
       "17  0.011970    0.001992    0.039602     0.039308\n",
       "18  0.009972    0.001991    0.043091     0.038927\n",
       "19  0.009976    0.001992    0.026912     0.040741\n",
       "20  0.010974    0.001993    0.085817     0.034432\n",
       "21  0.011971    0.001993    0.028596     0.040553\n",
       "22  0.009974    0.001994    0.027255     0.040702\n",
       "23  0.010976    0.001992    0.037661     0.039524\n",
       "24  0.009972    0.001994    0.025930     0.040847\n",
       "25  0.009971    0.001994    0.044469     0.038773\n",
       "26  0.010975    0.001992    0.028967     0.040523\n",
       "27  0.010973    0.001992    0.026955     0.040732\n",
       "28  0.009974    0.001998    0.069687     0.036145\n",
       "29  0.009974    0.001994    0.351553     0.038657\n",
       "30  0.014966    0.001989    0.058027     0.037303\n",
       "31  0.014970    0.002965    0.028500     0.040562\n",
       "32  0.014960    0.001994    0.043307     0.038932\n",
       "33  0.009974    0.001994    0.026568     0.040789\n",
       "34  0.013963    0.001994    0.076085     0.035456\n",
       "35  0.010972    0.001992    0.025906     0.040851\n",
       "36  0.011969    0.002989    0.361673     0.038489\n",
       "37  0.011965    0.002959    0.030738     0.040764\n",
       "38  0.010937    0.001993    0.026975     0.040732\n",
       "39  0.012933    0.001994    0.061053     0.036994\n",
       "40  0.010975    0.001993    0.027356     0.040694\n",
       "41  0.010971    0.001994    0.027635     0.040647\n",
       "42  0.009974    0.001994    0.071854     0.035948\n",
       "43  0.010971    0.001993    0.420150     0.035203\n",
       "44  0.009975    0.003021    0.041953     0.039053\n",
       "45  0.009978    0.001992    0.047565     0.038430\n",
       "46  0.011934    0.001994    0.029610     0.040448\n",
       "47  0.010945    0.001990    0.041745     0.039071\n",
       "48  0.010971    0.001993    0.027828     0.040651\n",
       "49  0.010971    0.002991    0.032751     0.040611"
      ]
     },
     "execution_count": 31,
     "metadata": {},
     "output_type": "execute_result"
    }
   ],
   "source": [
    "#check various tests\n",
    "cv = RepeatedKFold(n_splits=10, n_repeats=5)\n",
    "score = make_scorer(mse)\n",
    "cv_scores = cross_validate(estimator=LinearRegression(), X=X, y=y, scoring=(score), cv=cv, return_train_score = True)\n",
    "\n",
    "df_scores = pd.DataFrame(cv_scores)\n",
    "df_scores"
   ]
  },
  {
   "cell_type": "code",
   "execution_count": 32,
   "metadata": {},
   "outputs": [
    {
     "data": {
      "text/plain": [
       "<AxesSubplot:xlabel='test_score', ylabel='Count'>"
      ]
     },
     "execution_count": 32,
     "metadata": {},
     "output_type": "execute_result"
    },
    {
     "data": {
      "image/png": "[encoded data removed]",
      "text/plain": [
       "<Figure size 432x288 with 1 Axes>"
      ]
     },
     "metadata": {
      "needs_background": "light"
     },
     "output_type": "display_data"
    }
   ],
   "source": [
    "plt.plot(figsize=(12,8))\n",
    "sns.histplot(data=df_scores[\"test_score\"], kde=True, color=\"green\")"
   ]
  },
  {
   "cell_type": "code",
   "execution_count": 34,
   "metadata": {},
   "outputs": [
    {
     "data": {
      "text/html": [
       "<div>\n",
       "<style scoped>\n",
       "    .dataframe tbody tr th:only-of-type {\n",
       "        vertical-align: middle;\n",
       "    }\n",
       "\n",
       "    .dataframe tbody tr th {\n",
       "        vertical-align: top;\n",
       "    }\n",
       "\n",
       "    .dataframe thead th {\n",
       "        text-align: right;\n",
       "    }\n",
       "</style>\n",
       "<table border=\"1\" class=\"dataframe\">\n",
       "  <thead>\n",
       "    <tr style=\"text-align: right;\">\n",
       "      <th></th>\n",
       "      <th>Real</th>\n",
       "      <th>Linear_Regression</th>\n",
       "    </tr>\n",
       "  </thead>\n",
       "  <tbody>\n",
       "    <tr>\n",
       "      <th>13698</th>\n",
       "      <td>7.625</td>\n",
       "      <td>7.578904</td>\n",
       "    </tr>\n",
       "    <tr>\n",
       "      <th>4646</th>\n",
       "      <td>8.284</td>\n",
       "      <td>8.222004</td>\n",
       "    </tr>\n",
       "    <tr>\n",
       "      <th>24557</th>\n",
       "      <td>8.401</td>\n",
       "      <td>8.119892</td>\n",
       "    </tr>\n",
       "    <tr>\n",
       "      <th>17868</th>\n",
       "      <td>8.150</td>\n",
       "      <td>8.099549</td>\n",
       "    </tr>\n",
       "    <tr>\n",
       "      <th>12010</th>\n",
       "      <td>6.170</td>\n",
       "      <td>6.340317</td>\n",
       "    </tr>\n",
       "  </tbody>\n",
       "</table>\n",
       "</div>"
      ],
      "text/plain": [
       "        Real  Linear_Regression\n",
       "13698  7.625           7.578904\n",
       "4646   8.284           8.222004\n",
       "24557  8.401           8.119892\n",
       "17868  8.150           8.099549\n",
       "12010  6.170           6.340317"
      ]
     },
     "execution_count": 34,
     "metadata": {},
     "output_type": "execute_result"
    }
   ],
   "source": [
    "final_df = pd.DataFrame({\"Real\":y_test, \"Linear_Regression\": y_pred_test_lr})\n",
    "final_df.head()"
   ]
  },
  {
   "cell_type": "markdown",
   "metadata": {},
   "source": [
    "## Random Forest Model with Hyperopt"
   ]
  },
  {
   "cell_type": "code",
   "execution_count": 35,
   "metadata": {},
   "outputs": [],
   "source": [
    "params = {\n",
    "        \"n_estimators\":hp.quniform(\"n_estimators\", 10, 1000, 25),\n",
    "        \"max_depth\":hp.quniform(\"max_depth\", 4, 16, 1),\n",
    "        \"max_features\":hp.quniform(\"max_features\",2 ,8, 1),\n",
    "        \"min_samples_split\":hp.quniform(\"min_samples_split\", 2, 15, 1),\n",
    "        \"min_samples_leaf\":hp.quniform(\"min_samples_leaf\", 1,5,1)\n",
    "}"
   ]
  },
  {
   "cell_type": "code",
   "execution_count": 36,
   "metadata": {},
   "outputs": [],
   "source": [
    "def objetive(param):\n",
    "    rf = RandomForestRegressor(n_estimators=int(param[\"n_estimators\"]),\n",
    "                      max_depth=int(param[\"max_depth\"]),\n",
    "                      max_features=int(param[\"max_features\"]),\n",
    "                      min_samples_split=int(param[\"min_samples_split\"]),\n",
    "                      min_samples_leaf=int(param[\"min_samples_leaf\"]))\n",
    "    \n",
    "    \n",
    "    rf.fit(X_train, y_train)\n",
    "    \n",
    "    y_pred = rf.predict(X_test)\n",
    "    rmse = mse(y_test, y_pred)**(0.5)\n",
    "    return {'loss':rmse, 'status': STATUS_OK }"
   ]
  },
  {
   "cell_type": "code",
   "execution_count": 37,
   "metadata": {},
   "outputs": [
    {
     "name": "stdout",
     "output_type": "stream",
     "text": [
      "100%|██████████| 10/10 [04:51<00:00, 29.19s/trial, best loss: 0.09359632803692486]\n"
     ]
    }
   ],
   "source": [
    "trials_reg = Trials()\n",
    "best = fmin(fn=objetive,\n",
    "            space=params,\n",
    "            algo=tpe.suggest,\n",
    "            max_evals=10,\n",
    "            trials=trials_reg\n",
    "            )"
   ]
  },
  {
   "cell_type": "code",
   "execution_count": 38,
   "metadata": {},
   "outputs": [
    {
     "data": {
      "text/plain": [
       "{'max_depth': 15.0,\n",
       " 'max_features': 5.0,\n",
       " 'min_samples_leaf': 3.0,\n",
       " 'min_samples_split': 6.0,\n",
       " 'n_estimators': 425.0}"
      ]
     },
     "execution_count": 38,
     "metadata": {},
     "output_type": "execute_result"
    }
   ],
   "source": [
    "best"
   ]
  },
  {
   "cell_type": "code",
   "execution_count": 39,
   "metadata": {},
   "outputs": [],
   "source": [
    "rf_model = RandomForestRegressor(\n",
    "    n_estimators=int(best[\"n_estimators\"]),\n",
    "    max_depth=int(best[\"max_depth\"]),\n",
    "    max_features=int(best[\"max_features\"]),\n",
    "    min_samples_split=int(best[\"min_samples_split\"]),\n",
    "    min_samples_leaf=int(best[\"min_samples_leaf\"])\n",
    ")"
   ]
  },
  {
   "cell_type": "code",
   "execution_count": 43,
   "metadata": {},
   "outputs": [
    {
     "data": {
      "text/plain": [
       "0.008725535326591764"
      ]
     },
     "execution_count": 43,
     "metadata": {},
     "output_type": "execute_result"
    }
   ],
   "source": [
    "rf_model.fit(X_train, y_train)\n",
    "y_pred_test_rf=rf_model.predict(X_test)\n",
    "mse(y_test, y_pred)"
   ]
  },
  {
   "cell_type": "code",
   "execution_count": 45,
   "metadata": {},
   "outputs": [
    {
     "data": {
      "text/html": [
       "<div>\n",
       "<style scoped>\n",
       "    .dataframe tbody tr th:only-of-type {\n",
       "        vertical-align: middle;\n",
       "    }\n",
       "\n",
       "    .dataframe tbody tr th {\n",
       "        vertical-align: top;\n",
       "    }\n",
       "\n",
       "    .dataframe thead th {\n",
       "        text-align: right;\n",
       "    }\n",
       "</style>\n",
       "<table border=\"1\" class=\"dataframe\">\n",
       "  <thead>\n",
       "    <tr style=\"text-align: right;\">\n",
       "      <th></th>\n",
       "      <th>Real</th>\n",
       "      <th>Linear_Regression</th>\n",
       "      <th>RFHyperopt</th>\n",
       "    </tr>\n",
       "  </thead>\n",
       "  <tbody>\n",
       "    <tr>\n",
       "      <th>13698</th>\n",
       "      <td>7.625</td>\n",
       "      <td>7.578904</td>\n",
       "      <td>7.725441</td>\n",
       "    </tr>\n",
       "    <tr>\n",
       "      <th>4646</th>\n",
       "      <td>8.284</td>\n",
       "      <td>8.222004</td>\n",
       "      <td>8.283101</td>\n",
       "    </tr>\n",
       "    <tr>\n",
       "      <th>24557</th>\n",
       "      <td>8.401</td>\n",
       "      <td>8.119892</td>\n",
       "      <td>8.338785</td>\n",
       "    </tr>\n",
       "    <tr>\n",
       "      <th>17868</th>\n",
       "      <td>8.150</td>\n",
       "      <td>8.099549</td>\n",
       "      <td>8.047047</td>\n",
       "    </tr>\n",
       "    <tr>\n",
       "      <th>12010</th>\n",
       "      <td>6.170</td>\n",
       "      <td>6.340317</td>\n",
       "      <td>6.315764</td>\n",
       "    </tr>\n",
       "  </tbody>\n",
       "</table>\n",
       "</div>"
      ],
      "text/plain": [
       "        Real  Linear_Regression  RFHyperopt\n",
       "13698  7.625           7.578904    7.725441\n",
       "4646   8.284           8.222004    8.283101\n",
       "24557  8.401           8.119892    8.338785\n",
       "17868  8.150           8.099549    8.047047\n",
       "12010  6.170           6.340317    6.315764"
      ]
     },
     "execution_count": 45,
     "metadata": {},
     "output_type": "execute_result"
    }
   ],
   "source": [
    "final_df[\"RFHyperopt\"] = y_pred_test_rf\n",
    "final_df.head()"
   ]
  },
  {
   "cell_type": "markdown",
   "metadata": {},
   "source": [
    "## Pycaret"
   ]
  },
  {
   "cell_type": "code",
   "execution_count": 46,
   "metadata": {},
   "outputs": [],
   "source": [
    "df_train[[\"cut\", \"color\", \"clarity\"]] = df_train[[\"cut\", \"color\", \"clarity\"]].apply(lambda x:x.astype(\"float64\"))"
   ]
  },
  {
   "cell_type": "code",
   "execution_count": 47,
   "metadata": {},
   "outputs": [
    {
     "data": {
      "text/plain": [
       "carat      float64\n",
       "cut        float64\n",
       "color      float64\n",
       "clarity    float64\n",
       "depth      float64\n",
       "x          float64\n",
       "y          float64\n",
       "z          float64\n",
       "price      float64\n",
       "dtype: object"
      ]
     },
     "execution_count": 47,
     "metadata": {},
     "output_type": "execute_result"
    }
   ],
   "source": [
    "df_train.dtypes"
   ]
  },
  {
   "cell_type": "code",
   "execution_count": 48,
   "metadata": {},
   "outputs": [
    {
     "data": {
      "text/html": [
       "<style  type=\"text/css\" >\n",
       "</style><table id=\"T_a4d153c0_9d3f_11eb_ad14_5800e3972554\" ><thead>    <tr>        <th class=\"blank level0\" ></th>        <th class=\"col_heading level0 col0\" >Description</th>        <th class=\"col_heading level0 col1\" >Value</th>    </tr></thead><tbody>\n",
       "                <tr>\n",
       "                        <th id=\"T_a4d153c0_9d3f_11eb_ad14_5800e3972554level0_row0\" class=\"row_heading level0 row0\" >0</th>\n",
       "                        <td id=\"T_a4d153c0_9d3f_11eb_ad14_5800e3972554row0_col0\" class=\"data row0 col0\" >session_id</td>\n",
       "                        <td id=\"T_a4d153c0_9d3f_11eb_ad14_5800e3972554row0_col1\" class=\"data row0 col1\" >123</td>\n",
       "            </tr>\n",
       "            <tr>\n",
       "                        <th id=\"T_a4d153c0_9d3f_11eb_ad14_5800e3972554level0_row1\" class=\"row_heading level0 row1\" >1</th>\n",
       "                        <td id=\"T_a4d153c0_9d3f_11eb_ad14_5800e3972554row1_col0\" class=\"data row1 col0\" >Target</td>\n",
       "                        <td id=\"T_a4d153c0_9d3f_11eb_ad14_5800e3972554row1_col1\" class=\"data row1 col1\" >price</td>\n",
       "            </tr>\n",
       "            <tr>\n",
       "                        <th id=\"T_a4d153c0_9d3f_11eb_ad14_5800e3972554level0_row2\" class=\"row_heading level0 row2\" >2</th>\n",
       "                        <td id=\"T_a4d153c0_9d3f_11eb_ad14_5800e3972554row2_col0\" class=\"data row2 col0\" >Original Data</td>\n",
       "                        <td id=\"T_a4d153c0_9d3f_11eb_ad14_5800e3972554row2_col1\" class=\"data row2 col1\" >(40455, 9)</td>\n",
       "            </tr>\n",
       "            <tr>\n",
       "                        <th id=\"T_a4d153c0_9d3f_11eb_ad14_5800e3972554level0_row3\" class=\"row_heading level0 row3\" >3</th>\n",
       "                        <td id=\"T_a4d153c0_9d3f_11eb_ad14_5800e3972554row3_col0\" class=\"data row3 col0\" >Missing Values</td>\n",
       "                        <td id=\"T_a4d153c0_9d3f_11eb_ad14_5800e3972554row3_col1\" class=\"data row3 col1\" >False</td>\n",
       "            </tr>\n",
       "            <tr>\n",
       "                        <th id=\"T_a4d153c0_9d3f_11eb_ad14_5800e3972554level0_row4\" class=\"row_heading level0 row4\" >4</th>\n",
       "                        <td id=\"T_a4d153c0_9d3f_11eb_ad14_5800e3972554row4_col0\" class=\"data row4 col0\" >Numeric Features</td>\n",
       "                        <td id=\"T_a4d153c0_9d3f_11eb_ad14_5800e3972554row4_col1\" class=\"data row4 col1\" >8</td>\n",
       "            </tr>\n",
       "            <tr>\n",
       "                        <th id=\"T_a4d153c0_9d3f_11eb_ad14_5800e3972554level0_row5\" class=\"row_heading level0 row5\" >5</th>\n",
       "                        <td id=\"T_a4d153c0_9d3f_11eb_ad14_5800e3972554row5_col0\" class=\"data row5 col0\" >Categorical Features</td>\n",
       "                        <td id=\"T_a4d153c0_9d3f_11eb_ad14_5800e3972554row5_col1\" class=\"data row5 col1\" >0</td>\n",
       "            </tr>\n",
       "            <tr>\n",
       "                        <th id=\"T_a4d153c0_9d3f_11eb_ad14_5800e3972554level0_row6\" class=\"row_heading level0 row6\" >6</th>\n",
       "                        <td id=\"T_a4d153c0_9d3f_11eb_ad14_5800e3972554row6_col0\" class=\"data row6 col0\" >Ordinal Features</td>\n",
       "                        <td id=\"T_a4d153c0_9d3f_11eb_ad14_5800e3972554row6_col1\" class=\"data row6 col1\" >False</td>\n",
       "            </tr>\n",
       "            <tr>\n",
       "                        <th id=\"T_a4d153c0_9d3f_11eb_ad14_5800e3972554level0_row7\" class=\"row_heading level0 row7\" >7</th>\n",
       "                        <td id=\"T_a4d153c0_9d3f_11eb_ad14_5800e3972554row7_col0\" class=\"data row7 col0\" >High Cardinality Features</td>\n",
       "                        <td id=\"T_a4d153c0_9d3f_11eb_ad14_5800e3972554row7_col1\" class=\"data row7 col1\" >False</td>\n",
       "            </tr>\n",
       "            <tr>\n",
       "                        <th id=\"T_a4d153c0_9d3f_11eb_ad14_5800e3972554level0_row8\" class=\"row_heading level0 row8\" >8</th>\n",
       "                        <td id=\"T_a4d153c0_9d3f_11eb_ad14_5800e3972554row8_col0\" class=\"data row8 col0\" >High Cardinality Method</td>\n",
       "                        <td id=\"T_a4d153c0_9d3f_11eb_ad14_5800e3972554row8_col1\" class=\"data row8 col1\" >None</td>\n",
       "            </tr>\n",
       "            <tr>\n",
       "                        <th id=\"T_a4d153c0_9d3f_11eb_ad14_5800e3972554level0_row9\" class=\"row_heading level0 row9\" >9</th>\n",
       "                        <td id=\"T_a4d153c0_9d3f_11eb_ad14_5800e3972554row9_col0\" class=\"data row9 col0\" >Transformed Train Set</td>\n",
       "                        <td id=\"T_a4d153c0_9d3f_11eb_ad14_5800e3972554row9_col1\" class=\"data row9 col1\" >(28318, 8)</td>\n",
       "            </tr>\n",
       "            <tr>\n",
       "                        <th id=\"T_a4d153c0_9d3f_11eb_ad14_5800e3972554level0_row10\" class=\"row_heading level0 row10\" >10</th>\n",
       "                        <td id=\"T_a4d153c0_9d3f_11eb_ad14_5800e3972554row10_col0\" class=\"data row10 col0\" >Transformed Test Set</td>\n",
       "                        <td id=\"T_a4d153c0_9d3f_11eb_ad14_5800e3972554row10_col1\" class=\"data row10 col1\" >(12137, 8)</td>\n",
       "            </tr>\n",
       "            <tr>\n",
       "                        <th id=\"T_a4d153c0_9d3f_11eb_ad14_5800e3972554level0_row11\" class=\"row_heading level0 row11\" >11</th>\n",
       "                        <td id=\"T_a4d153c0_9d3f_11eb_ad14_5800e3972554row11_col0\" class=\"data row11 col0\" >Shuffle Train-Test</td>\n",
       "                        <td id=\"T_a4d153c0_9d3f_11eb_ad14_5800e3972554row11_col1\" class=\"data row11 col1\" >True</td>\n",
       "            </tr>\n",
       "            <tr>\n",
       "                        <th id=\"T_a4d153c0_9d3f_11eb_ad14_5800e3972554level0_row12\" class=\"row_heading level0 row12\" >12</th>\n",
       "                        <td id=\"T_a4d153c0_9d3f_11eb_ad14_5800e3972554row12_col0\" class=\"data row12 col0\" >Stratify Train-Test</td>\n",
       "                        <td id=\"T_a4d153c0_9d3f_11eb_ad14_5800e3972554row12_col1\" class=\"data row12 col1\" >False</td>\n",
       "            </tr>\n",
       "            <tr>\n",
       "                        <th id=\"T_a4d153c0_9d3f_11eb_ad14_5800e3972554level0_row13\" class=\"row_heading level0 row13\" >13</th>\n",
       "                        <td id=\"T_a4d153c0_9d3f_11eb_ad14_5800e3972554row13_col0\" class=\"data row13 col0\" >Fold Generator</td>\n",
       "                        <td id=\"T_a4d153c0_9d3f_11eb_ad14_5800e3972554row13_col1\" class=\"data row13 col1\" >KFold</td>\n",
       "            </tr>\n",
       "            <tr>\n",
       "                        <th id=\"T_a4d153c0_9d3f_11eb_ad14_5800e3972554level0_row14\" class=\"row_heading level0 row14\" >14</th>\n",
       "                        <td id=\"T_a4d153c0_9d3f_11eb_ad14_5800e3972554row14_col0\" class=\"data row14 col0\" >Fold Number</td>\n",
       "                        <td id=\"T_a4d153c0_9d3f_11eb_ad14_5800e3972554row14_col1\" class=\"data row14 col1\" >10</td>\n",
       "            </tr>\n",
       "            <tr>\n",
       "                        <th id=\"T_a4d153c0_9d3f_11eb_ad14_5800e3972554level0_row15\" class=\"row_heading level0 row15\" >15</th>\n",
       "                        <td id=\"T_a4d153c0_9d3f_11eb_ad14_5800e3972554row15_col0\" class=\"data row15 col0\" >CPU Jobs</td>\n",
       "                        <td id=\"T_a4d153c0_9d3f_11eb_ad14_5800e3972554row15_col1\" class=\"data row15 col1\" >-1</td>\n",
       "            </tr>\n",
       "            <tr>\n",
       "                        <th id=\"T_a4d153c0_9d3f_11eb_ad14_5800e3972554level0_row16\" class=\"row_heading level0 row16\" >16</th>\n",
       "                        <td id=\"T_a4d153c0_9d3f_11eb_ad14_5800e3972554row16_col0\" class=\"data row16 col0\" >Use GPU</td>\n",
       "                        <td id=\"T_a4d153c0_9d3f_11eb_ad14_5800e3972554row16_col1\" class=\"data row16 col1\" >False</td>\n",
       "            </tr>\n",
       "            <tr>\n",
       "                        <th id=\"T_a4d153c0_9d3f_11eb_ad14_5800e3972554level0_row17\" class=\"row_heading level0 row17\" >17</th>\n",
       "                        <td id=\"T_a4d153c0_9d3f_11eb_ad14_5800e3972554row17_col0\" class=\"data row17 col0\" >Log Experiment</td>\n",
       "                        <td id=\"T_a4d153c0_9d3f_11eb_ad14_5800e3972554row17_col1\" class=\"data row17 col1\" >False</td>\n",
       "            </tr>\n",
       "            <tr>\n",
       "                        <th id=\"T_a4d153c0_9d3f_11eb_ad14_5800e3972554level0_row18\" class=\"row_heading level0 row18\" >18</th>\n",
       "                        <td id=\"T_a4d153c0_9d3f_11eb_ad14_5800e3972554row18_col0\" class=\"data row18 col0\" >Experiment Name</td>\n",
       "                        <td id=\"T_a4d153c0_9d3f_11eb_ad14_5800e3972554row18_col1\" class=\"data row18 col1\" >reg-default-name</td>\n",
       "            </tr>\n",
       "            <tr>\n",
       "                        <th id=\"T_a4d153c0_9d3f_11eb_ad14_5800e3972554level0_row19\" class=\"row_heading level0 row19\" >19</th>\n",
       "                        <td id=\"T_a4d153c0_9d3f_11eb_ad14_5800e3972554row19_col0\" class=\"data row19 col0\" >USI</td>\n",
       "                        <td id=\"T_a4d153c0_9d3f_11eb_ad14_5800e3972554row19_col1\" class=\"data row19 col1\" >0e97</td>\n",
       "            </tr>\n",
       "            <tr>\n",
       "                        <th id=\"T_a4d153c0_9d3f_11eb_ad14_5800e3972554level0_row20\" class=\"row_heading level0 row20\" >20</th>\n",
       "                        <td id=\"T_a4d153c0_9d3f_11eb_ad14_5800e3972554row20_col0\" class=\"data row20 col0\" >Imputation Type</td>\n",
       "                        <td id=\"T_a4d153c0_9d3f_11eb_ad14_5800e3972554row20_col1\" class=\"data row20 col1\" >simple</td>\n",
       "            </tr>\n",
       "            <tr>\n",
       "                        <th id=\"T_a4d153c0_9d3f_11eb_ad14_5800e3972554level0_row21\" class=\"row_heading level0 row21\" >21</th>\n",
       "                        <td id=\"T_a4d153c0_9d3f_11eb_ad14_5800e3972554row21_col0\" class=\"data row21 col0\" >Iterative Imputation Iteration</td>\n",
       "                        <td id=\"T_a4d153c0_9d3f_11eb_ad14_5800e3972554row21_col1\" class=\"data row21 col1\" >None</td>\n",
       "            </tr>\n",
       "            <tr>\n",
       "                        <th id=\"T_a4d153c0_9d3f_11eb_ad14_5800e3972554level0_row22\" class=\"row_heading level0 row22\" >22</th>\n",
       "                        <td id=\"T_a4d153c0_9d3f_11eb_ad14_5800e3972554row22_col0\" class=\"data row22 col0\" >Numeric Imputer</td>\n",
       "                        <td id=\"T_a4d153c0_9d3f_11eb_ad14_5800e3972554row22_col1\" class=\"data row22 col1\" >mean</td>\n",
       "            </tr>\n",
       "            <tr>\n",
       "                        <th id=\"T_a4d153c0_9d3f_11eb_ad14_5800e3972554level0_row23\" class=\"row_heading level0 row23\" >23</th>\n",
       "                        <td id=\"T_a4d153c0_9d3f_11eb_ad14_5800e3972554row23_col0\" class=\"data row23 col0\" >Iterative Imputation Numeric Model</td>\n",
       "                        <td id=\"T_a4d153c0_9d3f_11eb_ad14_5800e3972554row23_col1\" class=\"data row23 col1\" >None</td>\n",
       "            </tr>\n",
       "            <tr>\n",
       "                        <th id=\"T_a4d153c0_9d3f_11eb_ad14_5800e3972554level0_row24\" class=\"row_heading level0 row24\" >24</th>\n",
       "                        <td id=\"T_a4d153c0_9d3f_11eb_ad14_5800e3972554row24_col0\" class=\"data row24 col0\" >Categorical Imputer</td>\n",
       "                        <td id=\"T_a4d153c0_9d3f_11eb_ad14_5800e3972554row24_col1\" class=\"data row24 col1\" >constant</td>\n",
       "            </tr>\n",
       "            <tr>\n",
       "                        <th id=\"T_a4d153c0_9d3f_11eb_ad14_5800e3972554level0_row25\" class=\"row_heading level0 row25\" >25</th>\n",
       "                        <td id=\"T_a4d153c0_9d3f_11eb_ad14_5800e3972554row25_col0\" class=\"data row25 col0\" >Iterative Imputation Categorical Model</td>\n",
       "                        <td id=\"T_a4d153c0_9d3f_11eb_ad14_5800e3972554row25_col1\" class=\"data row25 col1\" >None</td>\n",
       "            </tr>\n",
       "            <tr>\n",
       "                        <th id=\"T_a4d153c0_9d3f_11eb_ad14_5800e3972554level0_row26\" class=\"row_heading level0 row26\" >26</th>\n",
       "                        <td id=\"T_a4d153c0_9d3f_11eb_ad14_5800e3972554row26_col0\" class=\"data row26 col0\" >Unknown Categoricals Handling</td>\n",
       "                        <td id=\"T_a4d153c0_9d3f_11eb_ad14_5800e3972554row26_col1\" class=\"data row26 col1\" >least_frequent</td>\n",
       "            </tr>\n",
       "            <tr>\n",
       "                        <th id=\"T_a4d153c0_9d3f_11eb_ad14_5800e3972554level0_row27\" class=\"row_heading level0 row27\" >27</th>\n",
       "                        <td id=\"T_a4d153c0_9d3f_11eb_ad14_5800e3972554row27_col0\" class=\"data row27 col0\" >Normalize</td>\n",
       "                        <td id=\"T_a4d153c0_9d3f_11eb_ad14_5800e3972554row27_col1\" class=\"data row27 col1\" >False</td>\n",
       "            </tr>\n",
       "            <tr>\n",
       "                        <th id=\"T_a4d153c0_9d3f_11eb_ad14_5800e3972554level0_row28\" class=\"row_heading level0 row28\" >28</th>\n",
       "                        <td id=\"T_a4d153c0_9d3f_11eb_ad14_5800e3972554row28_col0\" class=\"data row28 col0\" >Normalize Method</td>\n",
       "                        <td id=\"T_a4d153c0_9d3f_11eb_ad14_5800e3972554row28_col1\" class=\"data row28 col1\" >None</td>\n",
       "            </tr>\n",
       "            <tr>\n",
       "                        <th id=\"T_a4d153c0_9d3f_11eb_ad14_5800e3972554level0_row29\" class=\"row_heading level0 row29\" >29</th>\n",
       "                        <td id=\"T_a4d153c0_9d3f_11eb_ad14_5800e3972554row29_col0\" class=\"data row29 col0\" >Transformation</td>\n",
       "                        <td id=\"T_a4d153c0_9d3f_11eb_ad14_5800e3972554row29_col1\" class=\"data row29 col1\" >False</td>\n",
       "            </tr>\n",
       "            <tr>\n",
       "                        <th id=\"T_a4d153c0_9d3f_11eb_ad14_5800e3972554level0_row30\" class=\"row_heading level0 row30\" >30</th>\n",
       "                        <td id=\"T_a4d153c0_9d3f_11eb_ad14_5800e3972554row30_col0\" class=\"data row30 col0\" >Transformation Method</td>\n",
       "                        <td id=\"T_a4d153c0_9d3f_11eb_ad14_5800e3972554row30_col1\" class=\"data row30 col1\" >None</td>\n",
       "            </tr>\n",
       "            <tr>\n",
       "                        <th id=\"T_a4d153c0_9d3f_11eb_ad14_5800e3972554level0_row31\" class=\"row_heading level0 row31\" >31</th>\n",
       "                        <td id=\"T_a4d153c0_9d3f_11eb_ad14_5800e3972554row31_col0\" class=\"data row31 col0\" >PCA</td>\n",
       "                        <td id=\"T_a4d153c0_9d3f_11eb_ad14_5800e3972554row31_col1\" class=\"data row31 col1\" >False</td>\n",
       "            </tr>\n",
       "            <tr>\n",
       "                        <th id=\"T_a4d153c0_9d3f_11eb_ad14_5800e3972554level0_row32\" class=\"row_heading level0 row32\" >32</th>\n",
       "                        <td id=\"T_a4d153c0_9d3f_11eb_ad14_5800e3972554row32_col0\" class=\"data row32 col0\" >PCA Method</td>\n",
       "                        <td id=\"T_a4d153c0_9d3f_11eb_ad14_5800e3972554row32_col1\" class=\"data row32 col1\" >None</td>\n",
       "            </tr>\n",
       "            <tr>\n",
       "                        <th id=\"T_a4d153c0_9d3f_11eb_ad14_5800e3972554level0_row33\" class=\"row_heading level0 row33\" >33</th>\n",
       "                        <td id=\"T_a4d153c0_9d3f_11eb_ad14_5800e3972554row33_col0\" class=\"data row33 col0\" >PCA Components</td>\n",
       "                        <td id=\"T_a4d153c0_9d3f_11eb_ad14_5800e3972554row33_col1\" class=\"data row33 col1\" >None</td>\n",
       "            </tr>\n",
       "            <tr>\n",
       "                        <th id=\"T_a4d153c0_9d3f_11eb_ad14_5800e3972554level0_row34\" class=\"row_heading level0 row34\" >34</th>\n",
       "                        <td id=\"T_a4d153c0_9d3f_11eb_ad14_5800e3972554row34_col0\" class=\"data row34 col0\" >Ignore Low Variance</td>\n",
       "                        <td id=\"T_a4d153c0_9d3f_11eb_ad14_5800e3972554row34_col1\" class=\"data row34 col1\" >False</td>\n",
       "            </tr>\n",
       "            <tr>\n",
       "                        <th id=\"T_a4d153c0_9d3f_11eb_ad14_5800e3972554level0_row35\" class=\"row_heading level0 row35\" >35</th>\n",
       "                        <td id=\"T_a4d153c0_9d3f_11eb_ad14_5800e3972554row35_col0\" class=\"data row35 col0\" >Combine Rare Levels</td>\n",
       "                        <td id=\"T_a4d153c0_9d3f_11eb_ad14_5800e3972554row35_col1\" class=\"data row35 col1\" >False</td>\n",
       "            </tr>\n",
       "            <tr>\n",
       "                        <th id=\"T_a4d153c0_9d3f_11eb_ad14_5800e3972554level0_row36\" class=\"row_heading level0 row36\" >36</th>\n",
       "                        <td id=\"T_a4d153c0_9d3f_11eb_ad14_5800e3972554row36_col0\" class=\"data row36 col0\" >Rare Level Threshold</td>\n",
       "                        <td id=\"T_a4d153c0_9d3f_11eb_ad14_5800e3972554row36_col1\" class=\"data row36 col1\" >None</td>\n",
       "            </tr>\n",
       "            <tr>\n",
       "                        <th id=\"T_a4d153c0_9d3f_11eb_ad14_5800e3972554level0_row37\" class=\"row_heading level0 row37\" >37</th>\n",
       "                        <td id=\"T_a4d153c0_9d3f_11eb_ad14_5800e3972554row37_col0\" class=\"data row37 col0\" >Numeric Binning</td>\n",
       "                        <td id=\"T_a4d153c0_9d3f_11eb_ad14_5800e3972554row37_col1\" class=\"data row37 col1\" >False</td>\n",
       "            </tr>\n",
       "            <tr>\n",
       "                        <th id=\"T_a4d153c0_9d3f_11eb_ad14_5800e3972554level0_row38\" class=\"row_heading level0 row38\" >38</th>\n",
       "                        <td id=\"T_a4d153c0_9d3f_11eb_ad14_5800e3972554row38_col0\" class=\"data row38 col0\" >Remove Outliers</td>\n",
       "                        <td id=\"T_a4d153c0_9d3f_11eb_ad14_5800e3972554row38_col1\" class=\"data row38 col1\" >False</td>\n",
       "            </tr>\n",
       "            <tr>\n",
       "                        <th id=\"T_a4d153c0_9d3f_11eb_ad14_5800e3972554level0_row39\" class=\"row_heading level0 row39\" >39</th>\n",
       "                        <td id=\"T_a4d153c0_9d3f_11eb_ad14_5800e3972554row39_col0\" class=\"data row39 col0\" >Outliers Threshold</td>\n",
       "                        <td id=\"T_a4d153c0_9d3f_11eb_ad14_5800e3972554row39_col1\" class=\"data row39 col1\" >None</td>\n",
       "            </tr>\n",
       "            <tr>\n",
       "                        <th id=\"T_a4d153c0_9d3f_11eb_ad14_5800e3972554level0_row40\" class=\"row_heading level0 row40\" >40</th>\n",
       "                        <td id=\"T_a4d153c0_9d3f_11eb_ad14_5800e3972554row40_col0\" class=\"data row40 col0\" >Remove Multicollinearity</td>\n",
       "                        <td id=\"T_a4d153c0_9d3f_11eb_ad14_5800e3972554row40_col1\" class=\"data row40 col1\" >False</td>\n",
       "            </tr>\n",
       "            <tr>\n",
       "                        <th id=\"T_a4d153c0_9d3f_11eb_ad14_5800e3972554level0_row41\" class=\"row_heading level0 row41\" >41</th>\n",
       "                        <td id=\"T_a4d153c0_9d3f_11eb_ad14_5800e3972554row41_col0\" class=\"data row41 col0\" >Multicollinearity Threshold</td>\n",
       "                        <td id=\"T_a4d153c0_9d3f_11eb_ad14_5800e3972554row41_col1\" class=\"data row41 col1\" >None</td>\n",
       "            </tr>\n",
       "            <tr>\n",
       "                        <th id=\"T_a4d153c0_9d3f_11eb_ad14_5800e3972554level0_row42\" class=\"row_heading level0 row42\" >42</th>\n",
       "                        <td id=\"T_a4d153c0_9d3f_11eb_ad14_5800e3972554row42_col0\" class=\"data row42 col0\" >Clustering</td>\n",
       "                        <td id=\"T_a4d153c0_9d3f_11eb_ad14_5800e3972554row42_col1\" class=\"data row42 col1\" >False</td>\n",
       "            </tr>\n",
       "            <tr>\n",
       "                        <th id=\"T_a4d153c0_9d3f_11eb_ad14_5800e3972554level0_row43\" class=\"row_heading level0 row43\" >43</th>\n",
       "                        <td id=\"T_a4d153c0_9d3f_11eb_ad14_5800e3972554row43_col0\" class=\"data row43 col0\" >Clustering Iteration</td>\n",
       "                        <td id=\"T_a4d153c0_9d3f_11eb_ad14_5800e3972554row43_col1\" class=\"data row43 col1\" >None</td>\n",
       "            </tr>\n",
       "            <tr>\n",
       "                        <th id=\"T_a4d153c0_9d3f_11eb_ad14_5800e3972554level0_row44\" class=\"row_heading level0 row44\" >44</th>\n",
       "                        <td id=\"T_a4d153c0_9d3f_11eb_ad14_5800e3972554row44_col0\" class=\"data row44 col0\" >Polynomial Features</td>\n",
       "                        <td id=\"T_a4d153c0_9d3f_11eb_ad14_5800e3972554row44_col1\" class=\"data row44 col1\" >False</td>\n",
       "            </tr>\n",
       "            <tr>\n",
       "                        <th id=\"T_a4d153c0_9d3f_11eb_ad14_5800e3972554level0_row45\" class=\"row_heading level0 row45\" >45</th>\n",
       "                        <td id=\"T_a4d153c0_9d3f_11eb_ad14_5800e3972554row45_col0\" class=\"data row45 col0\" >Polynomial Degree</td>\n",
       "                        <td id=\"T_a4d153c0_9d3f_11eb_ad14_5800e3972554row45_col1\" class=\"data row45 col1\" >None</td>\n",
       "            </tr>\n",
       "            <tr>\n",
       "                        <th id=\"T_a4d153c0_9d3f_11eb_ad14_5800e3972554level0_row46\" class=\"row_heading level0 row46\" >46</th>\n",
       "                        <td id=\"T_a4d153c0_9d3f_11eb_ad14_5800e3972554row46_col0\" class=\"data row46 col0\" >Trignometry Features</td>\n",
       "                        <td id=\"T_a4d153c0_9d3f_11eb_ad14_5800e3972554row46_col1\" class=\"data row46 col1\" >False</td>\n",
       "            </tr>\n",
       "            <tr>\n",
       "                        <th id=\"T_a4d153c0_9d3f_11eb_ad14_5800e3972554level0_row47\" class=\"row_heading level0 row47\" >47</th>\n",
       "                        <td id=\"T_a4d153c0_9d3f_11eb_ad14_5800e3972554row47_col0\" class=\"data row47 col0\" >Polynomial Threshold</td>\n",
       "                        <td id=\"T_a4d153c0_9d3f_11eb_ad14_5800e3972554row47_col1\" class=\"data row47 col1\" >None</td>\n",
       "            </tr>\n",
       "            <tr>\n",
       "                        <th id=\"T_a4d153c0_9d3f_11eb_ad14_5800e3972554level0_row48\" class=\"row_heading level0 row48\" >48</th>\n",
       "                        <td id=\"T_a4d153c0_9d3f_11eb_ad14_5800e3972554row48_col0\" class=\"data row48 col0\" >Group Features</td>\n",
       "                        <td id=\"T_a4d153c0_9d3f_11eb_ad14_5800e3972554row48_col1\" class=\"data row48 col1\" >False</td>\n",
       "            </tr>\n",
       "            <tr>\n",
       "                        <th id=\"T_a4d153c0_9d3f_11eb_ad14_5800e3972554level0_row49\" class=\"row_heading level0 row49\" >49</th>\n",
       "                        <td id=\"T_a4d153c0_9d3f_11eb_ad14_5800e3972554row49_col0\" class=\"data row49 col0\" >Feature Selection</td>\n",
       "                        <td id=\"T_a4d153c0_9d3f_11eb_ad14_5800e3972554row49_col1\" class=\"data row49 col1\" >False</td>\n",
       "            </tr>\n",
       "            <tr>\n",
       "                        <th id=\"T_a4d153c0_9d3f_11eb_ad14_5800e3972554level0_row50\" class=\"row_heading level0 row50\" >50</th>\n",
       "                        <td id=\"T_a4d153c0_9d3f_11eb_ad14_5800e3972554row50_col0\" class=\"data row50 col0\" >Feature Selection Method</td>\n",
       "                        <td id=\"T_a4d153c0_9d3f_11eb_ad14_5800e3972554row50_col1\" class=\"data row50 col1\" >classic</td>\n",
       "            </tr>\n",
       "            <tr>\n",
       "                        <th id=\"T_a4d153c0_9d3f_11eb_ad14_5800e3972554level0_row51\" class=\"row_heading level0 row51\" >51</th>\n",
       "                        <td id=\"T_a4d153c0_9d3f_11eb_ad14_5800e3972554row51_col0\" class=\"data row51 col0\" >Features Selection Threshold</td>\n",
       "                        <td id=\"T_a4d153c0_9d3f_11eb_ad14_5800e3972554row51_col1\" class=\"data row51 col1\" >None</td>\n",
       "            </tr>\n",
       "            <tr>\n",
       "                        <th id=\"T_a4d153c0_9d3f_11eb_ad14_5800e3972554level0_row52\" class=\"row_heading level0 row52\" >52</th>\n",
       "                        <td id=\"T_a4d153c0_9d3f_11eb_ad14_5800e3972554row52_col0\" class=\"data row52 col0\" >Feature Interaction</td>\n",
       "                        <td id=\"T_a4d153c0_9d3f_11eb_ad14_5800e3972554row52_col1\" class=\"data row52 col1\" >False</td>\n",
       "            </tr>\n",
       "            <tr>\n",
       "                        <th id=\"T_a4d153c0_9d3f_11eb_ad14_5800e3972554level0_row53\" class=\"row_heading level0 row53\" >53</th>\n",
       "                        <td id=\"T_a4d153c0_9d3f_11eb_ad14_5800e3972554row53_col0\" class=\"data row53 col0\" >Feature Ratio</td>\n",
       "                        <td id=\"T_a4d153c0_9d3f_11eb_ad14_5800e3972554row53_col1\" class=\"data row53 col1\" >False</td>\n",
       "            </tr>\n",
       "            <tr>\n",
       "                        <th id=\"T_a4d153c0_9d3f_11eb_ad14_5800e3972554level0_row54\" class=\"row_heading level0 row54\" >54</th>\n",
       "                        <td id=\"T_a4d153c0_9d3f_11eb_ad14_5800e3972554row54_col0\" class=\"data row54 col0\" >Interaction Threshold</td>\n",
       "                        <td id=\"T_a4d153c0_9d3f_11eb_ad14_5800e3972554row54_col1\" class=\"data row54 col1\" >None</td>\n",
       "            </tr>\n",
       "            <tr>\n",
       "                        <th id=\"T_a4d153c0_9d3f_11eb_ad14_5800e3972554level0_row55\" class=\"row_heading level0 row55\" >55</th>\n",
       "                        <td id=\"T_a4d153c0_9d3f_11eb_ad14_5800e3972554row55_col0\" class=\"data row55 col0\" >Transform Target</td>\n",
       "                        <td id=\"T_a4d153c0_9d3f_11eb_ad14_5800e3972554row55_col1\" class=\"data row55 col1\" >False</td>\n",
       "            </tr>\n",
       "            <tr>\n",
       "                        <th id=\"T_a4d153c0_9d3f_11eb_ad14_5800e3972554level0_row56\" class=\"row_heading level0 row56\" >56</th>\n",
       "                        <td id=\"T_a4d153c0_9d3f_11eb_ad14_5800e3972554row56_col0\" class=\"data row56 col0\" >Transform Target Method</td>\n",
       "                        <td id=\"T_a4d153c0_9d3f_11eb_ad14_5800e3972554row56_col1\" class=\"data row56 col1\" >box-cox</td>\n",
       "            </tr>\n",
       "    </tbody></table>"
      ],
      "text/plain": [
       "<pandas.io.formats.style.Styler at 0x2ae3358e130>"
      ]
     },
     "metadata": {},
     "output_type": "display_data"
    }
   ],
   "source": [
    "exp_clf101 = setup(data = df_train, target = \"price\", session_id=123)"
   ]
  },
  {
   "cell_type": "code",
   "execution_count": 49,
   "metadata": {},
   "outputs": [
    {
     "data": {
      "text/html": [
       "<style  type=\"text/css\" >\n",
       "    #T_e8e3cc3b_9d3f_11eb_8f33_5800e3972554 th {\n",
       "          text-align: left;\n",
       "    }#T_e8e3cc3b_9d3f_11eb_8f33_5800e3972554row0_col0,#T_e8e3cc3b_9d3f_11eb_8f33_5800e3972554row1_col0,#T_e8e3cc3b_9d3f_11eb_8f33_5800e3972554row1_col1,#T_e8e3cc3b_9d3f_11eb_8f33_5800e3972554row1_col2,#T_e8e3cc3b_9d3f_11eb_8f33_5800e3972554row1_col3,#T_e8e3cc3b_9d3f_11eb_8f33_5800e3972554row1_col4,#T_e8e3cc3b_9d3f_11eb_8f33_5800e3972554row1_col5,#T_e8e3cc3b_9d3f_11eb_8f33_5800e3972554row1_col6,#T_e8e3cc3b_9d3f_11eb_8f33_5800e3972554row2_col0,#T_e8e3cc3b_9d3f_11eb_8f33_5800e3972554row2_col1,#T_e8e3cc3b_9d3f_11eb_8f33_5800e3972554row2_col2,#T_e8e3cc3b_9d3f_11eb_8f33_5800e3972554row2_col3,#T_e8e3cc3b_9d3f_11eb_8f33_5800e3972554row2_col4,#T_e8e3cc3b_9d3f_11eb_8f33_5800e3972554row2_col5,#T_e8e3cc3b_9d3f_11eb_8f33_5800e3972554row2_col6,#T_e8e3cc3b_9d3f_11eb_8f33_5800e3972554row3_col0,#T_e8e3cc3b_9d3f_11eb_8f33_5800e3972554row3_col1,#T_e8e3cc3b_9d3f_11eb_8f33_5800e3972554row3_col2,#T_e8e3cc3b_9d3f_11eb_8f33_5800e3972554row3_col3,#T_e8e3cc3b_9d3f_11eb_8f33_5800e3972554row3_col4,#T_e8e3cc3b_9d3f_11eb_8f33_5800e3972554row3_col5,#T_e8e3cc3b_9d3f_11eb_8f33_5800e3972554row3_col6,#T_e8e3cc3b_9d3f_11eb_8f33_5800e3972554row4_col0,#T_e8e3cc3b_9d3f_11eb_8f33_5800e3972554row4_col1,#T_e8e3cc3b_9d3f_11eb_8f33_5800e3972554row4_col2,#T_e8e3cc3b_9d3f_11eb_8f33_5800e3972554row4_col3,#T_e8e3cc3b_9d3f_11eb_8f33_5800e3972554row4_col4,#T_e8e3cc3b_9d3f_11eb_8f33_5800e3972554row4_col5,#T_e8e3cc3b_9d3f_11eb_8f33_5800e3972554row4_col6,#T_e8e3cc3b_9d3f_11eb_8f33_5800e3972554row5_col0,#T_e8e3cc3b_9d3f_11eb_8f33_5800e3972554row5_col1,#T_e8e3cc3b_9d3f_11eb_8f33_5800e3972554row5_col2,#T_e8e3cc3b_9d3f_11eb_8f33_5800e3972554row5_col3,#T_e8e3cc3b_9d3f_11eb_8f33_5800e3972554row5_col4,#T_e8e3cc3b_9d3f_11eb_8f33_5800e3972554row5_col5,#T_e8e3cc3b_9d3f_11eb_8f33_5800e3972554row5_col6,#T_e8e3cc3b_9d3f_11eb_8f33_5800e3972554row6_col0,#T_e8e3cc3b_9d3f_11eb_8f33_5800e3972554row6_col1,#T_e8e3cc3b_9d3f_11eb_8f33_5800e3972554row6_col2,#T_e8e3cc3b_9d3f_11eb_8f33_5800e3972554row6_col3,#T_e8e3cc3b_9d3f_11eb_8f33_5800e3972554row6_col4,#T_e8e3cc3b_9d3f_11eb_8f33_5800e3972554row6_col5,#T_e8e3cc3b_9d3f_11eb_8f33_5800e3972554row6_col6,#T_e8e3cc3b_9d3f_11eb_8f33_5800e3972554row7_col0,#T_e8e3cc3b_9d3f_11eb_8f33_5800e3972554row7_col1,#T_e8e3cc3b_9d3f_11eb_8f33_5800e3972554row7_col2,#T_e8e3cc3b_9d3f_11eb_8f33_5800e3972554row7_col3,#T_e8e3cc3b_9d3f_11eb_8f33_5800e3972554row7_col4,#T_e8e3cc3b_9d3f_11eb_8f33_5800e3972554row7_col5,#T_e8e3cc3b_9d3f_11eb_8f33_5800e3972554row7_col6,#T_e8e3cc3b_9d3f_11eb_8f33_5800e3972554row8_col0,#T_e8e3cc3b_9d3f_11eb_8f33_5800e3972554row8_col1,#T_e8e3cc3b_9d3f_11eb_8f33_5800e3972554row8_col2,#T_e8e3cc3b_9d3f_11eb_8f33_5800e3972554row8_col3,#T_e8e3cc3b_9d3f_11eb_8f33_5800e3972554row8_col4,#T_e8e3cc3b_9d3f_11eb_8f33_5800e3972554row8_col5,#T_e8e3cc3b_9d3f_11eb_8f33_5800e3972554row8_col6,#T_e8e3cc3b_9d3f_11eb_8f33_5800e3972554row9_col0,#T_e8e3cc3b_9d3f_11eb_8f33_5800e3972554row9_col1,#T_e8e3cc3b_9d3f_11eb_8f33_5800e3972554row9_col2,#T_e8e3cc3b_9d3f_11eb_8f33_5800e3972554row9_col3,#T_e8e3cc3b_9d3f_11eb_8f33_5800e3972554row9_col4,#T_e8e3cc3b_9d3f_11eb_8f33_5800e3972554row9_col5,#T_e8e3cc3b_9d3f_11eb_8f33_5800e3972554row9_col6,#T_e8e3cc3b_9d3f_11eb_8f33_5800e3972554row10_col0,#T_e8e3cc3b_9d3f_11eb_8f33_5800e3972554row10_col1,#T_e8e3cc3b_9d3f_11eb_8f33_5800e3972554row10_col2,#T_e8e3cc3b_9d3f_11eb_8f33_5800e3972554row10_col3,#T_e8e3cc3b_9d3f_11eb_8f33_5800e3972554row10_col4,#T_e8e3cc3b_9d3f_11eb_8f33_5800e3972554row10_col5,#T_e8e3cc3b_9d3f_11eb_8f33_5800e3972554row10_col6,#T_e8e3cc3b_9d3f_11eb_8f33_5800e3972554row11_col0,#T_e8e3cc3b_9d3f_11eb_8f33_5800e3972554row11_col1,#T_e8e3cc3b_9d3f_11eb_8f33_5800e3972554row11_col2,#T_e8e3cc3b_9d3f_11eb_8f33_5800e3972554row11_col3,#T_e8e3cc3b_9d3f_11eb_8f33_5800e3972554row11_col4,#T_e8e3cc3b_9d3f_11eb_8f33_5800e3972554row11_col5,#T_e8e3cc3b_9d3f_11eb_8f33_5800e3972554row11_col6,#T_e8e3cc3b_9d3f_11eb_8f33_5800e3972554row12_col0,#T_e8e3cc3b_9d3f_11eb_8f33_5800e3972554row12_col1,#T_e8e3cc3b_9d3f_11eb_8f33_5800e3972554row12_col2,#T_e8e3cc3b_9d3f_11eb_8f33_5800e3972554row12_col3,#T_e8e3cc3b_9d3f_11eb_8f33_5800e3972554row12_col4,#T_e8e3cc3b_9d3f_11eb_8f33_5800e3972554row12_col5,#T_e8e3cc3b_9d3f_11eb_8f33_5800e3972554row12_col6,#T_e8e3cc3b_9d3f_11eb_8f33_5800e3972554row13_col0,#T_e8e3cc3b_9d3f_11eb_8f33_5800e3972554row13_col1,#T_e8e3cc3b_9d3f_11eb_8f33_5800e3972554row13_col2,#T_e8e3cc3b_9d3f_11eb_8f33_5800e3972554row13_col3,#T_e8e3cc3b_9d3f_11eb_8f33_5800e3972554row13_col4,#T_e8e3cc3b_9d3f_11eb_8f33_5800e3972554row13_col5,#T_e8e3cc3b_9d3f_11eb_8f33_5800e3972554row13_col6,#T_e8e3cc3b_9d3f_11eb_8f33_5800e3972554row14_col0,#T_e8e3cc3b_9d3f_11eb_8f33_5800e3972554row14_col1,#T_e8e3cc3b_9d3f_11eb_8f33_5800e3972554row14_col2,#T_e8e3cc3b_9d3f_11eb_8f33_5800e3972554row14_col3,#T_e8e3cc3b_9d3f_11eb_8f33_5800e3972554row14_col4,#T_e8e3cc3b_9d3f_11eb_8f33_5800e3972554row14_col5,#T_e8e3cc3b_9d3f_11eb_8f33_5800e3972554row14_col6,#T_e8e3cc3b_9d3f_11eb_8f33_5800e3972554row15_col0,#T_e8e3cc3b_9d3f_11eb_8f33_5800e3972554row15_col1,#T_e8e3cc3b_9d3f_11eb_8f33_5800e3972554row15_col2,#T_e8e3cc3b_9d3f_11eb_8f33_5800e3972554row15_col3,#T_e8e3cc3b_9d3f_11eb_8f33_5800e3972554row15_col4,#T_e8e3cc3b_9d3f_11eb_8f33_5800e3972554row15_col5,#T_e8e3cc3b_9d3f_11eb_8f33_5800e3972554row15_col6,#T_e8e3cc3b_9d3f_11eb_8f33_5800e3972554row16_col0,#T_e8e3cc3b_9d3f_11eb_8f33_5800e3972554row16_col1,#T_e8e3cc3b_9d3f_11eb_8f33_5800e3972554row16_col2,#T_e8e3cc3b_9d3f_11eb_8f33_5800e3972554row16_col3,#T_e8e3cc3b_9d3f_11eb_8f33_5800e3972554row16_col4,#T_e8e3cc3b_9d3f_11eb_8f33_5800e3972554row16_col5,#T_e8e3cc3b_9d3f_11eb_8f33_5800e3972554row16_col6{\n",
       "            text-align:  left;\n",
       "            text-align:  left;\n",
       "        }#T_e8e3cc3b_9d3f_11eb_8f33_5800e3972554row0_col1,#T_e8e3cc3b_9d3f_11eb_8f33_5800e3972554row0_col2,#T_e8e3cc3b_9d3f_11eb_8f33_5800e3972554row0_col3,#T_e8e3cc3b_9d3f_11eb_8f33_5800e3972554row0_col4,#T_e8e3cc3b_9d3f_11eb_8f33_5800e3972554row0_col5,#T_e8e3cc3b_9d3f_11eb_8f33_5800e3972554row0_col6{\n",
       "            text-align:  left;\n",
       "            text-align:  left;\n",
       "            background-color:  yellow;\n",
       "        }#T_e8e3cc3b_9d3f_11eb_8f33_5800e3972554row0_col7,#T_e8e3cc3b_9d3f_11eb_8f33_5800e3972554row1_col7,#T_e8e3cc3b_9d3f_11eb_8f33_5800e3972554row2_col7,#T_e8e3cc3b_9d3f_11eb_8f33_5800e3972554row3_col7,#T_e8e3cc3b_9d3f_11eb_8f33_5800e3972554row4_col7,#T_e8e3cc3b_9d3f_11eb_8f33_5800e3972554row5_col7,#T_e8e3cc3b_9d3f_11eb_8f33_5800e3972554row6_col7,#T_e8e3cc3b_9d3f_11eb_8f33_5800e3972554row7_col7,#T_e8e3cc3b_9d3f_11eb_8f33_5800e3972554row8_col7,#T_e8e3cc3b_9d3f_11eb_8f33_5800e3972554row9_col7,#T_e8e3cc3b_9d3f_11eb_8f33_5800e3972554row10_col7,#T_e8e3cc3b_9d3f_11eb_8f33_5800e3972554row11_col7,#T_e8e3cc3b_9d3f_11eb_8f33_5800e3972554row13_col7,#T_e8e3cc3b_9d3f_11eb_8f33_5800e3972554row14_col7,#T_e8e3cc3b_9d3f_11eb_8f33_5800e3972554row15_col7,#T_e8e3cc3b_9d3f_11eb_8f33_5800e3972554row16_col7{\n",
       "            text-align:  left;\n",
       "            text-align:  left;\n",
       "            background-color:  lightgrey;\n",
       "        }#T_e8e3cc3b_9d3f_11eb_8f33_5800e3972554row12_col7{\n",
       "            text-align:  left;\n",
       "            text-align:  left;\n",
       "            background-color:  yellow;\n",
       "            background-color:  lightgrey;\n",
       "        }</style><table id=\"T_e8e3cc3b_9d3f_11eb_8f33_5800e3972554\" ><thead>    <tr>        <th class=\"blank level0\" ></th>        <th class=\"col_heading level0 col0\" >Model</th>        <th class=\"col_heading level0 col1\" >MAE</th>        <th class=\"col_heading level0 col2\" >MSE</th>        <th class=\"col_heading level0 col3\" >RMSE</th>        <th class=\"col_heading level0 col4\" >R2</th>        <th class=\"col_heading level0 col5\" >RMSLE</th>        <th class=\"col_heading level0 col6\" >MAPE</th>        <th class=\"col_heading level0 col7\" >TT (Sec)</th>    </tr></thead><tbody>\n",
       "                <tr>\n",
       "                        <th id=\"T_e8e3cc3b_9d3f_11eb_8f33_5800e3972554level0_row0\" class=\"row_heading level0 row0\" >lightgbm</th>\n",
       "                        <td id=\"T_e8e3cc3b_9d3f_11eb_8f33_5800e3972554row0_col0\" class=\"data row0 col0\" >Light Gradient Boosting Machine</td>\n",
       "                        <td id=\"T_e8e3cc3b_9d3f_11eb_8f33_5800e3972554row0_col1\" class=\"data row0 col1\" >0.0665</td>\n",
       "                        <td id=\"T_e8e3cc3b_9d3f_11eb_8f33_5800e3972554row0_col2\" class=\"data row0 col2\" >0.0084</td>\n",
       "                        <td id=\"T_e8e3cc3b_9d3f_11eb_8f33_5800e3972554row0_col3\" class=\"data row0 col3\" >0.0918</td>\n",
       "                        <td id=\"T_e8e3cc3b_9d3f_11eb_8f33_5800e3972554row0_col4\" class=\"data row0 col4\" >0.9918</td>\n",
       "                        <td id=\"T_e8e3cc3b_9d3f_11eb_8f33_5800e3972554row0_col5\" class=\"data row0 col5\" >0.0105</td>\n",
       "                        <td id=\"T_e8e3cc3b_9d3f_11eb_8f33_5800e3972554row0_col6\" class=\"data row0 col6\" >0.0086</td>\n",
       "                        <td id=\"T_e8e3cc3b_9d3f_11eb_8f33_5800e3972554row0_col7\" class=\"data row0 col7\" >0.2470</td>\n",
       "            </tr>\n",
       "            <tr>\n",
       "                        <th id=\"T_e8e3cc3b_9d3f_11eb_8f33_5800e3972554level0_row1\" class=\"row_heading level0 row1\" >et</th>\n",
       "                        <td id=\"T_e8e3cc3b_9d3f_11eb_8f33_5800e3972554row1_col0\" class=\"data row1 col0\" >Extra Trees Regressor</td>\n",
       "                        <td id=\"T_e8e3cc3b_9d3f_11eb_8f33_5800e3972554row1_col1\" class=\"data row1 col1\" >0.0684</td>\n",
       "                        <td id=\"T_e8e3cc3b_9d3f_11eb_8f33_5800e3972554row1_col2\" class=\"data row1 col2\" >0.0092</td>\n",
       "                        <td id=\"T_e8e3cc3b_9d3f_11eb_8f33_5800e3972554row1_col3\" class=\"data row1 col3\" >0.0958</td>\n",
       "                        <td id=\"T_e8e3cc3b_9d3f_11eb_8f33_5800e3972554row1_col4\" class=\"data row1 col4\" >0.9910</td>\n",
       "                        <td id=\"T_e8e3cc3b_9d3f_11eb_8f33_5800e3972554row1_col5\" class=\"data row1 col5\" >0.0110</td>\n",
       "                        <td id=\"T_e8e3cc3b_9d3f_11eb_8f33_5800e3972554row1_col6\" class=\"data row1 col6\" >0.0089</td>\n",
       "                        <td id=\"T_e8e3cc3b_9d3f_11eb_8f33_5800e3972554row1_col7\" class=\"data row1 col7\" >2.7490</td>\n",
       "            </tr>\n",
       "            <tr>\n",
       "                        <th id=\"T_e8e3cc3b_9d3f_11eb_8f33_5800e3972554level0_row2\" class=\"row_heading level0 row2\" >rf</th>\n",
       "                        <td id=\"T_e8e3cc3b_9d3f_11eb_8f33_5800e3972554row2_col0\" class=\"data row2 col0\" >Random Forest Regressor</td>\n",
       "                        <td id=\"T_e8e3cc3b_9d3f_11eb_8f33_5800e3972554row2_col1\" class=\"data row2 col1\" >0.0677</td>\n",
       "                        <td id=\"T_e8e3cc3b_9d3f_11eb_8f33_5800e3972554row2_col2\" class=\"data row2 col2\" >0.0093</td>\n",
       "                        <td id=\"T_e8e3cc3b_9d3f_11eb_8f33_5800e3972554row2_col3\" class=\"data row2 col3\" >0.0963</td>\n",
       "                        <td id=\"T_e8e3cc3b_9d3f_11eb_8f33_5800e3972554row2_col4\" class=\"data row2 col4\" >0.9909</td>\n",
       "                        <td id=\"T_e8e3cc3b_9d3f_11eb_8f33_5800e3972554row2_col5\" class=\"data row2 col5\" >0.0110</td>\n",
       "                        <td id=\"T_e8e3cc3b_9d3f_11eb_8f33_5800e3972554row2_col6\" class=\"data row2 col6\" >0.0088</td>\n",
       "                        <td id=\"T_e8e3cc3b_9d3f_11eb_8f33_5800e3972554row2_col7\" class=\"data row2 col7\" >3.9620</td>\n",
       "            </tr>\n",
       "            <tr>\n",
       "                        <th id=\"T_e8e3cc3b_9d3f_11eb_8f33_5800e3972554level0_row3\" class=\"row_heading level0 row3\" >gbr</th>\n",
       "                        <td id=\"T_e8e3cc3b_9d3f_11eb_8f33_5800e3972554row3_col0\" class=\"data row3 col0\" >Gradient Boosting Regressor</td>\n",
       "                        <td id=\"T_e8e3cc3b_9d3f_11eb_8f33_5800e3972554row3_col1\" class=\"data row3 col1\" >0.0829</td>\n",
       "                        <td id=\"T_e8e3cc3b_9d3f_11eb_8f33_5800e3972554row3_col2\" class=\"data row3 col2\" >0.0118</td>\n",
       "                        <td id=\"T_e8e3cc3b_9d3f_11eb_8f33_5800e3972554row3_col3\" class=\"data row3 col3\" >0.1085</td>\n",
       "                        <td id=\"T_e8e3cc3b_9d3f_11eb_8f33_5800e3972554row3_col4\" class=\"data row3 col4\" >0.9885</td>\n",
       "                        <td id=\"T_e8e3cc3b_9d3f_11eb_8f33_5800e3972554row3_col5\" class=\"data row3 col5\" >0.0127</td>\n",
       "                        <td id=\"T_e8e3cc3b_9d3f_11eb_8f33_5800e3972554row3_col6\" class=\"data row3 col6\" >0.0110</td>\n",
       "                        <td id=\"T_e8e3cc3b_9d3f_11eb_8f33_5800e3972554row3_col7\" class=\"data row3 col7\" >1.0300</td>\n",
       "            </tr>\n",
       "            <tr>\n",
       "                        <th id=\"T_e8e3cc3b_9d3f_11eb_8f33_5800e3972554level0_row4\" class=\"row_heading level0 row4\" >dt</th>\n",
       "                        <td id=\"T_e8e3cc3b_9d3f_11eb_8f33_5800e3972554row4_col0\" class=\"data row4 col0\" >Decision Tree Regressor</td>\n",
       "                        <td id=\"T_e8e3cc3b_9d3f_11eb_8f33_5800e3972554row4_col1\" class=\"data row4 col1\" >0.0898</td>\n",
       "                        <td id=\"T_e8e3cc3b_9d3f_11eb_8f33_5800e3972554row4_col2\" class=\"data row4 col2\" >0.0171</td>\n",
       "                        <td id=\"T_e8e3cc3b_9d3f_11eb_8f33_5800e3972554row4_col3\" class=\"data row4 col3\" >0.1307</td>\n",
       "                        <td id=\"T_e8e3cc3b_9d3f_11eb_8f33_5800e3972554row4_col4\" class=\"data row4 col4\" >0.9833</td>\n",
       "                        <td id=\"T_e8e3cc3b_9d3f_11eb_8f33_5800e3972554row4_col5\" class=\"data row4 col5\" >0.0149</td>\n",
       "                        <td id=\"T_e8e3cc3b_9d3f_11eb_8f33_5800e3972554row4_col6\" class=\"data row4 col6\" >0.0116</td>\n",
       "                        <td id=\"T_e8e3cc3b_9d3f_11eb_8f33_5800e3972554row4_col7\" class=\"data row4 col7\" >0.0840</td>\n",
       "            </tr>\n",
       "            <tr>\n",
       "                        <th id=\"T_e8e3cc3b_9d3f_11eb_8f33_5800e3972554level0_row5\" class=\"row_heading level0 row5\" >knn</th>\n",
       "                        <td id=\"T_e8e3cc3b_9d3f_11eb_8f33_5800e3972554row5_col0\" class=\"data row5 col0\" >K Neighbors Regressor</td>\n",
       "                        <td id=\"T_e8e3cc3b_9d3f_11eb_8f33_5800e3972554row5_col1\" class=\"data row5 col1\" >0.1067</td>\n",
       "                        <td id=\"T_e8e3cc3b_9d3f_11eb_8f33_5800e3972554row5_col2\" class=\"data row5 col2\" >0.0214</td>\n",
       "                        <td id=\"T_e8e3cc3b_9d3f_11eb_8f33_5800e3972554row5_col3\" class=\"data row5 col3\" >0.1463</td>\n",
       "                        <td id=\"T_e8e3cc3b_9d3f_11eb_8f33_5800e3972554row5_col4\" class=\"data row5 col4\" >0.9791</td>\n",
       "                        <td id=\"T_e8e3cc3b_9d3f_11eb_8f33_5800e3972554row5_col5\" class=\"data row5 col5\" >0.0171</td>\n",
       "                        <td id=\"T_e8e3cc3b_9d3f_11eb_8f33_5800e3972554row5_col6\" class=\"data row5 col6\" >0.0141</td>\n",
       "                        <td id=\"T_e8e3cc3b_9d3f_11eb_8f33_5800e3972554row5_col7\" class=\"data row5 col7\" >0.0980</td>\n",
       "            </tr>\n",
       "            <tr>\n",
       "                        <th id=\"T_e8e3cc3b_9d3f_11eb_8f33_5800e3972554level0_row6\" class=\"row_heading level0 row6\" >ada</th>\n",
       "                        <td id=\"T_e8e3cc3b_9d3f_11eb_8f33_5800e3972554row6_col0\" class=\"data row6 col0\" >AdaBoost Regressor</td>\n",
       "                        <td id=\"T_e8e3cc3b_9d3f_11eb_8f33_5800e3972554row6_col1\" class=\"data row6 col1\" >0.1569</td>\n",
       "                        <td id=\"T_e8e3cc3b_9d3f_11eb_8f33_5800e3972554row6_col2\" class=\"data row6 col2\" >0.0391</td>\n",
       "                        <td id=\"T_e8e3cc3b_9d3f_11eb_8f33_5800e3972554row6_col3\" class=\"data row6 col3\" >0.1978</td>\n",
       "                        <td id=\"T_e8e3cc3b_9d3f_11eb_8f33_5800e3972554row6_col4\" class=\"data row6 col4\" >0.9619</td>\n",
       "                        <td id=\"T_e8e3cc3b_9d3f_11eb_8f33_5800e3972554row6_col5\" class=\"data row6 col5\" >0.0232</td>\n",
       "                        <td id=\"T_e8e3cc3b_9d3f_11eb_8f33_5800e3972554row6_col6\" class=\"data row6 col6\" >0.0207</td>\n",
       "                        <td id=\"T_e8e3cc3b_9d3f_11eb_8f33_5800e3972554row6_col7\" class=\"data row6 col7\" >0.7440</td>\n",
       "            </tr>\n",
       "            <tr>\n",
       "                        <th id=\"T_e8e3cc3b_9d3f_11eb_8f33_5800e3972554level0_row7\" class=\"row_heading level0 row7\" >huber</th>\n",
       "                        <td id=\"T_e8e3cc3b_9d3f_11eb_8f33_5800e3972554row7_col0\" class=\"data row7 col0\" >Huber Regressor</td>\n",
       "                        <td id=\"T_e8e3cc3b_9d3f_11eb_8f33_5800e3972554row7_col1\" class=\"data row7 col1\" >0.1242</td>\n",
       "                        <td id=\"T_e8e3cc3b_9d3f_11eb_8f33_5800e3972554row7_col2\" class=\"data row7 col2\" >0.0720</td>\n",
       "                        <td id=\"T_e8e3cc3b_9d3f_11eb_8f33_5800e3972554row7_col3\" class=\"data row7 col3\" >0.2433</td>\n",
       "                        <td id=\"T_e8e3cc3b_9d3f_11eb_8f33_5800e3972554row7_col4\" class=\"data row7 col4\" >0.9301</td>\n",
       "                        <td id=\"T_e8e3cc3b_9d3f_11eb_8f33_5800e3972554row7_col5\" class=\"data row7 col5\" >0.0294</td>\n",
       "                        <td id=\"T_e8e3cc3b_9d3f_11eb_8f33_5800e3972554row7_col6\" class=\"data row7 col6\" >0.0161</td>\n",
       "                        <td id=\"T_e8e3cc3b_9d3f_11eb_8f33_5800e3972554row7_col7\" class=\"data row7 col7\" >0.3840</td>\n",
       "            </tr>\n",
       "            <tr>\n",
       "                        <th id=\"T_e8e3cc3b_9d3f_11eb_8f33_5800e3972554level0_row8\" class=\"row_heading level0 row8\" >par</th>\n",
       "                        <td id=\"T_e8e3cc3b_9d3f_11eb_8f33_5800e3972554row8_col0\" class=\"data row8 col0\" >Passive Aggressive Regressor</td>\n",
       "                        <td id=\"T_e8e3cc3b_9d3f_11eb_8f33_5800e3972554row8_col1\" class=\"data row8 col1\" >0.1759</td>\n",
       "                        <td id=\"T_e8e3cc3b_9d3f_11eb_8f33_5800e3972554row8_col2\" class=\"data row8 col2\" >0.0873</td>\n",
       "                        <td id=\"T_e8e3cc3b_9d3f_11eb_8f33_5800e3972554row8_col3\" class=\"data row8 col3\" >0.2784</td>\n",
       "                        <td id=\"T_e8e3cc3b_9d3f_11eb_8f33_5800e3972554row8_col4\" class=\"data row8 col4\" >0.9155</td>\n",
       "                        <td id=\"T_e8e3cc3b_9d3f_11eb_8f33_5800e3972554row8_col5\" class=\"data row8 col5\" >0.0314</td>\n",
       "                        <td id=\"T_e8e3cc3b_9d3f_11eb_8f33_5800e3972554row8_col6\" class=\"data row8 col6\" >0.0231</td>\n",
       "                        <td id=\"T_e8e3cc3b_9d3f_11eb_8f33_5800e3972554row8_col7\" class=\"data row8 col7\" >0.0460</td>\n",
       "            </tr>\n",
       "            <tr>\n",
       "                        <th id=\"T_e8e3cc3b_9d3f_11eb_8f33_5800e3972554level0_row9\" class=\"row_heading level0 row9\" >ridge</th>\n",
       "                        <td id=\"T_e8e3cc3b_9d3f_11eb_8f33_5800e3972554row9_col0\" class=\"data row9 col0\" >Ridge Regression</td>\n",
       "                        <td id=\"T_e8e3cc3b_9d3f_11eb_8f33_5800e3972554row9_col1\" class=\"data row9 col1\" >0.1292</td>\n",
       "                        <td id=\"T_e8e3cc3b_9d3f_11eb_8f33_5800e3972554row9_col2\" class=\"data row9 col2\" >0.0928</td>\n",
       "                        <td id=\"T_e8e3cc3b_9d3f_11eb_8f33_5800e3972554row9_col3\" class=\"data row9 col3\" >0.2546</td>\n",
       "                        <td id=\"T_e8e3cc3b_9d3f_11eb_8f33_5800e3972554row9_col4\" class=\"data row9 col4\" >0.9104</td>\n",
       "                        <td id=\"T_e8e3cc3b_9d3f_11eb_8f33_5800e3972554row9_col5\" class=\"data row9 col5\" >0.0294</td>\n",
       "                        <td id=\"T_e8e3cc3b_9d3f_11eb_8f33_5800e3972554row9_col6\" class=\"data row9 col6\" >0.0167</td>\n",
       "                        <td id=\"T_e8e3cc3b_9d3f_11eb_8f33_5800e3972554row9_col7\" class=\"data row9 col7\" >0.0180</td>\n",
       "            </tr>\n",
       "            <tr>\n",
       "                        <th id=\"T_e8e3cc3b_9d3f_11eb_8f33_5800e3972554level0_row10\" class=\"row_heading level0 row10\" >br</th>\n",
       "                        <td id=\"T_e8e3cc3b_9d3f_11eb_8f33_5800e3972554row10_col0\" class=\"data row10 col0\" >Bayesian Ridge</td>\n",
       "                        <td id=\"T_e8e3cc3b_9d3f_11eb_8f33_5800e3972554row10_col1\" class=\"data row10 col1\" >0.1291</td>\n",
       "                        <td id=\"T_e8e3cc3b_9d3f_11eb_8f33_5800e3972554row10_col2\" class=\"data row10 col2\" >0.0932</td>\n",
       "                        <td id=\"T_e8e3cc3b_9d3f_11eb_8f33_5800e3972554row10_col3\" class=\"data row10 col3\" >0.2548</td>\n",
       "                        <td id=\"T_e8e3cc3b_9d3f_11eb_8f33_5800e3972554row10_col4\" class=\"data row10 col4\" >0.9101</td>\n",
       "                        <td id=\"T_e8e3cc3b_9d3f_11eb_8f33_5800e3972554row10_col5\" class=\"data row10 col5\" >0.0294</td>\n",
       "                        <td id=\"T_e8e3cc3b_9d3f_11eb_8f33_5800e3972554row10_col6\" class=\"data row10 col6\" >0.0167</td>\n",
       "                        <td id=\"T_e8e3cc3b_9d3f_11eb_8f33_5800e3972554row10_col7\" class=\"data row10 col7\" >0.0200</td>\n",
       "            </tr>\n",
       "            <tr>\n",
       "                        <th id=\"T_e8e3cc3b_9d3f_11eb_8f33_5800e3972554level0_row11\" class=\"row_heading level0 row11\" >lr</th>\n",
       "                        <td id=\"T_e8e3cc3b_9d3f_11eb_8f33_5800e3972554row11_col0\" class=\"data row11 col0\" >Linear Regression</td>\n",
       "                        <td id=\"T_e8e3cc3b_9d3f_11eb_8f33_5800e3972554row11_col1\" class=\"data row11 col1\" >0.1291</td>\n",
       "                        <td id=\"T_e8e3cc3b_9d3f_11eb_8f33_5800e3972554row11_col2\" class=\"data row11 col2\" >0.0933</td>\n",
       "                        <td id=\"T_e8e3cc3b_9d3f_11eb_8f33_5800e3972554row11_col3\" class=\"data row11 col3\" >0.2549</td>\n",
       "                        <td id=\"T_e8e3cc3b_9d3f_11eb_8f33_5800e3972554row11_col4\" class=\"data row11 col4\" >0.9100</td>\n",
       "                        <td id=\"T_e8e3cc3b_9d3f_11eb_8f33_5800e3972554row11_col5\" class=\"data row11 col5\" >0.0294</td>\n",
       "                        <td id=\"T_e8e3cc3b_9d3f_11eb_8f33_5800e3972554row11_col6\" class=\"data row11 col6\" >0.0167</td>\n",
       "                        <td id=\"T_e8e3cc3b_9d3f_11eb_8f33_5800e3972554row11_col7\" class=\"data row11 col7\" >0.9050</td>\n",
       "            </tr>\n",
       "            <tr>\n",
       "                        <th id=\"T_e8e3cc3b_9d3f_11eb_8f33_5800e3972554level0_row12\" class=\"row_heading level0 row12\" >lar</th>\n",
       "                        <td id=\"T_e8e3cc3b_9d3f_11eb_8f33_5800e3972554row12_col0\" class=\"data row12 col0\" >Least Angle Regression</td>\n",
       "                        <td id=\"T_e8e3cc3b_9d3f_11eb_8f33_5800e3972554row12_col1\" class=\"data row12 col1\" >0.1291</td>\n",
       "                        <td id=\"T_e8e3cc3b_9d3f_11eb_8f33_5800e3972554row12_col2\" class=\"data row12 col2\" >0.0933</td>\n",
       "                        <td id=\"T_e8e3cc3b_9d3f_11eb_8f33_5800e3972554row12_col3\" class=\"data row12 col3\" >0.2549</td>\n",
       "                        <td id=\"T_e8e3cc3b_9d3f_11eb_8f33_5800e3972554row12_col4\" class=\"data row12 col4\" >0.9100</td>\n",
       "                        <td id=\"T_e8e3cc3b_9d3f_11eb_8f33_5800e3972554row12_col5\" class=\"data row12 col5\" >0.0294</td>\n",
       "                        <td id=\"T_e8e3cc3b_9d3f_11eb_8f33_5800e3972554row12_col6\" class=\"data row12 col6\" >0.0167</td>\n",
       "                        <td id=\"T_e8e3cc3b_9d3f_11eb_8f33_5800e3972554row12_col7\" class=\"data row12 col7\" >0.0170</td>\n",
       "            </tr>\n",
       "            <tr>\n",
       "                        <th id=\"T_e8e3cc3b_9d3f_11eb_8f33_5800e3972554level0_row13\" class=\"row_heading level0 row13\" >omp</th>\n",
       "                        <td id=\"T_e8e3cc3b_9d3f_11eb_8f33_5800e3972554row13_col0\" class=\"data row13 col0\" >Orthogonal Matching Pursuit</td>\n",
       "                        <td id=\"T_e8e3cc3b_9d3f_11eb_8f33_5800e3972554row13_col1\" class=\"data row13 col1\" >0.2178</td>\n",
       "                        <td id=\"T_e8e3cc3b_9d3f_11eb_8f33_5800e3972554row13_col2\" class=\"data row13 col2\" >0.1557</td>\n",
       "                        <td id=\"T_e8e3cc3b_9d3f_11eb_8f33_5800e3972554row13_col3\" class=\"data row13 col3\" >0.3518</td>\n",
       "                        <td id=\"T_e8e3cc3b_9d3f_11eb_8f33_5800e3972554row13_col4\" class=\"data row13 col4\" >0.8497</td>\n",
       "                        <td id=\"T_e8e3cc3b_9d3f_11eb_8f33_5800e3972554row13_col5\" class=\"data row13 col5\" >0.0350</td>\n",
       "                        <td id=\"T_e8e3cc3b_9d3f_11eb_8f33_5800e3972554row13_col6\" class=\"data row13 col6\" >0.0281</td>\n",
       "                        <td id=\"T_e8e3cc3b_9d3f_11eb_8f33_5800e3972554row13_col7\" class=\"data row13 col7\" >0.0180</td>\n",
       "            </tr>\n",
       "            <tr>\n",
       "                        <th id=\"T_e8e3cc3b_9d3f_11eb_8f33_5800e3972554level0_row14\" class=\"row_heading level0 row14\" >en</th>\n",
       "                        <td id=\"T_e8e3cc3b_9d3f_11eb_8f33_5800e3972554row14_col0\" class=\"data row14 col0\" >Elastic Net</td>\n",
       "                        <td id=\"T_e8e3cc3b_9d3f_11eb_8f33_5800e3972554row14_col1\" class=\"data row14 col1\" >0.5217</td>\n",
       "                        <td id=\"T_e8e3cc3b_9d3f_11eb_8f33_5800e3972554row14_col2\" class=\"data row14 col2\" >0.3799</td>\n",
       "                        <td id=\"T_e8e3cc3b_9d3f_11eb_8f33_5800e3972554row14_col3\" class=\"data row14 col3\" >0.6163</td>\n",
       "                        <td id=\"T_e8e3cc3b_9d3f_11eb_8f33_5800e3972554row14_col4\" class=\"data row14 col4\" >0.6299</td>\n",
       "                        <td id=\"T_e8e3cc3b_9d3f_11eb_8f33_5800e3972554row14_col5\" class=\"data row14 col5\" >0.0710</td>\n",
       "                        <td id=\"T_e8e3cc3b_9d3f_11eb_8f33_5800e3972554row14_col6\" class=\"data row14 col6\" >0.0687</td>\n",
       "                        <td id=\"T_e8e3cc3b_9d3f_11eb_8f33_5800e3972554row14_col7\" class=\"data row14 col7\" >0.0180</td>\n",
       "            </tr>\n",
       "            <tr>\n",
       "                        <th id=\"T_e8e3cc3b_9d3f_11eb_8f33_5800e3972554level0_row15\" class=\"row_heading level0 row15\" >lasso</th>\n",
       "                        <td id=\"T_e8e3cc3b_9d3f_11eb_8f33_5800e3972554row15_col0\" class=\"data row15 col0\" >Lasso Regression</td>\n",
       "                        <td id=\"T_e8e3cc3b_9d3f_11eb_8f33_5800e3972554row15_col1\" class=\"data row15 col1\" >0.8118</td>\n",
       "                        <td id=\"T_e8e3cc3b_9d3f_11eb_8f33_5800e3972554row15_col2\" class=\"data row15 col2\" >0.8842</td>\n",
       "                        <td id=\"T_e8e3cc3b_9d3f_11eb_8f33_5800e3972554row15_col3\" class=\"data row15 col3\" >0.9403</td>\n",
       "                        <td id=\"T_e8e3cc3b_9d3f_11eb_8f33_5800e3972554row15_col4\" class=\"data row15 col4\" >0.1387</td>\n",
       "                        <td id=\"T_e8e3cc3b_9d3f_11eb_8f33_5800e3972554row15_col5\" class=\"data row15 col5\" >0.1077</td>\n",
       "                        <td id=\"T_e8e3cc3b_9d3f_11eb_8f33_5800e3972554row15_col6\" class=\"data row15 col6\" >0.1066</td>\n",
       "                        <td id=\"T_e8e3cc3b_9d3f_11eb_8f33_5800e3972554row15_col7\" class=\"data row15 col7\" >0.0190</td>\n",
       "            </tr>\n",
       "            <tr>\n",
       "                        <th id=\"T_e8e3cc3b_9d3f_11eb_8f33_5800e3972554level0_row16\" class=\"row_heading level0 row16\" >llar</th>\n",
       "                        <td id=\"T_e8e3cc3b_9d3f_11eb_8f33_5800e3972554row16_col0\" class=\"data row16 col0\" >Lasso Least Angle Regression</td>\n",
       "                        <td id=\"T_e8e3cc3b_9d3f_11eb_8f33_5800e3972554row16_col1\" class=\"data row16 col1\" >0.8756</td>\n",
       "                        <td id=\"T_e8e3cc3b_9d3f_11eb_8f33_5800e3972554row16_col2\" class=\"data row16 col2\" >1.0269</td>\n",
       "                        <td id=\"T_e8e3cc3b_9d3f_11eb_8f33_5800e3972554row16_col3\" class=\"data row16 col3\" >1.0133</td>\n",
       "                        <td id=\"T_e8e3cc3b_9d3f_11eb_8f33_5800e3972554row16_col4\" class=\"data row16 col4\" >-0.0004</td>\n",
       "                        <td id=\"T_e8e3cc3b_9d3f_11eb_8f33_5800e3972554row16_col5\" class=\"data row16 col5\" >0.1159</td>\n",
       "                        <td id=\"T_e8e3cc3b_9d3f_11eb_8f33_5800e3972554row16_col6\" class=\"data row16 col6\" >0.1149</td>\n",
       "                        <td id=\"T_e8e3cc3b_9d3f_11eb_8f33_5800e3972554row16_col7\" class=\"data row16 col7\" >0.0200</td>\n",
       "            </tr>\n",
       "    </tbody></table>"
      ],
      "text/plain": [
       "<pandas.io.formats.style.Styler at 0x2ae33af3370>"
      ]
     },
     "metadata": {},
     "output_type": "display_data"
    },
    {
     "data": {
      "text/plain": [
       "LGBMRegressor(boosting_type='gbdt', class_weight=None, colsample_bytree=1.0,\n",
       "              importance_type='split', learning_rate=0.1, max_depth=-1,\n",
       "              min_child_samples=20, min_child_weight=0.001, min_split_gain=0.0,\n",
       "              n_estimators=100, n_jobs=-1, num_leaves=31, objective=None,\n",
       "              random_state=123, reg_alpha=0.0, reg_lambda=0.0, silent=True,\n",
       "              subsample=1.0, subsample_for_bin=200000, subsample_freq=0)"
      ]
     },
     "execution_count": 49,
     "metadata": {},
     "output_type": "execute_result"
    }
   ],
   "source": [
    "compare_models()"
   ]
  },
  {
   "cell_type": "code",
   "execution_count": 50,
   "metadata": {},
   "outputs": [
    {
     "data": {
      "text/html": [
       "<style  type=\"text/css\" >\n",
       "#T_f3a570df_9d3f_11eb_ab57_5800e3972554row10_col0,#T_f3a570df_9d3f_11eb_ab57_5800e3972554row10_col1,#T_f3a570df_9d3f_11eb_ab57_5800e3972554row10_col2,#T_f3a570df_9d3f_11eb_ab57_5800e3972554row10_col3,#T_f3a570df_9d3f_11eb_ab57_5800e3972554row10_col4,#T_f3a570df_9d3f_11eb_ab57_5800e3972554row10_col5{\n",
       "            background:  yellow;\n",
       "        }</style><table id=\"T_f3a570df_9d3f_11eb_ab57_5800e3972554\" ><thead>    <tr>        <th class=\"blank level0\" ></th>        <th class=\"col_heading level0 col0\" >MAE</th>        <th class=\"col_heading level0 col1\" >MSE</th>        <th class=\"col_heading level0 col2\" >RMSE</th>        <th class=\"col_heading level0 col3\" >R2</th>        <th class=\"col_heading level0 col4\" >RMSLE</th>        <th class=\"col_heading level0 col5\" >MAPE</th>    </tr></thead><tbody>\n",
       "                <tr>\n",
       "                        <th id=\"T_f3a570df_9d3f_11eb_ab57_5800e3972554level0_row0\" class=\"row_heading level0 row0\" >0</th>\n",
       "                        <td id=\"T_f3a570df_9d3f_11eb_ab57_5800e3972554row0_col0\" class=\"data row0 col0\" >0.0682</td>\n",
       "                        <td id=\"T_f3a570df_9d3f_11eb_ab57_5800e3972554row0_col1\" class=\"data row0 col1\" >0.0089</td>\n",
       "                        <td id=\"T_f3a570df_9d3f_11eb_ab57_5800e3972554row0_col2\" class=\"data row0 col2\" >0.0942</td>\n",
       "                        <td id=\"T_f3a570df_9d3f_11eb_ab57_5800e3972554row0_col3\" class=\"data row0 col3\" >0.9914</td>\n",
       "                        <td id=\"T_f3a570df_9d3f_11eb_ab57_5800e3972554row0_col4\" class=\"data row0 col4\" >0.0108</td>\n",
       "                        <td id=\"T_f3a570df_9d3f_11eb_ab57_5800e3972554row0_col5\" class=\"data row0 col5\" >0.0088</td>\n",
       "            </tr>\n",
       "            <tr>\n",
       "                        <th id=\"T_f3a570df_9d3f_11eb_ab57_5800e3972554level0_row1\" class=\"row_heading level0 row1\" >1</th>\n",
       "                        <td id=\"T_f3a570df_9d3f_11eb_ab57_5800e3972554row1_col0\" class=\"data row1 col0\" >0.0669</td>\n",
       "                        <td id=\"T_f3a570df_9d3f_11eb_ab57_5800e3972554row1_col1\" class=\"data row1 col1\" >0.0083</td>\n",
       "                        <td id=\"T_f3a570df_9d3f_11eb_ab57_5800e3972554row1_col2\" class=\"data row1 col2\" >0.0914</td>\n",
       "                        <td id=\"T_f3a570df_9d3f_11eb_ab57_5800e3972554row1_col3\" class=\"data row1 col3\" >0.9917</td>\n",
       "                        <td id=\"T_f3a570df_9d3f_11eb_ab57_5800e3972554row1_col4\" class=\"data row1 col4\" >0.0104</td>\n",
       "                        <td id=\"T_f3a570df_9d3f_11eb_ab57_5800e3972554row1_col5\" class=\"data row1 col5\" >0.0086</td>\n",
       "            </tr>\n",
       "            <tr>\n",
       "                        <th id=\"T_f3a570df_9d3f_11eb_ab57_5800e3972554level0_row2\" class=\"row_heading level0 row2\" >2</th>\n",
       "                        <td id=\"T_f3a570df_9d3f_11eb_ab57_5800e3972554row2_col0\" class=\"data row2 col0\" >0.0662</td>\n",
       "                        <td id=\"T_f3a570df_9d3f_11eb_ab57_5800e3972554row2_col1\" class=\"data row2 col1\" >0.0080</td>\n",
       "                        <td id=\"T_f3a570df_9d3f_11eb_ab57_5800e3972554row2_col2\" class=\"data row2 col2\" >0.0897</td>\n",
       "                        <td id=\"T_f3a570df_9d3f_11eb_ab57_5800e3972554row2_col3\" class=\"data row2 col3\" >0.9922</td>\n",
       "                        <td id=\"T_f3a570df_9d3f_11eb_ab57_5800e3972554row2_col4\" class=\"data row2 col4\" >0.0102</td>\n",
       "                        <td id=\"T_f3a570df_9d3f_11eb_ab57_5800e3972554row2_col5\" class=\"data row2 col5\" >0.0085</td>\n",
       "            </tr>\n",
       "            <tr>\n",
       "                        <th id=\"T_f3a570df_9d3f_11eb_ab57_5800e3972554level0_row3\" class=\"row_heading level0 row3\" >3</th>\n",
       "                        <td id=\"T_f3a570df_9d3f_11eb_ab57_5800e3972554row3_col0\" class=\"data row3 col0\" >0.0662</td>\n",
       "                        <td id=\"T_f3a570df_9d3f_11eb_ab57_5800e3972554row3_col1\" class=\"data row3 col1\" >0.0080</td>\n",
       "                        <td id=\"T_f3a570df_9d3f_11eb_ab57_5800e3972554row3_col2\" class=\"data row3 col2\" >0.0892</td>\n",
       "                        <td id=\"T_f3a570df_9d3f_11eb_ab57_5800e3972554row3_col3\" class=\"data row3 col3\" >0.9924</td>\n",
       "                        <td id=\"T_f3a570df_9d3f_11eb_ab57_5800e3972554row3_col4\" class=\"data row3 col4\" >0.0101</td>\n",
       "                        <td id=\"T_f3a570df_9d3f_11eb_ab57_5800e3972554row3_col5\" class=\"data row3 col5\" >0.0086</td>\n",
       "            </tr>\n",
       "            <tr>\n",
       "                        <th id=\"T_f3a570df_9d3f_11eb_ab57_5800e3972554level0_row4\" class=\"row_heading level0 row4\" >4</th>\n",
       "                        <td id=\"T_f3a570df_9d3f_11eb_ab57_5800e3972554row4_col0\" class=\"data row4 col0\" >0.0651</td>\n",
       "                        <td id=\"T_f3a570df_9d3f_11eb_ab57_5800e3972554row4_col1\" class=\"data row4 col1\" >0.0081</td>\n",
       "                        <td id=\"T_f3a570df_9d3f_11eb_ab57_5800e3972554row4_col2\" class=\"data row4 col2\" >0.0901</td>\n",
       "                        <td id=\"T_f3a570df_9d3f_11eb_ab57_5800e3972554row4_col3\" class=\"data row4 col3\" >0.9922</td>\n",
       "                        <td id=\"T_f3a570df_9d3f_11eb_ab57_5800e3972554row4_col4\" class=\"data row4 col4\" >0.0103</td>\n",
       "                        <td id=\"T_f3a570df_9d3f_11eb_ab57_5800e3972554row4_col5\" class=\"data row4 col5\" >0.0084</td>\n",
       "            </tr>\n",
       "            <tr>\n",
       "                        <th id=\"T_f3a570df_9d3f_11eb_ab57_5800e3972554level0_row5\" class=\"row_heading level0 row5\" >5</th>\n",
       "                        <td id=\"T_f3a570df_9d3f_11eb_ab57_5800e3972554row5_col0\" class=\"data row5 col0\" >0.0660</td>\n",
       "                        <td id=\"T_f3a570df_9d3f_11eb_ab57_5800e3972554row5_col1\" class=\"data row5 col1\" >0.0081</td>\n",
       "                        <td id=\"T_f3a570df_9d3f_11eb_ab57_5800e3972554row5_col2\" class=\"data row5 col2\" >0.0899</td>\n",
       "                        <td id=\"T_f3a570df_9d3f_11eb_ab57_5800e3972554row5_col3\" class=\"data row5 col3\" >0.9921</td>\n",
       "                        <td id=\"T_f3a570df_9d3f_11eb_ab57_5800e3972554row5_col4\" class=\"data row5 col4\" >0.0103</td>\n",
       "                        <td id=\"T_f3a570df_9d3f_11eb_ab57_5800e3972554row5_col5\" class=\"data row5 col5\" >0.0086</td>\n",
       "            </tr>\n",
       "            <tr>\n",
       "                        <th id=\"T_f3a570df_9d3f_11eb_ab57_5800e3972554level0_row6\" class=\"row_heading level0 row6\" >6</th>\n",
       "                        <td id=\"T_f3a570df_9d3f_11eb_ab57_5800e3972554row6_col0\" class=\"data row6 col0\" >0.0660</td>\n",
       "                        <td id=\"T_f3a570df_9d3f_11eb_ab57_5800e3972554row6_col1\" class=\"data row6 col1\" >0.0084</td>\n",
       "                        <td id=\"T_f3a570df_9d3f_11eb_ab57_5800e3972554row6_col2\" class=\"data row6 col2\" >0.0915</td>\n",
       "                        <td id=\"T_f3a570df_9d3f_11eb_ab57_5800e3972554row6_col3\" class=\"data row6 col3\" >0.9919</td>\n",
       "                        <td id=\"T_f3a570df_9d3f_11eb_ab57_5800e3972554row6_col4\" class=\"data row6 col4\" >0.0104</td>\n",
       "                        <td id=\"T_f3a570df_9d3f_11eb_ab57_5800e3972554row6_col5\" class=\"data row6 col5\" >0.0086</td>\n",
       "            </tr>\n",
       "            <tr>\n",
       "                        <th id=\"T_f3a570df_9d3f_11eb_ab57_5800e3972554level0_row7\" class=\"row_heading level0 row7\" >7</th>\n",
       "                        <td id=\"T_f3a570df_9d3f_11eb_ab57_5800e3972554row7_col0\" class=\"data row7 col0\" >0.0660</td>\n",
       "                        <td id=\"T_f3a570df_9d3f_11eb_ab57_5800e3972554row7_col1\" class=\"data row7 col1\" >0.0078</td>\n",
       "                        <td id=\"T_f3a570df_9d3f_11eb_ab57_5800e3972554row7_col2\" class=\"data row7 col2\" >0.0880</td>\n",
       "                        <td id=\"T_f3a570df_9d3f_11eb_ab57_5800e3972554row7_col3\" class=\"data row7 col3\" >0.9926</td>\n",
       "                        <td id=\"T_f3a570df_9d3f_11eb_ab57_5800e3972554row7_col4\" class=\"data row7 col4\" >0.0101</td>\n",
       "                        <td id=\"T_f3a570df_9d3f_11eb_ab57_5800e3972554row7_col5\" class=\"data row7 col5\" >0.0086</td>\n",
       "            </tr>\n",
       "            <tr>\n",
       "                        <th id=\"T_f3a570df_9d3f_11eb_ab57_5800e3972554level0_row8\" class=\"row_heading level0 row8\" >8</th>\n",
       "                        <td id=\"T_f3a570df_9d3f_11eb_ab57_5800e3972554row8_col0\" class=\"data row8 col0\" >0.0681</td>\n",
       "                        <td id=\"T_f3a570df_9d3f_11eb_ab57_5800e3972554row8_col1\" class=\"data row8 col1\" >0.0102</td>\n",
       "                        <td id=\"T_f3a570df_9d3f_11eb_ab57_5800e3972554row8_col2\" class=\"data row8 col2\" >0.1011</td>\n",
       "                        <td id=\"T_f3a570df_9d3f_11eb_ab57_5800e3972554row8_col3\" class=\"data row8 col3\" >0.9896</td>\n",
       "                        <td id=\"T_f3a570df_9d3f_11eb_ab57_5800e3972554row8_col4\" class=\"data row8 col4\" >0.0115</td>\n",
       "                        <td id=\"T_f3a570df_9d3f_11eb_ab57_5800e3972554row8_col5\" class=\"data row8 col5\" >0.0088</td>\n",
       "            </tr>\n",
       "            <tr>\n",
       "                        <th id=\"T_f3a570df_9d3f_11eb_ab57_5800e3972554level0_row9\" class=\"row_heading level0 row9\" >9</th>\n",
       "                        <td id=\"T_f3a570df_9d3f_11eb_ab57_5800e3972554row9_col0\" class=\"data row9 col0\" >0.0667</td>\n",
       "                        <td id=\"T_f3a570df_9d3f_11eb_ab57_5800e3972554row9_col1\" class=\"data row9 col1\" >0.0086</td>\n",
       "                        <td id=\"T_f3a570df_9d3f_11eb_ab57_5800e3972554row9_col2\" class=\"data row9 col2\" >0.0927</td>\n",
       "                        <td id=\"T_f3a570df_9d3f_11eb_ab57_5800e3972554row9_col3\" class=\"data row9 col3\" >0.9915</td>\n",
       "                        <td id=\"T_f3a570df_9d3f_11eb_ab57_5800e3972554row9_col4\" class=\"data row9 col4\" >0.0107</td>\n",
       "                        <td id=\"T_f3a570df_9d3f_11eb_ab57_5800e3972554row9_col5\" class=\"data row9 col5\" >0.0087</td>\n",
       "            </tr>\n",
       "            <tr>\n",
       "                        <th id=\"T_f3a570df_9d3f_11eb_ab57_5800e3972554level0_row10\" class=\"row_heading level0 row10\" >Mean</th>\n",
       "                        <td id=\"T_f3a570df_9d3f_11eb_ab57_5800e3972554row10_col0\" class=\"data row10 col0\" >0.0665</td>\n",
       "                        <td id=\"T_f3a570df_9d3f_11eb_ab57_5800e3972554row10_col1\" class=\"data row10 col1\" >0.0084</td>\n",
       "                        <td id=\"T_f3a570df_9d3f_11eb_ab57_5800e3972554row10_col2\" class=\"data row10 col2\" >0.0918</td>\n",
       "                        <td id=\"T_f3a570df_9d3f_11eb_ab57_5800e3972554row10_col3\" class=\"data row10 col3\" >0.9918</td>\n",
       "                        <td id=\"T_f3a570df_9d3f_11eb_ab57_5800e3972554row10_col4\" class=\"data row10 col4\" >0.0105</td>\n",
       "                        <td id=\"T_f3a570df_9d3f_11eb_ab57_5800e3972554row10_col5\" class=\"data row10 col5\" >0.0086</td>\n",
       "            </tr>\n",
       "            <tr>\n",
       "                        <th id=\"T_f3a570df_9d3f_11eb_ab57_5800e3972554level0_row11\" class=\"row_heading level0 row11\" >SD</th>\n",
       "                        <td id=\"T_f3a570df_9d3f_11eb_ab57_5800e3972554row11_col0\" class=\"data row11 col0\" >0.0009</td>\n",
       "                        <td id=\"T_f3a570df_9d3f_11eb_ab57_5800e3972554row11_col1\" class=\"data row11 col1\" >0.0007</td>\n",
       "                        <td id=\"T_f3a570df_9d3f_11eb_ab57_5800e3972554row11_col2\" class=\"data row11 col2\" >0.0035</td>\n",
       "                        <td id=\"T_f3a570df_9d3f_11eb_ab57_5800e3972554row11_col3\" class=\"data row11 col3\" >0.0008</td>\n",
       "                        <td id=\"T_f3a570df_9d3f_11eb_ab57_5800e3972554row11_col4\" class=\"data row11 col4\" >0.0004</td>\n",
       "                        <td id=\"T_f3a570df_9d3f_11eb_ab57_5800e3972554row11_col5\" class=\"data row11 col5\" >0.0001</td>\n",
       "            </tr>\n",
       "    </tbody></table>"
      ],
      "text/plain": [
       "<pandas.io.formats.style.Styler at 0x2ae3292bc70>"
      ]
     },
     "metadata": {},
     "output_type": "display_data"
    }
   ],
   "source": [
    "lgbm_reg = create_model(\"lightgbm\")"
   ]
  },
  {
   "cell_type": "code",
   "execution_count": 51,
   "metadata": {},
   "outputs": [
    {
     "data": {
      "text/html": [
       "<style  type=\"text/css\" >\n",
       "#T_3cea3994_9d40_11eb_8c19_5800e3972554row10_col0,#T_3cea3994_9d40_11eb_8c19_5800e3972554row10_col1,#T_3cea3994_9d40_11eb_8c19_5800e3972554row10_col2,#T_3cea3994_9d40_11eb_8c19_5800e3972554row10_col3,#T_3cea3994_9d40_11eb_8c19_5800e3972554row10_col4,#T_3cea3994_9d40_11eb_8c19_5800e3972554row10_col5{\n",
       "            background:  yellow;\n",
       "        }</style><table id=\"T_3cea3994_9d40_11eb_8c19_5800e3972554\" ><thead>    <tr>        <th class=\"blank level0\" ></th>        <th class=\"col_heading level0 col0\" >MAE</th>        <th class=\"col_heading level0 col1\" >MSE</th>        <th class=\"col_heading level0 col2\" >RMSE</th>        <th class=\"col_heading level0 col3\" >R2</th>        <th class=\"col_heading level0 col4\" >RMSLE</th>        <th class=\"col_heading level0 col5\" >MAPE</th>    </tr></thead><tbody>\n",
       "                <tr>\n",
       "                        <th id=\"T_3cea3994_9d40_11eb_8c19_5800e3972554level0_row0\" class=\"row_heading level0 row0\" >0</th>\n",
       "                        <td id=\"T_3cea3994_9d40_11eb_8c19_5800e3972554row0_col0\" class=\"data row0 col0\" >0.0782</td>\n",
       "                        <td id=\"T_3cea3994_9d40_11eb_8c19_5800e3972554row0_col1\" class=\"data row0 col1\" >0.0113</td>\n",
       "                        <td id=\"T_3cea3994_9d40_11eb_8c19_5800e3972554row0_col2\" class=\"data row0 col2\" >0.1065</td>\n",
       "                        <td id=\"T_3cea3994_9d40_11eb_8c19_5800e3972554row0_col3\" class=\"data row0 col3\" >0.9890</td>\n",
       "                        <td id=\"T_3cea3994_9d40_11eb_8c19_5800e3972554row0_col4\" class=\"data row0 col4\" >0.0123</td>\n",
       "                        <td id=\"T_3cea3994_9d40_11eb_8c19_5800e3972554row0_col5\" class=\"data row0 col5\" >0.0103</td>\n",
       "            </tr>\n",
       "            <tr>\n",
       "                        <th id=\"T_3cea3994_9d40_11eb_8c19_5800e3972554level0_row1\" class=\"row_heading level0 row1\" >1</th>\n",
       "                        <td id=\"T_3cea3994_9d40_11eb_8c19_5800e3972554row1_col0\" class=\"data row1 col0\" >0.0779</td>\n",
       "                        <td id=\"T_3cea3994_9d40_11eb_8c19_5800e3972554row1_col1\" class=\"data row1 col1\" >0.0105</td>\n",
       "                        <td id=\"T_3cea3994_9d40_11eb_8c19_5800e3972554row1_col2\" class=\"data row1 col2\" >0.1026</td>\n",
       "                        <td id=\"T_3cea3994_9d40_11eb_8c19_5800e3972554row1_col3\" class=\"data row1 col3\" >0.9896</td>\n",
       "                        <td id=\"T_3cea3994_9d40_11eb_8c19_5800e3972554row1_col4\" class=\"data row1 col4\" >0.0119</td>\n",
       "                        <td id=\"T_3cea3994_9d40_11eb_8c19_5800e3972554row1_col5\" class=\"data row1 col5\" >0.0102</td>\n",
       "            </tr>\n",
       "            <tr>\n",
       "                        <th id=\"T_3cea3994_9d40_11eb_8c19_5800e3972554level0_row2\" class=\"row_heading level0 row2\" >2</th>\n",
       "                        <td id=\"T_3cea3994_9d40_11eb_8c19_5800e3972554row2_col0\" class=\"data row2 col0\" >0.0771</td>\n",
       "                        <td id=\"T_3cea3994_9d40_11eb_8c19_5800e3972554row2_col1\" class=\"data row2 col1\" >0.0102</td>\n",
       "                        <td id=\"T_3cea3994_9d40_11eb_8c19_5800e3972554row2_col2\" class=\"data row2 col2\" >0.1009</td>\n",
       "                        <td id=\"T_3cea3994_9d40_11eb_8c19_5800e3972554row2_col3\" class=\"data row2 col3\" >0.9901</td>\n",
       "                        <td id=\"T_3cea3994_9d40_11eb_8c19_5800e3972554row2_col4\" class=\"data row2 col4\" >0.0117</td>\n",
       "                        <td id=\"T_3cea3994_9d40_11eb_8c19_5800e3972554row2_col5\" class=\"data row2 col5\" >0.0101</td>\n",
       "            </tr>\n",
       "            <tr>\n",
       "                        <th id=\"T_3cea3994_9d40_11eb_8c19_5800e3972554level0_row3\" class=\"row_heading level0 row3\" >3</th>\n",
       "                        <td id=\"T_3cea3994_9d40_11eb_8c19_5800e3972554row3_col0\" class=\"data row3 col0\" >0.0767</td>\n",
       "                        <td id=\"T_3cea3994_9d40_11eb_8c19_5800e3972554row3_col1\" class=\"data row3 col1\" >0.0101</td>\n",
       "                        <td id=\"T_3cea3994_9d40_11eb_8c19_5800e3972554row3_col2\" class=\"data row3 col2\" >0.1005</td>\n",
       "                        <td id=\"T_3cea3994_9d40_11eb_8c19_5800e3972554row3_col3\" class=\"data row3 col3\" >0.9903</td>\n",
       "                        <td id=\"T_3cea3994_9d40_11eb_8c19_5800e3972554row3_col4\" class=\"data row3 col4\" >0.0116</td>\n",
       "                        <td id=\"T_3cea3994_9d40_11eb_8c19_5800e3972554row3_col5\" class=\"data row3 col5\" >0.0101</td>\n",
       "            </tr>\n",
       "            <tr>\n",
       "                        <th id=\"T_3cea3994_9d40_11eb_8c19_5800e3972554level0_row4\" class=\"row_heading level0 row4\" >4</th>\n",
       "                        <td id=\"T_3cea3994_9d40_11eb_8c19_5800e3972554row4_col0\" class=\"data row4 col0\" >0.0761</td>\n",
       "                        <td id=\"T_3cea3994_9d40_11eb_8c19_5800e3972554row4_col1\" class=\"data row4 col1\" >0.0103</td>\n",
       "                        <td id=\"T_3cea3994_9d40_11eb_8c19_5800e3972554row4_col2\" class=\"data row4 col2\" >0.1015</td>\n",
       "                        <td id=\"T_3cea3994_9d40_11eb_8c19_5800e3972554row4_col3\" class=\"data row4 col3\" >0.9901</td>\n",
       "                        <td id=\"T_3cea3994_9d40_11eb_8c19_5800e3972554row4_col4\" class=\"data row4 col4\" >0.0118</td>\n",
       "                        <td id=\"T_3cea3994_9d40_11eb_8c19_5800e3972554row4_col5\" class=\"data row4 col5\" >0.0100</td>\n",
       "            </tr>\n",
       "            <tr>\n",
       "                        <th id=\"T_3cea3994_9d40_11eb_8c19_5800e3972554level0_row5\" class=\"row_heading level0 row5\" >5</th>\n",
       "                        <td id=\"T_3cea3994_9d40_11eb_8c19_5800e3972554row5_col0\" class=\"data row5 col0\" >0.0765</td>\n",
       "                        <td id=\"T_3cea3994_9d40_11eb_8c19_5800e3972554row5_col1\" class=\"data row5 col1\" >0.0102</td>\n",
       "                        <td id=\"T_3cea3994_9d40_11eb_8c19_5800e3972554row5_col2\" class=\"data row5 col2\" >0.1010</td>\n",
       "                        <td id=\"T_3cea3994_9d40_11eb_8c19_5800e3972554row5_col3\" class=\"data row5 col3\" >0.9900</td>\n",
       "                        <td id=\"T_3cea3994_9d40_11eb_8c19_5800e3972554row5_col4\" class=\"data row5 col4\" >0.0118</td>\n",
       "                        <td id=\"T_3cea3994_9d40_11eb_8c19_5800e3972554row5_col5\" class=\"data row5 col5\" >0.0101</td>\n",
       "            </tr>\n",
       "            <tr>\n",
       "                        <th id=\"T_3cea3994_9d40_11eb_8c19_5800e3972554level0_row6\" class=\"row_heading level0 row6\" >6</th>\n",
       "                        <td id=\"T_3cea3994_9d40_11eb_8c19_5800e3972554row6_col0\" class=\"data row6 col0\" >0.0780</td>\n",
       "                        <td id=\"T_3cea3994_9d40_11eb_8c19_5800e3972554row6_col1\" class=\"data row6 col1\" >0.0106</td>\n",
       "                        <td id=\"T_3cea3994_9d40_11eb_8c19_5800e3972554row6_col2\" class=\"data row6 col2\" >0.1031</td>\n",
       "                        <td id=\"T_3cea3994_9d40_11eb_8c19_5800e3972554row6_col3\" class=\"data row6 col3\" >0.9897</td>\n",
       "                        <td id=\"T_3cea3994_9d40_11eb_8c19_5800e3972554row6_col4\" class=\"data row6 col4\" >0.0120</td>\n",
       "                        <td id=\"T_3cea3994_9d40_11eb_8c19_5800e3972554row6_col5\" class=\"data row6 col5\" >0.0103</td>\n",
       "            </tr>\n",
       "            <tr>\n",
       "                        <th id=\"T_3cea3994_9d40_11eb_8c19_5800e3972554level0_row7\" class=\"row_heading level0 row7\" >7</th>\n",
       "                        <td id=\"T_3cea3994_9d40_11eb_8c19_5800e3972554row7_col0\" class=\"data row7 col0\" >0.0756</td>\n",
       "                        <td id=\"T_3cea3994_9d40_11eb_8c19_5800e3972554row7_col1\" class=\"data row7 col1\" >0.0095</td>\n",
       "                        <td id=\"T_3cea3994_9d40_11eb_8c19_5800e3972554row7_col2\" class=\"data row7 col2\" >0.0975</td>\n",
       "                        <td id=\"T_3cea3994_9d40_11eb_8c19_5800e3972554row7_col3\" class=\"data row7 col3\" >0.9909</td>\n",
       "                        <td id=\"T_3cea3994_9d40_11eb_8c19_5800e3972554row7_col4\" class=\"data row7 col4\" >0.0114</td>\n",
       "                        <td id=\"T_3cea3994_9d40_11eb_8c19_5800e3972554row7_col5\" class=\"data row7 col5\" >0.0100</td>\n",
       "            </tr>\n",
       "            <tr>\n",
       "                        <th id=\"T_3cea3994_9d40_11eb_8c19_5800e3972554level0_row8\" class=\"row_heading level0 row8\" >8</th>\n",
       "                        <td id=\"T_3cea3994_9d40_11eb_8c19_5800e3972554row8_col0\" class=\"data row8 col0\" >0.0785</td>\n",
       "                        <td id=\"T_3cea3994_9d40_11eb_8c19_5800e3972554row8_col1\" class=\"data row8 col1\" >0.0129</td>\n",
       "                        <td id=\"T_3cea3994_9d40_11eb_8c19_5800e3972554row8_col2\" class=\"data row8 col2\" >0.1134</td>\n",
       "                        <td id=\"T_3cea3994_9d40_11eb_8c19_5800e3972554row8_col3\" class=\"data row8 col3\" >0.9870</td>\n",
       "                        <td id=\"T_3cea3994_9d40_11eb_8c19_5800e3972554row8_col4\" class=\"data row8 col4\" >0.0131</td>\n",
       "                        <td id=\"T_3cea3994_9d40_11eb_8c19_5800e3972554row8_col5\" class=\"data row8 col5\" >0.0104</td>\n",
       "            </tr>\n",
       "            <tr>\n",
       "                        <th id=\"T_3cea3994_9d40_11eb_8c19_5800e3972554level0_row9\" class=\"row_heading level0 row9\" >9</th>\n",
       "                        <td id=\"T_3cea3994_9d40_11eb_8c19_5800e3972554row9_col0\" class=\"data row9 col0\" >0.0773</td>\n",
       "                        <td id=\"T_3cea3994_9d40_11eb_8c19_5800e3972554row9_col1\" class=\"data row9 col1\" >0.0106</td>\n",
       "                        <td id=\"T_3cea3994_9d40_11eb_8c19_5800e3972554row9_col2\" class=\"data row9 col2\" >0.1032</td>\n",
       "                        <td id=\"T_3cea3994_9d40_11eb_8c19_5800e3972554row9_col3\" class=\"data row9 col3\" >0.9895</td>\n",
       "                        <td id=\"T_3cea3994_9d40_11eb_8c19_5800e3972554row9_col4\" class=\"data row9 col4\" >0.0121</td>\n",
       "                        <td id=\"T_3cea3994_9d40_11eb_8c19_5800e3972554row9_col5\" class=\"data row9 col5\" >0.0102</td>\n",
       "            </tr>\n",
       "            <tr>\n",
       "                        <th id=\"T_3cea3994_9d40_11eb_8c19_5800e3972554level0_row10\" class=\"row_heading level0 row10\" >Mean</th>\n",
       "                        <td id=\"T_3cea3994_9d40_11eb_8c19_5800e3972554row10_col0\" class=\"data row10 col0\" >0.0772</td>\n",
       "                        <td id=\"T_3cea3994_9d40_11eb_8c19_5800e3972554row10_col1\" class=\"data row10 col1\" >0.0106</td>\n",
       "                        <td id=\"T_3cea3994_9d40_11eb_8c19_5800e3972554row10_col2\" class=\"data row10 col2\" >0.1030</td>\n",
       "                        <td id=\"T_3cea3994_9d40_11eb_8c19_5800e3972554row10_col3\" class=\"data row10 col3\" >0.9896</td>\n",
       "                        <td id=\"T_3cea3994_9d40_11eb_8c19_5800e3972554row10_col4\" class=\"data row10 col4\" >0.0120</td>\n",
       "                        <td id=\"T_3cea3994_9d40_11eb_8c19_5800e3972554row10_col5\" class=\"data row10 col5\" >0.0102</td>\n",
       "            </tr>\n",
       "            <tr>\n",
       "                        <th id=\"T_3cea3994_9d40_11eb_8c19_5800e3972554level0_row11\" class=\"row_heading level0 row11\" >SD</th>\n",
       "                        <td id=\"T_3cea3994_9d40_11eb_8c19_5800e3972554row11_col0\" class=\"data row11 col0\" >0.0009</td>\n",
       "                        <td id=\"T_3cea3994_9d40_11eb_8c19_5800e3972554row11_col1\" class=\"data row11 col1\" >0.0009</td>\n",
       "                        <td id=\"T_3cea3994_9d40_11eb_8c19_5800e3972554row11_col2\" class=\"data row11 col2\" >0.0041</td>\n",
       "                        <td id=\"T_3cea3994_9d40_11eb_8c19_5800e3972554row11_col3\" class=\"data row11 col3\" >0.0010</td>\n",
       "                        <td id=\"T_3cea3994_9d40_11eb_8c19_5800e3972554row11_col4\" class=\"data row11 col4\" >0.0004</td>\n",
       "                        <td id=\"T_3cea3994_9d40_11eb_8c19_5800e3972554row11_col5\" class=\"data row11 col5\" >0.0001</td>\n",
       "            </tr>\n",
       "    </tbody></table>"
      ],
      "text/plain": [
       "<pandas.io.formats.style.Styler at 0x2ae331a99a0>"
      ]
     },
     "metadata": {},
     "output_type": "display_data"
    }
   ],
   "source": [
    "tuned_lgbm = tune_model(lgbm_reg, search_library = \"tune-sklearn\", search_algorithm=\"hyperopt\", n_iter=20)"
   ]
  },
  {
   "cell_type": "code",
   "execution_count": 52,
   "metadata": {},
   "outputs": [
    {
     "data": {
      "text/html": [
       "<style  type=\"text/css\" >\n",
       "#T_9553f05a_9d40_11eb_8c19_5800e3972554row10_col0,#T_9553f05a_9d40_11eb_8c19_5800e3972554row10_col1,#T_9553f05a_9d40_11eb_8c19_5800e3972554row10_col2,#T_9553f05a_9d40_11eb_8c19_5800e3972554row10_col3,#T_9553f05a_9d40_11eb_8c19_5800e3972554row10_col4,#T_9553f05a_9d40_11eb_8c19_5800e3972554row10_col5{\n",
       "            background:  yellow;\n",
       "        }</style><table id=\"T_9553f05a_9d40_11eb_8c19_5800e3972554\" ><thead>    <tr>        <th class=\"blank level0\" ></th>        <th class=\"col_heading level0 col0\" >MAE</th>        <th class=\"col_heading level0 col1\" >MSE</th>        <th class=\"col_heading level0 col2\" >RMSE</th>        <th class=\"col_heading level0 col3\" >R2</th>        <th class=\"col_heading level0 col4\" >RMSLE</th>        <th class=\"col_heading level0 col5\" >MAPE</th>    </tr></thead><tbody>\n",
       "                <tr>\n",
       "                        <th id=\"T_9553f05a_9d40_11eb_8c19_5800e3972554level0_row0\" class=\"row_heading level0 row0\" >0</th>\n",
       "                        <td id=\"T_9553f05a_9d40_11eb_8c19_5800e3972554row0_col0\" class=\"data row0 col0\" >0.0805</td>\n",
       "                        <td id=\"T_9553f05a_9d40_11eb_8c19_5800e3972554row0_col1\" class=\"data row0 col1\" >0.0120</td>\n",
       "                        <td id=\"T_9553f05a_9d40_11eb_8c19_5800e3972554row0_col2\" class=\"data row0 col2\" >0.1097</td>\n",
       "                        <td id=\"T_9553f05a_9d40_11eb_8c19_5800e3972554row0_col3\" class=\"data row0 col3\" >0.9883</td>\n",
       "                        <td id=\"T_9553f05a_9d40_11eb_8c19_5800e3972554row0_col4\" class=\"data row0 col4\" >0.0127</td>\n",
       "                        <td id=\"T_9553f05a_9d40_11eb_8c19_5800e3972554row0_col5\" class=\"data row0 col5\" >0.0106</td>\n",
       "            </tr>\n",
       "            <tr>\n",
       "                        <th id=\"T_9553f05a_9d40_11eb_8c19_5800e3972554level0_row1\" class=\"row_heading level0 row1\" >1</th>\n",
       "                        <td id=\"T_9553f05a_9d40_11eb_8c19_5800e3972554row1_col0\" class=\"data row1 col0\" >0.0801</td>\n",
       "                        <td id=\"T_9553f05a_9d40_11eb_8c19_5800e3972554row1_col1\" class=\"data row1 col1\" >0.0110</td>\n",
       "                        <td id=\"T_9553f05a_9d40_11eb_8c19_5800e3972554row1_col2\" class=\"data row1 col2\" >0.1050</td>\n",
       "                        <td id=\"T_9553f05a_9d40_11eb_8c19_5800e3972554row1_col3\" class=\"data row1 col3\" >0.9891</td>\n",
       "                        <td id=\"T_9553f05a_9d40_11eb_8c19_5800e3972554row1_col4\" class=\"data row1 col4\" >0.0122</td>\n",
       "                        <td id=\"T_9553f05a_9d40_11eb_8c19_5800e3972554row1_col5\" class=\"data row1 col5\" >0.0105</td>\n",
       "            </tr>\n",
       "            <tr>\n",
       "                        <th id=\"T_9553f05a_9d40_11eb_8c19_5800e3972554level0_row2\" class=\"row_heading level0 row2\" >2</th>\n",
       "                        <td id=\"T_9553f05a_9d40_11eb_8c19_5800e3972554row2_col0\" class=\"data row2 col0\" >0.0795</td>\n",
       "                        <td id=\"T_9553f05a_9d40_11eb_8c19_5800e3972554row2_col1\" class=\"data row2 col1\" >0.0107</td>\n",
       "                        <td id=\"T_9553f05a_9d40_11eb_8c19_5800e3972554row2_col2\" class=\"data row2 col2\" >0.1032</td>\n",
       "                        <td id=\"T_9553f05a_9d40_11eb_8c19_5800e3972554row2_col3\" class=\"data row2 col3\" >0.9896</td>\n",
       "                        <td id=\"T_9553f05a_9d40_11eb_8c19_5800e3972554row2_col4\" class=\"data row2 col4\" >0.0120</td>\n",
       "                        <td id=\"T_9553f05a_9d40_11eb_8c19_5800e3972554row2_col5\" class=\"data row2 col5\" >0.0105</td>\n",
       "            </tr>\n",
       "            <tr>\n",
       "                        <th id=\"T_9553f05a_9d40_11eb_8c19_5800e3972554level0_row3\" class=\"row_heading level0 row3\" >3</th>\n",
       "                        <td id=\"T_9553f05a_9d40_11eb_8c19_5800e3972554row3_col0\" class=\"data row3 col0\" >0.0782</td>\n",
       "                        <td id=\"T_9553f05a_9d40_11eb_8c19_5800e3972554row3_col1\" class=\"data row3 col1\" >0.0103</td>\n",
       "                        <td id=\"T_9553f05a_9d40_11eb_8c19_5800e3972554row3_col2\" class=\"data row3 col2\" >0.1015</td>\n",
       "                        <td id=\"T_9553f05a_9d40_11eb_8c19_5800e3972554row3_col3\" class=\"data row3 col3\" >0.9901</td>\n",
       "                        <td id=\"T_9553f05a_9d40_11eb_8c19_5800e3972554row3_col4\" class=\"data row3 col4\" >0.0118</td>\n",
       "                        <td id=\"T_9553f05a_9d40_11eb_8c19_5800e3972554row3_col5\" class=\"data row3 col5\" >0.0103</td>\n",
       "            </tr>\n",
       "            <tr>\n",
       "                        <th id=\"T_9553f05a_9d40_11eb_8c19_5800e3972554level0_row4\" class=\"row_heading level0 row4\" >4</th>\n",
       "                        <td id=\"T_9553f05a_9d40_11eb_8c19_5800e3972554row4_col0\" class=\"data row4 col0\" >0.0786</td>\n",
       "                        <td id=\"T_9553f05a_9d40_11eb_8c19_5800e3972554row4_col1\" class=\"data row4 col1\" >0.0109</td>\n",
       "                        <td id=\"T_9553f05a_9d40_11eb_8c19_5800e3972554row4_col2\" class=\"data row4 col2\" >0.1045</td>\n",
       "                        <td id=\"T_9553f05a_9d40_11eb_8c19_5800e3972554row4_col3\" class=\"data row4 col3\" >0.9895</td>\n",
       "                        <td id=\"T_9553f05a_9d40_11eb_8c19_5800e3972554row4_col4\" class=\"data row4 col4\" >0.0122</td>\n",
       "                        <td id=\"T_9553f05a_9d40_11eb_8c19_5800e3972554row4_col5\" class=\"data row4 col5\" >0.0104</td>\n",
       "            </tr>\n",
       "            <tr>\n",
       "                        <th id=\"T_9553f05a_9d40_11eb_8c19_5800e3972554level0_row5\" class=\"row_heading level0 row5\" >5</th>\n",
       "                        <td id=\"T_9553f05a_9d40_11eb_8c19_5800e3972554row5_col0\" class=\"data row5 col0\" >0.0793</td>\n",
       "                        <td id=\"T_9553f05a_9d40_11eb_8c19_5800e3972554row5_col1\" class=\"data row5 col1\" >0.0107</td>\n",
       "                        <td id=\"T_9553f05a_9d40_11eb_8c19_5800e3972554row5_col2\" class=\"data row5 col2\" >0.1035</td>\n",
       "                        <td id=\"T_9553f05a_9d40_11eb_8c19_5800e3972554row5_col3\" class=\"data row5 col3\" >0.9895</td>\n",
       "                        <td id=\"T_9553f05a_9d40_11eb_8c19_5800e3972554row5_col4\" class=\"data row5 col4\" >0.0122</td>\n",
       "                        <td id=\"T_9553f05a_9d40_11eb_8c19_5800e3972554row5_col5\" class=\"data row5 col5\" >0.0105</td>\n",
       "            </tr>\n",
       "            <tr>\n",
       "                        <th id=\"T_9553f05a_9d40_11eb_8c19_5800e3972554level0_row6\" class=\"row_heading level0 row6\" >6</th>\n",
       "                        <td id=\"T_9553f05a_9d40_11eb_8c19_5800e3972554row6_col0\" class=\"data row6 col0\" >0.0805</td>\n",
       "                        <td id=\"T_9553f05a_9d40_11eb_8c19_5800e3972554row6_col1\" class=\"data row6 col1\" >0.0112</td>\n",
       "                        <td id=\"T_9553f05a_9d40_11eb_8c19_5800e3972554row6_col2\" class=\"data row6 col2\" >0.1059</td>\n",
       "                        <td id=\"T_9553f05a_9d40_11eb_8c19_5800e3972554row6_col3\" class=\"data row6 col3\" >0.9892</td>\n",
       "                        <td id=\"T_9553f05a_9d40_11eb_8c19_5800e3972554row6_col4\" class=\"data row6 col4\" >0.0123</td>\n",
       "                        <td id=\"T_9553f05a_9d40_11eb_8c19_5800e3972554row6_col5\" class=\"data row6 col5\" >0.0107</td>\n",
       "            </tr>\n",
       "            <tr>\n",
       "                        <th id=\"T_9553f05a_9d40_11eb_8c19_5800e3972554level0_row7\" class=\"row_heading level0 row7\" >7</th>\n",
       "                        <td id=\"T_9553f05a_9d40_11eb_8c19_5800e3972554row7_col0\" class=\"data row7 col0\" >0.0779</td>\n",
       "                        <td id=\"T_9553f05a_9d40_11eb_8c19_5800e3972554row7_col1\" class=\"data row7 col1\" >0.0100</td>\n",
       "                        <td id=\"T_9553f05a_9d40_11eb_8c19_5800e3972554row7_col2\" class=\"data row7 col2\" >0.1000</td>\n",
       "                        <td id=\"T_9553f05a_9d40_11eb_8c19_5800e3972554row7_col3\" class=\"data row7 col3\" >0.9905</td>\n",
       "                        <td id=\"T_9553f05a_9d40_11eb_8c19_5800e3972554row7_col4\" class=\"data row7 col4\" >0.0118</td>\n",
       "                        <td id=\"T_9553f05a_9d40_11eb_8c19_5800e3972554row7_col5\" class=\"data row7 col5\" >0.0103</td>\n",
       "            </tr>\n",
       "            <tr>\n",
       "                        <th id=\"T_9553f05a_9d40_11eb_8c19_5800e3972554level0_row8\" class=\"row_heading level0 row8\" >8</th>\n",
       "                        <td id=\"T_9553f05a_9d40_11eb_8c19_5800e3972554row8_col0\" class=\"data row8 col0\" >0.0804</td>\n",
       "                        <td id=\"T_9553f05a_9d40_11eb_8c19_5800e3972554row8_col1\" class=\"data row8 col1\" >0.0136</td>\n",
       "                        <td id=\"T_9553f05a_9d40_11eb_8c19_5800e3972554row8_col2\" class=\"data row8 col2\" >0.1166</td>\n",
       "                        <td id=\"T_9553f05a_9d40_11eb_8c19_5800e3972554row8_col3\" class=\"data row8 col3\" >0.9862</td>\n",
       "                        <td id=\"T_9553f05a_9d40_11eb_8c19_5800e3972554row8_col4\" class=\"data row8 col4\" >0.0135</td>\n",
       "                        <td id=\"T_9553f05a_9d40_11eb_8c19_5800e3972554row8_col5\" class=\"data row8 col5\" >0.0106</td>\n",
       "            </tr>\n",
       "            <tr>\n",
       "                        <th id=\"T_9553f05a_9d40_11eb_8c19_5800e3972554level0_row9\" class=\"row_heading level0 row9\" >9</th>\n",
       "                        <td id=\"T_9553f05a_9d40_11eb_8c19_5800e3972554row9_col0\" class=\"data row9 col0\" >0.0802</td>\n",
       "                        <td id=\"T_9553f05a_9d40_11eb_8c19_5800e3972554row9_col1\" class=\"data row9 col1\" >0.0114</td>\n",
       "                        <td id=\"T_9553f05a_9d40_11eb_8c19_5800e3972554row9_col2\" class=\"data row9 col2\" >0.1066</td>\n",
       "                        <td id=\"T_9553f05a_9d40_11eb_8c19_5800e3972554row9_col3\" class=\"data row9 col3\" >0.9888</td>\n",
       "                        <td id=\"T_9553f05a_9d40_11eb_8c19_5800e3972554row9_col4\" class=\"data row9 col4\" >0.0125</td>\n",
       "                        <td id=\"T_9553f05a_9d40_11eb_8c19_5800e3972554row9_col5\" class=\"data row9 col5\" >0.0106</td>\n",
       "            </tr>\n",
       "            <tr>\n",
       "                        <th id=\"T_9553f05a_9d40_11eb_8c19_5800e3972554level0_row10\" class=\"row_heading level0 row10\" >Mean</th>\n",
       "                        <td id=\"T_9553f05a_9d40_11eb_8c19_5800e3972554row10_col0\" class=\"data row10 col0\" >0.0795</td>\n",
       "                        <td id=\"T_9553f05a_9d40_11eb_8c19_5800e3972554row10_col1\" class=\"data row10 col1\" >0.0112</td>\n",
       "                        <td id=\"T_9553f05a_9d40_11eb_8c19_5800e3972554row10_col2\" class=\"data row10 col2\" >0.1056</td>\n",
       "                        <td id=\"T_9553f05a_9d40_11eb_8c19_5800e3972554row10_col3\" class=\"data row10 col3\" >0.9891</td>\n",
       "                        <td id=\"T_9553f05a_9d40_11eb_8c19_5800e3972554row10_col4\" class=\"data row10 col4\" >0.0123</td>\n",
       "                        <td id=\"T_9553f05a_9d40_11eb_8c19_5800e3972554row10_col5\" class=\"data row10 col5\" >0.0105</td>\n",
       "            </tr>\n",
       "            <tr>\n",
       "                        <th id=\"T_9553f05a_9d40_11eb_8c19_5800e3972554level0_row11\" class=\"row_heading level0 row11\" >SD</th>\n",
       "                        <td id=\"T_9553f05a_9d40_11eb_8c19_5800e3972554row11_col0\" class=\"data row11 col0\" >0.0009</td>\n",
       "                        <td id=\"T_9553f05a_9d40_11eb_8c19_5800e3972554row11_col1\" class=\"data row11 col1\" >0.0010</td>\n",
       "                        <td id=\"T_9553f05a_9d40_11eb_8c19_5800e3972554row11_col2\" class=\"data row11 col2\" >0.0045</td>\n",
       "                        <td id=\"T_9553f05a_9d40_11eb_8c19_5800e3972554row11_col3\" class=\"data row11 col3\" >0.0011</td>\n",
       "                        <td id=\"T_9553f05a_9d40_11eb_8c19_5800e3972554row11_col4\" class=\"data row11 col4\" >0.0005</td>\n",
       "                        <td id=\"T_9553f05a_9d40_11eb_8c19_5800e3972554row11_col5\" class=\"data row11 col5\" >0.0001</td>\n",
       "            </tr>\n",
       "    </tbody></table>"
      ],
      "text/plain": [
       "<pandas.io.formats.style.Styler at 0x2ae3292ff10>"
      ]
     },
     "metadata": {},
     "output_type": "display_data"
    }
   ],
   "source": [
    "tuned_opt_lgbm = tune_model(lgbm_reg, search_library = \"tune-sklearn\", search_algorithm=\"optuna\", n_iter=20)"
   ]
  },
  {
   "cell_type": "code",
   "execution_count": 53,
   "metadata": {},
   "outputs": [
    {
     "data": {
      "image/png": "[encoded data removed]",
      "text/plain": [
       "<Figure size 576x396 with 1 Axes>"
      ]
     },
     "metadata": {},
     "output_type": "display_data"
    }
   ],
   "source": [
    "plot_model(tuned_lgbm, plot = \"error\")"
   ]
  },
  {
   "cell_type": "code",
   "execution_count": 54,
   "metadata": {},
   "outputs": [
    {
     "data": {
      "image/png": "[encoded data removed]",
      "text/plain": [
       "<Figure size 576x396 with 1 Axes>"
      ]
     },
     "metadata": {},
     "output_type": "display_data"
    }
   ],
   "source": [
    "plot_model(tuned_opt_lgbm, plot = \"error\")"
   ]
  },
  {
   "cell_type": "code",
   "execution_count": 55,
   "metadata": {},
   "outputs": [
    {
     "data": {
      "image/png": "[encoded data removed]",
      "text/plain": [
       "<Figure size 576x396 with 1 Axes>"
      ]
     },
     "metadata": {},
     "output_type": "display_data"
    }
   ],
   "source": [
    "plot_model(lgbm_reg, plot = \"error\")"
   ]
  },
  {
   "cell_type": "code",
   "execution_count": 56,
   "metadata": {
    "scrolled": true
   },
   "outputs": [
    {
     "data": {
      "image/png": "[encoded data removed]",
      "text/plain": [
       "<Figure size 576x396 with 1 Axes>"
      ]
     },
     "metadata": {},
     "output_type": "display_data"
    }
   ],
   "source": [
    "plot_model(lgbm_reg, plot = \"learning\")"
   ]
  },
  {
   "cell_type": "code",
   "execution_count": 57,
   "metadata": {},
   "outputs": [
    {
     "data": {
      "image/png": "[encoded data removed]",
      "text/plain": [
       "<Figure size 800x500 with 1 Axes>"
      ]
     },
     "metadata": {},
     "output_type": "display_data"
    }
   ],
   "source": [
    "plot_model(lgbm_reg, plot=\"feature\")"
   ]
  },
  {
   "cell_type": "code",
   "execution_count": 58,
   "metadata": {},
   "outputs": [
    {
     "data": {
      "image/png": "[encoded data removed]",
      "text/plain": [
       "<Figure size 576x396 with 1 Axes>"
      ]
     },
     "metadata": {},
     "output_type": "display_data"
    }
   ],
   "source": [
    "plot_model(lgbm_reg, plot=\"vc\")"
   ]
  },
  {
   "cell_type": "code",
   "execution_count": 59,
   "metadata": {},
   "outputs": [
    {
     "data": {
      "text/html": [
       "<style  type=\"text/css\" >\n",
       "</style><table id=\"T_c647b939_9d40_11eb_a584_5800e3972554\" ><thead>    <tr>        <th class=\"blank level0\" ></th>        <th class=\"col_heading level0 col0\" >Model</th>        <th class=\"col_heading level0 col1\" >MAE</th>        <th class=\"col_heading level0 col2\" >MSE</th>        <th class=\"col_heading level0 col3\" >RMSE</th>        <th class=\"col_heading level0 col4\" >R2</th>        <th class=\"col_heading level0 col5\" >RMSLE</th>        <th class=\"col_heading level0 col6\" >MAPE</th>    </tr></thead><tbody>\n",
       "                <tr>\n",
       "                        <th id=\"T_c647b939_9d40_11eb_a584_5800e3972554level0_row0\" class=\"row_heading level0 row0\" >0</th>\n",
       "                        <td id=\"T_c647b939_9d40_11eb_a584_5800e3972554row0_col0\" class=\"data row0 col0\" >Light Gradient Boosting Machine</td>\n",
       "                        <td id=\"T_c647b939_9d40_11eb_a584_5800e3972554row0_col1\" class=\"data row0 col1\" >0.0665</td>\n",
       "                        <td id=\"T_c647b939_9d40_11eb_a584_5800e3972554row0_col2\" class=\"data row0 col2\" >0.0087</td>\n",
       "                        <td id=\"T_c647b939_9d40_11eb_a584_5800e3972554row0_col3\" class=\"data row0 col3\" >0.0931</td>\n",
       "                        <td id=\"T_c647b939_9d40_11eb_a584_5800e3972554row0_col4\" class=\"data row0 col4\" >0.9916</td>\n",
       "                        <td id=\"T_c647b939_9d40_11eb_a584_5800e3972554row0_col5\" class=\"data row0 col5\" >0.0106</td>\n",
       "                        <td id=\"T_c647b939_9d40_11eb_a584_5800e3972554row0_col6\" class=\"data row0 col6\" >0.0086</td>\n",
       "            </tr>\n",
       "    </tbody></table>"
      ],
      "text/plain": [
       "<pandas.io.formats.style.Styler at 0x2ae332283a0>"
      ]
     },
     "metadata": {},
     "output_type": "display_data"
    }
   ],
   "source": [
    "predict_model(lgbm_reg);"
   ]
  },
  {
   "cell_type": "code",
   "execution_count": 60,
   "metadata": {},
   "outputs": [],
   "source": [
    "final_lgbm = finalize_model(lgbm_reg)"
   ]
  },
  {
   "cell_type": "code",
   "execution_count": 61,
   "metadata": {},
   "outputs": [
    {
     "data": {
      "text/plain": [
       "LGBMRegressor(boosting_type='gbdt', class_weight=None, colsample_bytree=1.0,\n",
       "              importance_type='split', learning_rate=0.1, max_depth=-1,\n",
       "              min_child_samples=20, min_child_weight=0.001, min_split_gain=0.0,\n",
       "              n_estimators=100, n_jobs=-1, num_leaves=31, objective=None,\n",
       "              random_state=123, reg_alpha=0.0, reg_lambda=0.0, silent=True,\n",
       "              subsample=1.0, subsample_for_bin=200000, subsample_freq=0)"
      ]
     },
     "execution_count": 61,
     "metadata": {},
     "output_type": "execute_result"
    }
   ],
   "source": [
    "final_lgbm"
   ]
  },
  {
   "cell_type": "code",
   "execution_count": 62,
   "metadata": {},
   "outputs": [
    {
     "data": {
      "text/html": [
       "<style  type=\"text/css\" >\n",
       "</style><table id=\"T_c98f1e9c_9d40_11eb_85a4_5800e3972554\" ><thead>    <tr>        <th class=\"blank level0\" ></th>        <th class=\"col_heading level0 col0\" >Model</th>        <th class=\"col_heading level0 col1\" >MAE</th>        <th class=\"col_heading level0 col2\" >MSE</th>        <th class=\"col_heading level0 col3\" >RMSE</th>        <th class=\"col_heading level0 col4\" >R2</th>        <th class=\"col_heading level0 col5\" >RMSLE</th>        <th class=\"col_heading level0 col6\" >MAPE</th>    </tr></thead><tbody>\n",
       "                <tr>\n",
       "                        <th id=\"T_c98f1e9c_9d40_11eb_85a4_5800e3972554level0_row0\" class=\"row_heading level0 row0\" >0</th>\n",
       "                        <td id=\"T_c98f1e9c_9d40_11eb_85a4_5800e3972554row0_col0\" class=\"data row0 col0\" >Light Gradient Boosting Machine</td>\n",
       "                        <td id=\"T_c98f1e9c_9d40_11eb_85a4_5800e3972554row0_col1\" class=\"data row0 col1\" >0.0637</td>\n",
       "                        <td id=\"T_c98f1e9c_9d40_11eb_85a4_5800e3972554row0_col2\" class=\"data row0 col2\" >0.0078</td>\n",
       "                        <td id=\"T_c98f1e9c_9d40_11eb_85a4_5800e3972554row0_col3\" class=\"data row0 col3\" >0.0881</td>\n",
       "                        <td id=\"T_c98f1e9c_9d40_11eb_85a4_5800e3972554row0_col4\" class=\"data row0 col4\" >0.9925</td>\n",
       "                        <td id=\"T_c98f1e9c_9d40_11eb_85a4_5800e3972554row0_col5\" class=\"data row0 col5\" >0.0101</td>\n",
       "                        <td id=\"T_c98f1e9c_9d40_11eb_85a4_5800e3972554row0_col6\" class=\"data row0 col6\" >0.0082</td>\n",
       "            </tr>\n",
       "    </tbody></table>"
      ],
      "text/plain": [
       "<pandas.io.formats.style.Styler at 0x2ae352df4c0>"
      ]
     },
     "metadata": {},
     "output_type": "display_data"
    }
   ],
   "source": [
    "predict_model(final_lgbm);"
   ]
  },
  {
   "cell_type": "code",
   "execution_count": 68,
   "metadata": {},
   "outputs": [],
   "source": [
    "y_pred_test_py = final_lgbm.predict(X_test)"
   ]
  },
  {
   "cell_type": "code",
   "execution_count": 70,
   "metadata": {},
   "outputs": [],
   "source": [
    "mse_test_py = mse(y_test, y_pred_test_lr)"
   ]
  },
  {
   "cell_type": "code",
   "execution_count": 71,
   "metadata": {},
   "outputs": [
    {
     "data": {
      "text/plain": [
       "0.03440628945958964"
      ]
     },
     "execution_count": 71,
     "metadata": {},
     "output_type": "execute_result"
    }
   ],
   "source": [
    "mse_test_py"
   ]
  },
  {
   "cell_type": "code",
   "execution_count": 85,
   "metadata": {},
   "outputs": [],
   "source": [
    "final_df[\"Pycaret_LGBM\"] = y_pred_test_py\n",
    "final_df = final_df.reset_index().drop(\"index\", axis=1).head()"
   ]
  },
  {
   "cell_type": "markdown",
   "metadata": {},
   "source": [
    "# Conclusion"
   ]
  },
  {
   "cell_type": "code",
   "execution_count": 88,
   "metadata": {},
   "outputs": [
    {
     "data": {
      "text/html": [
       "<div>\n",
       "<style scoped>\n",
       "    .dataframe tbody tr th:only-of-type {\n",
       "        vertical-align: middle;\n",
       "    }\n",
       "\n",
       "    .dataframe tbody tr th {\n",
       "        vertical-align: top;\n",
       "    }\n",
       "\n",
       "    .dataframe thead th {\n",
       "        text-align: right;\n",
       "    }\n",
       "</style>\n",
       "<table border=\"1\" class=\"dataframe\">\n",
       "  <thead>\n",
       "    <tr style=\"text-align: right;\">\n",
       "      <th></th>\n",
       "      <th>Real</th>\n",
       "      <th>Linear_Regression</th>\n",
       "      <th>RFHyperopt</th>\n",
       "      <th>Pycaret_LGBM</th>\n",
       "    </tr>\n",
       "  </thead>\n",
       "  <tbody>\n",
       "    <tr>\n",
       "      <th>0</th>\n",
       "      <td>7.625</td>\n",
       "      <td>7.578904</td>\n",
       "      <td>7.725441</td>\n",
       "      <td>7.667216</td>\n",
       "    </tr>\n",
       "    <tr>\n",
       "      <th>1</th>\n",
       "      <td>8.284</td>\n",
       "      <td>8.222004</td>\n",
       "      <td>8.283101</td>\n",
       "      <td>8.256391</td>\n",
       "    </tr>\n",
       "    <tr>\n",
       "      <th>2</th>\n",
       "      <td>8.401</td>\n",
       "      <td>8.119892</td>\n",
       "      <td>8.338785</td>\n",
       "      <td>8.354107</td>\n",
       "    </tr>\n",
       "    <tr>\n",
       "      <th>3</th>\n",
       "      <td>8.150</td>\n",
       "      <td>8.099549</td>\n",
       "      <td>8.047047</td>\n",
       "      <td>8.031507</td>\n",
       "    </tr>\n",
       "    <tr>\n",
       "      <th>4</th>\n",
       "      <td>6.170</td>\n",
       "      <td>6.340317</td>\n",
       "      <td>6.315764</td>\n",
       "      <td>6.327992</td>\n",
       "    </tr>\n",
       "  </tbody>\n",
       "</table>\n",
       "</div>"
      ],
      "text/plain": [
       "    Real  Linear_Regression  RFHyperopt  Pycaret_LGBM\n",
       "0  7.625           7.578904    7.725441      7.667216\n",
       "1  8.284           8.222004    8.283101      8.256391\n",
       "2  8.401           8.119892    8.338785      8.354107\n",
       "3  8.150           8.099549    8.047047      8.031507\n",
       "4  6.170           6.340317    6.315764      6.327992"
      ]
     },
     "execution_count": 88,
     "metadata": {},
     "output_type": "execute_result"
    }
   ],
   "source": [
    "final_df.head()"
   ]
  },
  {
   "cell_type": "code",
   "execution_count": 116,
   "metadata": {},
   "outputs": [
    {
     "data": {
      "image/png": "[encoded data removed]",
      "text/plain": [
       "<Figure size 864x576 with 1 Axes>"
      ]
     },
     "metadata": {
      "needs_background": "light"
     },
     "output_type": "display_data"
    }
   ],
   "source": [
    "fig, axes = plt.subplots(1, 1, figsize=(12,8))\n",
    "\n",
    "plt.plot(final_df.index, final_df[\"Real\"], label = \"Real\", color = \"b\")\n",
    "plt.plot(final_df.index, final_df[\"Linear_Regression\"], label = \"Linear Regression\", color = \"g\")\n",
    "plt.plot(final_df.index, final_df[\"RFHyperopt\"], label = \"RF Hyperopt\", color = \"m\")\n",
    "plt.plot(final_df.index, final_df[\"Pycaret_LGBM\"], label = \"LGBM Pycaret\", color = \"k\")\n",
    "\n",
    "plt.xlabel(\"Inputs\", fontsize = 15, fontweight = \"bold\")\n",
    "plt.ylabel(\"Price\", fontsize = 15, fontweight = \"bold\")\n",
    "\n",
    "plt.legend(loc=\"best\", bbox_to_anchor=(1.0, 0.2, 0.3, 0.5), fontsize = 12, shadow=True)\n",
    "plt.show();"
   ]
  }
 ],
 "metadata": {
  "kernelspec": {
   "display_name": "Python 3",
   "language": "python",
   "name": "python3"
  },
  "language_info": {
   "codemirror_mode": {
    "name": "ipython",
    "version": 3
   },
   "file_extension": ".py",
   "mimetype": "text/x-python",
   "name": "python",
   "nbconvert_exporter": "python",
   "pygments_lexer": "ipython3",
   "version": "3.8.5"
  },
  "toc": {
   "base_numbering": 1,
   "nav_menu": {},
   "number_sections": true,
   "sideBar": true,
   "skip_h1_title": false,
   "title_cell": "Table of Contents",
   "title_sidebar": "Contents",
   "toc_cell": false,
   "toc_position": {},
   "toc_section_display": true,
   "toc_window_display": true
  },
  "varInspector": {
   "cols": {
    "lenName": 16,
    "lenType": 16,
    "lenVar": 40
   },
   "kernels_config": {
    "python": {
     "delete_cmd_postfix": "",
     "delete_cmd_prefix": "del ",
     "library": "var_list.py",
     "varRefreshCmd": "print(var_dic_list())"
    },
    "r": {
     "delete_cmd_postfix": ") ",
     "delete_cmd_prefix": "rm(",
     "library": "var_list.r",
     "varRefreshCmd": "cat(var_dic_list()) "
    }
   },
   "types_to_exclude": [
    "module",
    "function",
    "builtin_function_or_method",
    "instance",
    "_Feature"
   ],
   "window_display": false
  }
 },
 "nbformat": 4,
 "nbformat_minor": 4
}
