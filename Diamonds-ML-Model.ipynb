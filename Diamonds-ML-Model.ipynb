{
 "cells": [
  {
   "cell_type": "markdown",
   "metadata": {},
   "source": [
    "# Introduction"
   ]
  },
  {
   "cell_type": "markdown",
   "metadata": {},
   "source": [
    "In this project we want to create a model that can predict the price of a diamond based on its characteristics. \n",
    "\n",
    "For this we are going to perform three different procedures. \n",
    "On the one hand a linear model, specifically a linear regression model. As a second model we will use an emsabled model such as RandomForest, tuning the hyperparameters with a Bayesian optimization model such as HyperOpt. And finally, we will test the Pycaret library, where we will choose the most appropriate model."
   ]
  },
  {
   "cell_type": "markdown",
   "metadata": {},
   "source": [
    "# Data"
   ]
  },
  {
   "cell_type": "markdown",
   "metadata": {},
   "source": [
    "The Diamonds DataSet has been obtained from Kaggle, at the following [link](https://www.kaggle.com/shivam2503/diamonds). In it, each input is a diamond and the columns correspond to diamond characteristics."
   ]
  },
  {
   "cell_type": "markdown",
   "metadata": {},
   "source": [
    "**Predictors Variables** \n",
    "\n",
    " `id`: Input ID.\n",
    " \n",
    " `carat`: diamond weight.\n",
    " \n",
    " `cut`: The way in which the diamond facets interact with light.\n",
    " \n",
    " `clarity`: Purity or transparency of a diamond.\n",
    " \n",
    " `color`: Color of a diamond.\n",
    " \n",
    " `table`: Flat part of the upper part.\n",
    " \n",
    " `x`: Length in mm.\n",
    "\n",
    " `y`: Width in mm.\n",
    "\n",
    " `depht`:  Total depth percentage = z / mean(x, y) = 2 * z / (x + y).\n",
    "\n",
    "\n",
    "**Target Variable**\n",
    "\n",
    "`price`: Diamond price."
   ]
  },
  {
   "cell_type": "markdown",
   "metadata": {},
   "source": [
    "# Libraries"
   ]
  },
  {
   "cell_type": "markdown",
   "metadata": {},
   "source": [
    "First of all, import the libraries we are going to use."
   ]
  },
  {
   "cell_type": "code",
   "execution_count": 2,
   "metadata": {},
   "outputs": [],
   "source": [
    "#import libraries\n",
    "\n",
    "#data processing\n",
    "#--------------------------------------------\n",
    "import pandas as pd\n",
    "import numpy as np\n",
    "\n",
    "#graphics\n",
    "#--------------------------------------------\n",
    "import seaborn as sns\n",
    "import matplotlib.pyplot as plt\n",
    "import matplotlib.colors as mcolors\n",
    "import matplotlib.ticker as ticker\n",
    "%matplotlib inline\n",
    "\n",
    "#preprocessig\n",
    "#--------------------------------------------\n",
    "import statsmodels.formula.api as smf\n",
    "from sklearn.model_selection import train_test_split\n",
    "\n",
    "\n",
    "\n",
    "#modelling\n",
    "#--------------------------------------------\n",
    "from sklearn.metrics import mean_squared_error as mse\n",
    "from sklearn.svm import SVR \n",
    "from sklearn.ensemble import RandomForestRegressor\n",
    "\n",
    "#Hyperopt\n",
    "#---------------------------------------------\n",
    "from hyperopt import fmin, hp, tpe, Trials, space_eval, STATUS_OK\n",
    "from hyperopt.pyll import scope as ho_scope\n",
    "from hyperopt.pyll.stochastic import sample as ho_sample\n",
    "\n",
    "#Pycaret\n",
    "#---------------------------------------------\n",
    "from pycaret.regression import *\n",
    "\n",
    "\n",
    "#others\n",
    "#----------------------------------------------\n",
    "from src.utils import unzip_zip\n",
    "import warnings\n",
    "warnings.filterwarnings('ignore')"
   ]
  },
  {
   "cell_type": "markdown",
   "metadata": {},
   "source": [
    "# Checking Data"
   ]
  },
  {
   "cell_type": "markdown",
   "metadata": {},
   "source": [
    "## First Approach"
   ]
  },
  {
   "cell_type": "markdown",
   "metadata": {},
   "source": [
    "Using the `unzip_zip` function contained in `utils.py` in the folder `src`, we unzip the `.csv` files and load them into a Dataframe."
   ]
  },
  {
   "cell_type": "markdown",
   "metadata": {},
   "source": [
    "We save the DataFrames in variables."
   ]
  },
  {
   "cell_type": "code",
   "execution_count": 64,
   "metadata": {},
   "outputs": [],
   "source": [
    "#unzip and read csv\n",
    "df_train = unzip_zip(\"data/diamonds.zip\", \"diamonds.csv\")"
   ]
  },
  {
   "cell_type": "markdown",
   "metadata": {},
   "source": [
    "Now, let's check the DataFrame"
   ]
  },
  {
   "cell_type": "code",
   "execution_count": 3,
   "metadata": {},
   "outputs": [
    {
     "data": {
      "text/html": [
       "<div>\n",
       "<style scoped>\n",
       "    .dataframe tbody tr th:only-of-type {\n",
       "        vertical-align: middle;\n",
       "    }\n",
       "\n",
       "    .dataframe tbody tr th {\n",
       "        vertical-align: top;\n",
       "    }\n",
       "\n",
       "    .dataframe thead th {\n",
       "        text-align: right;\n",
       "    }\n",
       "</style>\n",
       "<table border=\"1\" class=\"dataframe\">\n",
       "  <thead>\n",
       "    <tr style=\"text-align: right;\">\n",
       "      <th></th>\n",
       "      <th>Unnamed: 0</th>\n",
       "      <th>carat</th>\n",
       "      <th>cut</th>\n",
       "      <th>color</th>\n",
       "      <th>clarity</th>\n",
       "      <th>depth</th>\n",
       "      <th>table</th>\n",
       "      <th>price</th>\n",
       "      <th>x</th>\n",
       "      <th>y</th>\n",
       "      <th>z</th>\n",
       "    </tr>\n",
       "  </thead>\n",
       "  <tbody>\n",
       "    <tr>\n",
       "      <th>0</th>\n",
       "      <td>1</td>\n",
       "      <td>0.23</td>\n",
       "      <td>Ideal</td>\n",
       "      <td>E</td>\n",
       "      <td>SI2</td>\n",
       "      <td>61.5</td>\n",
       "      <td>55.0</td>\n",
       "      <td>326</td>\n",
       "      <td>3.95</td>\n",
       "      <td>3.98</td>\n",
       "      <td>2.43</td>\n",
       "    </tr>\n",
       "    <tr>\n",
       "      <th>1</th>\n",
       "      <td>2</td>\n",
       "      <td>0.21</td>\n",
       "      <td>Premium</td>\n",
       "      <td>E</td>\n",
       "      <td>SI1</td>\n",
       "      <td>59.8</td>\n",
       "      <td>61.0</td>\n",
       "      <td>326</td>\n",
       "      <td>3.89</td>\n",
       "      <td>3.84</td>\n",
       "      <td>2.31</td>\n",
       "    </tr>\n",
       "    <tr>\n",
       "      <th>2</th>\n",
       "      <td>3</td>\n",
       "      <td>0.23</td>\n",
       "      <td>Good</td>\n",
       "      <td>E</td>\n",
       "      <td>VS1</td>\n",
       "      <td>56.9</td>\n",
       "      <td>65.0</td>\n",
       "      <td>327</td>\n",
       "      <td>4.05</td>\n",
       "      <td>4.07</td>\n",
       "      <td>2.31</td>\n",
       "    </tr>\n",
       "    <tr>\n",
       "      <th>3</th>\n",
       "      <td>4</td>\n",
       "      <td>0.29</td>\n",
       "      <td>Premium</td>\n",
       "      <td>I</td>\n",
       "      <td>VS2</td>\n",
       "      <td>62.4</td>\n",
       "      <td>58.0</td>\n",
       "      <td>334</td>\n",
       "      <td>4.20</td>\n",
       "      <td>4.23</td>\n",
       "      <td>2.63</td>\n",
       "    </tr>\n",
       "    <tr>\n",
       "      <th>4</th>\n",
       "      <td>5</td>\n",
       "      <td>0.31</td>\n",
       "      <td>Good</td>\n",
       "      <td>J</td>\n",
       "      <td>SI2</td>\n",
       "      <td>63.3</td>\n",
       "      <td>58.0</td>\n",
       "      <td>335</td>\n",
       "      <td>4.34</td>\n",
       "      <td>4.35</td>\n",
       "      <td>2.75</td>\n",
       "    </tr>\n",
       "  </tbody>\n",
       "</table>\n",
       "</div>"
      ],
      "text/plain": [
       "   Unnamed: 0  carat      cut color clarity  depth  table  price     x     y  \\\n",
       "0           1   0.23    Ideal     E     SI2   61.5   55.0    326  3.95  3.98   \n",
       "1           2   0.21  Premium     E     SI1   59.8   61.0    326  3.89  3.84   \n",
       "2           3   0.23     Good     E     VS1   56.9   65.0    327  4.05  4.07   \n",
       "3           4   0.29  Premium     I     VS2   62.4   58.0    334  4.20  4.23   \n",
       "4           5   0.31     Good     J     SI2   63.3   58.0    335  4.34  4.35   \n",
       "\n",
       "      z  \n",
       "0  2.43  \n",
       "1  2.31  \n",
       "2  2.31  \n",
       "3  2.63  \n",
       "4  2.75  "
      ]
     },
     "execution_count": 3,
     "metadata": {},
     "output_type": "execute_result"
    }
   ],
   "source": [
    "#check data\n",
    "df_train.head()"
   ]
  },
  {
   "cell_type": "code",
   "execution_count": 4,
   "metadata": {},
   "outputs": [
    {
     "data": {
      "text/plain": [
       "(53940, 11)"
      ]
     },
     "execution_count": 4,
     "metadata": {},
     "output_type": "execute_result"
    }
   ],
   "source": [
    "#check the number, first, of the rows(diamonds) and, second the number of the columns(features)\n",
    "df_train.shape"
   ]
  },
  {
   "cell_type": "code",
   "execution_count": 5,
   "metadata": {},
   "outputs": [
    {
     "data": {
      "text/plain": [
       "Index(['Unnamed: 0', 'carat', 'cut', 'color', 'clarity', 'depth', 'table',\n",
       "       'price', 'x', 'y', 'z'],\n",
       "      dtype='object')"
      ]
     },
     "execution_count": 5,
     "metadata": {},
     "output_type": "execute_result"
    }
   ],
   "source": [
    "#check the column's names\n",
    "df_train.columns"
   ]
  },
  {
   "cell_type": "code",
   "execution_count": 6,
   "metadata": {},
   "outputs": [
    {
     "data": {
      "text/plain": [
       "Unnamed: 0      int64\n",
       "carat         float64\n",
       "cut            object\n",
       "color          object\n",
       "clarity        object\n",
       "depth         float64\n",
       "table         float64\n",
       "price           int64\n",
       "x             float64\n",
       "y             float64\n",
       "z             float64\n",
       "dtype: object"
      ]
     },
     "execution_count": 6,
     "metadata": {},
     "output_type": "execute_result"
    }
   ],
   "source": [
    "#check types\n",
    "df_train.dtypes"
   ]
  },
  {
   "cell_type": "code",
   "execution_count": 7,
   "metadata": {},
   "outputs": [
    {
     "data": {
      "text/plain": [
       "Unnamed: 0    0\n",
       "carat         0\n",
       "cut           0\n",
       "color         0\n",
       "clarity       0\n",
       "depth         0\n",
       "table         0\n",
       "price         0\n",
       "x             0\n",
       "y             0\n",
       "z             0\n",
       "dtype: int64"
      ]
     },
     "execution_count": 7,
     "metadata": {},
     "output_type": "execute_result"
    }
   ],
   "source": [
    "#check if there are any null value \n",
    "df_train.isnull().sum()"
   ]
  },
  {
   "cell_type": "markdown",
   "metadata": {},
   "source": [
    "It seems that there aren't any null value in the features.\n",
    "\n",
    "Let's check the target variable: `price`"
   ]
  },
  {
   "cell_type": "markdown",
   "metadata": {},
   "source": [
    "## Target Variable"
   ]
  },
  {
   "cell_type": "markdown",
   "metadata": {},
   "source": [
    "The target variable is `price`, it is the value of the diamonds.\n",
    "\n",
    "As we saw before, the data type of the variable is `int64`."
   ]
  },
  {
   "cell_type": "code",
   "execution_count": 8,
   "metadata": {},
   "outputs": [
    {
     "data": {
      "text/plain": [
       "count    53940.000000\n",
       "mean      3932.799722\n",
       "std       3989.439738\n",
       "min        326.000000\n",
       "25%        950.000000\n",
       "50%       2401.000000\n",
       "75%       5324.250000\n",
       "max      18823.000000\n",
       "Name: price, dtype: float64"
      ]
     },
     "execution_count": 8,
     "metadata": {},
     "output_type": "execute_result"
    }
   ],
   "source": [
    "df_train.price.describe()"
   ]
  },
  {
   "cell_type": "markdown",
   "metadata": {},
   "source": [
    "As we can see in the table, the total number of diamonds is $53940$, matching what we saw before with the `.shape` method.\n",
    "\n",
    "We see that the maximum value of a diamond is $18823$ and the minimum is $326$. In addition we have information of the mean, the median(`50%`), the standard deviation(`std`), and the 25th and 75th percentiles.\n",
    "\n",
    "Let's plot the target variable."
   ]
  },
  {
   "cell_type": "code",
   "execution_count": 13,
   "metadata": {},
   "outputs": [
    {
     "data": {
      "image/png": "[encoded data removed]",
      "text/plain": [
       "<Figure size 720x576 with 1 Axes>"
      ]
     },
     "metadata": {
      "needs_background": "light"
     },
     "output_type": "display_data"
    }
   ],
   "source": [
    "#set graph size\n",
    "plt.figure(figsize=(10,8))\n",
    "#set graph type and data\n",
    "sns.histplot(data=df_train, x=\"price\", kde=True, alpha = 0.2)\n",
    "#set vertical lines\n",
    "plt.axvline(x = df_train[\"price\"].mean(), c =\"red\", linewidth = 3, linestyle = \"--\", label = \"Mean\")\n",
    "plt.axvline(x = df_train[\"price\"].median(), c = \"green\", linewidth = 3, linestyle = \"--\", label = \"Median\")\n",
    "#modify xlabel\n",
    "plt.xlabel(\"Price\", fontweight = \"bold\")\n",
    "#set legend\n",
    "plt.legend()\n",
    "plt.show();"
   ]
  },
  {
   "cell_type": "markdown",
   "metadata": {},
   "source": [
    "Once the target variable is plotted, we can see that it has an exponential distribution. \n",
    "\n",
    "The red line represents the mean, and the green line the median."
   ]
  },
  {
   "cell_type": "code",
   "execution_count": 12,
   "metadata": {},
   "outputs": [
    {
     "data": {
      "image/png": "[encoded data removed]",
      "text/plain": [
       "<Figure size 1080x360 with 1 Axes>"
      ]
     },
     "metadata": {
      "needs_background": "light"
     },
     "output_type": "display_data"
    }
   ],
   "source": [
    "#set graph size\n",
    "plt.figure(figsize=(15,5))\n",
    "#set graph type and data\n",
    "sns.boxplot(data = df_train, x = \"price\")\n",
    "#set text into the graph\n",
    "plt.text(x = df_train[\"price\"].median(), y = 0.45, s = df_train[\"price\"].median(), fontweight = \"bold\")\n",
    "plt.text(x = np.percentile(df_train[\"price\"], 75), y = 0.45, s = np.percentile(df_train[\"price\"], 75), fontweight = \"bold\")\n",
    "plt.text(x = np.percentile(df_train[\"price\"], 25), y = 0.45, s = np.percentile(df_train[\"price\"], 25), fontweight = \"bold\")\n",
    "#modify xlabel\n",
    "plt.xlabel(\"Price\", fontweight = \"bold\")\n",
    "plt.show();"
   ]
  },
  {
   "cell_type": "markdown",
   "metadata": {},
   "source": [
    "In this boxplot we can graphically check the 25th, 50th(median) and 75th percentiles that we saw previously."
   ]
  },
  {
   "cell_type": "markdown",
   "metadata": {},
   "source": [
    "## Numerical Predictors Variables"
   ]
  },
  {
   "cell_type": "markdown",
   "metadata": {},
   "source": [
    "Next, let's check the distribution of the numeric variables, these are: `carat`, `depth`, `table`, `x`, `y`, and `z`.\n",
    "\n",
    "We will not take into account the variable `Unnamed: 0`, nor `price`, since we have already seen it in the previous section."
   ]
  },
  {
   "cell_type": "code",
   "execution_count": 19,
   "metadata": {
    "scrolled": false
   },
   "outputs": [
    {
     "data": {
      "image/png": "[encoded data removed]",
      "text/plain": [
       "<Figure size 864x576 with 6 Axes>"
      ]
     },
     "metadata": {
      "needs_background": "light"
     },
     "output_type": "display_data"
    }
   ],
   "source": [
    "#set subplots number and size\n",
    "fig, ax = plt.subplots(nrows = 3, ncols = 2, figsize=(12, 8))\n",
    "#using `.flat`, we convert the variable `ax` into a 1D array, in order to iterate.\n",
    "ax = ax.flat\n",
    "#obtein the numerical column names in an array\n",
    "numerical_cols = df_train.drop(\"price\", axis=1).select_dtypes(include=[\"int\", \"float\"]).columns\n",
    "#set each graph\n",
    "for ind, col in enumerate(numerical_cols):\n",
    "#set graph type, color, location, data and other features    \n",
    "    sns.histplot(data = df_train, \n",
    "                 x = col, \n",
    "                 color = list(mcolors.BASE_COLORS)[ind], \n",
    "                 kde=True, \n",
    "                 ax = ax[ind], \n",
    "                 alpha=0.2)\n",
    "#set the title for each graph\n",
    "    ax[ind].set_title(col, fontsize = 10, fontweight = \"bold\")\n",
    "#set empty string to xlabel title\n",
    "    ax[ind].set_xlabel(\"\")\n",
    "#set visual config    \n",
    "fig.tight_layout()\n",
    "plt.subplots_adjust(top = 0.9)\n",
    "fig.suptitle(\"Numeric Variables Distribution\", fontsize = 15, fontweight = \"bold\");"
   ]
  },
  {
   "cell_type": "markdown",
   "metadata": {},
   "source": [
    "Thus we can see the distributions of the numerical variables. \n",
    "\n",
    "Now, let's see how they relate to the target variable."
   ]
  },
  {
   "cell_type": "code",
   "execution_count": 11,
   "metadata": {},
   "outputs": [
    {
     "data": {
      "image/png": "[encoded data removed]",
      "text/plain": [
       "<Figure size 1080x576 with 6 Axes>"
      ]
     },
     "metadata": {
      "needs_background": "light"
     },
     "output_type": "display_data"
    }
   ],
   "source": [
    "#follow the above steps to adjust the graphs\n",
    "fig, ax = plt.subplots(nrows = 3, ncols = 2, figsize=(15,8))\n",
    "ax = ax.flat\n",
    "for ind, cols in enumerate(numerical_cols):\n",
    "    sns.regplot(x = cols, \n",
    "                y = \"price\", \n",
    "                data = df_train, \n",
    "                color = list(mcolors.BASE_COLORS)[ind], \n",
    "                marker = \".\", \n",
    "                ax = ax[ind])\n",
    "    \n",
    "    ax[ind].set_title(f\"price vs {cols}\", fontsize = 12, fontweight = \"bold\")\n",
    "    ax[ind].tick_params(labelsize = 6)\n",
    "    ax[ind].set_xlabel(f\"{cols}\")\n",
    "    ax[ind].set_ylabel(\"price\")\n",
    "\n",
    "fig.tight_layout()\n",
    "plt.subplots_adjust(top=0.9)\n",
    "fig.suptitle(\"Correlation with price\", fontsize = 15, fontweight = \"bold\");"
   ]
  },
  {
   "cell_type": "markdown",
   "metadata": {},
   "source": [
    "We see that in the variables `carat`, `x`, `y`, `z`, there is a positive correlation with the variable target. As for `table`, there seems to be some positive correlation, although in a very weak way. And the `depth` variable has hardly any correlation with the target variable, and the little correlation that can be seen is negative.\n",
    "\n",
    "Let us check it by means of a correlation matrix."
   ]
  },
  {
   "cell_type": "code",
   "execution_count": 20,
   "metadata": {},
   "outputs": [
    {
     "data": {
      "text/html": [
       "<div>\n",
       "<style scoped>\n",
       "    .dataframe tbody tr th:only-of-type {\n",
       "        vertical-align: middle;\n",
       "    }\n",
       "\n",
       "    .dataframe tbody tr th {\n",
       "        vertical-align: top;\n",
       "    }\n",
       "\n",
       "    .dataframe thead th {\n",
       "        text-align: right;\n",
       "    }\n",
       "</style>\n",
       "<table border=\"1\" class=\"dataframe\">\n",
       "  <thead>\n",
       "    <tr style=\"text-align: right;\">\n",
       "      <th></th>\n",
       "      <th>carat</th>\n",
       "      <th>depth</th>\n",
       "      <th>table</th>\n",
       "      <th>price</th>\n",
       "      <th>x</th>\n",
       "      <th>y</th>\n",
       "      <th>z</th>\n",
       "    </tr>\n",
       "  </thead>\n",
       "  <tbody>\n",
       "    <tr>\n",
       "      <th>carat</th>\n",
       "      <td>1.000000</td>\n",
       "      <td>0.028224</td>\n",
       "      <td>0.181618</td>\n",
       "      <td>0.921591</td>\n",
       "      <td>0.975094</td>\n",
       "      <td>0.951722</td>\n",
       "      <td>0.953387</td>\n",
       "    </tr>\n",
       "    <tr>\n",
       "      <th>depth</th>\n",
       "      <td>0.028224</td>\n",
       "      <td>1.000000</td>\n",
       "      <td>-0.295779</td>\n",
       "      <td>-0.010647</td>\n",
       "      <td>-0.025289</td>\n",
       "      <td>-0.029341</td>\n",
       "      <td>0.094924</td>\n",
       "    </tr>\n",
       "    <tr>\n",
       "      <th>table</th>\n",
       "      <td>0.181618</td>\n",
       "      <td>-0.295779</td>\n",
       "      <td>1.000000</td>\n",
       "      <td>0.127134</td>\n",
       "      <td>0.195344</td>\n",
       "      <td>0.183760</td>\n",
       "      <td>0.150929</td>\n",
       "    </tr>\n",
       "    <tr>\n",
       "      <th>price</th>\n",
       "      <td>0.921591</td>\n",
       "      <td>-0.010647</td>\n",
       "      <td>0.127134</td>\n",
       "      <td>1.000000</td>\n",
       "      <td>0.884435</td>\n",
       "      <td>0.865421</td>\n",
       "      <td>0.861249</td>\n",
       "    </tr>\n",
       "    <tr>\n",
       "      <th>x</th>\n",
       "      <td>0.975094</td>\n",
       "      <td>-0.025289</td>\n",
       "      <td>0.195344</td>\n",
       "      <td>0.884435</td>\n",
       "      <td>1.000000</td>\n",
       "      <td>0.974701</td>\n",
       "      <td>0.970772</td>\n",
       "    </tr>\n",
       "    <tr>\n",
       "      <th>y</th>\n",
       "      <td>0.951722</td>\n",
       "      <td>-0.029341</td>\n",
       "      <td>0.183760</td>\n",
       "      <td>0.865421</td>\n",
       "      <td>0.974701</td>\n",
       "      <td>1.000000</td>\n",
       "      <td>0.952006</td>\n",
       "    </tr>\n",
       "    <tr>\n",
       "      <th>z</th>\n",
       "      <td>0.953387</td>\n",
       "      <td>0.094924</td>\n",
       "      <td>0.150929</td>\n",
       "      <td>0.861249</td>\n",
       "      <td>0.970772</td>\n",
       "      <td>0.952006</td>\n",
       "      <td>1.000000</td>\n",
       "    </tr>\n",
       "  </tbody>\n",
       "</table>\n",
       "</div>"
      ],
      "text/plain": [
       "          carat     depth     table     price         x         y         z\n",
       "carat  1.000000  0.028224  0.181618  0.921591  0.975094  0.951722  0.953387\n",
       "depth  0.028224  1.000000 -0.295779 -0.010647 -0.025289 -0.029341  0.094924\n",
       "table  0.181618 -0.295779  1.000000  0.127134  0.195344  0.183760  0.150929\n",
       "price  0.921591 -0.010647  0.127134  1.000000  0.884435  0.865421  0.861249\n",
       "x      0.975094 -0.025289  0.195344  0.884435  1.000000  0.974701  0.970772\n",
       "y      0.951722 -0.029341  0.183760  0.865421  0.974701  1.000000  0.952006\n",
       "z      0.953387  0.094924  0.150929  0.861249  0.970772  0.952006  1.000000"
      ]
     },
     "execution_count": 20,
     "metadata": {},
     "output_type": "execute_result"
    }
   ],
   "source": [
    "#correlation matrix\n",
    "df_train.drop(\"Unnamed: 0\", axis=1).corr()"
   ]
  },
  {
   "cell_type": "markdown",
   "metadata": {},
   "source": [
    "Here, it can be seen that the `depth` variable is close to $0$, so there is hardly any correlation with the `price` variable.\n",
    "\n",
    "In addition the variable `table`, if it seems that there is correlation although it is very low.\n",
    "\n",
    "The rest of the variables seem to have very high correlations with the target variable."
   ]
  },
  {
   "cell_type": "code",
   "execution_count": 13,
   "metadata": {},
   "outputs": [
    {
     "data": {
      "text/plain": [
       "<AxesSubplot:>"
      ]
     },
     "execution_count": 13,
     "metadata": {},
     "output_type": "execute_result"
    },
    {
     "data": {
      "image/png": "[encoded data removed]",
      "text/plain": [
       "<Figure size 720x360 with 2 Axes>"
      ]
     },
     "metadata": {
      "needs_background": "light"
     },
     "output_type": "display_data"
    }
   ],
   "source": [
    "#correlation matrix heatmap\n",
    "plt.figure(figsize=(10, 5))\n",
    "sns.heatmap(df_train.corr(), annot = True)"
   ]
  },
  {
   "cell_type": "markdown",
   "metadata": {},
   "source": [
    "## Categorical Predictors Variables"
   ]
  },
  {
   "cell_type": "code",
   "execution_count": 21,
   "metadata": {},
   "outputs": [
    {
     "data": {
      "text/plain": [
       "Text(0.5, 0.98, 'Categorical Variables Distribution')"
      ]
     },
     "execution_count": 21,
     "metadata": {},
     "output_type": "execute_result"
    },
    {
     "data": {
      "image/png": "[encoded data removed]",
      "text/plain": [
       "<Figure size 864x576 with 3 Axes>"
      ]
     },
     "metadata": {
      "needs_background": "light"
     },
     "output_type": "display_data"
    }
   ],
   "source": [
    "fig, ax = plt.subplots(nrows=3, ncols=1, figsize=(12,8))\n",
    "ax = ax.flat\n",
    "categorical_cols = df_train.select_dtypes(include=[\"object\"]).columns\n",
    "for ind, cols in enumerate(categorical_cols):\n",
    "    df_train[cols].value_counts().plot.barh(ax=ax[ind])\n",
    "    ax[ind].set_title(cols, fontsize=10, fontweight=\"bold\")\n",
    "    ax[ind].tick_params(labelsize=12)\n",
    "    ax[ind].set_xlabel(\"\")\n",
    "    \n",
    "fig.tight_layout()\n",
    "plt.subplots_adjust(top=0.9)\n",
    "fig.suptitle(\"Categorical Variables Distribution\", fontsize=15, fontweight=\"bold\")"
   ]
  },
  {
   "cell_type": "code",
   "execution_count": 15,
   "metadata": {},
   "outputs": [
    {
     "data": {
      "image/png": "[encoded data removed]",
      "text/plain": [
       "<Figure size 1080x864 with 3 Axes>"
      ]
     },
     "metadata": {
      "needs_background": "light"
     },
     "output_type": "display_data"
    }
   ],
   "source": [
    "fig, ax = plt.subplots(nrows = 3, ncols = 1, figsize=(15,12))\n",
    "ax = ax.flat\n",
    "for ind, cols in enumerate(categorical_cols):\n",
    "    sns.boxplot(x = cols, y=\"price\", data=df_train, color=\"blue\", ax=ax[ind])\n",
    "\n",
    "    ax[ind].set_title(f\"{cols} vs price\", fontsize = 12, fontweight = \"bold\")\n",
    "    ax[ind].yaxis.set_major_formatter(ticker.EngFormatter())\n",
    "    ax[ind].tick_params(labelsize = 12)\n",
    "    ax[ind].set_xlabel(\"\")\n",
    "    ax[ind].set_ylabel(\"price\")\n",
    "\n",
    "    \n",
    "fig.tight_layout()\n",
    "plt.subplots_adjust(top=0.9)\n",
    "fig.suptitle(\"Relation with price\", fontsize = 15, fontweight = \"bold\");"
   ]
  },
  {
   "cell_type": "markdown",
   "metadata": {},
   "source": [
    "# Preprocessing Data"
   ]
  },
  {
   "cell_type": "markdown",
   "metadata": {},
   "source": [
    "## Dropping ID Variable"
   ]
  },
  {
   "cell_type": "markdown",
   "metadata": {},
   "source": [
    "As a first action, we will delete the `id` column because it does not give us any relevant information about the diamonds."
   ]
  },
  {
   "cell_type": "code",
   "execution_count": 65,
   "metadata": {},
   "outputs": [],
   "source": [
    "#drop columns: id -> Useless\n",
    "df_train = df_train.drop(\"Unnamed: 0\", axis=1)"
   ]
  },
  {
   "cell_type": "markdown",
   "metadata": {},
   "source": [
    "## Encoding Categorical Variables"
   ]
  },
  {
   "cell_type": "markdown",
   "metadata": {},
   "source": [
    "Now, let's check the values of the `object` type features."
   ]
  },
  {
   "cell_type": "code",
   "execution_count": 66,
   "metadata": {},
   "outputs": [
    {
     "data": {
      "text/plain": [
       "array(['SI2', 'SI1', 'VS1', 'VS2', 'VVS2', 'VVS1', 'I1', 'IF'],\n",
       "      dtype=object)"
      ]
     },
     "execution_count": 66,
     "metadata": {},
     "output_type": "execute_result"
    }
   ],
   "source": [
    "#check uniques\n",
    "df_train.clarity.unique()"
   ]
  },
  {
   "cell_type": "code",
   "execution_count": 67,
   "metadata": {},
   "outputs": [
    {
     "data": {
      "text/plain": [
       "array(['Ideal', 'Premium', 'Good', 'Very Good', 'Fair'], dtype=object)"
      ]
     },
     "execution_count": 67,
     "metadata": {},
     "output_type": "execute_result"
    }
   ],
   "source": [
    "df_train.cut.unique()"
   ]
  },
  {
   "cell_type": "code",
   "execution_count": 68,
   "metadata": {},
   "outputs": [
    {
     "data": {
      "text/plain": [
       "array(['E', 'I', 'J', 'H', 'F', 'G', 'D'], dtype=object)"
      ]
     },
     "execution_count": 68,
     "metadata": {},
     "output_type": "execute_result"
    }
   ],
   "source": [
    "df_train.color.unique()"
   ]
  },
  {
   "cell_type": "markdown",
   "metadata": {},
   "source": [
    "Going deeper into the diamond information, we have seen that the values of the three features (`clarity`, `cut`, and `color`) have a scale, that is, they follow an order."
   ]
  },
  {
   "cell_type": "markdown",
   "metadata": {},
   "source": [
    "Therefore, our strategy for converting these features to numerical is a hand encoding. By setting values from $1$ -> smallest value, to $n$ -> largest value.\n",
    "\n",
    "We create dictionaries where the keys are the categorical value and the values are the numerical values that we assign to them."
   ]
  },
  {
   "cell_type": "code",
   "execution_count": 69,
   "metadata": {},
   "outputs": [],
   "source": [
    "#review diamond documentation and see that there \n",
    "#is numerical order in the categorical features. Encode the categorical features by numerical features.\n",
    "encoding_cut =  {\"Fair\":1, \"Good\":2, \n",
    "          \"Ideal\":3, \"Very Good\":4, \"Premium\":5}\n",
    "    \n",
    "    \n",
    "encoding_color = {'E':1,'D':2,'F':3,\n",
    "             'G':4,'H':5,'I':6,\n",
    "             'J':7}\n",
    "\n",
    "encoding_clarity = {'I1':1,'SI2':2,\n",
    "               'SI1':3,'VS2':4,'VS1':5,\n",
    "               'VVS2':6,'VVS1':7,'IF':8}"
   ]
  },
  {
   "cell_type": "markdown",
   "metadata": {},
   "source": [
    "Using the `.apply` method we apply a `lambda` function in which we change the categorical value by the numerical value to each column.\n",
    "\n",
    "And store the numeric value in the DataFrame column to replace the values."
   ]
  },
  {
   "cell_type": "code",
   "execution_count": 70,
   "metadata": {},
   "outputs": [],
   "source": [
    "#replace categorical variables with numerical variables\n",
    "df_train[\"cut\"] = df_train[\"cut\"].apply(lambda x: encoding_cut[x])\n",
    "df_train[\"color\"] = df_train[\"color\"].apply(lambda x: encoding_color[x])\n",
    "df_train[\"clarity\"] = df_train[\"clarity\"].apply(lambda x: encoding_clarity[x])"
   ]
  },
  {
   "cell_type": "markdown",
   "metadata": {},
   "source": [
    "## Ols Regression"
   ]
  },
  {
   "cell_type": "markdown",
   "metadata": {},
   "source": [
    "By means of `ols` we will check the influence of the variables on the target variable."
   ]
  },
  {
   "cell_type": "code",
   "execution_count": 71,
   "metadata": {},
   "outputs": [
    {
     "data": {
      "text/html": [
       "<table class=\"simpletable\">\n",
       "<caption>OLS Regression Results</caption>\n",
       "<tr>\n",
       "  <th>Dep. Variable:</th>          <td>price</td>      <th>  R-squared:         </th>  <td>   0.904</td>  \n",
       "</tr>\n",
       "<tr>\n",
       "  <th>Model:</th>                   <td>OLS</td>       <th>  Adj. R-squared:    </th>  <td>   0.904</td>  \n",
       "</tr>\n",
       "<tr>\n",
       "  <th>Method:</th>             <td>Least Squares</td>  <th>  F-statistic:       </th>  <td>6.373e+04</td> \n",
       "</tr>\n",
       "<tr>\n",
       "  <th>Date:</th>             <td>Mon, 19 Apr 2021</td> <th>  Prob (F-statistic):</th>   <td>  0.00</td>   \n",
       "</tr>\n",
       "<tr>\n",
       "  <th>Time:</th>                 <td>16:50:54</td>     <th>  Log-Likelihood:    </th> <td>-4.6048e+05</td>\n",
       "</tr>\n",
       "<tr>\n",
       "  <th>No. Observations:</th>      <td> 53940</td>      <th>  AIC:               </th>  <td>9.210e+05</td> \n",
       "</tr>\n",
       "<tr>\n",
       "  <th>Df Residuals:</th>          <td> 53931</td>      <th>  BIC:               </th>  <td>9.211e+05</td> \n",
       "</tr>\n",
       "<tr>\n",
       "  <th>Df Model:</th>              <td>     8</td>      <th>                     </th>      <td> </td>     \n",
       "</tr>\n",
       "<tr>\n",
       "  <th>Covariance Type:</th>      <td>nonrobust</td>    <th>                     </th>      <td> </td>     \n",
       "</tr>\n",
       "</table>\n",
       "<table class=\"simpletable\">\n",
       "<tr>\n",
       "      <td></td>         <th>coef</th>     <th>std err</th>      <th>t</th>      <th>P>|t|</th>  <th>[0.025</th>    <th>0.975]</th>  \n",
       "</tr>\n",
       "<tr>\n",
       "  <th>Intercept</th> <td> 1566.7949</td> <td>  165.490</td> <td>    9.468</td> <td> 0.000</td> <td> 1242.434</td> <td> 1891.156</td>\n",
       "</tr>\n",
       "<tr>\n",
       "  <th>carat</th>     <td> 1.046e+04</td> <td>   51.410</td> <td>  203.382</td> <td> 0.000</td> <td> 1.04e+04</td> <td> 1.06e+04</td>\n",
       "</tr>\n",
       "<tr>\n",
       "  <th>cut</th>       <td>  115.0358</td> <td>    5.224</td> <td>   22.020</td> <td> 0.000</td> <td>  104.796</td> <td>  125.275</td>\n",
       "</tr>\n",
       "<tr>\n",
       "  <th>color</th>     <td> -297.0628</td> <td>    3.171</td> <td>  -93.677</td> <td> 0.000</td> <td> -303.278</td> <td> -290.847</td>\n",
       "</tr>\n",
       "<tr>\n",
       "  <th>clarity</th>   <td>  512.1076</td> <td>    3.526</td> <td>  145.239</td> <td> 0.000</td> <td>  505.197</td> <td>  519.019</td>\n",
       "</tr>\n",
       "<tr>\n",
       "  <th>table</th>     <td>  -54.6639</td> <td>    2.527</td> <td>  -21.632</td> <td> 0.000</td> <td>  -59.617</td> <td>  -49.711</td>\n",
       "</tr>\n",
       "<tr>\n",
       "  <th>x</th>         <td> -589.1708</td> <td>   33.349</td> <td>  -17.667</td> <td> 0.000</td> <td> -654.536</td> <td> -523.806</td>\n",
       "</tr>\n",
       "<tr>\n",
       "  <th>y</th>         <td>   85.5293</td> <td>   20.945</td> <td>    4.083</td> <td> 0.000</td> <td>   44.476</td> <td>  126.582</td>\n",
       "</tr>\n",
       "<tr>\n",
       "  <th>z</th>         <td> -391.6887</td> <td>   32.487</td> <td>  -12.057</td> <td> 0.000</td> <td> -455.363</td> <td> -328.014</td>\n",
       "</tr>\n",
       "</table>\n",
       "<table class=\"simpletable\">\n",
       "<tr>\n",
       "  <th>Omnibus:</th>       <td>11877.535</td> <th>  Durbin-Watson:     </th>  <td>   1.135</td> \n",
       "</tr>\n",
       "<tr>\n",
       "  <th>Prob(Omnibus):</th>  <td> 0.000</td>   <th>  Jarque-Bera (JB):  </th> <td>570117.402</td>\n",
       "</tr>\n",
       "<tr>\n",
       "  <th>Skew:</th>           <td>-0.031</td>   <th>  Prob(JB):          </th>  <td>    0.00</td> \n",
       "</tr>\n",
       "<tr>\n",
       "  <th>Kurtosis:</th>       <td>18.927</td>   <th>  Cond. No.          </th>  <td>1.85e+03</td> \n",
       "</tr>\n",
       "</table><br/><br/>Notes:<br/>[1] Standard Errors assume that the covariance matrix of the errors is correctly specified.<br/>[2] The condition number is large, 1.85e+03. This might indicate that there are<br/>strong multicollinearity or other numerical problems."
      ],
      "text/plain": [
       "<class 'statsmodels.iolib.summary.Summary'>\n",
       "\"\"\"\n",
       "                            OLS Regression Results                            \n",
       "==============================================================================\n",
       "Dep. Variable:                  price   R-squared:                       0.904\n",
       "Model:                            OLS   Adj. R-squared:                  0.904\n",
       "Method:                 Least Squares   F-statistic:                 6.373e+04\n",
       "Date:                Mon, 19 Apr 2021   Prob (F-statistic):               0.00\n",
       "Time:                        16:50:54   Log-Likelihood:            -4.6048e+05\n",
       "No. Observations:               53940   AIC:                         9.210e+05\n",
       "Df Residuals:                   53931   BIC:                         9.211e+05\n",
       "Df Model:                           8                                         \n",
       "Covariance Type:            nonrobust                                         \n",
       "==============================================================================\n",
       "                 coef    std err          t      P>|t|      [0.025      0.975]\n",
       "------------------------------------------------------------------------------\n",
       "Intercept   1566.7949    165.490      9.468      0.000    1242.434    1891.156\n",
       "carat       1.046e+04     51.410    203.382      0.000    1.04e+04    1.06e+04\n",
       "cut          115.0358      5.224     22.020      0.000     104.796     125.275\n",
       "color       -297.0628      3.171    -93.677      0.000    -303.278    -290.847\n",
       "clarity      512.1076      3.526    145.239      0.000     505.197     519.019\n",
       "table        -54.6639      2.527    -21.632      0.000     -59.617     -49.711\n",
       "x           -589.1708     33.349    -17.667      0.000    -654.536    -523.806\n",
       "y             85.5293     20.945      4.083      0.000      44.476     126.582\n",
       "z           -391.6887     32.487    -12.057      0.000    -455.363    -328.014\n",
       "==============================================================================\n",
       "Omnibus:                    11877.535   Durbin-Watson:                   1.135\n",
       "Prob(Omnibus):                  0.000   Jarque-Bera (JB):           570117.402\n",
       "Skew:                          -0.031   Prob(JB):                         0.00\n",
       "Kurtosis:                      18.927   Cond. No.                     1.85e+03\n",
       "==============================================================================\n",
       "\n",
       "Notes:\n",
       "[1] Standard Errors assume that the covariance matrix of the errors is correctly specified.\n",
       "[2] The condition number is large, 1.85e+03. This might indicate that there are\n",
       "strong multicollinearity or other numerical problems.\n",
       "\"\"\""
      ]
     },
     "execution_count": 71,
     "metadata": {},
     "output_type": "execute_result"
    }
   ],
   "source": [
    "#Let's get the summary of the metrics.\n",
    "#Set 'price' as target variable, and the rest as predictors variables. And, them, fit the model.\n",
    "train_results = smf.ols(\n",
    "    \"price ~ carat + cut + color + clarity + table  + x + y + z\",\n",
    "    data=df_train).fit()\n",
    "#We see the summary\n",
    "train_results.summary()"
   ]
  },
  {
   "cell_type": "markdown",
   "metadata": {},
   "source": [
    "As we can see, the `R-squared` label has a value of `0.952`. `R-squared` is the percentage of variation of the target variable that explains its relationship with one or more predictor variables. This value is between $0$ and $1$, and the closer to $1$ the better the fit of the model to data."
   ]
  },
  {
   "cell_type": "markdown",
   "metadata": {},
   "source": [
    "As can be seen the value of the variable `z` in $P>|t|$ is greater than $0.05$, so we will proceed to drop it."
   ]
  },
  {
   "cell_type": "code",
   "execution_count": 72,
   "metadata": {},
   "outputs": [],
   "source": [
    "#drop colums: z\n",
    "df_train = df_train.drop(\"z\", axis=1)"
   ]
  },
  {
   "cell_type": "code",
   "execution_count": 73,
   "metadata": {},
   "outputs": [
    {
     "data": {
      "text/html": [
       "<table class=\"simpletable\">\n",
       "<caption>OLS Regression Results</caption>\n",
       "<tr>\n",
       "  <th>Dep. Variable:</th>          <td>price</td>      <th>  R-squared:         </th>  <td>   0.905</td>  \n",
       "</tr>\n",
       "<tr>\n",
       "  <th>Model:</th>                   <td>OLS</td>       <th>  Adj. R-squared:    </th>  <td>   0.905</td>  \n",
       "</tr>\n",
       "<tr>\n",
       "  <th>Method:</th>             <td>Least Squares</td>  <th>  F-statistic:       </th>  <td>6.432e+04</td> \n",
       "</tr>\n",
       "<tr>\n",
       "  <th>Date:</th>             <td>Mon, 19 Apr 2021</td> <th>  Prob (F-statistic):</th>   <td>  0.00</td>   \n",
       "</tr>\n",
       "<tr>\n",
       "  <th>Time:</th>                 <td>16:50:55</td>     <th>  Log-Likelihood:    </th> <td>-4.6026e+05</td>\n",
       "</tr>\n",
       "<tr>\n",
       "  <th>No. Observations:</th>      <td> 53940</td>      <th>  AIC:               </th>  <td>9.205e+05</td> \n",
       "</tr>\n",
       "<tr>\n",
       "  <th>Df Residuals:</th>          <td> 53931</td>      <th>  BIC:               </th>  <td>9.206e+05</td> \n",
       "</tr>\n",
       "<tr>\n",
       "  <th>Df Model:</th>              <td>     8</td>      <th>                     </th>      <td> </td>     \n",
       "</tr>\n",
       "<tr>\n",
       "  <th>Covariance Type:</th>      <td>nonrobust</td>    <th>                     </th>      <td> </td>     \n",
       "</tr>\n",
       "</table>\n",
       "<table class=\"simpletable\">\n",
       "<tr>\n",
       "      <td></td>         <th>coef</th>     <th>std err</th>      <th>t</th>      <th>P>|t|</th>  <th>[0.025</th>    <th>0.975]</th>  \n",
       "</tr>\n",
       "<tr>\n",
       "  <th>Intercept</th> <td> 8985.4617</td> <td>  358.425</td> <td>   25.069</td> <td> 0.000</td> <td> 8282.946</td> <td> 9687.978</td>\n",
       "</tr>\n",
       "<tr>\n",
       "  <th>carat</th>     <td> 1.069e+04</td> <td>   52.346</td> <td>  204.164</td> <td> 0.000</td> <td> 1.06e+04</td> <td> 1.08e+04</td>\n",
       "</tr>\n",
       "<tr>\n",
       "  <th>cut</th>       <td>   92.9234</td> <td>    5.306</td> <td>   17.512</td> <td> 0.000</td> <td>   82.523</td> <td>  103.323</td>\n",
       "</tr>\n",
       "<tr>\n",
       "  <th>color</th>     <td> -294.3483</td> <td>    3.160</td> <td>  -93.134</td> <td> 0.000</td> <td> -300.543</td> <td> -288.154</td>\n",
       "</tr>\n",
       "<tr>\n",
       "  <th>clarity</th>   <td>  502.5078</td> <td>    3.540</td> <td>  141.960</td> <td> 0.000</td> <td>  495.570</td> <td>  509.446</td>\n",
       "</tr>\n",
       "<tr>\n",
       "  <th>table</th>     <td>  -67.0927</td> <td>    2.584</td> <td>  -25.965</td> <td> 0.000</td> <td>  -72.157</td> <td>  -62.028</td>\n",
       "</tr>\n",
       "<tr>\n",
       "  <th>depth</th>     <td> -100.8685</td> <td>    4.132</td> <td>  -24.410</td> <td> 0.000</td> <td> -108.968</td> <td>  -92.769</td>\n",
       "</tr>\n",
       "<tr>\n",
       "  <th>x</th>         <td> -880.4633</td> <td>   29.835</td> <td>  -29.511</td> <td> 0.000</td> <td> -938.940</td> <td> -821.987</td>\n",
       "</tr>\n",
       "<tr>\n",
       "  <th>y</th>         <td>   38.7076</td> <td>   20.768</td> <td>    1.864</td> <td> 0.062</td> <td>   -1.998</td> <td>   79.414</td>\n",
       "</tr>\n",
       "</table>\n",
       "<table class=\"simpletable\">\n",
       "<tr>\n",
       "  <th>Omnibus:</th>       <td>12169.270</td> <th>  Durbin-Watson:     </th>  <td>   1.154</td> \n",
       "</tr>\n",
       "<tr>\n",
       "  <th>Prob(Omnibus):</th>  <td> 0.000</td>   <th>  Jarque-Bera (JB):  </th> <td>622005.836</td>\n",
       "</tr>\n",
       "<tr>\n",
       "  <th>Skew:</th>           <td>-0.085</td>   <th>  Prob(JB):          </th>  <td>    0.00</td> \n",
       "</tr>\n",
       "<tr>\n",
       "  <th>Kurtosis:</th>       <td>19.635</td>   <th>  Cond. No.          </th>  <td>5.77e+03</td> \n",
       "</tr>\n",
       "</table><br/><br/>Notes:<br/>[1] Standard Errors assume that the covariance matrix of the errors is correctly specified.<br/>[2] The condition number is large, 5.77e+03. This might indicate that there are<br/>strong multicollinearity or other numerical problems."
      ],
      "text/plain": [
       "<class 'statsmodels.iolib.summary.Summary'>\n",
       "\"\"\"\n",
       "                            OLS Regression Results                            \n",
       "==============================================================================\n",
       "Dep. Variable:                  price   R-squared:                       0.905\n",
       "Model:                            OLS   Adj. R-squared:                  0.905\n",
       "Method:                 Least Squares   F-statistic:                 6.432e+04\n",
       "Date:                Mon, 19 Apr 2021   Prob (F-statistic):               0.00\n",
       "Time:                        16:50:55   Log-Likelihood:            -4.6026e+05\n",
       "No. Observations:               53940   AIC:                         9.205e+05\n",
       "Df Residuals:                   53931   BIC:                         9.206e+05\n",
       "Df Model:                           8                                         \n",
       "Covariance Type:            nonrobust                                         \n",
       "==============================================================================\n",
       "                 coef    std err          t      P>|t|      [0.025      0.975]\n",
       "------------------------------------------------------------------------------\n",
       "Intercept   8985.4617    358.425     25.069      0.000    8282.946    9687.978\n",
       "carat       1.069e+04     52.346    204.164      0.000    1.06e+04    1.08e+04\n",
       "cut           92.9234      5.306     17.512      0.000      82.523     103.323\n",
       "color       -294.3483      3.160    -93.134      0.000    -300.543    -288.154\n",
       "clarity      502.5078      3.540    141.960      0.000     495.570     509.446\n",
       "table        -67.0927      2.584    -25.965      0.000     -72.157     -62.028\n",
       "depth       -100.8685      4.132    -24.410      0.000    -108.968     -92.769\n",
       "x           -880.4633     29.835    -29.511      0.000    -938.940    -821.987\n",
       "y             38.7076     20.768      1.864      0.062      -1.998      79.414\n",
       "==============================================================================\n",
       "Omnibus:                    12169.270   Durbin-Watson:                   1.154\n",
       "Prob(Omnibus):                  0.000   Jarque-Bera (JB):           622005.836\n",
       "Skew:                          -0.085   Prob(JB):                         0.00\n",
       "Kurtosis:                      19.635   Cond. No.                     5.77e+03\n",
       "==============================================================================\n",
       "\n",
       "Notes:\n",
       "[1] Standard Errors assume that the covariance matrix of the errors is correctly specified.\n",
       "[2] The condition number is large, 5.77e+03. This might indicate that there are\n",
       "strong multicollinearity or other numerical problems.\n",
       "\"\"\""
      ]
     },
     "execution_count": 73,
     "metadata": {},
     "output_type": "execute_result"
    }
   ],
   "source": [
    "#recheck summary\n",
    "train_results = smf.ols(\n",
    "    \"price ~ carat + cut + color + clarity + table + depth + x + y\",\n",
    "    data=df_train).fit()\n",
    "#We see the summary\n",
    "train_results.summary()"
   ]
  },
  {
   "cell_type": "markdown",
   "metadata": {},
   "source": [
    "We save the cleaned DataFrame in a `.csv` file."
   ]
  },
  {
   "cell_type": "code",
   "execution_count": 74,
   "metadata": {},
   "outputs": [],
   "source": [
    "#convert to .csv\n",
    "df_train.to_csv(\"input/train_clean.csv\", header=True, index=False)"
   ]
  },
  {
   "cell_type": "markdown",
   "metadata": {},
   "source": [
    "# Creating Models"
   ]
  },
  {
   "cell_type": "markdown",
   "metadata": {},
   "source": [
    "## X Y Split"
   ]
  },
  {
   "cell_type": "markdown",
   "metadata": {},
   "source": [
    "To begin, we will perform a linear regression model as a means of predicting the price of diamonds based on the predictor variables we saw earlier."
   ]
  },
  {
   "cell_type": "markdown",
   "metadata": {},
   "source": [
    "We set the variable `X` for the predictor variables, and the variable `y` for the target variable."
   ]
  },
  {
   "cell_type": "code",
   "execution_count": 75,
   "metadata": {},
   "outputs": [],
   "source": [
    "#take predictors variables and response variable\n",
    "X = df_train.drop(\"price\", axis=1)\n",
    "y = df_train[\"price\"]"
   ]
  },
  {
   "cell_type": "markdown",
   "metadata": {},
   "source": [
    "## Train Test Split"
   ]
  },
  {
   "cell_type": "markdown",
   "metadata": {},
   "source": [
    "We use the `train_test_split` method to split the `X` and `y` into a 0.8 train and a 0.2 test.\n",
    "\n",
    "We will train the model with the 0.8 selected by the method and test it with the 0.2 of the test."
   ]
  },
  {
   "cell_type": "code",
   "execution_count": 76,
   "metadata": {},
   "outputs": [],
   "source": [
    "#split the data 0.8 traon, 0.2 test\n",
    "X_train, X_test, y_train, y_test = train_test_split(X, y, test_size = 0.2, random_state=444)"
   ]
  },
  {
   "cell_type": "markdown",
   "metadata": {},
   "source": [
    "## Random Forest Regressor"
   ]
  },
  {
   "cell_type": "markdown",
   "metadata": {},
   "source": [
    "### Fit Model"
   ]
  },
  {
   "cell_type": "code",
   "execution_count": 22,
   "metadata": {},
   "outputs": [
    {
     "data": {
      "text/plain": [
       "531.8683866175256"
      ]
     },
     "execution_count": 22,
     "metadata": {},
     "output_type": "execute_result"
    }
   ],
   "source": [
    "rf = RandomForestRegressor()\n",
    "\n",
    "rf.fit(X_train, y_train)\n",
    "\n",
    "y_rf_pred = rf.predict(X_test)\n",
    "\n",
    "rfreg_rmse = mse(y_test, y_rf_pred)**0.5\n",
    "rfreg_rmse"
   ]
  },
  {
   "cell_type": "markdown",
   "metadata": {},
   "source": [
    "### Tune Hiperparameters"
   ]
  },
  {
   "cell_type": "code",
   "execution_count": 23,
   "metadata": {},
   "outputs": [],
   "source": [
    "params = {\n",
    "        \"n_estimators\":hp.quniform(\"n_estimators\", 10, 1000, 25),\n",
    "        \"max_depth\":hp.quniform(\"max_depth\", 4, 16, 1),\n",
    "        \"max_features\":hp.quniform(\"max_features\",2 ,8, 1),\n",
    "        \"min_samples_split\":hp.quniform(\"min_samples_split\", 2, 15, 1),\n",
    "        \"min_samples_leaf\":hp.quniform(\"min_samples_leaf\", 1,5,1)\n",
    "}"
   ]
  },
  {
   "cell_type": "code",
   "execution_count": 24,
   "metadata": {},
   "outputs": [],
   "source": [
    "def objetive(param):\n",
    "    rf = RandomForestRegressor(n_estimators=int(param[\"n_estimators\"]),\n",
    "                      max_depth=int(param[\"max_depth\"]),\n",
    "                      max_features=int(param[\"max_features\"]),\n",
    "                      min_samples_split=int(param[\"min_samples_split\"]),\n",
    "                      min_samples_leaf=int(param[\"min_samples_leaf\"]))\n",
    "    \n",
    "    \n",
    "    rf.fit(X_train, y_train)\n",
    "    \n",
    "    y_pred = rf.predict(X_test)\n",
    "    rmse = mse(y_test, y_pred)**(0.5)\n",
    "    return {'loss':rmse, 'status': STATUS_OK }"
   ]
  },
  {
   "cell_type": "code",
   "execution_count": 25,
   "metadata": {},
   "outputs": [
    {
     "name": "stdout",
     "output_type": "stream",
     "text": [
      "100%|██████████| 10/10 [04:23<00:00, 26.38s/trial, best loss: 526.9222236361483]\n"
     ]
    }
   ],
   "source": [
    "trials_reg = Trials()\n",
    "best = fmin(fn=objetive,\n",
    "            space=params,\n",
    "            algo=tpe.suggest,\n",
    "            max_evals=10,\n",
    "            trials=trials_reg\n",
    "            )"
   ]
  },
  {
   "cell_type": "code",
   "execution_count": 26,
   "metadata": {},
   "outputs": [
    {
     "data": {
      "text/plain": [
       "{'max_depth': 16.0,\n",
       " 'max_features': 7.0,\n",
       " 'min_samples_leaf': 1.0,\n",
       " 'min_samples_split': 6.0,\n",
       " 'n_estimators': 375.0}"
      ]
     },
     "execution_count": 26,
     "metadata": {},
     "output_type": "execute_result"
    }
   ],
   "source": [
    "best"
   ]
  },
  {
   "cell_type": "code",
   "execution_count": 27,
   "metadata": {},
   "outputs": [],
   "source": [
    "rf_model = RandomForestRegressor(\n",
    "    n_estimators=int(best[\"n_estimators\"]),\n",
    "    max_depth=int(best[\"max_depth\"]),\n",
    "    max_features=int(best[\"max_features\"]),\n",
    "    min_samples_split=int(best[\"min_samples_split\"]),\n",
    "    min_samples_leaf=int(best[\"min_samples_leaf\"])\n",
    ")"
   ]
  },
  {
   "cell_type": "code",
   "execution_count": 28,
   "metadata": {},
   "outputs": [
    {
     "data": {
      "text/plain": [
       "525.824651456589"
      ]
     },
     "execution_count": 28,
     "metadata": {},
     "output_type": "execute_result"
    }
   ],
   "source": [
    "rf_model.fit(X_train, y_train)\n",
    "y_pred_test_rf=rf_model.predict(X_test)\n",
    "rmse_rf = mse(y_test, y_pred_test_rf)**0.5\n",
    "rmse_rf"
   ]
  },
  {
   "cell_type": "code",
   "execution_count": 77,
   "metadata": {},
   "outputs": [
    {
     "data": {
      "text/html": [
       "<div>\n",
       "<style scoped>\n",
       "    .dataframe tbody tr th:only-of-type {\n",
       "        vertical-align: middle;\n",
       "    }\n",
       "\n",
       "    .dataframe tbody tr th {\n",
       "        vertical-align: top;\n",
       "    }\n",
       "\n",
       "    .dataframe thead th {\n",
       "        text-align: right;\n",
       "    }\n",
       "</style>\n",
       "<table border=\"1\" class=\"dataframe\">\n",
       "  <thead>\n",
       "    <tr style=\"text-align: right;\">\n",
       "      <th></th>\n",
       "      <th>Real</th>\n",
       "      <th>RFHyperopt</th>\n",
       "    </tr>\n",
       "  </thead>\n",
       "  <tbody>\n",
       "    <tr>\n",
       "      <th>31598</th>\n",
       "      <td>367</td>\n",
       "      <td>369.286910</td>\n",
       "    </tr>\n",
       "    <tr>\n",
       "      <th>23970</th>\n",
       "      <td>12105</td>\n",
       "      <td>12216.596702</td>\n",
       "    </tr>\n",
       "    <tr>\n",
       "      <th>38321</th>\n",
       "      <td>1020</td>\n",
       "      <td>1034.479550</td>\n",
       "    </tr>\n",
       "    <tr>\n",
       "      <th>46695</th>\n",
       "      <td>1791</td>\n",
       "      <td>1792.345930</td>\n",
       "    </tr>\n",
       "    <tr>\n",
       "      <th>10355</th>\n",
       "      <td>4770</td>\n",
       "      <td>5376.700637</td>\n",
       "    </tr>\n",
       "  </tbody>\n",
       "</table>\n",
       "</div>"
      ],
      "text/plain": [
       "        Real    RFHyperopt\n",
       "31598    367    369.286910\n",
       "23970  12105  12216.596702\n",
       "38321   1020   1034.479550\n",
       "46695   1791   1792.345930\n",
       "10355   4770   5376.700637"
      ]
     },
     "execution_count": 77,
     "metadata": {},
     "output_type": "execute_result"
    }
   ],
   "source": [
    "pred_df = pd.DataFrame({\"Real\":y_test, \"RFHyperopt\": y_pred_test_rf})\n",
    "pred_df.head()"
   ]
  },
  {
   "cell_type": "markdown",
   "metadata": {},
   "source": [
    "## Pycaret"
   ]
  },
  {
   "cell_type": "markdown",
   "metadata": {},
   "source": [
    "### Fit Model"
   ]
  },
  {
   "cell_type": "code",
   "execution_count": 30,
   "metadata": {},
   "outputs": [],
   "source": [
    "df_train[[\"cut\", \"color\", \"clarity\"]] = df_train[[\"cut\", \"color\", \"clarity\"]].apply(lambda x:x.astype(\"float64\"))"
   ]
  },
  {
   "cell_type": "code",
   "execution_count": 31,
   "metadata": {},
   "outputs": [
    {
     "data": {
      "text/plain": [
       "carat      float64\n",
       "cut        float64\n",
       "color      float64\n",
       "clarity    float64\n",
       "depth      float64\n",
       "table      float64\n",
       "price        int64\n",
       "x          float64\n",
       "y          float64\n",
       "dtype: object"
      ]
     },
     "execution_count": 31,
     "metadata": {},
     "output_type": "execute_result"
    }
   ],
   "source": [
    "df_train.dtypes"
   ]
  },
  {
   "cell_type": "code",
   "execution_count": 51,
   "metadata": {},
   "outputs": [
    {
     "data": {
      "text/html": [
       "<style  type=\"text/css\" >\n",
       "</style><table id=\"T_b2d02058_a11b_11eb_ba50_5800e3972554\" ><thead>    <tr>        <th class=\"blank level0\" ></th>        <th class=\"col_heading level0 col0\" >Description</th>        <th class=\"col_heading level0 col1\" >Value</th>    </tr></thead><tbody>\n",
       "                <tr>\n",
       "                        <th id=\"T_b2d02058_a11b_11eb_ba50_5800e3972554level0_row0\" class=\"row_heading level0 row0\" >0</th>\n",
       "                        <td id=\"T_b2d02058_a11b_11eb_ba50_5800e3972554row0_col0\" class=\"data row0 col0\" >session_id</td>\n",
       "                        <td id=\"T_b2d02058_a11b_11eb_ba50_5800e3972554row0_col1\" class=\"data row0 col1\" >123</td>\n",
       "            </tr>\n",
       "            <tr>\n",
       "                        <th id=\"T_b2d02058_a11b_11eb_ba50_5800e3972554level0_row1\" class=\"row_heading level0 row1\" >1</th>\n",
       "                        <td id=\"T_b2d02058_a11b_11eb_ba50_5800e3972554row1_col0\" class=\"data row1 col0\" >Target</td>\n",
       "                        <td id=\"T_b2d02058_a11b_11eb_ba50_5800e3972554row1_col1\" class=\"data row1 col1\" >price</td>\n",
       "            </tr>\n",
       "            <tr>\n",
       "                        <th id=\"T_b2d02058_a11b_11eb_ba50_5800e3972554level0_row2\" class=\"row_heading level0 row2\" >2</th>\n",
       "                        <td id=\"T_b2d02058_a11b_11eb_ba50_5800e3972554row2_col0\" class=\"data row2 col0\" >Original Data</td>\n",
       "                        <td id=\"T_b2d02058_a11b_11eb_ba50_5800e3972554row2_col1\" class=\"data row2 col1\" >(53940, 9)</td>\n",
       "            </tr>\n",
       "            <tr>\n",
       "                        <th id=\"T_b2d02058_a11b_11eb_ba50_5800e3972554level0_row3\" class=\"row_heading level0 row3\" >3</th>\n",
       "                        <td id=\"T_b2d02058_a11b_11eb_ba50_5800e3972554row3_col0\" class=\"data row3 col0\" >Missing Values</td>\n",
       "                        <td id=\"T_b2d02058_a11b_11eb_ba50_5800e3972554row3_col1\" class=\"data row3 col1\" >False</td>\n",
       "            </tr>\n",
       "            <tr>\n",
       "                        <th id=\"T_b2d02058_a11b_11eb_ba50_5800e3972554level0_row4\" class=\"row_heading level0 row4\" >4</th>\n",
       "                        <td id=\"T_b2d02058_a11b_11eb_ba50_5800e3972554row4_col0\" class=\"data row4 col0\" >Numeric Features</td>\n",
       "                        <td id=\"T_b2d02058_a11b_11eb_ba50_5800e3972554row4_col1\" class=\"data row4 col1\" >8</td>\n",
       "            </tr>\n",
       "            <tr>\n",
       "                        <th id=\"T_b2d02058_a11b_11eb_ba50_5800e3972554level0_row5\" class=\"row_heading level0 row5\" >5</th>\n",
       "                        <td id=\"T_b2d02058_a11b_11eb_ba50_5800e3972554row5_col0\" class=\"data row5 col0\" >Categorical Features</td>\n",
       "                        <td id=\"T_b2d02058_a11b_11eb_ba50_5800e3972554row5_col1\" class=\"data row5 col1\" >0</td>\n",
       "            </tr>\n",
       "            <tr>\n",
       "                        <th id=\"T_b2d02058_a11b_11eb_ba50_5800e3972554level0_row6\" class=\"row_heading level0 row6\" >6</th>\n",
       "                        <td id=\"T_b2d02058_a11b_11eb_ba50_5800e3972554row6_col0\" class=\"data row6 col0\" >Ordinal Features</td>\n",
       "                        <td id=\"T_b2d02058_a11b_11eb_ba50_5800e3972554row6_col1\" class=\"data row6 col1\" >False</td>\n",
       "            </tr>\n",
       "            <tr>\n",
       "                        <th id=\"T_b2d02058_a11b_11eb_ba50_5800e3972554level0_row7\" class=\"row_heading level0 row7\" >7</th>\n",
       "                        <td id=\"T_b2d02058_a11b_11eb_ba50_5800e3972554row7_col0\" class=\"data row7 col0\" >High Cardinality Features</td>\n",
       "                        <td id=\"T_b2d02058_a11b_11eb_ba50_5800e3972554row7_col1\" class=\"data row7 col1\" >False</td>\n",
       "            </tr>\n",
       "            <tr>\n",
       "                        <th id=\"T_b2d02058_a11b_11eb_ba50_5800e3972554level0_row8\" class=\"row_heading level0 row8\" >8</th>\n",
       "                        <td id=\"T_b2d02058_a11b_11eb_ba50_5800e3972554row8_col0\" class=\"data row8 col0\" >High Cardinality Method</td>\n",
       "                        <td id=\"T_b2d02058_a11b_11eb_ba50_5800e3972554row8_col1\" class=\"data row8 col1\" >None</td>\n",
       "            </tr>\n",
       "            <tr>\n",
       "                        <th id=\"T_b2d02058_a11b_11eb_ba50_5800e3972554level0_row9\" class=\"row_heading level0 row9\" >9</th>\n",
       "                        <td id=\"T_b2d02058_a11b_11eb_ba50_5800e3972554row9_col0\" class=\"data row9 col0\" >Transformed Train Set</td>\n",
       "                        <td id=\"T_b2d02058_a11b_11eb_ba50_5800e3972554row9_col1\" class=\"data row9 col1\" >(37757, 8)</td>\n",
       "            </tr>\n",
       "            <tr>\n",
       "                        <th id=\"T_b2d02058_a11b_11eb_ba50_5800e3972554level0_row10\" class=\"row_heading level0 row10\" >10</th>\n",
       "                        <td id=\"T_b2d02058_a11b_11eb_ba50_5800e3972554row10_col0\" class=\"data row10 col0\" >Transformed Test Set</td>\n",
       "                        <td id=\"T_b2d02058_a11b_11eb_ba50_5800e3972554row10_col1\" class=\"data row10 col1\" >(16183, 8)</td>\n",
       "            </tr>\n",
       "            <tr>\n",
       "                        <th id=\"T_b2d02058_a11b_11eb_ba50_5800e3972554level0_row11\" class=\"row_heading level0 row11\" >11</th>\n",
       "                        <td id=\"T_b2d02058_a11b_11eb_ba50_5800e3972554row11_col0\" class=\"data row11 col0\" >Shuffle Train-Test</td>\n",
       "                        <td id=\"T_b2d02058_a11b_11eb_ba50_5800e3972554row11_col1\" class=\"data row11 col1\" >True</td>\n",
       "            </tr>\n",
       "            <tr>\n",
       "                        <th id=\"T_b2d02058_a11b_11eb_ba50_5800e3972554level0_row12\" class=\"row_heading level0 row12\" >12</th>\n",
       "                        <td id=\"T_b2d02058_a11b_11eb_ba50_5800e3972554row12_col0\" class=\"data row12 col0\" >Stratify Train-Test</td>\n",
       "                        <td id=\"T_b2d02058_a11b_11eb_ba50_5800e3972554row12_col1\" class=\"data row12 col1\" >False</td>\n",
       "            </tr>\n",
       "            <tr>\n",
       "                        <th id=\"T_b2d02058_a11b_11eb_ba50_5800e3972554level0_row13\" class=\"row_heading level0 row13\" >13</th>\n",
       "                        <td id=\"T_b2d02058_a11b_11eb_ba50_5800e3972554row13_col0\" class=\"data row13 col0\" >Fold Generator</td>\n",
       "                        <td id=\"T_b2d02058_a11b_11eb_ba50_5800e3972554row13_col1\" class=\"data row13 col1\" >KFold</td>\n",
       "            </tr>\n",
       "            <tr>\n",
       "                        <th id=\"T_b2d02058_a11b_11eb_ba50_5800e3972554level0_row14\" class=\"row_heading level0 row14\" >14</th>\n",
       "                        <td id=\"T_b2d02058_a11b_11eb_ba50_5800e3972554row14_col0\" class=\"data row14 col0\" >Fold Number</td>\n",
       "                        <td id=\"T_b2d02058_a11b_11eb_ba50_5800e3972554row14_col1\" class=\"data row14 col1\" >10</td>\n",
       "            </tr>\n",
       "            <tr>\n",
       "                        <th id=\"T_b2d02058_a11b_11eb_ba50_5800e3972554level0_row15\" class=\"row_heading level0 row15\" >15</th>\n",
       "                        <td id=\"T_b2d02058_a11b_11eb_ba50_5800e3972554row15_col0\" class=\"data row15 col0\" >CPU Jobs</td>\n",
       "                        <td id=\"T_b2d02058_a11b_11eb_ba50_5800e3972554row15_col1\" class=\"data row15 col1\" >-1</td>\n",
       "            </tr>\n",
       "            <tr>\n",
       "                        <th id=\"T_b2d02058_a11b_11eb_ba50_5800e3972554level0_row16\" class=\"row_heading level0 row16\" >16</th>\n",
       "                        <td id=\"T_b2d02058_a11b_11eb_ba50_5800e3972554row16_col0\" class=\"data row16 col0\" >Use GPU</td>\n",
       "                        <td id=\"T_b2d02058_a11b_11eb_ba50_5800e3972554row16_col1\" class=\"data row16 col1\" >False</td>\n",
       "            </tr>\n",
       "            <tr>\n",
       "                        <th id=\"T_b2d02058_a11b_11eb_ba50_5800e3972554level0_row17\" class=\"row_heading level0 row17\" >17</th>\n",
       "                        <td id=\"T_b2d02058_a11b_11eb_ba50_5800e3972554row17_col0\" class=\"data row17 col0\" >Log Experiment</td>\n",
       "                        <td id=\"T_b2d02058_a11b_11eb_ba50_5800e3972554row17_col1\" class=\"data row17 col1\" >False</td>\n",
       "            </tr>\n",
       "            <tr>\n",
       "                        <th id=\"T_b2d02058_a11b_11eb_ba50_5800e3972554level0_row18\" class=\"row_heading level0 row18\" >18</th>\n",
       "                        <td id=\"T_b2d02058_a11b_11eb_ba50_5800e3972554row18_col0\" class=\"data row18 col0\" >Experiment Name</td>\n",
       "                        <td id=\"T_b2d02058_a11b_11eb_ba50_5800e3972554row18_col1\" class=\"data row18 col1\" >reg-default-name</td>\n",
       "            </tr>\n",
       "            <tr>\n",
       "                        <th id=\"T_b2d02058_a11b_11eb_ba50_5800e3972554level0_row19\" class=\"row_heading level0 row19\" >19</th>\n",
       "                        <td id=\"T_b2d02058_a11b_11eb_ba50_5800e3972554row19_col0\" class=\"data row19 col0\" >USI</td>\n",
       "                        <td id=\"T_b2d02058_a11b_11eb_ba50_5800e3972554row19_col1\" class=\"data row19 col1\" >84b5</td>\n",
       "            </tr>\n",
       "            <tr>\n",
       "                        <th id=\"T_b2d02058_a11b_11eb_ba50_5800e3972554level0_row20\" class=\"row_heading level0 row20\" >20</th>\n",
       "                        <td id=\"T_b2d02058_a11b_11eb_ba50_5800e3972554row20_col0\" class=\"data row20 col0\" >Imputation Type</td>\n",
       "                        <td id=\"T_b2d02058_a11b_11eb_ba50_5800e3972554row20_col1\" class=\"data row20 col1\" >simple</td>\n",
       "            </tr>\n",
       "            <tr>\n",
       "                        <th id=\"T_b2d02058_a11b_11eb_ba50_5800e3972554level0_row21\" class=\"row_heading level0 row21\" >21</th>\n",
       "                        <td id=\"T_b2d02058_a11b_11eb_ba50_5800e3972554row21_col0\" class=\"data row21 col0\" >Iterative Imputation Iteration</td>\n",
       "                        <td id=\"T_b2d02058_a11b_11eb_ba50_5800e3972554row21_col1\" class=\"data row21 col1\" >None</td>\n",
       "            </tr>\n",
       "            <tr>\n",
       "                        <th id=\"T_b2d02058_a11b_11eb_ba50_5800e3972554level0_row22\" class=\"row_heading level0 row22\" >22</th>\n",
       "                        <td id=\"T_b2d02058_a11b_11eb_ba50_5800e3972554row22_col0\" class=\"data row22 col0\" >Numeric Imputer</td>\n",
       "                        <td id=\"T_b2d02058_a11b_11eb_ba50_5800e3972554row22_col1\" class=\"data row22 col1\" >mean</td>\n",
       "            </tr>\n",
       "            <tr>\n",
       "                        <th id=\"T_b2d02058_a11b_11eb_ba50_5800e3972554level0_row23\" class=\"row_heading level0 row23\" >23</th>\n",
       "                        <td id=\"T_b2d02058_a11b_11eb_ba50_5800e3972554row23_col0\" class=\"data row23 col0\" >Iterative Imputation Numeric Model</td>\n",
       "                        <td id=\"T_b2d02058_a11b_11eb_ba50_5800e3972554row23_col1\" class=\"data row23 col1\" >None</td>\n",
       "            </tr>\n",
       "            <tr>\n",
       "                        <th id=\"T_b2d02058_a11b_11eb_ba50_5800e3972554level0_row24\" class=\"row_heading level0 row24\" >24</th>\n",
       "                        <td id=\"T_b2d02058_a11b_11eb_ba50_5800e3972554row24_col0\" class=\"data row24 col0\" >Categorical Imputer</td>\n",
       "                        <td id=\"T_b2d02058_a11b_11eb_ba50_5800e3972554row24_col1\" class=\"data row24 col1\" >constant</td>\n",
       "            </tr>\n",
       "            <tr>\n",
       "                        <th id=\"T_b2d02058_a11b_11eb_ba50_5800e3972554level0_row25\" class=\"row_heading level0 row25\" >25</th>\n",
       "                        <td id=\"T_b2d02058_a11b_11eb_ba50_5800e3972554row25_col0\" class=\"data row25 col0\" >Iterative Imputation Categorical Model</td>\n",
       "                        <td id=\"T_b2d02058_a11b_11eb_ba50_5800e3972554row25_col1\" class=\"data row25 col1\" >None</td>\n",
       "            </tr>\n",
       "            <tr>\n",
       "                        <th id=\"T_b2d02058_a11b_11eb_ba50_5800e3972554level0_row26\" class=\"row_heading level0 row26\" >26</th>\n",
       "                        <td id=\"T_b2d02058_a11b_11eb_ba50_5800e3972554row26_col0\" class=\"data row26 col0\" >Unknown Categoricals Handling</td>\n",
       "                        <td id=\"T_b2d02058_a11b_11eb_ba50_5800e3972554row26_col1\" class=\"data row26 col1\" >least_frequent</td>\n",
       "            </tr>\n",
       "            <tr>\n",
       "                        <th id=\"T_b2d02058_a11b_11eb_ba50_5800e3972554level0_row27\" class=\"row_heading level0 row27\" >27</th>\n",
       "                        <td id=\"T_b2d02058_a11b_11eb_ba50_5800e3972554row27_col0\" class=\"data row27 col0\" >Normalize</td>\n",
       "                        <td id=\"T_b2d02058_a11b_11eb_ba50_5800e3972554row27_col1\" class=\"data row27 col1\" >False</td>\n",
       "            </tr>\n",
       "            <tr>\n",
       "                        <th id=\"T_b2d02058_a11b_11eb_ba50_5800e3972554level0_row28\" class=\"row_heading level0 row28\" >28</th>\n",
       "                        <td id=\"T_b2d02058_a11b_11eb_ba50_5800e3972554row28_col0\" class=\"data row28 col0\" >Normalize Method</td>\n",
       "                        <td id=\"T_b2d02058_a11b_11eb_ba50_5800e3972554row28_col1\" class=\"data row28 col1\" >None</td>\n",
       "            </tr>\n",
       "            <tr>\n",
       "                        <th id=\"T_b2d02058_a11b_11eb_ba50_5800e3972554level0_row29\" class=\"row_heading level0 row29\" >29</th>\n",
       "                        <td id=\"T_b2d02058_a11b_11eb_ba50_5800e3972554row29_col0\" class=\"data row29 col0\" >Transformation</td>\n",
       "                        <td id=\"T_b2d02058_a11b_11eb_ba50_5800e3972554row29_col1\" class=\"data row29 col1\" >False</td>\n",
       "            </tr>\n",
       "            <tr>\n",
       "                        <th id=\"T_b2d02058_a11b_11eb_ba50_5800e3972554level0_row30\" class=\"row_heading level0 row30\" >30</th>\n",
       "                        <td id=\"T_b2d02058_a11b_11eb_ba50_5800e3972554row30_col0\" class=\"data row30 col0\" >Transformation Method</td>\n",
       "                        <td id=\"T_b2d02058_a11b_11eb_ba50_5800e3972554row30_col1\" class=\"data row30 col1\" >None</td>\n",
       "            </tr>\n",
       "            <tr>\n",
       "                        <th id=\"T_b2d02058_a11b_11eb_ba50_5800e3972554level0_row31\" class=\"row_heading level0 row31\" >31</th>\n",
       "                        <td id=\"T_b2d02058_a11b_11eb_ba50_5800e3972554row31_col0\" class=\"data row31 col0\" >PCA</td>\n",
       "                        <td id=\"T_b2d02058_a11b_11eb_ba50_5800e3972554row31_col1\" class=\"data row31 col1\" >False</td>\n",
       "            </tr>\n",
       "            <tr>\n",
       "                        <th id=\"T_b2d02058_a11b_11eb_ba50_5800e3972554level0_row32\" class=\"row_heading level0 row32\" >32</th>\n",
       "                        <td id=\"T_b2d02058_a11b_11eb_ba50_5800e3972554row32_col0\" class=\"data row32 col0\" >PCA Method</td>\n",
       "                        <td id=\"T_b2d02058_a11b_11eb_ba50_5800e3972554row32_col1\" class=\"data row32 col1\" >None</td>\n",
       "            </tr>\n",
       "            <tr>\n",
       "                        <th id=\"T_b2d02058_a11b_11eb_ba50_5800e3972554level0_row33\" class=\"row_heading level0 row33\" >33</th>\n",
       "                        <td id=\"T_b2d02058_a11b_11eb_ba50_5800e3972554row33_col0\" class=\"data row33 col0\" >PCA Components</td>\n",
       "                        <td id=\"T_b2d02058_a11b_11eb_ba50_5800e3972554row33_col1\" class=\"data row33 col1\" >None</td>\n",
       "            </tr>\n",
       "            <tr>\n",
       "                        <th id=\"T_b2d02058_a11b_11eb_ba50_5800e3972554level0_row34\" class=\"row_heading level0 row34\" >34</th>\n",
       "                        <td id=\"T_b2d02058_a11b_11eb_ba50_5800e3972554row34_col0\" class=\"data row34 col0\" >Ignore Low Variance</td>\n",
       "                        <td id=\"T_b2d02058_a11b_11eb_ba50_5800e3972554row34_col1\" class=\"data row34 col1\" >False</td>\n",
       "            </tr>\n",
       "            <tr>\n",
       "                        <th id=\"T_b2d02058_a11b_11eb_ba50_5800e3972554level0_row35\" class=\"row_heading level0 row35\" >35</th>\n",
       "                        <td id=\"T_b2d02058_a11b_11eb_ba50_5800e3972554row35_col0\" class=\"data row35 col0\" >Combine Rare Levels</td>\n",
       "                        <td id=\"T_b2d02058_a11b_11eb_ba50_5800e3972554row35_col1\" class=\"data row35 col1\" >False</td>\n",
       "            </tr>\n",
       "            <tr>\n",
       "                        <th id=\"T_b2d02058_a11b_11eb_ba50_5800e3972554level0_row36\" class=\"row_heading level0 row36\" >36</th>\n",
       "                        <td id=\"T_b2d02058_a11b_11eb_ba50_5800e3972554row36_col0\" class=\"data row36 col0\" >Rare Level Threshold</td>\n",
       "                        <td id=\"T_b2d02058_a11b_11eb_ba50_5800e3972554row36_col1\" class=\"data row36 col1\" >None</td>\n",
       "            </tr>\n",
       "            <tr>\n",
       "                        <th id=\"T_b2d02058_a11b_11eb_ba50_5800e3972554level0_row37\" class=\"row_heading level0 row37\" >37</th>\n",
       "                        <td id=\"T_b2d02058_a11b_11eb_ba50_5800e3972554row37_col0\" class=\"data row37 col0\" >Numeric Binning</td>\n",
       "                        <td id=\"T_b2d02058_a11b_11eb_ba50_5800e3972554row37_col1\" class=\"data row37 col1\" >False</td>\n",
       "            </tr>\n",
       "            <tr>\n",
       "                        <th id=\"T_b2d02058_a11b_11eb_ba50_5800e3972554level0_row38\" class=\"row_heading level0 row38\" >38</th>\n",
       "                        <td id=\"T_b2d02058_a11b_11eb_ba50_5800e3972554row38_col0\" class=\"data row38 col0\" >Remove Outliers</td>\n",
       "                        <td id=\"T_b2d02058_a11b_11eb_ba50_5800e3972554row38_col1\" class=\"data row38 col1\" >False</td>\n",
       "            </tr>\n",
       "            <tr>\n",
       "                        <th id=\"T_b2d02058_a11b_11eb_ba50_5800e3972554level0_row39\" class=\"row_heading level0 row39\" >39</th>\n",
       "                        <td id=\"T_b2d02058_a11b_11eb_ba50_5800e3972554row39_col0\" class=\"data row39 col0\" >Outliers Threshold</td>\n",
       "                        <td id=\"T_b2d02058_a11b_11eb_ba50_5800e3972554row39_col1\" class=\"data row39 col1\" >None</td>\n",
       "            </tr>\n",
       "            <tr>\n",
       "                        <th id=\"T_b2d02058_a11b_11eb_ba50_5800e3972554level0_row40\" class=\"row_heading level0 row40\" >40</th>\n",
       "                        <td id=\"T_b2d02058_a11b_11eb_ba50_5800e3972554row40_col0\" class=\"data row40 col0\" >Remove Multicollinearity</td>\n",
       "                        <td id=\"T_b2d02058_a11b_11eb_ba50_5800e3972554row40_col1\" class=\"data row40 col1\" >False</td>\n",
       "            </tr>\n",
       "            <tr>\n",
       "                        <th id=\"T_b2d02058_a11b_11eb_ba50_5800e3972554level0_row41\" class=\"row_heading level0 row41\" >41</th>\n",
       "                        <td id=\"T_b2d02058_a11b_11eb_ba50_5800e3972554row41_col0\" class=\"data row41 col0\" >Multicollinearity Threshold</td>\n",
       "                        <td id=\"T_b2d02058_a11b_11eb_ba50_5800e3972554row41_col1\" class=\"data row41 col1\" >None</td>\n",
       "            </tr>\n",
       "            <tr>\n",
       "                        <th id=\"T_b2d02058_a11b_11eb_ba50_5800e3972554level0_row42\" class=\"row_heading level0 row42\" >42</th>\n",
       "                        <td id=\"T_b2d02058_a11b_11eb_ba50_5800e3972554row42_col0\" class=\"data row42 col0\" >Clustering</td>\n",
       "                        <td id=\"T_b2d02058_a11b_11eb_ba50_5800e3972554row42_col1\" class=\"data row42 col1\" >False</td>\n",
       "            </tr>\n",
       "            <tr>\n",
       "                        <th id=\"T_b2d02058_a11b_11eb_ba50_5800e3972554level0_row43\" class=\"row_heading level0 row43\" >43</th>\n",
       "                        <td id=\"T_b2d02058_a11b_11eb_ba50_5800e3972554row43_col0\" class=\"data row43 col0\" >Clustering Iteration</td>\n",
       "                        <td id=\"T_b2d02058_a11b_11eb_ba50_5800e3972554row43_col1\" class=\"data row43 col1\" >None</td>\n",
       "            </tr>\n",
       "            <tr>\n",
       "                        <th id=\"T_b2d02058_a11b_11eb_ba50_5800e3972554level0_row44\" class=\"row_heading level0 row44\" >44</th>\n",
       "                        <td id=\"T_b2d02058_a11b_11eb_ba50_5800e3972554row44_col0\" class=\"data row44 col0\" >Polynomial Features</td>\n",
       "                        <td id=\"T_b2d02058_a11b_11eb_ba50_5800e3972554row44_col1\" class=\"data row44 col1\" >False</td>\n",
       "            </tr>\n",
       "            <tr>\n",
       "                        <th id=\"T_b2d02058_a11b_11eb_ba50_5800e3972554level0_row45\" class=\"row_heading level0 row45\" >45</th>\n",
       "                        <td id=\"T_b2d02058_a11b_11eb_ba50_5800e3972554row45_col0\" class=\"data row45 col0\" >Polynomial Degree</td>\n",
       "                        <td id=\"T_b2d02058_a11b_11eb_ba50_5800e3972554row45_col1\" class=\"data row45 col1\" >None</td>\n",
       "            </tr>\n",
       "            <tr>\n",
       "                        <th id=\"T_b2d02058_a11b_11eb_ba50_5800e3972554level0_row46\" class=\"row_heading level0 row46\" >46</th>\n",
       "                        <td id=\"T_b2d02058_a11b_11eb_ba50_5800e3972554row46_col0\" class=\"data row46 col0\" >Trignometry Features</td>\n",
       "                        <td id=\"T_b2d02058_a11b_11eb_ba50_5800e3972554row46_col1\" class=\"data row46 col1\" >False</td>\n",
       "            </tr>\n",
       "            <tr>\n",
       "                        <th id=\"T_b2d02058_a11b_11eb_ba50_5800e3972554level0_row47\" class=\"row_heading level0 row47\" >47</th>\n",
       "                        <td id=\"T_b2d02058_a11b_11eb_ba50_5800e3972554row47_col0\" class=\"data row47 col0\" >Polynomial Threshold</td>\n",
       "                        <td id=\"T_b2d02058_a11b_11eb_ba50_5800e3972554row47_col1\" class=\"data row47 col1\" >None</td>\n",
       "            </tr>\n",
       "            <tr>\n",
       "                        <th id=\"T_b2d02058_a11b_11eb_ba50_5800e3972554level0_row48\" class=\"row_heading level0 row48\" >48</th>\n",
       "                        <td id=\"T_b2d02058_a11b_11eb_ba50_5800e3972554row48_col0\" class=\"data row48 col0\" >Group Features</td>\n",
       "                        <td id=\"T_b2d02058_a11b_11eb_ba50_5800e3972554row48_col1\" class=\"data row48 col1\" >False</td>\n",
       "            </tr>\n",
       "            <tr>\n",
       "                        <th id=\"T_b2d02058_a11b_11eb_ba50_5800e3972554level0_row49\" class=\"row_heading level0 row49\" >49</th>\n",
       "                        <td id=\"T_b2d02058_a11b_11eb_ba50_5800e3972554row49_col0\" class=\"data row49 col0\" >Feature Selection</td>\n",
       "                        <td id=\"T_b2d02058_a11b_11eb_ba50_5800e3972554row49_col1\" class=\"data row49 col1\" >False</td>\n",
       "            </tr>\n",
       "            <tr>\n",
       "                        <th id=\"T_b2d02058_a11b_11eb_ba50_5800e3972554level0_row50\" class=\"row_heading level0 row50\" >50</th>\n",
       "                        <td id=\"T_b2d02058_a11b_11eb_ba50_5800e3972554row50_col0\" class=\"data row50 col0\" >Feature Selection Method</td>\n",
       "                        <td id=\"T_b2d02058_a11b_11eb_ba50_5800e3972554row50_col1\" class=\"data row50 col1\" >classic</td>\n",
       "            </tr>\n",
       "            <tr>\n",
       "                        <th id=\"T_b2d02058_a11b_11eb_ba50_5800e3972554level0_row51\" class=\"row_heading level0 row51\" >51</th>\n",
       "                        <td id=\"T_b2d02058_a11b_11eb_ba50_5800e3972554row51_col0\" class=\"data row51 col0\" >Features Selection Threshold</td>\n",
       "                        <td id=\"T_b2d02058_a11b_11eb_ba50_5800e3972554row51_col1\" class=\"data row51 col1\" >None</td>\n",
       "            </tr>\n",
       "            <tr>\n",
       "                        <th id=\"T_b2d02058_a11b_11eb_ba50_5800e3972554level0_row52\" class=\"row_heading level0 row52\" >52</th>\n",
       "                        <td id=\"T_b2d02058_a11b_11eb_ba50_5800e3972554row52_col0\" class=\"data row52 col0\" >Feature Interaction</td>\n",
       "                        <td id=\"T_b2d02058_a11b_11eb_ba50_5800e3972554row52_col1\" class=\"data row52 col1\" >False</td>\n",
       "            </tr>\n",
       "            <tr>\n",
       "                        <th id=\"T_b2d02058_a11b_11eb_ba50_5800e3972554level0_row53\" class=\"row_heading level0 row53\" >53</th>\n",
       "                        <td id=\"T_b2d02058_a11b_11eb_ba50_5800e3972554row53_col0\" class=\"data row53 col0\" >Feature Ratio</td>\n",
       "                        <td id=\"T_b2d02058_a11b_11eb_ba50_5800e3972554row53_col1\" class=\"data row53 col1\" >False</td>\n",
       "            </tr>\n",
       "            <tr>\n",
       "                        <th id=\"T_b2d02058_a11b_11eb_ba50_5800e3972554level0_row54\" class=\"row_heading level0 row54\" >54</th>\n",
       "                        <td id=\"T_b2d02058_a11b_11eb_ba50_5800e3972554row54_col0\" class=\"data row54 col0\" >Interaction Threshold</td>\n",
       "                        <td id=\"T_b2d02058_a11b_11eb_ba50_5800e3972554row54_col1\" class=\"data row54 col1\" >None</td>\n",
       "            </tr>\n",
       "            <tr>\n",
       "                        <th id=\"T_b2d02058_a11b_11eb_ba50_5800e3972554level0_row55\" class=\"row_heading level0 row55\" >55</th>\n",
       "                        <td id=\"T_b2d02058_a11b_11eb_ba50_5800e3972554row55_col0\" class=\"data row55 col0\" >Transform Target</td>\n",
       "                        <td id=\"T_b2d02058_a11b_11eb_ba50_5800e3972554row55_col1\" class=\"data row55 col1\" >False</td>\n",
       "            </tr>\n",
       "            <tr>\n",
       "                        <th id=\"T_b2d02058_a11b_11eb_ba50_5800e3972554level0_row56\" class=\"row_heading level0 row56\" >56</th>\n",
       "                        <td id=\"T_b2d02058_a11b_11eb_ba50_5800e3972554row56_col0\" class=\"data row56 col0\" >Transform Target Method</td>\n",
       "                        <td id=\"T_b2d02058_a11b_11eb_ba50_5800e3972554row56_col1\" class=\"data row56 col1\" >box-cox</td>\n",
       "            </tr>\n",
       "    </tbody></table>"
      ],
      "text/plain": [
       "<pandas.io.formats.style.Styler at 0x24b907898e0>"
      ]
     },
     "metadata": {},
     "output_type": "display_data"
    }
   ],
   "source": [
    "exp_clf101 = setup(data = df_train, target = \"price\", session_id=123)"
   ]
  },
  {
   "cell_type": "code",
   "execution_count": 52,
   "metadata": {},
   "outputs": [
    {
     "data": {
      "text/html": [
       "<style  type=\"text/css\" >\n",
       "    #T_1d7a181e_a11c_11eb_a425_5800e3972554 th {\n",
       "          text-align: left;\n",
       "    }#T_1d7a181e_a11c_11eb_a425_5800e3972554row0_col0,#T_1d7a181e_a11c_11eb_a425_5800e3972554row0_col1,#T_1d7a181e_a11c_11eb_a425_5800e3972554row0_col5,#T_1d7a181e_a11c_11eb_a425_5800e3972554row0_col6,#T_1d7a181e_a11c_11eb_a425_5800e3972554row1_col0,#T_1d7a181e_a11c_11eb_a425_5800e3972554row1_col1,#T_1d7a181e_a11c_11eb_a425_5800e3972554row1_col2,#T_1d7a181e_a11c_11eb_a425_5800e3972554row1_col3,#T_1d7a181e_a11c_11eb_a425_5800e3972554row1_col4,#T_1d7a181e_a11c_11eb_a425_5800e3972554row1_col5,#T_1d7a181e_a11c_11eb_a425_5800e3972554row1_col6,#T_1d7a181e_a11c_11eb_a425_5800e3972554row2_col0,#T_1d7a181e_a11c_11eb_a425_5800e3972554row2_col2,#T_1d7a181e_a11c_11eb_a425_5800e3972554row2_col3,#T_1d7a181e_a11c_11eb_a425_5800e3972554row2_col4,#T_1d7a181e_a11c_11eb_a425_5800e3972554row2_col5,#T_1d7a181e_a11c_11eb_a425_5800e3972554row2_col6,#T_1d7a181e_a11c_11eb_a425_5800e3972554row3_col0,#T_1d7a181e_a11c_11eb_a425_5800e3972554row3_col1,#T_1d7a181e_a11c_11eb_a425_5800e3972554row3_col2,#T_1d7a181e_a11c_11eb_a425_5800e3972554row3_col3,#T_1d7a181e_a11c_11eb_a425_5800e3972554row3_col4,#T_1d7a181e_a11c_11eb_a425_5800e3972554row4_col0,#T_1d7a181e_a11c_11eb_a425_5800e3972554row4_col1,#T_1d7a181e_a11c_11eb_a425_5800e3972554row4_col2,#T_1d7a181e_a11c_11eb_a425_5800e3972554row4_col3,#T_1d7a181e_a11c_11eb_a425_5800e3972554row4_col4,#T_1d7a181e_a11c_11eb_a425_5800e3972554row4_col5,#T_1d7a181e_a11c_11eb_a425_5800e3972554row4_col6,#T_1d7a181e_a11c_11eb_a425_5800e3972554row5_col0,#T_1d7a181e_a11c_11eb_a425_5800e3972554row5_col1,#T_1d7a181e_a11c_11eb_a425_5800e3972554row5_col2,#T_1d7a181e_a11c_11eb_a425_5800e3972554row5_col3,#T_1d7a181e_a11c_11eb_a425_5800e3972554row5_col4,#T_1d7a181e_a11c_11eb_a425_5800e3972554row5_col5,#T_1d7a181e_a11c_11eb_a425_5800e3972554row5_col6,#T_1d7a181e_a11c_11eb_a425_5800e3972554row6_col0,#T_1d7a181e_a11c_11eb_a425_5800e3972554row6_col1,#T_1d7a181e_a11c_11eb_a425_5800e3972554row6_col2,#T_1d7a181e_a11c_11eb_a425_5800e3972554row6_col3,#T_1d7a181e_a11c_11eb_a425_5800e3972554row6_col4,#T_1d7a181e_a11c_11eb_a425_5800e3972554row6_col5,#T_1d7a181e_a11c_11eb_a425_5800e3972554row6_col6,#T_1d7a181e_a11c_11eb_a425_5800e3972554row7_col0,#T_1d7a181e_a11c_11eb_a425_5800e3972554row7_col1,#T_1d7a181e_a11c_11eb_a425_5800e3972554row7_col2,#T_1d7a181e_a11c_11eb_a425_5800e3972554row7_col3,#T_1d7a181e_a11c_11eb_a425_5800e3972554row7_col4,#T_1d7a181e_a11c_11eb_a425_5800e3972554row7_col5,#T_1d7a181e_a11c_11eb_a425_5800e3972554row7_col6,#T_1d7a181e_a11c_11eb_a425_5800e3972554row8_col0,#T_1d7a181e_a11c_11eb_a425_5800e3972554row8_col1,#T_1d7a181e_a11c_11eb_a425_5800e3972554row8_col2,#T_1d7a181e_a11c_11eb_a425_5800e3972554row8_col3,#T_1d7a181e_a11c_11eb_a425_5800e3972554row8_col4,#T_1d7a181e_a11c_11eb_a425_5800e3972554row8_col5,#T_1d7a181e_a11c_11eb_a425_5800e3972554row8_col6,#T_1d7a181e_a11c_11eb_a425_5800e3972554row9_col0,#T_1d7a181e_a11c_11eb_a425_5800e3972554row9_col1,#T_1d7a181e_a11c_11eb_a425_5800e3972554row9_col2,#T_1d7a181e_a11c_11eb_a425_5800e3972554row9_col3,#T_1d7a181e_a11c_11eb_a425_5800e3972554row9_col4,#T_1d7a181e_a11c_11eb_a425_5800e3972554row9_col5,#T_1d7a181e_a11c_11eb_a425_5800e3972554row9_col6,#T_1d7a181e_a11c_11eb_a425_5800e3972554row10_col0,#T_1d7a181e_a11c_11eb_a425_5800e3972554row10_col1,#T_1d7a181e_a11c_11eb_a425_5800e3972554row10_col2,#T_1d7a181e_a11c_11eb_a425_5800e3972554row10_col3,#T_1d7a181e_a11c_11eb_a425_5800e3972554row10_col4,#T_1d7a181e_a11c_11eb_a425_5800e3972554row10_col5,#T_1d7a181e_a11c_11eb_a425_5800e3972554row10_col6,#T_1d7a181e_a11c_11eb_a425_5800e3972554row11_col0,#T_1d7a181e_a11c_11eb_a425_5800e3972554row11_col1,#T_1d7a181e_a11c_11eb_a425_5800e3972554row11_col2,#T_1d7a181e_a11c_11eb_a425_5800e3972554row11_col3,#T_1d7a181e_a11c_11eb_a425_5800e3972554row11_col4,#T_1d7a181e_a11c_11eb_a425_5800e3972554row11_col5,#T_1d7a181e_a11c_11eb_a425_5800e3972554row11_col6,#T_1d7a181e_a11c_11eb_a425_5800e3972554row12_col0,#T_1d7a181e_a11c_11eb_a425_5800e3972554row12_col1,#T_1d7a181e_a11c_11eb_a425_5800e3972554row12_col2,#T_1d7a181e_a11c_11eb_a425_5800e3972554row12_col3,#T_1d7a181e_a11c_11eb_a425_5800e3972554row12_col4,#T_1d7a181e_a11c_11eb_a425_5800e3972554row12_col5,#T_1d7a181e_a11c_11eb_a425_5800e3972554row12_col6,#T_1d7a181e_a11c_11eb_a425_5800e3972554row13_col0,#T_1d7a181e_a11c_11eb_a425_5800e3972554row13_col1,#T_1d7a181e_a11c_11eb_a425_5800e3972554row13_col2,#T_1d7a181e_a11c_11eb_a425_5800e3972554row13_col3,#T_1d7a181e_a11c_11eb_a425_5800e3972554row13_col4,#T_1d7a181e_a11c_11eb_a425_5800e3972554row13_col5,#T_1d7a181e_a11c_11eb_a425_5800e3972554row13_col6,#T_1d7a181e_a11c_11eb_a425_5800e3972554row14_col0,#T_1d7a181e_a11c_11eb_a425_5800e3972554row14_col1,#T_1d7a181e_a11c_11eb_a425_5800e3972554row14_col2,#T_1d7a181e_a11c_11eb_a425_5800e3972554row14_col3,#T_1d7a181e_a11c_11eb_a425_5800e3972554row14_col4,#T_1d7a181e_a11c_11eb_a425_5800e3972554row14_col5,#T_1d7a181e_a11c_11eb_a425_5800e3972554row14_col6,#T_1d7a181e_a11c_11eb_a425_5800e3972554row15_col0,#T_1d7a181e_a11c_11eb_a425_5800e3972554row15_col1,#T_1d7a181e_a11c_11eb_a425_5800e3972554row15_col2,#T_1d7a181e_a11c_11eb_a425_5800e3972554row15_col3,#T_1d7a181e_a11c_11eb_a425_5800e3972554row15_col4,#T_1d7a181e_a11c_11eb_a425_5800e3972554row15_col5,#T_1d7a181e_a11c_11eb_a425_5800e3972554row15_col6,#T_1d7a181e_a11c_11eb_a425_5800e3972554row16_col0,#T_1d7a181e_a11c_11eb_a425_5800e3972554row16_col1,#T_1d7a181e_a11c_11eb_a425_5800e3972554row16_col2,#T_1d7a181e_a11c_11eb_a425_5800e3972554row16_col3,#T_1d7a181e_a11c_11eb_a425_5800e3972554row16_col4,#T_1d7a181e_a11c_11eb_a425_5800e3972554row16_col5,#T_1d7a181e_a11c_11eb_a425_5800e3972554row16_col6,#T_1d7a181e_a11c_11eb_a425_5800e3972554row17_col0,#T_1d7a181e_a11c_11eb_a425_5800e3972554row17_col1,#T_1d7a181e_a11c_11eb_a425_5800e3972554row17_col2,#T_1d7a181e_a11c_11eb_a425_5800e3972554row17_col3,#T_1d7a181e_a11c_11eb_a425_5800e3972554row17_col4,#T_1d7a181e_a11c_11eb_a425_5800e3972554row17_col5,#T_1d7a181e_a11c_11eb_a425_5800e3972554row17_col6{\n",
       "            text-align:  left;\n",
       "            text-align:  left;\n",
       "        }#T_1d7a181e_a11c_11eb_a425_5800e3972554row0_col2,#T_1d7a181e_a11c_11eb_a425_5800e3972554row0_col3,#T_1d7a181e_a11c_11eb_a425_5800e3972554row0_col4,#T_1d7a181e_a11c_11eb_a425_5800e3972554row2_col1,#T_1d7a181e_a11c_11eb_a425_5800e3972554row3_col5,#T_1d7a181e_a11c_11eb_a425_5800e3972554row3_col6{\n",
       "            text-align:  left;\n",
       "            text-align:  left;\n",
       "            background-color:  yellow;\n",
       "        }#T_1d7a181e_a11c_11eb_a425_5800e3972554row0_col7,#T_1d7a181e_a11c_11eb_a425_5800e3972554row1_col7,#T_1d7a181e_a11c_11eb_a425_5800e3972554row2_col7,#T_1d7a181e_a11c_11eb_a425_5800e3972554row3_col7,#T_1d7a181e_a11c_11eb_a425_5800e3972554row4_col7,#T_1d7a181e_a11c_11eb_a425_5800e3972554row5_col7,#T_1d7a181e_a11c_11eb_a425_5800e3972554row6_col7,#T_1d7a181e_a11c_11eb_a425_5800e3972554row7_col7,#T_1d7a181e_a11c_11eb_a425_5800e3972554row8_col7,#T_1d7a181e_a11c_11eb_a425_5800e3972554row10_col7,#T_1d7a181e_a11c_11eb_a425_5800e3972554row11_col7,#T_1d7a181e_a11c_11eb_a425_5800e3972554row14_col7,#T_1d7a181e_a11c_11eb_a425_5800e3972554row15_col7,#T_1d7a181e_a11c_11eb_a425_5800e3972554row17_col7{\n",
       "            text-align:  left;\n",
       "            text-align:  left;\n",
       "            background-color:  lightgrey;\n",
       "        }#T_1d7a181e_a11c_11eb_a425_5800e3972554row9_col7,#T_1d7a181e_a11c_11eb_a425_5800e3972554row12_col7,#T_1d7a181e_a11c_11eb_a425_5800e3972554row13_col7,#T_1d7a181e_a11c_11eb_a425_5800e3972554row16_col7{\n",
       "            text-align:  left;\n",
       "            text-align:  left;\n",
       "            background-color:  yellow;\n",
       "            background-color:  lightgrey;\n",
       "        }</style><table id=\"T_1d7a181e_a11c_11eb_a425_5800e3972554\" ><thead>    <tr>        <th class=\"blank level0\" ></th>        <th class=\"col_heading level0 col0\" >Model</th>        <th class=\"col_heading level0 col1\" >MAE</th>        <th class=\"col_heading level0 col2\" >MSE</th>        <th class=\"col_heading level0 col3\" >RMSE</th>        <th class=\"col_heading level0 col4\" >R2</th>        <th class=\"col_heading level0 col5\" >RMSLE</th>        <th class=\"col_heading level0 col6\" >MAPE</th>        <th class=\"col_heading level0 col7\" >TT (Sec)</th>    </tr></thead><tbody>\n",
       "                <tr>\n",
       "                        <th id=\"T_1d7a181e_a11c_11eb_a425_5800e3972554level0_row0\" class=\"row_heading level0 row0\" >lightgbm</th>\n",
       "                        <td id=\"T_1d7a181e_a11c_11eb_a425_5800e3972554row0_col0\" class=\"data row0 col0\" >Light Gradient Boosting Machine</td>\n",
       "                        <td id=\"T_1d7a181e_a11c_11eb_a425_5800e3972554row0_col1\" class=\"data row0 col1\" >283.6176</td>\n",
       "                        <td id=\"T_1d7a181e_a11c_11eb_a425_5800e3972554row0_col2\" class=\"data row0 col2\" >292857.7584</td>\n",
       "                        <td id=\"T_1d7a181e_a11c_11eb_a425_5800e3972554row0_col3\" class=\"data row0 col3\" >540.6805</td>\n",
       "                        <td id=\"T_1d7a181e_a11c_11eb_a425_5800e3972554row0_col4\" class=\"data row0 col4\" >0.9816</td>\n",
       "                        <td id=\"T_1d7a181e_a11c_11eb_a425_5800e3972554row0_col5\" class=\"data row0 col5\" >0.1070</td>\n",
       "                        <td id=\"T_1d7a181e_a11c_11eb_a425_5800e3972554row0_col6\" class=\"data row0 col6\" >0.0821</td>\n",
       "                        <td id=\"T_1d7a181e_a11c_11eb_a425_5800e3972554row0_col7\" class=\"data row0 col7\" >0.2860</td>\n",
       "            </tr>\n",
       "            <tr>\n",
       "                        <th id=\"T_1d7a181e_a11c_11eb_a425_5800e3972554level0_row1\" class=\"row_heading level0 row1\" >xgboost</th>\n",
       "                        <td id=\"T_1d7a181e_a11c_11eb_a425_5800e3972554row1_col0\" class=\"data row1 col0\" >Extreme Gradient Boosting</td>\n",
       "                        <td id=\"T_1d7a181e_a11c_11eb_a425_5800e3972554row1_col1\" class=\"data row1 col1\" >281.0910</td>\n",
       "                        <td id=\"T_1d7a181e_a11c_11eb_a425_5800e3972554row1_col2\" class=\"data row1 col2\" >298675.0797</td>\n",
       "                        <td id=\"T_1d7a181e_a11c_11eb_a425_5800e3972554row1_col3\" class=\"data row1 col3\" >546.1807</td>\n",
       "                        <td id=\"T_1d7a181e_a11c_11eb_a425_5800e3972554row1_col4\" class=\"data row1 col4\" >0.9812</td>\n",
       "                        <td id=\"T_1d7a181e_a11c_11eb_a425_5800e3972554row1_col5\" class=\"data row1 col5\" >0.0968</td>\n",
       "                        <td id=\"T_1d7a181e_a11c_11eb_a425_5800e3972554row1_col6\" class=\"data row1 col6\" >0.0728</td>\n",
       "                        <td id=\"T_1d7a181e_a11c_11eb_a425_5800e3972554row1_col7\" class=\"data row1 col7\" >1.5690</td>\n",
       "            </tr>\n",
       "            <tr>\n",
       "                        <th id=\"T_1d7a181e_a11c_11eb_a425_5800e3972554level0_row2\" class=\"row_heading level0 row2\" >et</th>\n",
       "                        <td id=\"T_1d7a181e_a11c_11eb_a425_5800e3972554row2_col0\" class=\"data row2 col0\" >Extra Trees Regressor</td>\n",
       "                        <td id=\"T_1d7a181e_a11c_11eb_a425_5800e3972554row2_col1\" class=\"data row2 col1\" >272.6170</td>\n",
       "                        <td id=\"T_1d7a181e_a11c_11eb_a425_5800e3972554row2_col2\" class=\"data row2 col2\" >298320.7444</td>\n",
       "                        <td id=\"T_1d7a181e_a11c_11eb_a425_5800e3972554row2_col3\" class=\"data row2 col3\" >545.6725</td>\n",
       "                        <td id=\"T_1d7a181e_a11c_11eb_a425_5800e3972554row2_col4\" class=\"data row2 col4\" >0.9812</td>\n",
       "                        <td id=\"T_1d7a181e_a11c_11eb_a425_5800e3972554row2_col5\" class=\"data row2 col5\" >0.0928</td>\n",
       "                        <td id=\"T_1d7a181e_a11c_11eb_a425_5800e3972554row2_col6\" class=\"data row2 col6\" >0.0667</td>\n",
       "                        <td id=\"T_1d7a181e_a11c_11eb_a425_5800e3972554row2_col7\" class=\"data row2 col7\" >4.9410</td>\n",
       "            </tr>\n",
       "            <tr>\n",
       "                        <th id=\"T_1d7a181e_a11c_11eb_a425_5800e3972554level0_row3\" class=\"row_heading level0 row3\" >rf</th>\n",
       "                        <td id=\"T_1d7a181e_a11c_11eb_a425_5800e3972554row3_col0\" class=\"data row3 col0\" >Random Forest Regressor</td>\n",
       "                        <td id=\"T_1d7a181e_a11c_11eb_a425_5800e3972554row3_col1\" class=\"data row3 col1\" >276.4072</td>\n",
       "                        <td id=\"T_1d7a181e_a11c_11eb_a425_5800e3972554row3_col2\" class=\"data row3 col2\" >303750.9810</td>\n",
       "                        <td id=\"T_1d7a181e_a11c_11eb_a425_5800e3972554row3_col3\" class=\"data row3 col3\" >550.7266</td>\n",
       "                        <td id=\"T_1d7a181e_a11c_11eb_a425_5800e3972554row3_col4\" class=\"data row3 col4\" >0.9809</td>\n",
       "                        <td id=\"T_1d7a181e_a11c_11eb_a425_5800e3972554row3_col5\" class=\"data row3 col5\" >0.0922</td>\n",
       "                        <td id=\"T_1d7a181e_a11c_11eb_a425_5800e3972554row3_col6\" class=\"data row3 col6\" >0.0665</td>\n",
       "                        <td id=\"T_1d7a181e_a11c_11eb_a425_5800e3972554row3_col7\" class=\"data row3 col7\" >5.9900</td>\n",
       "            </tr>\n",
       "            <tr>\n",
       "                        <th id=\"T_1d7a181e_a11c_11eb_a425_5800e3972554level0_row4\" class=\"row_heading level0 row4\" >gbr</th>\n",
       "                        <td id=\"T_1d7a181e_a11c_11eb_a425_5800e3972554row4_col0\" class=\"data row4 col0\" >Gradient Boosting Regressor</td>\n",
       "                        <td id=\"T_1d7a181e_a11c_11eb_a425_5800e3972554row4_col1\" class=\"data row4 col1\" >345.7643</td>\n",
       "                        <td id=\"T_1d7a181e_a11c_11eb_a425_5800e3972554row4_col2\" class=\"data row4 col2\" >396057.4165</td>\n",
       "                        <td id=\"T_1d7a181e_a11c_11eb_a425_5800e3972554row4_col3\" class=\"data row4 col3\" >628.9765</td>\n",
       "                        <td id=\"T_1d7a181e_a11c_11eb_a425_5800e3972554row4_col4\" class=\"data row4 col4\" >0.9751</td>\n",
       "                        <td id=\"T_1d7a181e_a11c_11eb_a425_5800e3972554row4_col5\" class=\"data row4 col5\" >0.1641</td>\n",
       "                        <td id=\"T_1d7a181e_a11c_11eb_a425_5800e3972554row4_col6\" class=\"data row4 col6\" >0.1087</td>\n",
       "                        <td id=\"T_1d7a181e_a11c_11eb_a425_5800e3972554row4_col7\" class=\"data row4 col7\" >1.9310</td>\n",
       "            </tr>\n",
       "            <tr>\n",
       "                        <th id=\"T_1d7a181e_a11c_11eb_a425_5800e3972554level0_row5\" class=\"row_heading level0 row5\" >dt</th>\n",
       "                        <td id=\"T_1d7a181e_a11c_11eb_a425_5800e3972554row5_col0\" class=\"data row5 col0\" >Decision Tree Regressor</td>\n",
       "                        <td id=\"T_1d7a181e_a11c_11eb_a425_5800e3972554row5_col1\" class=\"data row5 col1\" >371.0857</td>\n",
       "                        <td id=\"T_1d7a181e_a11c_11eb_a425_5800e3972554row5_col2\" class=\"data row5 col2\" >572214.4301</td>\n",
       "                        <td id=\"T_1d7a181e_a11c_11eb_a425_5800e3972554row5_col3\" class=\"data row5 col3\" >756.0138</td>\n",
       "                        <td id=\"T_1d7a181e_a11c_11eb_a425_5800e3972554row5_col4\" class=\"data row5 col4\" >0.9640</td>\n",
       "                        <td id=\"T_1d7a181e_a11c_11eb_a425_5800e3972554row5_col5\" class=\"data row5 col5\" >0.1265</td>\n",
       "                        <td id=\"T_1d7a181e_a11c_11eb_a425_5800e3972554row5_col6\" class=\"data row5 col6\" >0.0878</td>\n",
       "                        <td id=\"T_1d7a181e_a11c_11eb_a425_5800e3972554row5_col7\" class=\"data row5 col7\" >0.1050</td>\n",
       "            </tr>\n",
       "            <tr>\n",
       "                        <th id=\"T_1d7a181e_a11c_11eb_a425_5800e3972554level0_row6\" class=\"row_heading level0 row6\" >knn</th>\n",
       "                        <td id=\"T_1d7a181e_a11c_11eb_a425_5800e3972554row6_col0\" class=\"data row6 col0\" >K Neighbors Regressor</td>\n",
       "                        <td id=\"T_1d7a181e_a11c_11eb_a425_5800e3972554row6_col1\" class=\"data row6 col1\" >502.4099</td>\n",
       "                        <td id=\"T_1d7a181e_a11c_11eb_a425_5800e3972554row6_col2\" class=\"data row6 col2\" >870448.9062</td>\n",
       "                        <td id=\"T_1d7a181e_a11c_11eb_a425_5800e3972554row6_col3\" class=\"data row6 col3\" >931.8603</td>\n",
       "                        <td id=\"T_1d7a181e_a11c_11eb_a425_5800e3972554row6_col4\" class=\"data row6 col4\" >0.9453</td>\n",
       "                        <td id=\"T_1d7a181e_a11c_11eb_a425_5800e3972554row6_col5\" class=\"data row6 col5\" >0.1851</td>\n",
       "                        <td id=\"T_1d7a181e_a11c_11eb_a425_5800e3972554row6_col6\" class=\"data row6 col6\" >0.1426</td>\n",
       "                        <td id=\"T_1d7a181e_a11c_11eb_a425_5800e3972554row6_col7\" class=\"data row6 col7\" >0.1640</td>\n",
       "            </tr>\n",
       "            <tr>\n",
       "                        <th id=\"T_1d7a181e_a11c_11eb_a425_5800e3972554level0_row7\" class=\"row_heading level0 row7\" >ada</th>\n",
       "                        <td id=\"T_1d7a181e_a11c_11eb_a425_5800e3972554row7_col0\" class=\"data row7 col0\" >AdaBoost Regressor</td>\n",
       "                        <td id=\"T_1d7a181e_a11c_11eb_a425_5800e3972554row7_col1\" class=\"data row7 col1\" >834.9039</td>\n",
       "                        <td id=\"T_1d7a181e_a11c_11eb_a425_5800e3972554row7_col2\" class=\"data row7 col2\" >1262452.0482</td>\n",
       "                        <td id=\"T_1d7a181e_a11c_11eb_a425_5800e3972554row7_col3\" class=\"data row7 col3\" >1123.3555</td>\n",
       "                        <td id=\"T_1d7a181e_a11c_11eb_a425_5800e3972554row7_col4\" class=\"data row7 col4\" >0.9205</td>\n",
       "                        <td id=\"T_1d7a181e_a11c_11eb_a425_5800e3972554row7_col5\" class=\"data row7 col5\" >0.3853</td>\n",
       "                        <td id=\"T_1d7a181e_a11c_11eb_a425_5800e3972554row7_col6\" class=\"data row7 col6\" >0.3935</td>\n",
       "                        <td id=\"T_1d7a181e_a11c_11eb_a425_5800e3972554row7_col7\" class=\"data row7 col7\" >1.2980</td>\n",
       "            </tr>\n",
       "            <tr>\n",
       "                        <th id=\"T_1d7a181e_a11c_11eb_a425_5800e3972554level0_row8\" class=\"row_heading level0 row8\" >lasso</th>\n",
       "                        <td id=\"T_1d7a181e_a11c_11eb_a425_5800e3972554row8_col0\" class=\"data row8 col0\" >Lasso Regression</td>\n",
       "                        <td id=\"T_1d7a181e_a11c_11eb_a425_5800e3972554row8_col1\" class=\"data row8 col1\" >817.1191</td>\n",
       "                        <td id=\"T_1d7a181e_a11c_11eb_a425_5800e3972554row8_col2\" class=\"data row8 col2\" >1536768.2250</td>\n",
       "                        <td id=\"T_1d7a181e_a11c_11eb_a425_5800e3972554row8_col3\" class=\"data row8 col3\" >1238.7735</td>\n",
       "                        <td id=\"T_1d7a181e_a11c_11eb_a425_5800e3972554row8_col4\" class=\"data row8 col4\" >0.9033</td>\n",
       "                        <td id=\"T_1d7a181e_a11c_11eb_a425_5800e3972554row8_col5\" class=\"data row8 col5\" >0.6626</td>\n",
       "                        <td id=\"T_1d7a181e_a11c_11eb_a425_5800e3972554row8_col6\" class=\"data row8 col6\" >0.4427</td>\n",
       "                        <td id=\"T_1d7a181e_a11c_11eb_a425_5800e3972554row8_col7\" class=\"data row8 col7\" >0.0500</td>\n",
       "            </tr>\n",
       "            <tr>\n",
       "                        <th id=\"T_1d7a181e_a11c_11eb_a425_5800e3972554level0_row9\" class=\"row_heading level0 row9\" >ridge</th>\n",
       "                        <td id=\"T_1d7a181e_a11c_11eb_a425_5800e3972554row9_col0\" class=\"data row9 col0\" >Ridge Regression</td>\n",
       "                        <td id=\"T_1d7a181e_a11c_11eb_a425_5800e3972554row9_col1\" class=\"data row9 col1\" >816.6771</td>\n",
       "                        <td id=\"T_1d7a181e_a11c_11eb_a425_5800e3972554row9_col2\" class=\"data row9 col2\" >1601627.6875</td>\n",
       "                        <td id=\"T_1d7a181e_a11c_11eb_a425_5800e3972554row9_col3\" class=\"data row9 col3\" >1261.2938</td>\n",
       "                        <td id=\"T_1d7a181e_a11c_11eb_a425_5800e3972554row9_col4\" class=\"data row9 col4\" >0.8993</td>\n",
       "                        <td id=\"T_1d7a181e_a11c_11eb_a425_5800e3972554row9_col5\" class=\"data row9 col5\" >0.6592</td>\n",
       "                        <td id=\"T_1d7a181e_a11c_11eb_a425_5800e3972554row9_col6\" class=\"data row9 col6\" >0.4419</td>\n",
       "                        <td id=\"T_1d7a181e_a11c_11eb_a425_5800e3972554row9_col7\" class=\"data row9 col7\" >0.0240</td>\n",
       "            </tr>\n",
       "            <tr>\n",
       "                        <th id=\"T_1d7a181e_a11c_11eb_a425_5800e3972554level0_row10\" class=\"row_heading level0 row10\" >br</th>\n",
       "                        <td id=\"T_1d7a181e_a11c_11eb_a425_5800e3972554row10_col0\" class=\"data row10 col0\" >Bayesian Ridge</td>\n",
       "                        <td id=\"T_1d7a181e_a11c_11eb_a425_5800e3972554row10_col1\" class=\"data row10 col1\" >816.3200</td>\n",
       "                        <td id=\"T_1d7a181e_a11c_11eb_a425_5800e3972554row10_col2\" class=\"data row10 col2\" >1603922.7615</td>\n",
       "                        <td id=\"T_1d7a181e_a11c_11eb_a425_5800e3972554row10_col3\" class=\"data row10 col3\" >1262.0320</td>\n",
       "                        <td id=\"T_1d7a181e_a11c_11eb_a425_5800e3972554row10_col4\" class=\"data row10 col4\" >0.8992</td>\n",
       "                        <td id=\"T_1d7a181e_a11c_11eb_a425_5800e3972554row10_col5\" class=\"data row10 col5\" >0.6578</td>\n",
       "                        <td id=\"T_1d7a181e_a11c_11eb_a425_5800e3972554row10_col6\" class=\"data row10 col6\" >0.4416</td>\n",
       "                        <td id=\"T_1d7a181e_a11c_11eb_a425_5800e3972554row10_col7\" class=\"data row10 col7\" >0.0310</td>\n",
       "            </tr>\n",
       "            <tr>\n",
       "                        <th id=\"T_1d7a181e_a11c_11eb_a425_5800e3972554level0_row11\" class=\"row_heading level0 row11\" >lr</th>\n",
       "                        <td id=\"T_1d7a181e_a11c_11eb_a425_5800e3972554row11_col0\" class=\"data row11 col0\" >Linear Regression</td>\n",
       "                        <td id=\"T_1d7a181e_a11c_11eb_a425_5800e3972554row11_col1\" class=\"data row11 col1\" >816.2782</td>\n",
       "                        <td id=\"T_1d7a181e_a11c_11eb_a425_5800e3972554row11_col2\" class=\"data row11 col2\" >1604204.2125</td>\n",
       "                        <td id=\"T_1d7a181e_a11c_11eb_a425_5800e3972554row11_col3\" class=\"data row11 col3\" >1262.1223</td>\n",
       "                        <td id=\"T_1d7a181e_a11c_11eb_a425_5800e3972554row11_col4\" class=\"data row11 col4\" >0.8991</td>\n",
       "                        <td id=\"T_1d7a181e_a11c_11eb_a425_5800e3972554row11_col5\" class=\"data row11 col5\" >0.6577</td>\n",
       "                        <td id=\"T_1d7a181e_a11c_11eb_a425_5800e3972554row11_col6\" class=\"data row11 col6\" >0.4415</td>\n",
       "                        <td id=\"T_1d7a181e_a11c_11eb_a425_5800e3972554row11_col7\" class=\"data row11 col7\" >0.0270</td>\n",
       "            </tr>\n",
       "            <tr>\n",
       "                        <th id=\"T_1d7a181e_a11c_11eb_a425_5800e3972554level0_row12\" class=\"row_heading level0 row12\" >lar</th>\n",
       "                        <td id=\"T_1d7a181e_a11c_11eb_a425_5800e3972554row12_col0\" class=\"data row12 col0\" >Least Angle Regression</td>\n",
       "                        <td id=\"T_1d7a181e_a11c_11eb_a425_5800e3972554row12_col1\" class=\"data row12 col1\" >816.2768</td>\n",
       "                        <td id=\"T_1d7a181e_a11c_11eb_a425_5800e3972554row12_col2\" class=\"data row12 col2\" >1604059.0024</td>\n",
       "                        <td id=\"T_1d7a181e_a11c_11eb_a425_5800e3972554row12_col3\" class=\"data row12 col3\" >1262.0757</td>\n",
       "                        <td id=\"T_1d7a181e_a11c_11eb_a425_5800e3972554row12_col4\" class=\"data row12 col4\" >0.8991</td>\n",
       "                        <td id=\"T_1d7a181e_a11c_11eb_a425_5800e3972554row12_col5\" class=\"data row12 col5\" >0.6577</td>\n",
       "                        <td id=\"T_1d7a181e_a11c_11eb_a425_5800e3972554row12_col6\" class=\"data row12 col6\" >0.4415</td>\n",
       "                        <td id=\"T_1d7a181e_a11c_11eb_a425_5800e3972554row12_col7\" class=\"data row12 col7\" >0.0240</td>\n",
       "            </tr>\n",
       "            <tr>\n",
       "                        <th id=\"T_1d7a181e_a11c_11eb_a425_5800e3972554level0_row13\" class=\"row_heading level0 row13\" >llar</th>\n",
       "                        <td id=\"T_1d7a181e_a11c_11eb_a425_5800e3972554row13_col0\" class=\"data row13 col0\" >Lasso Least Angle Regression</td>\n",
       "                        <td id=\"T_1d7a181e_a11c_11eb_a425_5800e3972554row13_col1\" class=\"data row13 col1\" >841.5666</td>\n",
       "                        <td id=\"T_1d7a181e_a11c_11eb_a425_5800e3972554row13_col2\" class=\"data row13 col2\" >1766706.5054</td>\n",
       "                        <td id=\"T_1d7a181e_a11c_11eb_a425_5800e3972554row13_col3\" class=\"data row13 col3\" >1328.9901</td>\n",
       "                        <td id=\"T_1d7a181e_a11c_11eb_a425_5800e3972554row13_col4\" class=\"data row13 col4\" >0.8887</td>\n",
       "                        <td id=\"T_1d7a181e_a11c_11eb_a425_5800e3972554row13_col5\" class=\"data row13 col5\" >0.6292</td>\n",
       "                        <td id=\"T_1d7a181e_a11c_11eb_a425_5800e3972554row13_col6\" class=\"data row13 col6\" >0.3396</td>\n",
       "                        <td id=\"T_1d7a181e_a11c_11eb_a425_5800e3972554row13_col7\" class=\"data row13 col7\" >0.0240</td>\n",
       "            </tr>\n",
       "            <tr>\n",
       "                        <th id=\"T_1d7a181e_a11c_11eb_a425_5800e3972554level0_row14\" class=\"row_heading level0 row14\" >huber</th>\n",
       "                        <td id=\"T_1d7a181e_a11c_11eb_a425_5800e3972554row14_col0\" class=\"data row14 col0\" >Huber Regressor</td>\n",
       "                        <td id=\"T_1d7a181e_a11c_11eb_a425_5800e3972554row14_col1\" class=\"data row14 col1\" >757.3925</td>\n",
       "                        <td id=\"T_1d7a181e_a11c_11eb_a425_5800e3972554row14_col2\" class=\"data row14 col2\" >1787941.4271</td>\n",
       "                        <td id=\"T_1d7a181e_a11c_11eb_a425_5800e3972554row14_col3\" class=\"data row14 col3\" >1336.1296</td>\n",
       "                        <td id=\"T_1d7a181e_a11c_11eb_a425_5800e3972554row14_col4\" class=\"data row14 col4\" >0.8875</td>\n",
       "                        <td id=\"T_1d7a181e_a11c_11eb_a425_5800e3972554row14_col5\" class=\"data row14 col5\" >0.5531</td>\n",
       "                        <td id=\"T_1d7a181e_a11c_11eb_a425_5800e3972554row14_col6\" class=\"data row14 col6\" >0.2892</td>\n",
       "                        <td id=\"T_1d7a181e_a11c_11eb_a425_5800e3972554row14_col7\" class=\"data row14 col7\" >0.5520</td>\n",
       "            </tr>\n",
       "            <tr>\n",
       "                        <th id=\"T_1d7a181e_a11c_11eb_a425_5800e3972554level0_row15\" class=\"row_heading level0 row15\" >par</th>\n",
       "                        <td id=\"T_1d7a181e_a11c_11eb_a425_5800e3972554row15_col0\" class=\"data row15 col0\" >Passive Aggressive Regressor</td>\n",
       "                        <td id=\"T_1d7a181e_a11c_11eb_a425_5800e3972554row15_col1\" class=\"data row15 col1\" >1106.9982</td>\n",
       "                        <td id=\"T_1d7a181e_a11c_11eb_a425_5800e3972554row15_col2\" class=\"data row15 col2\" >2137497.7205</td>\n",
       "                        <td id=\"T_1d7a181e_a11c_11eb_a425_5800e3972554row15_col3\" class=\"data row15 col3\" >1448.5407</td>\n",
       "                        <td id=\"T_1d7a181e_a11c_11eb_a425_5800e3972554row15_col4\" class=\"data row15 col4\" >0.8650</td>\n",
       "                        <td id=\"T_1d7a181e_a11c_11eb_a425_5800e3972554row15_col5\" class=\"data row15 col5\" >0.6298</td>\n",
       "                        <td id=\"T_1d7a181e_a11c_11eb_a425_5800e3972554row15_col6\" class=\"data row15 col6\" >0.5796</td>\n",
       "                        <td id=\"T_1d7a181e_a11c_11eb_a425_5800e3972554row15_col7\" class=\"data row15 col7\" >0.1280</td>\n",
       "            </tr>\n",
       "            <tr>\n",
       "                        <th id=\"T_1d7a181e_a11c_11eb_a425_5800e3972554level0_row16\" class=\"row_heading level0 row16\" >omp</th>\n",
       "                        <td id=\"T_1d7a181e_a11c_11eb_a425_5800e3972554row16_col0\" class=\"data row16 col0\" >Orthogonal Matching Pursuit</td>\n",
       "                        <td id=\"T_1d7a181e_a11c_11eb_a425_5800e3972554row16_col1\" class=\"data row16 col1\" >1008.1861</td>\n",
       "                        <td id=\"T_1d7a181e_a11c_11eb_a425_5800e3972554row16_col2\" class=\"data row16 col2\" >2397893.8414</td>\n",
       "                        <td id=\"T_1d7a181e_a11c_11eb_a425_5800e3972554row16_col3\" class=\"data row16 col3\" >1548.2915</td>\n",
       "                        <td id=\"T_1d7a181e_a11c_11eb_a425_5800e3972554row16_col4\" class=\"data row16 col4\" >0.8490</td>\n",
       "                        <td id=\"T_1d7a181e_a11c_11eb_a425_5800e3972554row16_col5\" class=\"data row16 col5\" >0.7490</td>\n",
       "                        <td id=\"T_1d7a181e_a11c_11eb_a425_5800e3972554row16_col6\" class=\"data row16 col6\" >0.3812</td>\n",
       "                        <td id=\"T_1d7a181e_a11c_11eb_a425_5800e3972554row16_col7\" class=\"data row16 col7\" >0.0240</td>\n",
       "            </tr>\n",
       "            <tr>\n",
       "                        <th id=\"T_1d7a181e_a11c_11eb_a425_5800e3972554level0_row17\" class=\"row_heading level0 row17\" >en</th>\n",
       "                        <td id=\"T_1d7a181e_a11c_11eb_a425_5800e3972554row17_col0\" class=\"data row17 col0\" >Elastic Net</td>\n",
       "                        <td id=\"T_1d7a181e_a11c_11eb_a425_5800e3972554row17_col1\" class=\"data row17 col1\" >1156.6730</td>\n",
       "                        <td id=\"T_1d7a181e_a11c_11eb_a425_5800e3972554row17_col2\" class=\"data row17 col2\" >3217765.5500</td>\n",
       "                        <td id=\"T_1d7a181e_a11c_11eb_a425_5800e3972554row17_col3\" class=\"data row17 col3\" >1790.0502</td>\n",
       "                        <td id=\"T_1d7a181e_a11c_11eb_a425_5800e3972554row17_col4\" class=\"data row17 col4\" >0.7978</td>\n",
       "                        <td id=\"T_1d7a181e_a11c_11eb_a425_5800e3972554row17_col5\" class=\"data row17 col5\" >0.6350</td>\n",
       "                        <td id=\"T_1d7a181e_a11c_11eb_a425_5800e3972554row17_col6\" class=\"data row17 col6\" >0.4384</td>\n",
       "                        <td id=\"T_1d7a181e_a11c_11eb_a425_5800e3972554row17_col7\" class=\"data row17 col7\" >0.0280</td>\n",
       "            </tr>\n",
       "    </tbody></table>"
      ],
      "text/plain": [
       "<pandas.io.formats.style.Styler at 0x24b8fb8b190>"
      ]
     },
     "metadata": {},
     "output_type": "display_data"
    },
    {
     "data": {
      "text/plain": [
       "LGBMRegressor(boosting_type='gbdt', class_weight=None, colsample_bytree=1.0,\n",
       "              importance_type='split', learning_rate=0.1, max_depth=-1,\n",
       "              min_child_samples=20, min_child_weight=0.001, min_split_gain=0.0,\n",
       "              n_estimators=100, n_jobs=-1, num_leaves=31, objective=None,\n",
       "              random_state=123, reg_alpha=0.0, reg_lambda=0.0, silent=True,\n",
       "              subsample=1.0, subsample_for_bin=200000, subsample_freq=0)"
      ]
     },
     "execution_count": 52,
     "metadata": {},
     "output_type": "execute_result"
    }
   ],
   "source": [
    "compare_models()"
   ]
  },
  {
   "cell_type": "code",
   "execution_count": 53,
   "metadata": {},
   "outputs": [
    {
     "data": {
      "text/html": [
       "<style  type=\"text/css\" >\n",
       "#T_1f9fd3e0_a11c_11eb_b3cc_5800e3972554row10_col0,#T_1f9fd3e0_a11c_11eb_b3cc_5800e3972554row10_col1,#T_1f9fd3e0_a11c_11eb_b3cc_5800e3972554row10_col2,#T_1f9fd3e0_a11c_11eb_b3cc_5800e3972554row10_col3,#T_1f9fd3e0_a11c_11eb_b3cc_5800e3972554row10_col4,#T_1f9fd3e0_a11c_11eb_b3cc_5800e3972554row10_col5{\n",
       "            background:  yellow;\n",
       "        }</style><table id=\"T_1f9fd3e0_a11c_11eb_b3cc_5800e3972554\" ><thead>    <tr>        <th class=\"blank level0\" ></th>        <th class=\"col_heading level0 col0\" >MAE</th>        <th class=\"col_heading level0 col1\" >MSE</th>        <th class=\"col_heading level0 col2\" >RMSE</th>        <th class=\"col_heading level0 col3\" >R2</th>        <th class=\"col_heading level0 col4\" >RMSLE</th>        <th class=\"col_heading level0 col5\" >MAPE</th>    </tr></thead><tbody>\n",
       "                <tr>\n",
       "                        <th id=\"T_1f9fd3e0_a11c_11eb_b3cc_5800e3972554level0_row0\" class=\"row_heading level0 row0\" >0</th>\n",
       "                        <td id=\"T_1f9fd3e0_a11c_11eb_b3cc_5800e3972554row0_col0\" class=\"data row0 col0\" >278.5171</td>\n",
       "                        <td id=\"T_1f9fd3e0_a11c_11eb_b3cc_5800e3972554row0_col1\" class=\"data row0 col1\" >284237.0936</td>\n",
       "                        <td id=\"T_1f9fd3e0_a11c_11eb_b3cc_5800e3972554row0_col2\" class=\"data row0 col2\" >533.1389</td>\n",
       "                        <td id=\"T_1f9fd3e0_a11c_11eb_b3cc_5800e3972554row0_col3\" class=\"data row0 col3\" >0.9814</td>\n",
       "                        <td id=\"T_1f9fd3e0_a11c_11eb_b3cc_5800e3972554row0_col4\" class=\"data row0 col4\" >0.1041</td>\n",
       "                        <td id=\"T_1f9fd3e0_a11c_11eb_b3cc_5800e3972554row0_col5\" class=\"data row0 col5\" >0.0799</td>\n",
       "            </tr>\n",
       "            <tr>\n",
       "                        <th id=\"T_1f9fd3e0_a11c_11eb_b3cc_5800e3972554level0_row1\" class=\"row_heading level0 row1\" >1</th>\n",
       "                        <td id=\"T_1f9fd3e0_a11c_11eb_b3cc_5800e3972554row1_col0\" class=\"data row1 col0\" >286.1279</td>\n",
       "                        <td id=\"T_1f9fd3e0_a11c_11eb_b3cc_5800e3972554row1_col1\" class=\"data row1 col1\" >289448.5340</td>\n",
       "                        <td id=\"T_1f9fd3e0_a11c_11eb_b3cc_5800e3972554row1_col2\" class=\"data row1 col2\" >538.0042</td>\n",
       "                        <td id=\"T_1f9fd3e0_a11c_11eb_b3cc_5800e3972554row1_col3\" class=\"data row1 col3\" >0.9823</td>\n",
       "                        <td id=\"T_1f9fd3e0_a11c_11eb_b3cc_5800e3972554row1_col4\" class=\"data row1 col4\" >0.1080</td>\n",
       "                        <td id=\"T_1f9fd3e0_a11c_11eb_b3cc_5800e3972554row1_col5\" class=\"data row1 col5\" >0.0839</td>\n",
       "            </tr>\n",
       "            <tr>\n",
       "                        <th id=\"T_1f9fd3e0_a11c_11eb_b3cc_5800e3972554level0_row2\" class=\"row_heading level0 row2\" >2</th>\n",
       "                        <td id=\"T_1f9fd3e0_a11c_11eb_b3cc_5800e3972554row2_col0\" class=\"data row2 col0\" >282.8442</td>\n",
       "                        <td id=\"T_1f9fd3e0_a11c_11eb_b3cc_5800e3972554row2_col1\" class=\"data row2 col1\" >282761.5021</td>\n",
       "                        <td id=\"T_1f9fd3e0_a11c_11eb_b3cc_5800e3972554row2_col2\" class=\"data row2 col2\" >531.7532</td>\n",
       "                        <td id=\"T_1f9fd3e0_a11c_11eb_b3cc_5800e3972554row2_col3\" class=\"data row2 col3\" >0.9818</td>\n",
       "                        <td id=\"T_1f9fd3e0_a11c_11eb_b3cc_5800e3972554row2_col4\" class=\"data row2 col4\" >0.1072</td>\n",
       "                        <td id=\"T_1f9fd3e0_a11c_11eb_b3cc_5800e3972554row2_col5\" class=\"data row2 col5\" >0.0840</td>\n",
       "            </tr>\n",
       "            <tr>\n",
       "                        <th id=\"T_1f9fd3e0_a11c_11eb_b3cc_5800e3972554level0_row3\" class=\"row_heading level0 row3\" >3</th>\n",
       "                        <td id=\"T_1f9fd3e0_a11c_11eb_b3cc_5800e3972554row3_col0\" class=\"data row3 col0\" >286.7021</td>\n",
       "                        <td id=\"T_1f9fd3e0_a11c_11eb_b3cc_5800e3972554row3_col1\" class=\"data row3 col1\" >308704.9497</td>\n",
       "                        <td id=\"T_1f9fd3e0_a11c_11eb_b3cc_5800e3972554row3_col2\" class=\"data row3 col2\" >555.6122</td>\n",
       "                        <td id=\"T_1f9fd3e0_a11c_11eb_b3cc_5800e3972554row3_col3\" class=\"data row3 col3\" >0.9816</td>\n",
       "                        <td id=\"T_1f9fd3e0_a11c_11eb_b3cc_5800e3972554row3_col4\" class=\"data row3 col4\" >0.1089</td>\n",
       "                        <td id=\"T_1f9fd3e0_a11c_11eb_b3cc_5800e3972554row3_col5\" class=\"data row3 col5\" >0.0812</td>\n",
       "            </tr>\n",
       "            <tr>\n",
       "                        <th id=\"T_1f9fd3e0_a11c_11eb_b3cc_5800e3972554level0_row4\" class=\"row_heading level0 row4\" >4</th>\n",
       "                        <td id=\"T_1f9fd3e0_a11c_11eb_b3cc_5800e3972554row4_col0\" class=\"data row4 col0\" >284.0139</td>\n",
       "                        <td id=\"T_1f9fd3e0_a11c_11eb_b3cc_5800e3972554row4_col1\" class=\"data row4 col1\" >294806.6771</td>\n",
       "                        <td id=\"T_1f9fd3e0_a11c_11eb_b3cc_5800e3972554row4_col2\" class=\"data row4 col2\" >542.9610</td>\n",
       "                        <td id=\"T_1f9fd3e0_a11c_11eb_b3cc_5800e3972554row4_col3\" class=\"data row4 col3\" >0.9820</td>\n",
       "                        <td id=\"T_1f9fd3e0_a11c_11eb_b3cc_5800e3972554row4_col4\" class=\"data row4 col4\" >0.1064</td>\n",
       "                        <td id=\"T_1f9fd3e0_a11c_11eb_b3cc_5800e3972554row4_col5\" class=\"data row4 col5\" >0.0813</td>\n",
       "            </tr>\n",
       "            <tr>\n",
       "                        <th id=\"T_1f9fd3e0_a11c_11eb_b3cc_5800e3972554level0_row5\" class=\"row_heading level0 row5\" >5</th>\n",
       "                        <td id=\"T_1f9fd3e0_a11c_11eb_b3cc_5800e3972554row5_col0\" class=\"data row5 col0\" >295.5963</td>\n",
       "                        <td id=\"T_1f9fd3e0_a11c_11eb_b3cc_5800e3972554row5_col1\" class=\"data row5 col1\" >324380.9695</td>\n",
       "                        <td id=\"T_1f9fd3e0_a11c_11eb_b3cc_5800e3972554row5_col2\" class=\"data row5 col2\" >569.5445</td>\n",
       "                        <td id=\"T_1f9fd3e0_a11c_11eb_b3cc_5800e3972554row5_col3\" class=\"data row5 col3\" >0.9792</td>\n",
       "                        <td id=\"T_1f9fd3e0_a11c_11eb_b3cc_5800e3972554row5_col4\" class=\"data row5 col4\" >0.1076</td>\n",
       "                        <td id=\"T_1f9fd3e0_a11c_11eb_b3cc_5800e3972554row5_col5\" class=\"data row5 col5\" >0.0832</td>\n",
       "            </tr>\n",
       "            <tr>\n",
       "                        <th id=\"T_1f9fd3e0_a11c_11eb_b3cc_5800e3972554level0_row6\" class=\"row_heading level0 row6\" >6</th>\n",
       "                        <td id=\"T_1f9fd3e0_a11c_11eb_b3cc_5800e3972554row6_col0\" class=\"data row6 col0\" >296.3536</td>\n",
       "                        <td id=\"T_1f9fd3e0_a11c_11eb_b3cc_5800e3972554row6_col1\" class=\"data row6 col1\" >336555.7788</td>\n",
       "                        <td id=\"T_1f9fd3e0_a11c_11eb_b3cc_5800e3972554row6_col2\" class=\"data row6 col2\" >580.1343</td>\n",
       "                        <td id=\"T_1f9fd3e0_a11c_11eb_b3cc_5800e3972554row6_col3\" class=\"data row6 col3\" >0.9791</td>\n",
       "                        <td id=\"T_1f9fd3e0_a11c_11eb_b3cc_5800e3972554row6_col4\" class=\"data row6 col4\" >0.1132</td>\n",
       "                        <td id=\"T_1f9fd3e0_a11c_11eb_b3cc_5800e3972554row6_col5\" class=\"data row6 col5\" >0.0856</td>\n",
       "            </tr>\n",
       "            <tr>\n",
       "                        <th id=\"T_1f9fd3e0_a11c_11eb_b3cc_5800e3972554level0_row7\" class=\"row_heading level0 row7\" >7</th>\n",
       "                        <td id=\"T_1f9fd3e0_a11c_11eb_b3cc_5800e3972554row7_col0\" class=\"data row7 col0\" >283.0652</td>\n",
       "                        <td id=\"T_1f9fd3e0_a11c_11eb_b3cc_5800e3972554row7_col1\" class=\"data row7 col1\" >296116.3248</td>\n",
       "                        <td id=\"T_1f9fd3e0_a11c_11eb_b3cc_5800e3972554row7_col2\" class=\"data row7 col2\" >544.1657</td>\n",
       "                        <td id=\"T_1f9fd3e0_a11c_11eb_b3cc_5800e3972554row7_col3\" class=\"data row7 col3\" >0.9814</td>\n",
       "                        <td id=\"T_1f9fd3e0_a11c_11eb_b3cc_5800e3972554row7_col4\" class=\"data row7 col4\" >0.1049</td>\n",
       "                        <td id=\"T_1f9fd3e0_a11c_11eb_b3cc_5800e3972554row7_col5\" class=\"data row7 col5\" >0.0810</td>\n",
       "            </tr>\n",
       "            <tr>\n",
       "                        <th id=\"T_1f9fd3e0_a11c_11eb_b3cc_5800e3972554level0_row8\" class=\"row_heading level0 row8\" >8</th>\n",
       "                        <td id=\"T_1f9fd3e0_a11c_11eb_b3cc_5800e3972554row8_col0\" class=\"data row8 col0\" >268.9730</td>\n",
       "                        <td id=\"T_1f9fd3e0_a11c_11eb_b3cc_5800e3972554row8_col1\" class=\"data row8 col1\" >257900.1316</td>\n",
       "                        <td id=\"T_1f9fd3e0_a11c_11eb_b3cc_5800e3972554row8_col2\" class=\"data row8 col2\" >507.8387</td>\n",
       "                        <td id=\"T_1f9fd3e0_a11c_11eb_b3cc_5800e3972554row8_col3\" class=\"data row8 col3\" >0.9832</td>\n",
       "                        <td id=\"T_1f9fd3e0_a11c_11eb_b3cc_5800e3972554row8_col4\" class=\"data row8 col4\" >0.1047</td>\n",
       "                        <td id=\"T_1f9fd3e0_a11c_11eb_b3cc_5800e3972554row8_col5\" class=\"data row8 col5\" >0.0800</td>\n",
       "            </tr>\n",
       "            <tr>\n",
       "                        <th id=\"T_1f9fd3e0_a11c_11eb_b3cc_5800e3972554level0_row9\" class=\"row_heading level0 row9\" >9</th>\n",
       "                        <td id=\"T_1f9fd3e0_a11c_11eb_b3cc_5800e3972554row9_col0\" class=\"data row9 col0\" >273.9828</td>\n",
       "                        <td id=\"T_1f9fd3e0_a11c_11eb_b3cc_5800e3972554row9_col1\" class=\"data row9 col1\" >253665.6225</td>\n",
       "                        <td id=\"T_1f9fd3e0_a11c_11eb_b3cc_5800e3972554row9_col2\" class=\"data row9 col2\" >503.6523</td>\n",
       "                        <td id=\"T_1f9fd3e0_a11c_11eb_b3cc_5800e3972554row9_col3\" class=\"data row9 col3\" >0.9837</td>\n",
       "                        <td id=\"T_1f9fd3e0_a11c_11eb_b3cc_5800e3972554row9_col4\" class=\"data row9 col4\" >0.1049</td>\n",
       "                        <td id=\"T_1f9fd3e0_a11c_11eb_b3cc_5800e3972554row9_col5\" class=\"data row9 col5\" >0.0811</td>\n",
       "            </tr>\n",
       "            <tr>\n",
       "                        <th id=\"T_1f9fd3e0_a11c_11eb_b3cc_5800e3972554level0_row10\" class=\"row_heading level0 row10\" >Mean</th>\n",
       "                        <td id=\"T_1f9fd3e0_a11c_11eb_b3cc_5800e3972554row10_col0\" class=\"data row10 col0\" >283.6176</td>\n",
       "                        <td id=\"T_1f9fd3e0_a11c_11eb_b3cc_5800e3972554row10_col1\" class=\"data row10 col1\" >292857.7584</td>\n",
       "                        <td id=\"T_1f9fd3e0_a11c_11eb_b3cc_5800e3972554row10_col2\" class=\"data row10 col2\" >540.6805</td>\n",
       "                        <td id=\"T_1f9fd3e0_a11c_11eb_b3cc_5800e3972554row10_col3\" class=\"data row10 col3\" >0.9816</td>\n",
       "                        <td id=\"T_1f9fd3e0_a11c_11eb_b3cc_5800e3972554row10_col4\" class=\"data row10 col4\" >0.1070</td>\n",
       "                        <td id=\"T_1f9fd3e0_a11c_11eb_b3cc_5800e3972554row10_col5\" class=\"data row10 col5\" >0.0821</td>\n",
       "            </tr>\n",
       "            <tr>\n",
       "                        <th id=\"T_1f9fd3e0_a11c_11eb_b3cc_5800e3972554level0_row11\" class=\"row_heading level0 row11\" >SD</th>\n",
       "                        <td id=\"T_1f9fd3e0_a11c_11eb_b3cc_5800e3972554row11_col0\" class=\"data row11 col0\" >8.0986</td>\n",
       "                        <td id=\"T_1f9fd3e0_a11c_11eb_b3cc_5800e3972554row11_col1\" class=\"data row11 col1\" >24727.9439</td>\n",
       "                        <td id=\"T_1f9fd3e0_a11c_11eb_b3cc_5800e3972554row11_col2\" class=\"data row11 col2\" >22.8549</td>\n",
       "                        <td id=\"T_1f9fd3e0_a11c_11eb_b3cc_5800e3972554row11_col3\" class=\"data row11 col3\" >0.0014</td>\n",
       "                        <td id=\"T_1f9fd3e0_a11c_11eb_b3cc_5800e3972554row11_col4\" class=\"data row11 col4\" >0.0026</td>\n",
       "                        <td id=\"T_1f9fd3e0_a11c_11eb_b3cc_5800e3972554row11_col5\" class=\"data row11 col5\" >0.0018</td>\n",
       "            </tr>\n",
       "    </tbody></table>"
      ],
      "text/plain": [
       "<pandas.io.formats.style.Styler at 0x24b905b5f10>"
      ]
     },
     "metadata": {},
     "output_type": "display_data"
    }
   ],
   "source": [
    "lgbm_reg = create_model(\"lightgbm\")"
   ]
  },
  {
   "cell_type": "code",
   "execution_count": 54,
   "metadata": {},
   "outputs": [
    {
     "data": {
      "text/html": [
       "<style  type=\"text/css\" >\n",
       "</style><table id=\"T_652c1b70_a11c_11eb_bd79_5800e3972554\" ><thead>    <tr>        <th class=\"blank level0\" ></th>        <th class=\"col_heading level0 col0\" >Model</th>        <th class=\"col_heading level0 col1\" >MAE</th>        <th class=\"col_heading level0 col2\" >MSE</th>        <th class=\"col_heading level0 col3\" >RMSE</th>        <th class=\"col_heading level0 col4\" >R2</th>        <th class=\"col_heading level0 col5\" >RMSLE</th>        <th class=\"col_heading level0 col6\" >MAPE</th>    </tr></thead><tbody>\n",
       "                <tr>\n",
       "                        <th id=\"T_652c1b70_a11c_11eb_bd79_5800e3972554level0_row0\" class=\"row_heading level0 row0\" >0</th>\n",
       "                        <td id=\"T_652c1b70_a11c_11eb_bd79_5800e3972554row0_col0\" class=\"data row0 col0\" >Light Gradient Boosting Machine</td>\n",
       "                        <td id=\"T_652c1b70_a11c_11eb_bd79_5800e3972554row0_col1\" class=\"data row0 col1\" >275.2925</td>\n",
       "                        <td id=\"T_652c1b70_a11c_11eb_bd79_5800e3972554row0_col2\" class=\"data row0 col2\" >275012.2053</td>\n",
       "                        <td id=\"T_652c1b70_a11c_11eb_bd79_5800e3972554row0_col3\" class=\"data row0 col3\" >524.4161</td>\n",
       "                        <td id=\"T_652c1b70_a11c_11eb_bd79_5800e3972554row0_col4\" class=\"data row0 col4\" >0.9828</td>\n",
       "                        <td id=\"T_652c1b70_a11c_11eb_bd79_5800e3972554row0_col5\" class=\"data row0 col5\" >0.1081</td>\n",
       "                        <td id=\"T_652c1b70_a11c_11eb_bd79_5800e3972554row0_col6\" class=\"data row0 col6\" >0.0811</td>\n",
       "            </tr>\n",
       "    </tbody></table>"
      ],
      "text/plain": [
       "<pandas.io.formats.style.Styler at 0x24b8eb89cd0>"
      ]
     },
     "metadata": {},
     "output_type": "display_data"
    }
   ],
   "source": [
    "predict_model(lgbm_reg);"
   ]
  },
  {
   "cell_type": "code",
   "execution_count": 55,
   "metadata": {},
   "outputs": [],
   "source": [
    "final_lgbm = finalize_model(lgbm_reg)"
   ]
  },
  {
   "cell_type": "code",
   "execution_count": 56,
   "metadata": {},
   "outputs": [
    {
     "data": {
      "text/html": [
       "<style  type=\"text/css\" >\n",
       "</style><table id=\"T_6a449fe9_a11c_11eb_942d_5800e3972554\" ><thead>    <tr>        <th class=\"blank level0\" ></th>        <th class=\"col_heading level0 col0\" >Model</th>        <th class=\"col_heading level0 col1\" >MAE</th>        <th class=\"col_heading level0 col2\" >MSE</th>        <th class=\"col_heading level0 col3\" >RMSE</th>        <th class=\"col_heading level0 col4\" >R2</th>        <th class=\"col_heading level0 col5\" >RMSLE</th>        <th class=\"col_heading level0 col6\" >MAPE</th>    </tr></thead><tbody>\n",
       "                <tr>\n",
       "                        <th id=\"T_6a449fe9_a11c_11eb_942d_5800e3972554level0_row0\" class=\"row_heading level0 row0\" >0</th>\n",
       "                        <td id=\"T_6a449fe9_a11c_11eb_942d_5800e3972554row0_col0\" class=\"data row0 col0\" >Light Gradient Boosting Machine</td>\n",
       "                        <td id=\"T_6a449fe9_a11c_11eb_942d_5800e3972554row0_col1\" class=\"data row0 col1\" >257.1780</td>\n",
       "                        <td id=\"T_6a449fe9_a11c_11eb_942d_5800e3972554row0_col2\" class=\"data row0 col2\" >216924.5510</td>\n",
       "                        <td id=\"T_6a449fe9_a11c_11eb_942d_5800e3972554row0_col3\" class=\"data row0 col3\" >465.7516</td>\n",
       "                        <td id=\"T_6a449fe9_a11c_11eb_942d_5800e3972554row0_col4\" class=\"data row0 col4\" >0.9864</td>\n",
       "                        <td id=\"T_6a449fe9_a11c_11eb_942d_5800e3972554row0_col5\" class=\"data row0 col5\" >0.1036</td>\n",
       "                        <td id=\"T_6a449fe9_a11c_11eb_942d_5800e3972554row0_col6\" class=\"data row0 col6\" >0.0790</td>\n",
       "            </tr>\n",
       "    </tbody></table>"
      ],
      "text/plain": [
       "<pandas.io.formats.style.Styler at 0x24b8f7cd820>"
      ]
     },
     "metadata": {},
     "output_type": "display_data"
    }
   ],
   "source": [
    "predict_model(final_lgbm);"
   ]
  },
  {
   "cell_type": "code",
   "execution_count": 58,
   "metadata": {},
   "outputs": [],
   "source": [
    "y_pred_test_py = final_lgbm.predict(X_test)"
   ]
  },
  {
   "cell_type": "code",
   "execution_count": 59,
   "metadata": {},
   "outputs": [
    {
     "data": {
      "text/plain": [
       "473.8998606000407"
      ]
     },
     "execution_count": 59,
     "metadata": {},
     "output_type": "execute_result"
    }
   ],
   "source": [
    "rmse_py = mse(y_test, y_pred_test_py)**0.5\n",
    "rmse_py"
   ]
  },
  {
   "cell_type": "markdown",
   "metadata": {},
   "source": [
    "### Tune Hyperparameters"
   ]
  },
  {
   "cell_type": "code",
   "execution_count": 61,
   "metadata": {},
   "outputs": [
    {
     "data": {
      "text/html": [
       "<style  type=\"text/css\" >\n",
       "#T_a1ea0805_a11d_11eb_92ac_5800e3972554row10_col0,#T_a1ea0805_a11d_11eb_92ac_5800e3972554row10_col1,#T_a1ea0805_a11d_11eb_92ac_5800e3972554row10_col2,#T_a1ea0805_a11d_11eb_92ac_5800e3972554row10_col3,#T_a1ea0805_a11d_11eb_92ac_5800e3972554row10_col4,#T_a1ea0805_a11d_11eb_92ac_5800e3972554row10_col5{\n",
       "            background:  yellow;\n",
       "        }</style><table id=\"T_a1ea0805_a11d_11eb_92ac_5800e3972554\" ><thead>    <tr>        <th class=\"blank level0\" ></th>        <th class=\"col_heading level0 col0\" >MAE</th>        <th class=\"col_heading level0 col1\" >MSE</th>        <th class=\"col_heading level0 col2\" >RMSE</th>        <th class=\"col_heading level0 col3\" >R2</th>        <th class=\"col_heading level0 col4\" >RMSLE</th>        <th class=\"col_heading level0 col5\" >MAPE</th>    </tr></thead><tbody>\n",
       "                <tr>\n",
       "                        <th id=\"T_a1ea0805_a11d_11eb_92ac_5800e3972554level0_row0\" class=\"row_heading level0 row0\" >0</th>\n",
       "                        <td id=\"T_a1ea0805_a11d_11eb_92ac_5800e3972554row0_col0\" class=\"data row0 col0\" >273.7499</td>\n",
       "                        <td id=\"T_a1ea0805_a11d_11eb_92ac_5800e3972554row0_col1\" class=\"data row0 col1\" >292790.2345</td>\n",
       "                        <td id=\"T_a1ea0805_a11d_11eb_92ac_5800e3972554row0_col2\" class=\"data row0 col2\" >541.1009</td>\n",
       "                        <td id=\"T_a1ea0805_a11d_11eb_92ac_5800e3972554row0_col3\" class=\"data row0 col3\" >0.9809</td>\n",
       "                        <td id=\"T_a1ea0805_a11d_11eb_92ac_5800e3972554row0_col4\" class=\"data row0 col4\" >0.0875</td>\n",
       "                        <td id=\"T_a1ea0805_a11d_11eb_92ac_5800e3972554row0_col5\" class=\"data row0 col5\" >0.0645</td>\n",
       "            </tr>\n",
       "            <tr>\n",
       "                        <th id=\"T_a1ea0805_a11d_11eb_92ac_5800e3972554level0_row1\" class=\"row_heading level0 row1\" >1</th>\n",
       "                        <td id=\"T_a1ea0805_a11d_11eb_92ac_5800e3972554row1_col0\" class=\"data row1 col0\" >281.5048</td>\n",
       "                        <td id=\"T_a1ea0805_a11d_11eb_92ac_5800e3972554row1_col1\" class=\"data row1 col1\" >310369.5383</td>\n",
       "                        <td id=\"T_a1ea0805_a11d_11eb_92ac_5800e3972554row1_col2\" class=\"data row1 col2\" >557.1082</td>\n",
       "                        <td id=\"T_a1ea0805_a11d_11eb_92ac_5800e3972554row1_col3\" class=\"data row1 col3\" >0.9811</td>\n",
       "                        <td id=\"T_a1ea0805_a11d_11eb_92ac_5800e3972554row1_col4\" class=\"data row1 col4\" >0.0892</td>\n",
       "                        <td id=\"T_a1ea0805_a11d_11eb_92ac_5800e3972554row1_col5\" class=\"data row1 col5\" >0.0665</td>\n",
       "            </tr>\n",
       "            <tr>\n",
       "                        <th id=\"T_a1ea0805_a11d_11eb_92ac_5800e3972554level0_row2\" class=\"row_heading level0 row2\" >2</th>\n",
       "                        <td id=\"T_a1ea0805_a11d_11eb_92ac_5800e3972554row2_col0\" class=\"data row2 col0\" >279.1592</td>\n",
       "                        <td id=\"T_a1ea0805_a11d_11eb_92ac_5800e3972554row2_col1\" class=\"data row2 col1\" >308451.4642</td>\n",
       "                        <td id=\"T_a1ea0805_a11d_11eb_92ac_5800e3972554row2_col2\" class=\"data row2 col2\" >555.3841</td>\n",
       "                        <td id=\"T_a1ea0805_a11d_11eb_92ac_5800e3972554row2_col3\" class=\"data row2 col3\" >0.9801</td>\n",
       "                        <td id=\"T_a1ea0805_a11d_11eb_92ac_5800e3972554row2_col4\" class=\"data row2 col4\" >0.0894</td>\n",
       "                        <td id=\"T_a1ea0805_a11d_11eb_92ac_5800e3972554row2_col5\" class=\"data row2 col5\" >0.0664</td>\n",
       "            </tr>\n",
       "            <tr>\n",
       "                        <th id=\"T_a1ea0805_a11d_11eb_92ac_5800e3972554level0_row3\" class=\"row_heading level0 row3\" >3</th>\n",
       "                        <td id=\"T_a1ea0805_a11d_11eb_92ac_5800e3972554row3_col0\" class=\"data row3 col0\" >285.7941</td>\n",
       "                        <td id=\"T_a1ea0805_a11d_11eb_92ac_5800e3972554row3_col1\" class=\"data row3 col1\" >324837.6722</td>\n",
       "                        <td id=\"T_a1ea0805_a11d_11eb_92ac_5800e3972554row3_col2\" class=\"data row3 col2\" >569.9453</td>\n",
       "                        <td id=\"T_a1ea0805_a11d_11eb_92ac_5800e3972554row3_col3\" class=\"data row3 col3\" >0.9807</td>\n",
       "                        <td id=\"T_a1ea0805_a11d_11eb_92ac_5800e3972554row3_col4\" class=\"data row3 col4\" >0.0912</td>\n",
       "                        <td id=\"T_a1ea0805_a11d_11eb_92ac_5800e3972554row3_col5\" class=\"data row3 col5\" >0.0660</td>\n",
       "            </tr>\n",
       "            <tr>\n",
       "                        <th id=\"T_a1ea0805_a11d_11eb_92ac_5800e3972554level0_row4\" class=\"row_heading level0 row4\" >4</th>\n",
       "                        <td id=\"T_a1ea0805_a11d_11eb_92ac_5800e3972554row4_col0\" class=\"data row4 col0\" >277.1300</td>\n",
       "                        <td id=\"T_a1ea0805_a11d_11eb_92ac_5800e3972554row4_col1\" class=\"data row4 col1\" >301812.4488</td>\n",
       "                        <td id=\"T_a1ea0805_a11d_11eb_92ac_5800e3972554row4_col2\" class=\"data row4 col2\" >549.3746</td>\n",
       "                        <td id=\"T_a1ea0805_a11d_11eb_92ac_5800e3972554row4_col3\" class=\"data row4 col3\" >0.9816</td>\n",
       "                        <td id=\"T_a1ea0805_a11d_11eb_92ac_5800e3972554row4_col4\" class=\"data row4 col4\" >0.0902</td>\n",
       "                        <td id=\"T_a1ea0805_a11d_11eb_92ac_5800e3972554row4_col5\" class=\"data row4 col5\" >0.0658</td>\n",
       "            </tr>\n",
       "            <tr>\n",
       "                        <th id=\"T_a1ea0805_a11d_11eb_92ac_5800e3972554level0_row5\" class=\"row_heading level0 row5\" >5</th>\n",
       "                        <td id=\"T_a1ea0805_a11d_11eb_92ac_5800e3972554row5_col0\" class=\"data row5 col0\" >289.7378</td>\n",
       "                        <td id=\"T_a1ea0805_a11d_11eb_92ac_5800e3972554row5_col1\" class=\"data row5 col1\" >331930.2959</td>\n",
       "                        <td id=\"T_a1ea0805_a11d_11eb_92ac_5800e3972554row5_col2\" class=\"data row5 col2\" >576.1339</td>\n",
       "                        <td id=\"T_a1ea0805_a11d_11eb_92ac_5800e3972554row5_col3\" class=\"data row5 col3\" >0.9787</td>\n",
       "                        <td id=\"T_a1ea0805_a11d_11eb_92ac_5800e3972554row5_col4\" class=\"data row5 col4\" >0.0921</td>\n",
       "                        <td id=\"T_a1ea0805_a11d_11eb_92ac_5800e3972554row5_col5\" class=\"data row5 col5\" >0.0676</td>\n",
       "            </tr>\n",
       "            <tr>\n",
       "                        <th id=\"T_a1ea0805_a11d_11eb_92ac_5800e3972554level0_row6\" class=\"row_heading level0 row6\" >6</th>\n",
       "                        <td id=\"T_a1ea0805_a11d_11eb_92ac_5800e3972554row6_col0\" class=\"data row6 col0\" >288.0953</td>\n",
       "                        <td id=\"T_a1ea0805_a11d_11eb_92ac_5800e3972554row6_col1\" class=\"data row6 col1\" >346488.0227</td>\n",
       "                        <td id=\"T_a1ea0805_a11d_11eb_92ac_5800e3972554row6_col2\" class=\"data row6 col2\" >588.6323</td>\n",
       "                        <td id=\"T_a1ea0805_a11d_11eb_92ac_5800e3972554row6_col3\" class=\"data row6 col3\" >0.9785</td>\n",
       "                        <td id=\"T_a1ea0805_a11d_11eb_92ac_5800e3972554row6_col4\" class=\"data row6 col4\" >0.0958</td>\n",
       "                        <td id=\"T_a1ea0805_a11d_11eb_92ac_5800e3972554row6_col5\" class=\"data row6 col5\" >0.0678</td>\n",
       "            </tr>\n",
       "            <tr>\n",
       "                        <th id=\"T_a1ea0805_a11d_11eb_92ac_5800e3972554level0_row7\" class=\"row_heading level0 row7\" >7</th>\n",
       "                        <td id=\"T_a1ea0805_a11d_11eb_92ac_5800e3972554row7_col0\" class=\"data row7 col0\" >282.0718</td>\n",
       "                        <td id=\"T_a1ea0805_a11d_11eb_92ac_5800e3972554row7_col1\" class=\"data row7 col1\" >315226.0357</td>\n",
       "                        <td id=\"T_a1ea0805_a11d_11eb_92ac_5800e3972554row7_col2\" class=\"data row7 col2\" >561.4499</td>\n",
       "                        <td id=\"T_a1ea0805_a11d_11eb_92ac_5800e3972554row7_col3\" class=\"data row7 col3\" >0.9802</td>\n",
       "                        <td id=\"T_a1ea0805_a11d_11eb_92ac_5800e3972554row7_col4\" class=\"data row7 col4\" >0.0899</td>\n",
       "                        <td id=\"T_a1ea0805_a11d_11eb_92ac_5800e3972554row7_col5\" class=\"data row7 col5\" >0.0664</td>\n",
       "            </tr>\n",
       "            <tr>\n",
       "                        <th id=\"T_a1ea0805_a11d_11eb_92ac_5800e3972554level0_row8\" class=\"row_heading level0 row8\" >8</th>\n",
       "                        <td id=\"T_a1ea0805_a11d_11eb_92ac_5800e3972554row8_col0\" class=\"data row8 col0\" >263.7033</td>\n",
       "                        <td id=\"T_a1ea0805_a11d_11eb_92ac_5800e3972554row8_col1\" class=\"data row8 col1\" >275901.7161</td>\n",
       "                        <td id=\"T_a1ea0805_a11d_11eb_92ac_5800e3972554row8_col2\" class=\"data row8 col2\" >525.2635</td>\n",
       "                        <td id=\"T_a1ea0805_a11d_11eb_92ac_5800e3972554row8_col3\" class=\"data row8 col3\" >0.9820</td>\n",
       "                        <td id=\"T_a1ea0805_a11d_11eb_92ac_5800e3972554row8_col4\" class=\"data row8 col4\" >0.0908</td>\n",
       "                        <td id=\"T_a1ea0805_a11d_11eb_92ac_5800e3972554row8_col5\" class=\"data row8 col5\" >0.0651</td>\n",
       "            </tr>\n",
       "            <tr>\n",
       "                        <th id=\"T_a1ea0805_a11d_11eb_92ac_5800e3972554level0_row9\" class=\"row_heading level0 row9\" >9</th>\n",
       "                        <td id=\"T_a1ea0805_a11d_11eb_92ac_5800e3972554row9_col0\" class=\"data row9 col0\" >278.0416</td>\n",
       "                        <td id=\"T_a1ea0805_a11d_11eb_92ac_5800e3972554row9_col1\" class=\"data row9 col1\" >288259.8638</td>\n",
       "                        <td id=\"T_a1ea0805_a11d_11eb_92ac_5800e3972554row9_col2\" class=\"data row9 col2\" >536.8984</td>\n",
       "                        <td id=\"T_a1ea0805_a11d_11eb_92ac_5800e3972554row9_col3\" class=\"data row9 col3\" >0.9815</td>\n",
       "                        <td id=\"T_a1ea0805_a11d_11eb_92ac_5800e3972554row9_col4\" class=\"data row9 col4\" >0.0909</td>\n",
       "                        <td id=\"T_a1ea0805_a11d_11eb_92ac_5800e3972554row9_col5\" class=\"data row9 col5\" >0.0669</td>\n",
       "            </tr>\n",
       "            <tr>\n",
       "                        <th id=\"T_a1ea0805_a11d_11eb_92ac_5800e3972554level0_row10\" class=\"row_heading level0 row10\" >Mean</th>\n",
       "                        <td id=\"T_a1ea0805_a11d_11eb_92ac_5800e3972554row10_col0\" class=\"data row10 col0\" >279.8988</td>\n",
       "                        <td id=\"T_a1ea0805_a11d_11eb_92ac_5800e3972554row10_col1\" class=\"data row10 col1\" >309606.7292</td>\n",
       "                        <td id=\"T_a1ea0805_a11d_11eb_92ac_5800e3972554row10_col2\" class=\"data row10 col2\" >556.1291</td>\n",
       "                        <td id=\"T_a1ea0805_a11d_11eb_92ac_5800e3972554row10_col3\" class=\"data row10 col3\" >0.9805</td>\n",
       "                        <td id=\"T_a1ea0805_a11d_11eb_92ac_5800e3972554row10_col4\" class=\"data row10 col4\" >0.0907</td>\n",
       "                        <td id=\"T_a1ea0805_a11d_11eb_92ac_5800e3972554row10_col5\" class=\"data row10 col5\" >0.0663</td>\n",
       "            </tr>\n",
       "            <tr>\n",
       "                        <th id=\"T_a1ea0805_a11d_11eb_92ac_5800e3972554level0_row11\" class=\"row_heading level0 row11\" >SD</th>\n",
       "                        <td id=\"T_a1ea0805_a11d_11eb_92ac_5800e3972554row11_col0\" class=\"data row11 col0\" >7.1959</td>\n",
       "                        <td id=\"T_a1ea0805_a11d_11eb_92ac_5800e3972554row11_col1\" class=\"data row11 col1\" >20147.7246</td>\n",
       "                        <td id=\"T_a1ea0805_a11d_11eb_92ac_5800e3972554row11_col2\" class=\"data row11 col2\" >18.0869</td>\n",
       "                        <td id=\"T_a1ea0805_a11d_11eb_92ac_5800e3972554row11_col3\" class=\"data row11 col3\" >0.0011</td>\n",
       "                        <td id=\"T_a1ea0805_a11d_11eb_92ac_5800e3972554row11_col4\" class=\"data row11 col4\" >0.0021</td>\n",
       "                        <td id=\"T_a1ea0805_a11d_11eb_92ac_5800e3972554row11_col5\" class=\"data row11 col5\" >0.0010</td>\n",
       "            </tr>\n",
       "    </tbody></table>"
      ],
      "text/plain": [
       "<pandas.io.formats.style.Styler at 0x24bd4d02910>"
      ]
     },
     "metadata": {},
     "output_type": "display_data"
    }
   ],
   "source": [
    "tune_lgbm = tune_model(lgbm_reg, search_library=\"optuna\", search_algorithm=\"tpe\")"
   ]
  },
  {
   "cell_type": "code",
   "execution_count": 79,
   "metadata": {},
   "outputs": [
    {
     "data": {
      "text/html": [
       "<style  type=\"text/css\" >\n",
       "</style><table id=\"T_b9023230_a11e_11eb_a4b2_5800e3972554\" ><thead>    <tr>        <th class=\"blank level0\" ></th>        <th class=\"col_heading level0 col0\" >Model</th>        <th class=\"col_heading level0 col1\" >MAE</th>        <th class=\"col_heading level0 col2\" >MSE</th>        <th class=\"col_heading level0 col3\" >RMSE</th>        <th class=\"col_heading level0 col4\" >R2</th>        <th class=\"col_heading level0 col5\" >RMSLE</th>        <th class=\"col_heading level0 col6\" >MAPE</th>    </tr></thead><tbody>\n",
       "                <tr>\n",
       "                        <th id=\"T_b9023230_a11e_11eb_a4b2_5800e3972554level0_row0\" class=\"row_heading level0 row0\" >0</th>\n",
       "                        <td id=\"T_b9023230_a11e_11eb_a4b2_5800e3972554row0_col0\" class=\"data row0 col0\" >Light Gradient Boosting Machine</td>\n",
       "                        <td id=\"T_b9023230_a11e_11eb_a4b2_5800e3972554row0_col1\" class=\"data row0 col1\" >274.8533</td>\n",
       "                        <td id=\"T_b9023230_a11e_11eb_a4b2_5800e3972554row0_col2\" class=\"data row0 col2\" >302433.5322</td>\n",
       "                        <td id=\"T_b9023230_a11e_11eb_a4b2_5800e3972554row0_col3\" class=\"data row0 col3\" >549.9396</td>\n",
       "                        <td id=\"T_b9023230_a11e_11eb_a4b2_5800e3972554row0_col4\" class=\"data row0 col4\" >0.9811</td>\n",
       "                        <td id=\"T_b9023230_a11e_11eb_a4b2_5800e3972554row0_col5\" class=\"data row0 col5\" >0.0898</td>\n",
       "                        <td id=\"T_b9023230_a11e_11eb_a4b2_5800e3972554row0_col6\" class=\"data row0 col6\" >0.0654</td>\n",
       "            </tr>\n",
       "    </tbody></table>"
      ],
      "text/plain": [
       "<pandas.io.formats.style.Styler at 0x24bb2a31790>"
      ]
     },
     "metadata": {},
     "output_type": "display_data"
    },
    {
     "data": {
      "text/html": [
       "<style  type=\"text/css\" >\n",
       "</style><table id=\"T_c9c89166_a11e_11eb_9e85_5800e3972554\" ><thead>    <tr>        <th class=\"blank level0\" ></th>        <th class=\"col_heading level0 col0\" >Model</th>        <th class=\"col_heading level0 col1\" >MAE</th>        <th class=\"col_heading level0 col2\" >MSE</th>        <th class=\"col_heading level0 col3\" >RMSE</th>        <th class=\"col_heading level0 col4\" >R2</th>        <th class=\"col_heading level0 col5\" >RMSLE</th>        <th class=\"col_heading level0 col6\" >MAPE</th>    </tr></thead><tbody>\n",
       "                <tr>\n",
       "                        <th id=\"T_c9c89166_a11e_11eb_9e85_5800e3972554level0_row0\" class=\"row_heading level0 row0\" >0</th>\n",
       "                        <td id=\"T_c9c89166_a11e_11eb_9e85_5800e3972554row0_col0\" class=\"data row0 col0\" >Light Gradient Boosting Machine</td>\n",
       "                        <td id=\"T_c9c89166_a11e_11eb_9e85_5800e3972554row0_col1\" class=\"data row0 col1\" >165.7262</td>\n",
       "                        <td id=\"T_c9c89166_a11e_11eb_9e85_5800e3972554row0_col2\" class=\"data row0 col2\" >99213.9199</td>\n",
       "                        <td id=\"T_c9c89166_a11e_11eb_9e85_5800e3972554row0_col3\" class=\"data row0 col3\" >314.9824</td>\n",
       "                        <td id=\"T_c9c89166_a11e_11eb_9e85_5800e3972554row0_col4\" class=\"data row0 col4\" >0.9938</td>\n",
       "                        <td id=\"T_c9c89166_a11e_11eb_9e85_5800e3972554row0_col5\" class=\"data row0 col5\" >0.0642</td>\n",
       "                        <td id=\"T_c9c89166_a11e_11eb_9e85_5800e3972554row0_col6\" class=\"data row0 col6\" >0.0466</td>\n",
       "            </tr>\n",
       "    </tbody></table>"
      ],
      "text/plain": [
       "<pandas.io.formats.style.Styler at 0x24bd4fb60a0>"
      ]
     },
     "metadata": {},
     "output_type": "display_data"
    },
    {
     "data": {
      "text/plain": [
       "316.84822040424524"
      ]
     },
     "execution_count": 79,
     "metadata": {},
     "output_type": "execute_result"
    }
   ],
   "source": [
    "predict_model(tune_lgbm)\n",
    "finalize_lgbm = finalize_model(tune_lgbm)\n",
    "predict_model(finalize_lgbm)\n",
    "y_pred_lgbm = finalize_lgbm.predict(X_test)\n",
    "rmse_lgbm = mse(y_test, y_f)**0.5\n",
    "rmse_lgbm"
   ]
  },
  {
   "cell_type": "code",
   "execution_count": 80,
   "metadata": {},
   "outputs": [],
   "source": [
    "pred_df[\"Py_LGBM\"] = y_pred_lgbm\n",
    "pred_df = pred_df.reset_index().drop(\"index\", axis=1).head()"
   ]
  },
  {
   "cell_type": "markdown",
   "metadata": {},
   "source": [
    "# Conclusion"
   ]
  },
  {
   "cell_type": "code",
   "execution_count": 81,
   "metadata": {},
   "outputs": [
    {
     "data": {
      "text/html": [
       "<div>\n",
       "<style scoped>\n",
       "    .dataframe tbody tr th:only-of-type {\n",
       "        vertical-align: middle;\n",
       "    }\n",
       "\n",
       "    .dataframe tbody tr th {\n",
       "        vertical-align: top;\n",
       "    }\n",
       "\n",
       "    .dataframe thead th {\n",
       "        text-align: right;\n",
       "    }\n",
       "</style>\n",
       "<table border=\"1\" class=\"dataframe\">\n",
       "  <thead>\n",
       "    <tr style=\"text-align: right;\">\n",
       "      <th></th>\n",
       "      <th>Real</th>\n",
       "      <th>RFHyperopt</th>\n",
       "      <th>Py_LGBM</th>\n",
       "    </tr>\n",
       "  </thead>\n",
       "  <tbody>\n",
       "    <tr>\n",
       "      <th>0</th>\n",
       "      <td>367</td>\n",
       "      <td>369.286910</td>\n",
       "      <td>415.652261</td>\n",
       "    </tr>\n",
       "    <tr>\n",
       "      <th>1</th>\n",
       "      <td>12105</td>\n",
       "      <td>12216.596702</td>\n",
       "      <td>12100.684487</td>\n",
       "    </tr>\n",
       "    <tr>\n",
       "      <th>2</th>\n",
       "      <td>1020</td>\n",
       "      <td>1034.479550</td>\n",
       "      <td>1051.321157</td>\n",
       "    </tr>\n",
       "    <tr>\n",
       "      <th>3</th>\n",
       "      <td>1791</td>\n",
       "      <td>1792.345930</td>\n",
       "      <td>1757.475347</td>\n",
       "    </tr>\n",
       "    <tr>\n",
       "      <th>4</th>\n",
       "      <td>4770</td>\n",
       "      <td>5376.700637</td>\n",
       "      <td>4955.206644</td>\n",
       "    </tr>\n",
       "  </tbody>\n",
       "</table>\n",
       "</div>"
      ],
      "text/plain": [
       "    Real    RFHyperopt       Py_LGBM\n",
       "0    367    369.286910    415.652261\n",
       "1  12105  12216.596702  12100.684487\n",
       "2   1020   1034.479550   1051.321157\n",
       "3   1791   1792.345930   1757.475347\n",
       "4   4770   5376.700637   4955.206644"
      ]
     },
     "execution_count": 81,
     "metadata": {},
     "output_type": "execute_result"
    }
   ],
   "source": [
    "pred_df.head()"
   ]
  },
  {
   "cell_type": "code",
   "execution_count": 82,
   "metadata": {},
   "outputs": [
    {
     "data": {
      "image/png": "[encoded data removed]",
      "text/plain": [
       "<Figure size 1080x864 with 1 Axes>"
      ]
     },
     "metadata": {},
     "output_type": "display_data"
    }
   ],
   "source": [
    "plt.figure(figsize=(15,12))\n",
    "\n",
    "plt.plot(pred_df[\"Real\"], label = \"Real\", color = \"b\")\n",
    "plt.plot(pred_df[\"RFHyperopt\"], label = \"RF Hyperopt\", color = \"m\")\n",
    "plt.plot(pred_df[\"Py_LGBM\"], label = \"LGBM Pycaret\", color = \"g\")\n",
    "\n",
    "plt.xlabel(\"Inputs\", fontsize = 15, fontweight = \"bold\")\n",
    "plt.ylabel(\"Price\", fontsize = 15, fontweight = \"bold\")\n",
    "\n",
    "plt.legend(loc=\"best\", bbox_to_anchor=(1.0, 0.2, 0.2, 0.5), fontsize = 15, shadow=True)\n",
    "plt.show();"
   ]
  },
  {
   "cell_type": "code",
   "execution_count": 83,
   "metadata": {},
   "outputs": [],
   "source": [
    "df_error = pd.DataFrame({\n",
    "                        \"Model\": [\"RamdomForest\", \"LightGBM\"],\n",
    "                        \"RMSE\": [rmse_rf, rmse_lgbm]\n",
    "                     }).sort_values(\"RMSE\", ascending=False)"
   ]
  },
  {
   "cell_type": "code",
   "execution_count": 85,
   "metadata": {},
   "outputs": [
    {
     "data": {
      "image/png": "[encoded data removed]",
      "text/plain": [
       "<Figure size 504x144 with 1 Axes>"
      ]
     },
     "metadata": {},
     "output_type": "display_data"
    }
   ],
   "source": [
    "plt.figure(figsize=(7,2))\n",
    "plt.hlines(df_error.Model, xmin=0, xmax=df_error.RMSE)\n",
    "plt.plot(df_error.RMSE, df_error.Model, \"o\", color=\"black\")\n",
    "plt.tick_params(axis=\"y\", labelsize=12)\n",
    "plt.title(\"RMSE Comparision\")\n",
    "plt.xlabel(\"Test RMSE\")\n",
    "plt.text(x = rmse_lgbm+0.5, y=0.8, s=rmse_lgbm.round(3), fontdict={\"weight\": \"bold\",\"size\": 12})\n",
    "plt.text(x = rmse_py, y=0.1, s=rmse_rf.round(3), fontdict={\"weight\": \"bold\",\"size\": 12})\n",
    "plt.show;"
   ]
  },
  {
   "cell_type": "code",
   "execution_count": null,
   "metadata": {},
   "outputs": [],
   "source": []
  }
 ],
 "metadata": {
  "kernelspec": {
   "display_name": "Python 3",
   "language": "python",
   "name": "python3"
  },
  "language_info": {
   "codemirror_mode": {
    "name": "ipython",
    "version": 3
   },
   "file_extension": ".py",
   "mimetype": "text/x-python",
   "name": "python",
   "nbconvert_exporter": "python",
   "pygments_lexer": "ipython3",
   "version": "3.8.5"
  },
  "toc": {
   "base_numbering": 1,
   "nav_menu": {},
   "number_sections": true,
   "sideBar": true,
   "skip_h1_title": false,
   "title_cell": "Table of Contents",
   "title_sidebar": "Contents",
   "toc_cell": false,
   "toc_position": {},
   "toc_section_display": true,
   "toc_window_display": true
  },
  "varInspector": {
   "cols": {
    "lenName": 16,
    "lenType": 16,
    "lenVar": 40
   },
   "kernels_config": {
    "python": {
     "delete_cmd_postfix": "",
     "delete_cmd_prefix": "del ",
     "library": "var_list.py",
     "varRefreshCmd": "print(var_dic_list())"
    },
    "r": {
     "delete_cmd_postfix": ") ",
     "delete_cmd_prefix": "rm(",
     "library": "var_list.r",
     "varRefreshCmd": "cat(var_dic_list()) "
    }
   },
   "types_to_exclude": [
    "module",
    "function",
    "builtin_function_or_method",
    "instance",
    "_Feature"
   ],
   "window_display": false
  }
 },
 "nbformat": 4,
 "nbformat_minor": 4
}
