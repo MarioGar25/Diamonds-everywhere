{
 "cells": [
  {
   "cell_type": "markdown",
   "metadata": {},
   "source": [
    "# Cleaning Process"
   ]
  },
  {
   "cell_type": "markdown",
   "metadata": {},
   "source": [
    "Before we start, we must explore the data, to adapt them so that we can use them in the models."
   ]
  },
  {
   "cell_type": "markdown",
   "metadata": {},
   "source": [
    "We have two Datasets, one of them (df_train), has the predictor variables, and the target variable. The other one (df_test) will be used as new data, since it does not have a target variable, and our model has to predict it."
   ]
  },
  {
   "cell_type": "markdown",
   "metadata": {},
   "source": [
    "## Clean Train"
   ]
  },
  {
   "cell_type": "markdown",
   "metadata": {},
   "source": [
    "First of all, import the libraries we are going to use."
   ]
  },
  {
   "cell_type": "code",
   "execution_count": 1,
   "metadata": {},
   "outputs": [],
   "source": [
    "#import libraries\n",
    "import matplotlib.pyplot as plt\n",
    "import pandas as pd\n",
    "import seaborn as sns\n",
    "import matplotlib.pyplot as plt\n",
    "from src.utils import unzip_zip\n",
    "import statsmodels.formula.api as smf"
   ]
  },
  {
   "cell_type": "markdown",
   "metadata": {},
   "source": [
    "Using the `unzip_zip` function contained in `utils.py` in the folder `src`, we unzip the `.csv` files and load them into a Dataframe."
   ]
  },
  {
   "cell_type": "markdown",
   "metadata": {},
   "source": [
    "We save the DataFrames in variables."
   ]
  },
  {
   "cell_type": "code",
   "execution_count": 2,
   "metadata": {},
   "outputs": [],
   "source": [
    "#unzip and read csv\n",
    "df_train = unzip_zip(\"data/diamonds-datamad0121.zip\", \"train.csv\")\n",
    "df_test = unzip_zip(\"data/diamonds-datamad0121.zip\", \"test.csv\")"
   ]
  },
  {
   "cell_type": "markdown",
   "metadata": {},
   "source": [
    "Now, let's check the DataFrame"
   ]
  },
  {
   "cell_type": "code",
   "execution_count": 3,
   "metadata": {},
   "outputs": [
    {
     "data": {
      "text/html": [
       "<div>\n",
       "<style scoped>\n",
       "    .dataframe tbody tr th:only-of-type {\n",
       "        vertical-align: middle;\n",
       "    }\n",
       "\n",
       "    .dataframe tbody tr th {\n",
       "        vertical-align: top;\n",
       "    }\n",
       "\n",
       "    .dataframe thead th {\n",
       "        text-align: right;\n",
       "    }\n",
       "</style>\n",
       "<table border=\"1\" class=\"dataframe\">\n",
       "  <thead>\n",
       "    <tr style=\"text-align: right;\">\n",
       "      <th></th>\n",
       "      <th>id</th>\n",
       "      <th>carat</th>\n",
       "      <th>cut</th>\n",
       "      <th>color</th>\n",
       "      <th>clarity</th>\n",
       "      <th>depth</th>\n",
       "      <th>table</th>\n",
       "      <th>x</th>\n",
       "      <th>y</th>\n",
       "      <th>z</th>\n",
       "      <th>price</th>\n",
       "    </tr>\n",
       "  </thead>\n",
       "  <tbody>\n",
       "    <tr>\n",
       "      <th>0</th>\n",
       "      <td>0</td>\n",
       "      <td>1.50</td>\n",
       "      <td>Premium</td>\n",
       "      <td>F</td>\n",
       "      <td>VS2</td>\n",
       "      <td>61.5</td>\n",
       "      <td>58.0</td>\n",
       "      <td>7.32</td>\n",
       "      <td>7.34</td>\n",
       "      <td>4.51</td>\n",
       "      <td>9.588</td>\n",
       "    </tr>\n",
       "    <tr>\n",
       "      <th>1</th>\n",
       "      <td>1</td>\n",
       "      <td>2.01</td>\n",
       "      <td>Very Good</td>\n",
       "      <td>E</td>\n",
       "      <td>SI2</td>\n",
       "      <td>60.6</td>\n",
       "      <td>59.0</td>\n",
       "      <td>8.11</td>\n",
       "      <td>8.25</td>\n",
       "      <td>4.96</td>\n",
       "      <td>9.748</td>\n",
       "    </tr>\n",
       "    <tr>\n",
       "      <th>2</th>\n",
       "      <td>2</td>\n",
       "      <td>0.50</td>\n",
       "      <td>Ideal</td>\n",
       "      <td>E</td>\n",
       "      <td>SI1</td>\n",
       "      <td>61.6</td>\n",
       "      <td>57.0</td>\n",
       "      <td>5.13</td>\n",
       "      <td>5.09</td>\n",
       "      <td>3.15</td>\n",
       "      <td>7.255</td>\n",
       "    </tr>\n",
       "    <tr>\n",
       "      <th>3</th>\n",
       "      <td>3</td>\n",
       "      <td>0.25</td>\n",
       "      <td>Very Good</td>\n",
       "      <td>F</td>\n",
       "      <td>VVS2</td>\n",
       "      <td>61.6</td>\n",
       "      <td>57.0</td>\n",
       "      <td>4.05</td>\n",
       "      <td>4.08</td>\n",
       "      <td>2.50</td>\n",
       "      <td>6.450</td>\n",
       "    </tr>\n",
       "    <tr>\n",
       "      <th>4</th>\n",
       "      <td>4</td>\n",
       "      <td>0.52</td>\n",
       "      <td>Ideal</td>\n",
       "      <td>G</td>\n",
       "      <td>VS2</td>\n",
       "      <td>62.0</td>\n",
       "      <td>55.0</td>\n",
       "      <td>5.16</td>\n",
       "      <td>5.19</td>\n",
       "      <td>3.21</td>\n",
       "      <td>7.721</td>\n",
       "    </tr>\n",
       "  </tbody>\n",
       "</table>\n",
       "</div>"
      ],
      "text/plain": [
       "   id  carat        cut color clarity  depth  table     x     y     z  price\n",
       "0   0   1.50    Premium     F     VS2   61.5   58.0  7.32  7.34  4.51  9.588\n",
       "1   1   2.01  Very Good     E     SI2   60.6   59.0  8.11  8.25  4.96  9.748\n",
       "2   2   0.50      Ideal     E     SI1   61.6   57.0  5.13  5.09  3.15  7.255\n",
       "3   3   0.25  Very Good     F    VVS2   61.6   57.0  4.05  4.08  2.50  6.450\n",
       "4   4   0.52      Ideal     G     VS2   62.0   55.0  5.16  5.19  3.21  7.721"
      ]
     },
     "execution_count": 3,
     "metadata": {},
     "output_type": "execute_result"
    }
   ],
   "source": [
    "#check data\n",
    "df_train.head()"
   ]
  },
  {
   "cell_type": "code",
   "execution_count": 4,
   "metadata": {},
   "outputs": [
    {
     "data": {
      "text/plain": [
       "(40455, 11)"
      ]
     },
     "execution_count": 4,
     "metadata": {},
     "output_type": "execute_result"
    }
   ],
   "source": [
    "#check the number of columns and rows\n",
    "df_train.shape"
   ]
  },
  {
   "cell_type": "code",
   "execution_count": 5,
   "metadata": {},
   "outputs": [
    {
     "data": {
      "text/plain": [
       "Index(['id', 'carat', 'cut', 'color', 'clarity', 'depth', 'table', 'x', 'y',\n",
       "       'z', 'price'],\n",
       "      dtype='object')"
      ]
     },
     "execution_count": 5,
     "metadata": {},
     "output_type": "execute_result"
    }
   ],
   "source": [
    "#check the columns\n",
    "df_train.columns"
   ]
  },
  {
   "cell_type": "code",
   "execution_count": 6,
   "metadata": {},
   "outputs": [
    {
     "data": {
      "text/plain": [
       "id           int64\n",
       "carat      float64\n",
       "cut         object\n",
       "color       object\n",
       "clarity     object\n",
       "depth      float64\n",
       "table      float64\n",
       "x          float64\n",
       "y          float64\n",
       "z          float64\n",
       "price      float64\n",
       "dtype: object"
      ]
     },
     "execution_count": 6,
     "metadata": {},
     "output_type": "execute_result"
    }
   ],
   "source": [
    "#check types\n",
    "df_train.dtypes"
   ]
  },
  {
   "cell_type": "markdown",
   "metadata": {},
   "source": [
    "As a first action, we will delete the `id` column because it does not give us any relevant information about the diamonds."
   ]
  },
  {
   "cell_type": "code",
   "execution_count": 7,
   "metadata": {},
   "outputs": [],
   "source": [
    "#drop columns: id -> Useless\n",
    "df_train = df_train.drop([\"id\"], axis=1)"
   ]
  },
  {
   "cell_type": "code",
   "execution_count": 8,
   "metadata": {},
   "outputs": [
    {
     "data": {
      "text/html": [
       "<div>\n",
       "<style scoped>\n",
       "    .dataframe tbody tr th:only-of-type {\n",
       "        vertical-align: middle;\n",
       "    }\n",
       "\n",
       "    .dataframe tbody tr th {\n",
       "        vertical-align: top;\n",
       "    }\n",
       "\n",
       "    .dataframe thead th {\n",
       "        text-align: right;\n",
       "    }\n",
       "</style>\n",
       "<table border=\"1\" class=\"dataframe\">\n",
       "  <thead>\n",
       "    <tr style=\"text-align: right;\">\n",
       "      <th></th>\n",
       "      <th>carat</th>\n",
       "      <th>cut</th>\n",
       "      <th>color</th>\n",
       "      <th>clarity</th>\n",
       "      <th>depth</th>\n",
       "      <th>table</th>\n",
       "      <th>x</th>\n",
       "      <th>y</th>\n",
       "      <th>z</th>\n",
       "      <th>price</th>\n",
       "    </tr>\n",
       "  </thead>\n",
       "  <tbody>\n",
       "    <tr>\n",
       "      <th>0</th>\n",
       "      <td>1.50</td>\n",
       "      <td>Premium</td>\n",
       "      <td>F</td>\n",
       "      <td>VS2</td>\n",
       "      <td>61.5</td>\n",
       "      <td>58.0</td>\n",
       "      <td>7.32</td>\n",
       "      <td>7.34</td>\n",
       "      <td>4.51</td>\n",
       "      <td>9.588</td>\n",
       "    </tr>\n",
       "    <tr>\n",
       "      <th>1</th>\n",
       "      <td>2.01</td>\n",
       "      <td>Very Good</td>\n",
       "      <td>E</td>\n",
       "      <td>SI2</td>\n",
       "      <td>60.6</td>\n",
       "      <td>59.0</td>\n",
       "      <td>8.11</td>\n",
       "      <td>8.25</td>\n",
       "      <td>4.96</td>\n",
       "      <td>9.748</td>\n",
       "    </tr>\n",
       "    <tr>\n",
       "      <th>2</th>\n",
       "      <td>0.50</td>\n",
       "      <td>Ideal</td>\n",
       "      <td>E</td>\n",
       "      <td>SI1</td>\n",
       "      <td>61.6</td>\n",
       "      <td>57.0</td>\n",
       "      <td>5.13</td>\n",
       "      <td>5.09</td>\n",
       "      <td>3.15</td>\n",
       "      <td>7.255</td>\n",
       "    </tr>\n",
       "    <tr>\n",
       "      <th>3</th>\n",
       "      <td>0.25</td>\n",
       "      <td>Very Good</td>\n",
       "      <td>F</td>\n",
       "      <td>VVS2</td>\n",
       "      <td>61.6</td>\n",
       "      <td>57.0</td>\n",
       "      <td>4.05</td>\n",
       "      <td>4.08</td>\n",
       "      <td>2.50</td>\n",
       "      <td>6.450</td>\n",
       "    </tr>\n",
       "    <tr>\n",
       "      <th>4</th>\n",
       "      <td>0.52</td>\n",
       "      <td>Ideal</td>\n",
       "      <td>G</td>\n",
       "      <td>VS2</td>\n",
       "      <td>62.0</td>\n",
       "      <td>55.0</td>\n",
       "      <td>5.16</td>\n",
       "      <td>5.19</td>\n",
       "      <td>3.21</td>\n",
       "      <td>7.721</td>\n",
       "    </tr>\n",
       "  </tbody>\n",
       "</table>\n",
       "</div>"
      ],
      "text/plain": [
       "   carat        cut color clarity  depth  table     x     y     z  price\n",
       "0   1.50    Premium     F     VS2   61.5   58.0  7.32  7.34  4.51  9.588\n",
       "1   2.01  Very Good     E     SI2   60.6   59.0  8.11  8.25  4.96  9.748\n",
       "2   0.50      Ideal     E     SI1   61.6   57.0  5.13  5.09  3.15  7.255\n",
       "3   0.25  Very Good     F    VVS2   61.6   57.0  4.05  4.08  2.50  6.450\n",
       "4   0.52      Ideal     G     VS2   62.0   55.0  5.16  5.19  3.21  7.721"
      ]
     },
     "execution_count": 8,
     "metadata": {},
     "output_type": "execute_result"
    }
   ],
   "source": [
    "#check data\n",
    "df_train.head()"
   ]
  },
  {
   "cell_type": "markdown",
   "metadata": {},
   "source": [
    "Now, let's check the values of the `object` type features."
   ]
  },
  {
   "cell_type": "code",
   "execution_count": 9,
   "metadata": {},
   "outputs": [
    {
     "data": {
      "text/plain": [
       "array(['VS2', 'SI2', 'SI1', 'VVS2', 'VS1', 'VVS1', 'IF', 'I1'],\n",
       "      dtype=object)"
      ]
     },
     "execution_count": 9,
     "metadata": {},
     "output_type": "execute_result"
    }
   ],
   "source": [
    "#check uniques\n",
    "df_train.clarity.unique()"
   ]
  },
  {
   "cell_type": "code",
   "execution_count": 10,
   "metadata": {},
   "outputs": [
    {
     "data": {
      "text/plain": [
       "array(['Premium', 'Very Good', 'Ideal', 'Good', 'Fair'], dtype=object)"
      ]
     },
     "execution_count": 10,
     "metadata": {},
     "output_type": "execute_result"
    }
   ],
   "source": [
    "df_train.cut.unique()"
   ]
  },
  {
   "cell_type": "code",
   "execution_count": 11,
   "metadata": {},
   "outputs": [
    {
     "data": {
      "text/plain": [
       "array(['F', 'E', 'G', 'D', 'J', 'I', 'H'], dtype=object)"
      ]
     },
     "execution_count": 11,
     "metadata": {},
     "output_type": "execute_result"
    }
   ],
   "source": [
    "df_train.color.unique()"
   ]
  },
  {
   "cell_type": "markdown",
   "metadata": {},
   "source": [
    "Going deeper into the diamond information, we have seen that the values of the three features (`clarity`, `cut`, and `color`) have a scale, that is, they follow an order."
   ]
  },
  {
   "cell_type": "markdown",
   "metadata": {},
   "source": [
    "Therefore, our strategy for converting these features to numerical is a hand encoding. By setting values from $1$ -> smallest value, to $n$ -> largest value.\n",
    "\n",
    "We create dictionaries where the keys are the categorical value and the values are the numerical values that we assign to them."
   ]
  },
  {
   "cell_type": "code",
   "execution_count": 12,
   "metadata": {},
   "outputs": [],
   "source": [
    "#review diamond documentation and see that there \n",
    "#is numerical order in the categorical features. Encode the categorical features by numerical features.\n",
    "encoding_cut =  {\"Fair\":1, \"Good\":2, \n",
    "          \"Ideal\":3, \"Very Good\":4, \"Premium\":5}\n",
    "    \n",
    "    \n",
    "encoding_color = {'E':1,'D':2,'F':3,\n",
    "             'G':4,'H':5,'I':6,\n",
    "             'J':7}\n",
    "\n",
    "encoding_clarity = {'I1':1,'SI2':2,\n",
    "               'SI1':3,'VS2':4,'VS1':5,\n",
    "               'VVS2':6,'VVS1':7,'IF':8}"
   ]
  },
  {
   "cell_type": "markdown",
   "metadata": {},
   "source": [
    "Using the `.apply` method we apply a `lambda` function in which we change the categorical value by the numerical value to each column.\n",
    "\n",
    "And store the numeric value in the DataFrame column to replace the values."
   ]
  },
  {
   "cell_type": "code",
   "execution_count": 13,
   "metadata": {},
   "outputs": [],
   "source": [
    "#replace categorical variables with numerical variables\n",
    "df_train[\"cut\"] = df_train[\"cut\"].apply(lambda x: encoding_cut[x])\n",
    "df_train[\"color\"] = df_train[\"color\"].apply(lambda x: encoding_color[x])\n",
    "df_train[\"clarity\"] = df_train[\"clarity\"].apply(lambda x: encoding_clarity[x])"
   ]
  },
  {
   "cell_type": "code",
   "execution_count": 14,
   "metadata": {},
   "outputs": [
    {
     "data": {
      "text/html": [
       "<div>\n",
       "<style scoped>\n",
       "    .dataframe tbody tr th:only-of-type {\n",
       "        vertical-align: middle;\n",
       "    }\n",
       "\n",
       "    .dataframe tbody tr th {\n",
       "        vertical-align: top;\n",
       "    }\n",
       "\n",
       "    .dataframe thead th {\n",
       "        text-align: right;\n",
       "    }\n",
       "</style>\n",
       "<table border=\"1\" class=\"dataframe\">\n",
       "  <thead>\n",
       "    <tr style=\"text-align: right;\">\n",
       "      <th></th>\n",
       "      <th>carat</th>\n",
       "      <th>cut</th>\n",
       "      <th>color</th>\n",
       "      <th>clarity</th>\n",
       "      <th>depth</th>\n",
       "      <th>table</th>\n",
       "      <th>x</th>\n",
       "      <th>y</th>\n",
       "      <th>z</th>\n",
       "      <th>price</th>\n",
       "    </tr>\n",
       "  </thead>\n",
       "  <tbody>\n",
       "    <tr>\n",
       "      <th>carat</th>\n",
       "      <td>1.000000</td>\n",
       "      <td>0.062156</td>\n",
       "      <td>0.289227</td>\n",
       "      <td>-0.350899</td>\n",
       "      <td>0.025089</td>\n",
       "      <td>0.182590</td>\n",
       "      <td>0.974516</td>\n",
       "      <td>0.950563</td>\n",
       "      <td>0.947930</td>\n",
       "      <td>0.920878</td>\n",
       "    </tr>\n",
       "    <tr>\n",
       "      <th>cut</th>\n",
       "      <td>0.062156</td>\n",
       "      <td>1.000000</td>\n",
       "      <td>0.020787</td>\n",
       "      <td>-0.041586</td>\n",
       "      <td>-0.275140</td>\n",
       "      <td>0.242985</td>\n",
       "      <td>0.073185</td>\n",
       "      <td>0.065893</td>\n",
       "      <td>0.034131</td>\n",
       "      <td>0.059406</td>\n",
       "    </tr>\n",
       "    <tr>\n",
       "      <th>color</th>\n",
       "      <td>0.289227</td>\n",
       "      <td>0.020787</td>\n",
       "      <td>1.000000</td>\n",
       "      <td>0.016655</td>\n",
       "      <td>0.044665</td>\n",
       "      <td>0.024083</td>\n",
       "      <td>0.269491</td>\n",
       "      <td>0.263042</td>\n",
       "      <td>0.265130</td>\n",
       "      <td>0.159381</td>\n",
       "    </tr>\n",
       "    <tr>\n",
       "      <th>clarity</th>\n",
       "      <td>-0.350899</td>\n",
       "      <td>-0.041586</td>\n",
       "      <td>0.016655</td>\n",
       "      <td>1.000000</td>\n",
       "      <td>-0.062659</td>\n",
       "      <td>-0.162142</td>\n",
       "      <td>-0.370347</td>\n",
       "      <td>-0.356866</td>\n",
       "      <td>-0.363034</td>\n",
       "      <td>-0.212762</td>\n",
       "    </tr>\n",
       "    <tr>\n",
       "      <th>depth</th>\n",
       "      <td>0.025089</td>\n",
       "      <td>-0.275140</td>\n",
       "      <td>0.044665</td>\n",
       "      <td>-0.062659</td>\n",
       "      <td>1.000000</td>\n",
       "      <td>-0.300152</td>\n",
       "      <td>-0.028389</td>\n",
       "      <td>-0.032561</td>\n",
       "      <td>0.091421</td>\n",
       "      <td>-0.000924</td>\n",
       "    </tr>\n",
       "    <tr>\n",
       "      <th>table</th>\n",
       "      <td>0.182590</td>\n",
       "      <td>0.242985</td>\n",
       "      <td>0.024083</td>\n",
       "      <td>-0.162142</td>\n",
       "      <td>-0.300152</td>\n",
       "      <td>1.000000</td>\n",
       "      <td>0.196031</td>\n",
       "      <td>0.184322</td>\n",
       "      <td>0.150142</td>\n",
       "      <td>0.158128</td>\n",
       "    </tr>\n",
       "    <tr>\n",
       "      <th>x</th>\n",
       "      <td>0.974516</td>\n",
       "      <td>0.073185</td>\n",
       "      <td>0.269491</td>\n",
       "      <td>-0.370347</td>\n",
       "      <td>-0.028389</td>\n",
       "      <td>0.196031</td>\n",
       "      <td>1.000000</td>\n",
       "      <td>0.973617</td>\n",
       "      <td>0.965597</td>\n",
       "      <td>0.957653</td>\n",
       "    </tr>\n",
       "    <tr>\n",
       "      <th>y</th>\n",
       "      <td>0.950563</td>\n",
       "      <td>0.065893</td>\n",
       "      <td>0.263042</td>\n",
       "      <td>-0.356866</td>\n",
       "      <td>-0.032561</td>\n",
       "      <td>0.184322</td>\n",
       "      <td>0.973617</td>\n",
       "      <td>1.000000</td>\n",
       "      <td>0.945958</td>\n",
       "      <td>0.934700</td>\n",
       "    </tr>\n",
       "    <tr>\n",
       "      <th>z</th>\n",
       "      <td>0.947930</td>\n",
       "      <td>0.034131</td>\n",
       "      <td>0.265130</td>\n",
       "      <td>-0.363034</td>\n",
       "      <td>0.091421</td>\n",
       "      <td>0.150142</td>\n",
       "      <td>0.965597</td>\n",
       "      <td>0.945958</td>\n",
       "      <td>1.000000</td>\n",
       "      <td>0.930157</td>\n",
       "    </tr>\n",
       "    <tr>\n",
       "      <th>price</th>\n",
       "      <td>0.920878</td>\n",
       "      <td>0.059406</td>\n",
       "      <td>0.159381</td>\n",
       "      <td>-0.212762</td>\n",
       "      <td>-0.000924</td>\n",
       "      <td>0.158128</td>\n",
       "      <td>0.957653</td>\n",
       "      <td>0.934700</td>\n",
       "      <td>0.930157</td>\n",
       "      <td>1.000000</td>\n",
       "    </tr>\n",
       "  </tbody>\n",
       "</table>\n",
       "</div>"
      ],
      "text/plain": [
       "            carat       cut     color   clarity     depth     table         x  \\\n",
       "carat    1.000000  0.062156  0.289227 -0.350899  0.025089  0.182590  0.974516   \n",
       "cut      0.062156  1.000000  0.020787 -0.041586 -0.275140  0.242985  0.073185   \n",
       "color    0.289227  0.020787  1.000000  0.016655  0.044665  0.024083  0.269491   \n",
       "clarity -0.350899 -0.041586  0.016655  1.000000 -0.062659 -0.162142 -0.370347   \n",
       "depth    0.025089 -0.275140  0.044665 -0.062659  1.000000 -0.300152 -0.028389   \n",
       "table    0.182590  0.242985  0.024083 -0.162142 -0.300152  1.000000  0.196031   \n",
       "x        0.974516  0.073185  0.269491 -0.370347 -0.028389  0.196031  1.000000   \n",
       "y        0.950563  0.065893  0.263042 -0.356866 -0.032561  0.184322  0.973617   \n",
       "z        0.947930  0.034131  0.265130 -0.363034  0.091421  0.150142  0.965597   \n",
       "price    0.920878  0.059406  0.159381 -0.212762 -0.000924  0.158128  0.957653   \n",
       "\n",
       "                y         z     price  \n",
       "carat    0.950563  0.947930  0.920878  \n",
       "cut      0.065893  0.034131  0.059406  \n",
       "color    0.263042  0.265130  0.159381  \n",
       "clarity -0.356866 -0.363034 -0.212762  \n",
       "depth   -0.032561  0.091421 -0.000924  \n",
       "table    0.184322  0.150142  0.158128  \n",
       "x        0.973617  0.965597  0.957653  \n",
       "y        1.000000  0.945958  0.934700  \n",
       "z        0.945958  1.000000  0.930157  \n",
       "price    0.934700  0.930157  1.000000  "
      ]
     },
     "execution_count": 14,
     "metadata": {},
     "output_type": "execute_result"
    }
   ],
   "source": [
    "df_train.corr()"
   ]
  },
  {
   "cell_type": "code",
   "execution_count": 15,
   "metadata": {},
   "outputs": [
    {
     "data": {
      "text/plain": [
       "<seaborn.axisgrid.PairGrid at 0x1bdd7da74c0>"
      ]
     },
     "execution_count": 15,
     "metadata": {},
     "output_type": "execute_result"
    },
    {
     "data": {
      "image/png": "[encoded data removed]",
      "text/plain": [
       "<Figure size 720x720 with 20 Axes>"
      ]
     },
     "metadata": {
      "needs_background": "light"
     },
     "output_type": "display_data"
    }
   ],
   "source": [
    "sns.pairplot(df_train[[\"carat\", \"x\", \"y\", \"z\"]], palette=\"set2\")"
   ]
  },
  {
   "cell_type": "markdown",
   "metadata": {},
   "source": [
    "By means of `ols` we will check the influence of the features on the target feature."
   ]
  },
  {
   "cell_type": "code",
   "execution_count": 16,
   "metadata": {},
   "outputs": [
    {
     "data": {
      "text/html": [
       "<table class=\"simpletable\">\n",
       "<caption>OLS Regression Results</caption>\n",
       "<tr>\n",
       "  <th>Dep. Variable:</th>          <td>price</td>      <th>  R-squared:         </th>  <td>   0.962</td> \n",
       "</tr>\n",
       "<tr>\n",
       "  <th>Model:</th>                   <td>OLS</td>       <th>  Adj. R-squared:    </th>  <td>   0.962</td> \n",
       "</tr>\n",
       "<tr>\n",
       "  <th>Method:</th>             <td>Least Squares</td>  <th>  F-statistic:       </th>  <td>1.130e+05</td>\n",
       "</tr>\n",
       "<tr>\n",
       "  <th>Date:</th>             <td>Fri, 09 Apr 2021</td> <th>  Prob (F-statistic):</th>   <td>  0.00</td>  \n",
       "</tr>\n",
       "<tr>\n",
       "  <th>Time:</th>                 <td>19:00:33</td>     <th>  Log-Likelihood:    </th>  <td>  8045.6</td> \n",
       "</tr>\n",
       "<tr>\n",
       "  <th>No. Observations:</th>      <td> 40455</td>      <th>  AIC:               </th> <td>-1.607e+04</td>\n",
       "</tr>\n",
       "<tr>\n",
       "  <th>Df Residuals:</th>          <td> 40445</td>      <th>  BIC:               </th> <td>-1.599e+04</td>\n",
       "</tr>\n",
       "<tr>\n",
       "  <th>Df Model:</th>              <td>     9</td>      <th>                     </th>      <td> </td>    \n",
       "</tr>\n",
       "<tr>\n",
       "  <th>Covariance Type:</th>      <td>nonrobust</td>    <th>                     </th>      <td> </td>    \n",
       "</tr>\n",
       "</table>\n",
       "<table class=\"simpletable\">\n",
       "<tr>\n",
       "      <td></td>         <th>coef</th>     <th>std err</th>      <th>t</th>      <th>P>|t|</th>  <th>[0.025</th>    <th>0.975]</th>  \n",
       "</tr>\n",
       "<tr>\n",
       "  <th>Intercept</th> <td>   -1.5400</td> <td>    0.070</td> <td>  -21.989</td> <td> 0.000</td> <td>   -1.677</td> <td>   -1.403</td>\n",
       "</tr>\n",
       "<tr>\n",
       "  <th>carat</th>     <td>   -0.6100</td> <td>    0.010</td> <td>  -63.207</td> <td> 0.000</td> <td>   -0.629</td> <td>   -0.591</td>\n",
       "</tr>\n",
       "<tr>\n",
       "  <th>cut</th>       <td>    0.0074</td> <td>    0.001</td> <td>    7.469</td> <td> 0.000</td> <td>    0.005</td> <td>    0.009</td>\n",
       "</tr>\n",
       "<tr>\n",
       "  <th>color</th>     <td>   -0.0721</td> <td>    0.001</td> <td> -122.497</td> <td> 0.000</td> <td>   -0.073</td> <td>   -0.071</td>\n",
       "</tr>\n",
       "<tr>\n",
       "  <th>clarity</th>   <td>    0.1173</td> <td>    0.001</td> <td>  177.315</td> <td> 0.000</td> <td>    0.116</td> <td>    0.119</td>\n",
       "</tr>\n",
       "<tr>\n",
       "  <th>depth</th>     <td>    0.0428</td> <td>    0.001</td> <td>   50.631</td> <td> 0.000</td> <td>    0.041</td> <td>    0.044</td>\n",
       "</tr>\n",
       "<tr>\n",
       "  <th>table</th>     <td>   -0.0006</td> <td>    0.000</td> <td>   -1.159</td> <td> 0.246</td> <td>   -0.002</td> <td>    0.000</td>\n",
       "</tr>\n",
       "<tr>\n",
       "  <th>x</th>         <td>    1.1490</td> <td>    0.006</td> <td>  181.379</td> <td> 0.000</td> <td>    1.137</td> <td>    1.161</td>\n",
       "</tr>\n",
       "<tr>\n",
       "  <th>y</th>         <td>    0.0402</td> <td>    0.004</td> <td>   10.552</td> <td> 0.000</td> <td>    0.033</td> <td>    0.048</td>\n",
       "</tr>\n",
       "<tr>\n",
       "  <th>z</th>         <td>    0.0392</td> <td>    0.006</td> <td>    6.463</td> <td> 0.000</td> <td>    0.027</td> <td>    0.051</td>\n",
       "</tr>\n",
       "</table>\n",
       "<table class=\"simpletable\">\n",
       "<tr>\n",
       "  <th>Omnibus:</th>       <td>75130.470</td> <th>  Durbin-Watson:     </th>   <td>   2.005</td>   \n",
       "</tr>\n",
       "<tr>\n",
       "  <th>Prob(Omnibus):</th>  <td> 0.000</td>   <th>  Jarque-Bera (JB):  </th> <td>605187869.127</td>\n",
       "</tr>\n",
       "<tr>\n",
       "  <th>Skew:</th>           <td>13.334</td>   <th>  Prob(JB):          </th>   <td>    0.00</td>   \n",
       "</tr>\n",
       "<tr>\n",
       "  <th>Kurtosis:</th>       <td>601.596</td>  <th>  Cond. No.          </th>   <td>6.06e+03</td>   \n",
       "</tr>\n",
       "</table><br/><br/>Notes:<br/>[1] Standard Errors assume that the covariance matrix of the errors is correctly specified.<br/>[2] The condition number is large, 6.06e+03. This might indicate that there are<br/>strong multicollinearity or other numerical problems."
      ],
      "text/plain": [
       "<class 'statsmodels.iolib.summary.Summary'>\n",
       "\"\"\"\n",
       "                            OLS Regression Results                            \n",
       "==============================================================================\n",
       "Dep. Variable:                  price   R-squared:                       0.962\n",
       "Model:                            OLS   Adj. R-squared:                  0.962\n",
       "Method:                 Least Squares   F-statistic:                 1.130e+05\n",
       "Date:                Fri, 09 Apr 2021   Prob (F-statistic):               0.00\n",
       "Time:                        19:00:33   Log-Likelihood:                 8045.6\n",
       "No. Observations:               40455   AIC:                        -1.607e+04\n",
       "Df Residuals:                   40445   BIC:                        -1.599e+04\n",
       "Df Model:                           9                                         \n",
       "Covariance Type:            nonrobust                                         \n",
       "==============================================================================\n",
       "                 coef    std err          t      P>|t|      [0.025      0.975]\n",
       "------------------------------------------------------------------------------\n",
       "Intercept     -1.5400      0.070    -21.989      0.000      -1.677      -1.403\n",
       "carat         -0.6100      0.010    -63.207      0.000      -0.629      -0.591\n",
       "cut            0.0074      0.001      7.469      0.000       0.005       0.009\n",
       "color         -0.0721      0.001   -122.497      0.000      -0.073      -0.071\n",
       "clarity        0.1173      0.001    177.315      0.000       0.116       0.119\n",
       "depth          0.0428      0.001     50.631      0.000       0.041       0.044\n",
       "table         -0.0006      0.000     -1.159      0.246      -0.002       0.000\n",
       "x              1.1490      0.006    181.379      0.000       1.137       1.161\n",
       "y              0.0402      0.004     10.552      0.000       0.033       0.048\n",
       "z              0.0392      0.006      6.463      0.000       0.027       0.051\n",
       "==============================================================================\n",
       "Omnibus:                    75130.470   Durbin-Watson:                   2.005\n",
       "Prob(Omnibus):                  0.000   Jarque-Bera (JB):        605187869.127\n",
       "Skew:                          13.334   Prob(JB):                         0.00\n",
       "Kurtosis:                     601.596   Cond. No.                     6.06e+03\n",
       "==============================================================================\n",
       "\n",
       "Notes:\n",
       "[1] Standard Errors assume that the covariance matrix of the errors is correctly specified.\n",
       "[2] The condition number is large, 6.06e+03. This might indicate that there are\n",
       "strong multicollinearity or other numerical problems.\n",
       "\"\"\""
      ]
     },
     "execution_count": 16,
     "metadata": {},
     "output_type": "execute_result"
    }
   ],
   "source": [
    "#Let's get the summary of the metrics.\n",
    "#Set 'price' as target variable, and the rest as predictors variables. And, them, fit the model.\n",
    "train_results = smf.ols(\n",
    "    \"price ~ carat + cut + color + clarity + depth + table + x + y + z\",\n",
    "    data=df_train).fit()\n",
    "#We see the summary\n",
    "train_results.summary()"
   ]
  },
  {
   "cell_type": "markdown",
   "metadata": {},
   "source": [
    "As we can see, the `R-squared` label has a value of `0.962`. `R-squared` is the percentage of variation of the target variable that explains its relationship with one or more predictor variables. This value is between $0$ and $1$, and the closer to $1$ the better the fit of the model to data.\n",
    "\n",
    "In the $P>|t|$ tag of the `table` feature it exceeds $0.05$ so, therefore, this feature does not give us information regarding the target variable."
   ]
  },
  {
   "cell_type": "markdown",
   "metadata": {},
   "source": [
    "So, we proceed to drop the `table` feature."
   ]
  },
  {
   "cell_type": "code",
   "execution_count": 17,
   "metadata": {},
   "outputs": [],
   "source": [
    "#drop \"table\" column\n",
    "df_train = df_train.drop(\"table\", axis=1)"
   ]
  },
  {
   "cell_type": "markdown",
   "metadata": {},
   "source": [
    "We check if `R-squared` has been changed."
   ]
  },
  {
   "cell_type": "code",
   "execution_count": 18,
   "metadata": {},
   "outputs": [
    {
     "data": {
      "text/html": [
       "<table class=\"simpletable\">\n",
       "<caption>OLS Regression Results</caption>\n",
       "<tr>\n",
       "  <th>Dep. Variable:</th>          <td>price</td>      <th>  R-squared:         </th>  <td>   0.962</td> \n",
       "</tr>\n",
       "<tr>\n",
       "  <th>Model:</th>                   <td>OLS</td>       <th>  Adj. R-squared:    </th>  <td>   0.962</td> \n",
       "</tr>\n",
       "<tr>\n",
       "  <th>Method:</th>             <td>Least Squares</td>  <th>  F-statistic:       </th>  <td>1.272e+05</td>\n",
       "</tr>\n",
       "<tr>\n",
       "  <th>Date:</th>             <td>Fri, 09 Apr 2021</td> <th>  Prob (F-statistic):</th>   <td>  0.00</td>  \n",
       "</tr>\n",
       "<tr>\n",
       "  <th>Time:</th>                 <td>19:00:33</td>     <th>  Log-Likelihood:    </th>  <td>  8044.9</td> \n",
       "</tr>\n",
       "<tr>\n",
       "  <th>No. Observations:</th>      <td> 40455</td>      <th>  AIC:               </th> <td>-1.607e+04</td>\n",
       "</tr>\n",
       "<tr>\n",
       "  <th>Df Residuals:</th>          <td> 40446</td>      <th>  BIC:               </th> <td>-1.599e+04</td>\n",
       "</tr>\n",
       "<tr>\n",
       "  <th>Df Model:</th>              <td>     8</td>      <th>                     </th>      <td> </td>    \n",
       "</tr>\n",
       "<tr>\n",
       "  <th>Covariance Type:</th>      <td>nonrobust</td>    <th>                     </th>      <td> </td>    \n",
       "</tr>\n",
       "</table>\n",
       "<table class=\"simpletable\">\n",
       "<tr>\n",
       "      <td></td>         <th>coef</th>     <th>std err</th>      <th>t</th>      <th>P>|t|</th>  <th>[0.025</th>    <th>0.975]</th>  \n",
       "</tr>\n",
       "<tr>\n",
       "  <th>Intercept</th> <td>   -1.5861</td> <td>    0.058</td> <td>  -27.530</td> <td> 0.000</td> <td>   -1.699</td> <td>   -1.473</td>\n",
       "</tr>\n",
       "<tr>\n",
       "  <th>carat</th>     <td>   -0.6104</td> <td>    0.010</td> <td>  -63.311</td> <td> 0.000</td> <td>   -0.629</td> <td>   -0.592</td>\n",
       "</tr>\n",
       "<tr>\n",
       "  <th>cut</th>       <td>    0.0072</td> <td>    0.001</td> <td>    7.378</td> <td> 0.000</td> <td>    0.005</td> <td>    0.009</td>\n",
       "</tr>\n",
       "<tr>\n",
       "  <th>color</th>     <td>   -0.0721</td> <td>    0.001</td> <td> -122.492</td> <td> 0.000</td> <td>   -0.073</td> <td>   -0.071</td>\n",
       "</tr>\n",
       "<tr>\n",
       "  <th>clarity</th>   <td>    0.1174</td> <td>    0.001</td> <td>  178.839</td> <td> 0.000</td> <td>    0.116</td> <td>    0.119</td>\n",
       "</tr>\n",
       "<tr>\n",
       "  <th>depth</th>     <td>    0.0431</td> <td>    0.001</td> <td>   52.397</td> <td> 0.000</td> <td>    0.041</td> <td>    0.045</td>\n",
       "</tr>\n",
       "<tr>\n",
       "  <th>x</th>         <td>    1.1489</td> <td>    0.006</td> <td>  181.389</td> <td> 0.000</td> <td>    1.136</td> <td>    1.161</td>\n",
       "</tr>\n",
       "<tr>\n",
       "  <th>y</th>         <td>    0.0404</td> <td>    0.004</td> <td>   10.593</td> <td> 0.000</td> <td>    0.033</td> <td>    0.048</td>\n",
       "</tr>\n",
       "<tr>\n",
       "  <th>z</th>         <td>    0.0393</td> <td>    0.006</td> <td>    6.476</td> <td> 0.000</td> <td>    0.027</td> <td>    0.051</td>\n",
       "</tr>\n",
       "</table>\n",
       "<table class=\"simpletable\">\n",
       "<tr>\n",
       "  <th>Omnibus:</th>       <td>75126.423</td> <th>  Durbin-Watson:     </th>   <td>   2.005</td>   \n",
       "</tr>\n",
       "<tr>\n",
       "  <th>Prob(Omnibus):</th>  <td> 0.000</td>   <th>  Jarque-Bera (JB):  </th> <td>605125108.949</td>\n",
       "</tr>\n",
       "<tr>\n",
       "  <th>Skew:</th>           <td>13.332</td>   <th>  Prob(JB):          </th>   <td>    0.00</td>   \n",
       "</tr>\n",
       "<tr>\n",
       "  <th>Kurtosis:</th>       <td>601.565</td>  <th>  Cond. No.          </th>   <td>3.68e+03</td>   \n",
       "</tr>\n",
       "</table><br/><br/>Notes:<br/>[1] Standard Errors assume that the covariance matrix of the errors is correctly specified.<br/>[2] The condition number is large, 3.68e+03. This might indicate that there are<br/>strong multicollinearity or other numerical problems."
      ],
      "text/plain": [
       "<class 'statsmodels.iolib.summary.Summary'>\n",
       "\"\"\"\n",
       "                            OLS Regression Results                            \n",
       "==============================================================================\n",
       "Dep. Variable:                  price   R-squared:                       0.962\n",
       "Model:                            OLS   Adj. R-squared:                  0.962\n",
       "Method:                 Least Squares   F-statistic:                 1.272e+05\n",
       "Date:                Fri, 09 Apr 2021   Prob (F-statistic):               0.00\n",
       "Time:                        19:00:33   Log-Likelihood:                 8044.9\n",
       "No. Observations:               40455   AIC:                        -1.607e+04\n",
       "Df Residuals:                   40446   BIC:                        -1.599e+04\n",
       "Df Model:                           8                                         \n",
       "Covariance Type:            nonrobust                                         \n",
       "==============================================================================\n",
       "                 coef    std err          t      P>|t|      [0.025      0.975]\n",
       "------------------------------------------------------------------------------\n",
       "Intercept     -1.5861      0.058    -27.530      0.000      -1.699      -1.473\n",
       "carat         -0.6104      0.010    -63.311      0.000      -0.629      -0.592\n",
       "cut            0.0072      0.001      7.378      0.000       0.005       0.009\n",
       "color         -0.0721      0.001   -122.492      0.000      -0.073      -0.071\n",
       "clarity        0.1174      0.001    178.839      0.000       0.116       0.119\n",
       "depth          0.0431      0.001     52.397      0.000       0.041       0.045\n",
       "x              1.1489      0.006    181.389      0.000       1.136       1.161\n",
       "y              0.0404      0.004     10.593      0.000       0.033       0.048\n",
       "z              0.0393      0.006      6.476      0.000       0.027       0.051\n",
       "==============================================================================\n",
       "Omnibus:                    75126.423   Durbin-Watson:                   2.005\n",
       "Prob(Omnibus):                  0.000   Jarque-Bera (JB):        605125108.949\n",
       "Skew:                          13.332   Prob(JB):                         0.00\n",
       "Kurtosis:                     601.565   Cond. No.                     3.68e+03\n",
       "==============================================================================\n",
       "\n",
       "Notes:\n",
       "[1] Standard Errors assume that the covariance matrix of the errors is correctly specified.\n",
       "[2] The condition number is large, 3.68e+03. This might indicate that there are\n",
       "strong multicollinearity or other numerical problems.\n",
       "\"\"\""
      ]
     },
     "execution_count": 18,
     "metadata": {},
     "output_type": "execute_result"
    }
   ],
   "source": [
    "#chek metrics\n",
    "train_results = smf.ols(\n",
    "    \"price ~ carat + cut + color + clarity + depth + x + y + z\",\n",
    "    data=df_train).fit()\n",
    "train_results.summary()"
   ]
  },
  {
   "cell_type": "markdown",
   "metadata": {},
   "source": [
    "We see that it has exactly the same value, so the deleted variable did not explain anything with respect to the target variable."
   ]
  },
  {
   "cell_type": "markdown",
   "metadata": {},
   "source": [
    "We save the cleaned DataFrame in a `.csv` file."
   ]
  },
  {
   "cell_type": "code",
   "execution_count": 19,
   "metadata": {},
   "outputs": [],
   "source": [
    "#convert to .csv\n",
    "df_train.to_csv(\"input/train_clean.csv\", header=True, index=False)"
   ]
  },
  {
   "cell_type": "markdown",
   "metadata": {},
   "source": [
    "## Clean Test"
   ]
  },
  {
   "cell_type": "markdown",
   "metadata": {},
   "source": [
    "We will do the same process above with the `df_test` DataFrame."
   ]
  },
  {
   "cell_type": "code",
   "execution_count": 20,
   "metadata": {},
   "outputs": [
    {
     "data": {
      "text/html": [
       "<div>\n",
       "<style scoped>\n",
       "    .dataframe tbody tr th:only-of-type {\n",
       "        vertical-align: middle;\n",
       "    }\n",
       "\n",
       "    .dataframe tbody tr th {\n",
       "        vertical-align: top;\n",
       "    }\n",
       "\n",
       "    .dataframe thead th {\n",
       "        text-align: right;\n",
       "    }\n",
       "</style>\n",
       "<table border=\"1\" class=\"dataframe\">\n",
       "  <thead>\n",
       "    <tr style=\"text-align: right;\">\n",
       "      <th></th>\n",
       "      <th>id</th>\n",
       "      <th>carat</th>\n",
       "      <th>cut</th>\n",
       "      <th>color</th>\n",
       "      <th>clarity</th>\n",
       "      <th>depth</th>\n",
       "      <th>table</th>\n",
       "      <th>x</th>\n",
       "      <th>y</th>\n",
       "      <th>z</th>\n",
       "    </tr>\n",
       "  </thead>\n",
       "  <tbody>\n",
       "    <tr>\n",
       "      <th>0</th>\n",
       "      <td>0</td>\n",
       "      <td>0.51</td>\n",
       "      <td>Very Good</td>\n",
       "      <td>E</td>\n",
       "      <td>SI2</td>\n",
       "      <td>58.3</td>\n",
       "      <td>61.9</td>\n",
       "      <td>5.19</td>\n",
       "      <td>5.20</td>\n",
       "      <td>3.04</td>\n",
       "    </tr>\n",
       "    <tr>\n",
       "      <th>1</th>\n",
       "      <td>1</td>\n",
       "      <td>1.02</td>\n",
       "      <td>Very Good</td>\n",
       "      <td>F</td>\n",
       "      <td>SI2</td>\n",
       "      <td>63.0</td>\n",
       "      <td>58.0</td>\n",
       "      <td>6.37</td>\n",
       "      <td>6.43</td>\n",
       "      <td>4.03</td>\n",
       "    </tr>\n",
       "    <tr>\n",
       "      <th>2</th>\n",
       "      <td>2</td>\n",
       "      <td>0.59</td>\n",
       "      <td>Ideal</td>\n",
       "      <td>D</td>\n",
       "      <td>VS2</td>\n",
       "      <td>61.9</td>\n",
       "      <td>56.0</td>\n",
       "      <td>5.39</td>\n",
       "      <td>5.34</td>\n",
       "      <td>3.32</td>\n",
       "    </tr>\n",
       "    <tr>\n",
       "      <th>3</th>\n",
       "      <td>3</td>\n",
       "      <td>0.90</td>\n",
       "      <td>Very Good</td>\n",
       "      <td>D</td>\n",
       "      <td>VS2</td>\n",
       "      <td>62.3</td>\n",
       "      <td>56.0</td>\n",
       "      <td>6.14</td>\n",
       "      <td>6.18</td>\n",
       "      <td>3.84</td>\n",
       "    </tr>\n",
       "    <tr>\n",
       "      <th>4</th>\n",
       "      <td>4</td>\n",
       "      <td>2.01</td>\n",
       "      <td>Premium</td>\n",
       "      <td>J</td>\n",
       "      <td>VS1</td>\n",
       "      <td>60.2</td>\n",
       "      <td>61.0</td>\n",
       "      <td>8.23</td>\n",
       "      <td>8.16</td>\n",
       "      <td>4.93</td>\n",
       "    </tr>\n",
       "    <tr>\n",
       "      <th>...</th>\n",
       "      <td>...</td>\n",
       "      <td>...</td>\n",
       "      <td>...</td>\n",
       "      <td>...</td>\n",
       "      <td>...</td>\n",
       "      <td>...</td>\n",
       "      <td>...</td>\n",
       "      <td>...</td>\n",
       "      <td>...</td>\n",
       "      <td>...</td>\n",
       "    </tr>\n",
       "    <tr>\n",
       "      <th>13480</th>\n",
       "      <td>13480</td>\n",
       "      <td>1.05</td>\n",
       "      <td>Premium</td>\n",
       "      <td>H</td>\n",
       "      <td>SI1</td>\n",
       "      <td>61.9</td>\n",
       "      <td>58.0</td>\n",
       "      <td>6.50</td>\n",
       "      <td>6.45</td>\n",
       "      <td>4.01</td>\n",
       "    </tr>\n",
       "    <tr>\n",
       "      <th>13481</th>\n",
       "      <td>13481</td>\n",
       "      <td>0.32</td>\n",
       "      <td>Ideal</td>\n",
       "      <td>F</td>\n",
       "      <td>VS2</td>\n",
       "      <td>62.1</td>\n",
       "      <td>57.0</td>\n",
       "      <td>4.35</td>\n",
       "      <td>4.38</td>\n",
       "      <td>2.71</td>\n",
       "    </tr>\n",
       "    <tr>\n",
       "      <th>13482</th>\n",
       "      <td>13482</td>\n",
       "      <td>0.41</td>\n",
       "      <td>Premium</td>\n",
       "      <td>J</td>\n",
       "      <td>VS1</td>\n",
       "      <td>61.3</td>\n",
       "      <td>59.0</td>\n",
       "      <td>4.78</td>\n",
       "      <td>4.74</td>\n",
       "      <td>2.92</td>\n",
       "    </tr>\n",
       "    <tr>\n",
       "      <th>13483</th>\n",
       "      <td>13483</td>\n",
       "      <td>0.30</td>\n",
       "      <td>Premium</td>\n",
       "      <td>G</td>\n",
       "      <td>VVS2</td>\n",
       "      <td>62.2</td>\n",
       "      <td>59.0</td>\n",
       "      <td>4.31</td>\n",
       "      <td>4.28</td>\n",
       "      <td>2.67</td>\n",
       "    </tr>\n",
       "    <tr>\n",
       "      <th>13484</th>\n",
       "      <td>13484</td>\n",
       "      <td>0.72</td>\n",
       "      <td>Ideal</td>\n",
       "      <td>G</td>\n",
       "      <td>VVS2</td>\n",
       "      <td>61.3</td>\n",
       "      <td>56.0</td>\n",
       "      <td>5.76</td>\n",
       "      <td>5.80</td>\n",
       "      <td>3.54</td>\n",
       "    </tr>\n",
       "  </tbody>\n",
       "</table>\n",
       "<p>13485 rows × 10 columns</p>\n",
       "</div>"
      ],
      "text/plain": [
       "          id  carat        cut color clarity  depth  table     x     y     z\n",
       "0          0   0.51  Very Good     E     SI2   58.3   61.9  5.19  5.20  3.04\n",
       "1          1   1.02  Very Good     F     SI2   63.0   58.0  6.37  6.43  4.03\n",
       "2          2   0.59      Ideal     D     VS2   61.9   56.0  5.39  5.34  3.32\n",
       "3          3   0.90  Very Good     D     VS2   62.3   56.0  6.14  6.18  3.84\n",
       "4          4   2.01    Premium     J     VS1   60.2   61.0  8.23  8.16  4.93\n",
       "...      ...    ...        ...   ...     ...    ...    ...   ...   ...   ...\n",
       "13480  13480   1.05    Premium     H     SI1   61.9   58.0  6.50  6.45  4.01\n",
       "13481  13481   0.32      Ideal     F     VS2   62.1   57.0  4.35  4.38  2.71\n",
       "13482  13482   0.41    Premium     J     VS1   61.3   59.0  4.78  4.74  2.92\n",
       "13483  13483   0.30    Premium     G    VVS2   62.2   59.0  4.31  4.28  2.67\n",
       "13484  13484   0.72      Ideal     G    VVS2   61.3   56.0  5.76  5.80  3.54\n",
       "\n",
       "[13485 rows x 10 columns]"
      ]
     },
     "execution_count": 20,
     "metadata": {},
     "output_type": "execute_result"
    }
   ],
   "source": [
    "#same process\n",
    "df_test"
   ]
  },
  {
   "cell_type": "code",
   "execution_count": 21,
   "metadata": {},
   "outputs": [
    {
     "data": {
      "text/plain": [
       "(13485, 10)"
      ]
     },
     "execution_count": 21,
     "metadata": {},
     "output_type": "execute_result"
    }
   ],
   "source": [
    "df_test.shape"
   ]
  },
  {
   "cell_type": "code",
   "execution_count": 22,
   "metadata": {},
   "outputs": [
    {
     "data": {
      "text/plain": [
       "Index(['id', 'carat', 'cut', 'color', 'clarity', 'depth', 'table', 'x', 'y',\n",
       "       'z'],\n",
       "      dtype='object')"
      ]
     },
     "execution_count": 22,
     "metadata": {},
     "output_type": "execute_result"
    }
   ],
   "source": [
    "df_test.columns"
   ]
  },
  {
   "cell_type": "code",
   "execution_count": 23,
   "metadata": {},
   "outputs": [
    {
     "data": {
      "text/plain": [
       "id           int64\n",
       "carat      float64\n",
       "cut         object\n",
       "color       object\n",
       "clarity     object\n",
       "depth      float64\n",
       "table      float64\n",
       "x          float64\n",
       "y          float64\n",
       "z          float64\n",
       "dtype: object"
      ]
     },
     "execution_count": 23,
     "metadata": {},
     "output_type": "execute_result"
    }
   ],
   "source": [
    "df_test.dtypes"
   ]
  },
  {
   "cell_type": "code",
   "execution_count": 24,
   "metadata": {},
   "outputs": [],
   "source": [
    "df_test = df_test.drop([\"id\", \"table\"], axis=1)"
   ]
  },
  {
   "cell_type": "code",
   "execution_count": 25,
   "metadata": {},
   "outputs": [],
   "source": [
    "df_test[\"cut\"] = df_test[\"cut\"].apply(lambda x: encoding_cut[x])\n",
    "df_test[\"color\"] = df_test[\"color\"].apply(lambda x: encoding_color[x])\n",
    "df_test[\"clarity\"] = df_test[\"clarity\"].apply(lambda x: encoding_clarity[x])"
   ]
  },
  {
   "cell_type": "code",
   "execution_count": 26,
   "metadata": {},
   "outputs": [],
   "source": [
    "df_test.to_csv(\"input/test_clean.csv\", header=True, index=False)"
   ]
  }
 ],
 "metadata": {
  "kernelspec": {
   "display_name": "Python 3",
   "language": "python",
   "name": "python3"
  },
  "language_info": {
   "codemirror_mode": {
    "name": "ipython",
    "version": 3
   },
   "file_extension": ".py",
   "mimetype": "text/x-python",
   "name": "python",
   "nbconvert_exporter": "python",
   "pygments_lexer": "ipython3",
   "version": "3.8.5"
  },
  "toc": {
   "base_numbering": 1,
   "nav_menu": {},
   "number_sections": true,
   "sideBar": true,
   "skip_h1_title": false,
   "title_cell": "Table of Contents",
   "title_sidebar": "Contents",
   "toc_cell": false,
   "toc_position": {},
   "toc_section_display": true,
   "toc_window_display": false
  },
  "varInspector": {
   "cols": {
    "lenName": 16,
    "lenType": 16,
    "lenVar": 40
   },
   "kernels_config": {
    "python": {
     "delete_cmd_postfix": "",
     "delete_cmd_prefix": "del ",
     "library": "var_list.py",
     "varRefreshCmd": "print(var_dic_list())"
    },
    "r": {
     "delete_cmd_postfix": ") ",
     "delete_cmd_prefix": "rm(",
     "library": "var_list.r",
     "varRefreshCmd": "cat(var_dic_list()) "
    }
   },
   "types_to_exclude": [
    "module",
    "function",
    "builtin_function_or_method",
    "instance",
    "_Feature"
   ],
   "window_display": false
  }
 },
 "nbformat": 4,
 "nbformat_minor": 4
}
